{
 "cells": [
  {
   "cell_type": "markdown",
   "id": "satellite-package",
   "metadata": {},
   "source": [
    "# Homework 5: The Normal Distribution and the Central Limit Theorem\n",
    "\n",
    "## Due Tuesday, May 21st at 11:59PM\n",
    "\n",
    "Welcome to Homework 5! This homework will cover:\n",
    "\n",
    "* [CIT 14.2](https://www.inferentialthinking.com/chapters/14/2/Variability.html): Variability\n",
    "* [CIT 14.3](https://www.inferentialthinking.com/chapters/14/3/SD_and_the_Normal_Curve.html): The Standard Deviation (SD) and the Normal Curve \n",
    "* [CIT 14.4](https://www.inferentialthinking.com/chapters/14/4/Central_Limit_Theorem.html): The Central Limit Theorem\n",
    "* [CIT 14.5](https://www.inferentialthinking.com/chapters/14/5/Variability_of_the_Sample_Mean.html): The Variability of the Sample Mean\n",
    "* [CIT 14.6](https://inferentialthinking.com/chapters/14/6/Choosing_a_Sample_Size.html): Choosing a Sample Size"
   ]
  },
  {
   "cell_type": "markdown",
   "id": "partial-senior",
   "metadata": {},
   "source": [
    "### Instructions\n",
    "\n",
    "You are given six slip days throughout the quarter to extend deadlines. See the syllabus for more details. With the exception of using slip days, late work will not be accepted unless you have made special arrangements with your instructor.\n",
    "\n",
    "**Important**: For homeworks, the `otter` tests don't usually tell you that your answer is correct. More often, they help catch careless mistakes. It's up to you to ensure that your answer is correct. If you're not sure, ask someone (not for the answer, but for some guidance about your approach). These are great questions for office hours (see the schedule on the [Calendar](https://dsc10.com/calendar)) or Ed. Directly sharing answers is not okay, but discussing problems with the course staff or with other students is encouraged."
   ]
  },
  {
   "cell_type": "code",
   "execution_count": 1,
   "id": "legal-mason",
   "metadata": {},
   "outputs": [],
   "source": [
    "# Please don't change this cell, but do make sure to run it\n",
    "import babypandas as bpd\n",
    "import numpy as np\n",
    "\n",
    "import matplotlib.pyplot as plt\n",
    "plt.style.use('ggplot')\n",
    "\n",
    "# import otter\n",
    "# grader = otter.Notebook()\n",
    "\n",
    "from IPython.display import IFrame\n",
    "def show_clt_slides():\n",
    "    src = \"https://docs.google.com/presentation/d/e/2PACX-1vTcJd3U1H1KoXqBFcWGKFUPjZbeW4oiNZZLCFY8jqvSDsl4L1rRTg7980nPs1TGCAecYKUZxH5MZIBh/embed?start=false&loop=false&delayms=3000&rm=minimal\"\n",
    "    width = 700\n",
    "    height = 370\n",
    "    display(IFrame(src, width, height))"
   ]
  },
  {
   "cell_type": "markdown",
   "id": "maritime-furniture",
   "metadata": {},
   "source": [
    "## 1. Testing the Central Limit Theorem: Coin Flips and Marvel Character Appearances 🦸\n"
   ]
  },
  {
   "cell_type": "markdown",
   "id": "detected-format",
   "metadata": {},
   "source": [
    "The Central Limit Theorem tells us that the probability distribution of the sum or mean of a large random sample drawn with replacement is roughly normal, *regardless of the distribution of the population from which the sample is drawn*.\n",
    "\n",
    "That's a pretty big claim, but the theorem doesn't stop there. It further states that, if we're using the mean as our statistic, the standard deviation of this normal distribution is given by $$\\text{SD of Distribution of Possible Sample Means} = \\frac{\\text{Population SD}}{\\sqrt{\\text{sample size}}}$$\n",
    "\n",
    " In other words, suppose we start with *any distribution* that has standard deviation $\\sigma$, take a sample of size $n$ (where $n$ is a large number) from that distribution with replacement, and compute the mean of that sample. If we repeat this procedure many times, then those sample means will have a normal distribution with standard deviation $\\frac{\\sigma}{\\sqrt{n}}$.\n",
    "\n",
    "That's an even bigger claim than the first one! The proof of the theorem is beyond the scope of this class, but we've seen examples in lecture of this formula in action, such as when we looked at flight delay data.\n",
    "\n",
    "Run the cell below to see a short presentation that describes the CLT at a high level."
   ]
  },
  {
   "cell_type": "code",
   "execution_count": 2,
   "id": "opened-tennis",
   "metadata": {},
   "outputs": [
    {
     "data": {
      "text/html": [
       "\n",
       "        <iframe\n",
       "            width=\"700\"\n",
       "            height=\"370\"\n",
       "            src=\"https://docs.google.com/presentation/d/e/2PACX-1vTcJd3U1H1KoXqBFcWGKFUPjZbeW4oiNZZLCFY8jqvSDsl4L1rRTg7980nPs1TGCAecYKUZxH5MZIBh/embed?start=false&loop=false&delayms=3000&rm=minimal\"\n",
       "            frameborder=\"0\"\n",
       "            allowfullscreen\n",
       "        ></iframe>\n",
       "        "
      ],
      "text/plain": [
       "<IPython.lib.display.IFrame at 0x1b3a1ac8bb0>"
      ]
     },
     "metadata": {},
     "output_type": "display_data"
    }
   ],
   "source": [
    "show_clt_slides()"
   ]
  },
  {
   "cell_type": "markdown",
   "id": "matched-summary",
   "metadata": {},
   "source": [
    "In this problem, we will be exploring some new data to see the CLT in action."
   ]
  },
  {
   "cell_type": "markdown",
   "id": "alleged-sierra",
   "metadata": {},
   "source": [
    "The CLT only applies when sample sizes are \"sufficiently large.\" This isn't a very precise statement. Is 10 large?  How about 50?  The truth is that it depends both on the original population distribution and just how \"normal\" you want the result to look. Let's use a simulation to get a feel for how the distribution of the sample mean changes as the sample size increases.\n",
    "\n",
    "Consider a coin flip. If we say tails is 0 and heads is 1, then there's a 50% chance of getting a 0 and a 50% chance of getting a 1. A histogram of this distribution is shown below."
   ]
  },
  {
   "cell_type": "code",
   "execution_count": 3,
   "id": "italian-campaign",
   "metadata": {},
   "outputs": [
    {
     "data": {
      "image/png": "[encoded data removed]",
      "text/plain": [
       "<Figure size 640x480 with 1 Axes>"
      ]
     },
     "metadata": {},
     "output_type": "display_data"
    }
   ],
   "source": [
    "(\n",
    "    bpd.DataFrame().assign(outcomes=[0, 1])\n",
    "    .plot(kind='hist', density=True, bins=[-0.5, 0.5, 1.5], ec='w')\n",
    ")\n",
    "plt.xticks([0, 1]);\n",
    "plt.show()"
   ]
  },
  {
   "cell_type": "markdown",
   "id": "departmental-nation",
   "metadata": {},
   "source": [
    "This distribution is not roughly normal!\n",
    "\n",
    "The act of flipping a coin many times and computing the proportion of heads is equivalent to drawing a large sample from the above distribution with replacement and computing its mean. Since the proportion of heads in a sample of coin tosses is equal to the mean of that sample, the Central Limit Theorem should apply if we repeatedly toss many coins and compute the proportion of tosses that were heads. Let's try it out and see for ourselves!"
   ]
  },
  {
   "cell_type": "markdown",
   "id": "dominant-bedroom",
   "metadata": {},
   "source": [
    "**Question 1.1.** Complete the implementation of the function `simulate_sample_n`. It should take in a sample size, `n`, and should repeat, 5000 times, the process of:\n",
    "- simulating `n` flips of a fair coin, and\n",
    "- counting the proportion of flips that were heads.\n",
    "\n",
    "`simulate_sample_n` should return an array that contains 5000 sample proportions, using the process outlined above."
   ]
  },
  {
   "cell_type": "code",
   "execution_count": 4,
   "id": "virgin-contractor",
   "metadata": {},
   "outputs": [
    {
     "data": {
      "text/html": [
       "<div>\n",
       "<style scoped>\n",
       "    .dataframe tbody tr th:only-of-type {\n",
       "        vertical-align: middle;\n",
       "    }\n",
       "\n",
       "    .dataframe tbody tr th {\n",
       "        vertical-align: top;\n",
       "    }\n",
       "\n",
       "    .dataframe thead th {\n",
       "        text-align: right;\n",
       "    }\n",
       "</style>\n",
       "<table border=\"1\" class=\"dataframe\">\n",
       "  <thead>\n",
       "    <tr style=\"text-align: right;\">\n",
       "      <th></th>\n",
       "      <th>outcomes</th>\n",
       "    </tr>\n",
       "  </thead>\n",
       "  <tbody>\n",
       "    <tr>\n",
       "      <th>0</th>\n",
       "      <td>0</td>\n",
       "    </tr>\n",
       "    <tr>\n",
       "      <th>1</th>\n",
       "      <td>0</td>\n",
       "    </tr>\n",
       "    <tr>\n",
       "      <th>2</th>\n",
       "      <td>0</td>\n",
       "    </tr>\n",
       "    <tr>\n",
       "      <th>3</th>\n",
       "      <td>0</td>\n",
       "    </tr>\n",
       "    <tr>\n",
       "      <th>4</th>\n",
       "      <td>1</td>\n",
       "    </tr>\n",
       "    <tr>\n",
       "      <th>...</th>\n",
       "      <td>...</td>\n",
       "    </tr>\n",
       "    <tr>\n",
       "      <th>95</th>\n",
       "      <td>1</td>\n",
       "    </tr>\n",
       "    <tr>\n",
       "      <th>96</th>\n",
       "      <td>0</td>\n",
       "    </tr>\n",
       "    <tr>\n",
       "      <th>97</th>\n",
       "      <td>0</td>\n",
       "    </tr>\n",
       "    <tr>\n",
       "      <th>98</th>\n",
       "      <td>1</td>\n",
       "    </tr>\n",
       "    <tr>\n",
       "      <th>99</th>\n",
       "      <td>1</td>\n",
       "    </tr>\n",
       "  </tbody>\n",
       "</table>\n",
       "<p>100 rows × 1 columns</p>\n",
       "</div>"
      ],
      "text/plain": [
       "    outcomes\n",
       "0          0\n",
       "1          0\n",
       "2          0\n",
       "3          0\n",
       "4          1\n",
       "..       ...\n",
       "95         1\n",
       "96         0\n",
       "97         0\n",
       "98         1\n",
       "99         1\n",
       "\n",
       "[100 rows x 1 columns]"
      ]
     },
     "execution_count": 4,
     "metadata": {},
     "output_type": "execute_result"
    }
   ],
   "source": [
    "data = np.random.randint(0, 2, size=100)\n",
    "df = bpd.DataFrame()\n",
    "df = df.assign(outcomes = data)\n",
    "df"
   ]
  },
  {
   "cell_type": "code",
   "execution_count": 5,
   "id": "descending-harvey",
   "metadata": {},
   "outputs": [
    {
     "data": {
      "text/plain": [
       "array([0.4, 0.6, 0.6, ..., 0.6, 0.2, 0.6])"
      ]
     },
     "execution_count": 5,
     "metadata": {},
     "output_type": "execute_result"
    }
   ],
   "source": [
    "def simulate_sample_n(n):\n",
    "    repetitions = 5000\n",
    "    count_heads = np.array([])\n",
    "\n",
    "    for i in np.arange(repetitions):\n",
    "        data = np.random.randint(0, 2, size=n)\n",
    "        #data\n",
    "        df = bpd.DataFrame()\n",
    "        df = df.assign(outcomes = data)\n",
    "        count_heads = np.append(count_heads, df.get('outcomes').sum()/df.shape[0])\n",
    "    return count_heads\n",
    "    \n",
    "simulate_sample_n(5)"
   ]
  },
  {
   "cell_type": "markdown",
   "id": "figured-cherry",
   "metadata": {},
   "source": [
    "The code below will use the function you just defined to plot the empirical distribution of the sample mean for several different sample sizes. We saw something similar in [Lecture 17](https://dsc10.com/resources/lectures/lec17/lec17.html#Changing-the-sample-size)."
   ]
  },
  {
   "cell_type": "code",
   "execution_count": 6,
   "id": "specialized-accessory",
   "metadata": {},
   "outputs": [
    {
     "data": {
      "image/png": "[encoded data removed]",
      "text/plain": [
       "<Figure size 500x300 with 1 Axes>"
      ]
     },
     "metadata": {},
     "output_type": "display_data"
    },
    {
     "data": {
      "image/png": "[encoded data removed]",
      "text/plain": [
       "<Figure size 500x300 with 1 Axes>"
      ]
     },
     "metadata": {},
     "output_type": "display_data"
    },
    {
     "data": {
      "image/png": "[encoded data removed]",
      "text/plain": [
       "<Figure size 500x300 with 1 Axes>"
      ]
     },
     "metadata": {},
     "output_type": "display_data"
    },
    {
     "data": {
      "image/png": "[encoded data removed]",
      "text/plain": [
       "<Figure size 500x300 with 1 Axes>"
      ]
     },
     "metadata": {},
     "output_type": "display_data"
    },
    {
     "data": {
      "image/png": "[encoded data removed]",
      "text/plain": [
       "<Figure size 500x300 with 1 Axes>"
      ]
     },
     "metadata": {},
     "output_type": "display_data"
    },
    {
     "data": {
      "image/png": "[encoded data removed]",
      "text/plain": [
       "<Figure size 500x300 with 1 Axes>"
      ]
     },
     "metadata": {},
     "output_type": "display_data"
    },
    {
     "data": {
      "image/png": "[encoded data removed]",
      "text/plain": [
       "<Figure size 500x300 with 1 Axes>"
      ]
     },
     "metadata": {},
     "output_type": "display_data"
    },
    {
     "data": {
      "image/png": "[encoded data removed]",
      "text/plain": [
       "<Figure size 500x300 with 1 Axes>"
      ]
     },
     "metadata": {},
     "output_type": "display_data"
    }
   ],
   "source": [
    "bins = np.arange(-0.01, 1.05, 0.02)\n",
    "\n",
    "for sample_size in np.array([2, 5, 10, 20, 50, 100, 200, 400]):\n",
    "    bpd.DataFrame().assign(**{'Sample_Size:{}'.format(sample_size) : simulate_sample_n(sample_size)}) \\\n",
    "                   .plot(kind='hist', density=True, ec='w', bins=bins, \n",
    "                         title=f'Sample Size {sample_size}', legend=None, figsize=(5, 3));\n",
    "    plt.xlim(-0.01, 1.05)\n",
    "    plt.ylim(0, 25);\n",
    "plt.show()"
   ]
  },
  {
   "cell_type": "markdown",
   "id": "heavy-public",
   "metadata": {},
   "source": [
    "You can see that even for samples of size 10, the distribution of sample proportions looks roughly bell-shaped. When we increase the sample size to 50, the resulting distribution looks quite bell-shaped. Note also that as the sample sizes increases, the distributions of sample proportions become narrower."
   ]
  },
  {
   "cell_type": "markdown",
   "id": "present-orchestra",
   "metadata": {},
   "source": [
    "Now we will test the second claim of the CLT: that the SD of the distribution of the sample mean is the SD of the original distribution, divided by the square root of the sample size.\n",
    "\n",
    "$$\\text{SD of Distribution of Possible Sample Means} = \\frac{\\text{Population SD}}{\\sqrt{\\text{sample size}}}$$\n",
    "\n",
    "To do this, we'll work with a dataset of Marvel characters' total number of appearances in the Marvel Comics' canon. Below, we save this data in the `marvel_pop` DataFrame. We'll treat `marvel_pop` as our population, and we'll take samples directly from it. We've computed the standard deviation of the number of Marvel character appearances for you; you will need to use it in the next question."
   ]
  },
  {
   "cell_type": "code",
   "execution_count": 7,
   "id": "determined-component",
   "metadata": {},
   "outputs": [
    {
     "data": {
      "text/html": [
       "<div>\n",
       "<style scoped>\n",
       "    .dataframe tbody tr th:only-of-type {\n",
       "        vertical-align: middle;\n",
       "    }\n",
       "\n",
       "    .dataframe tbody tr th {\n",
       "        vertical-align: top;\n",
       "    }\n",
       "\n",
       "    .dataframe thead th {\n",
       "        text-align: right;\n",
       "    }\n",
       "</style>\n",
       "<table border=\"1\" class=\"dataframe\">\n",
       "  <thead>\n",
       "    <tr style=\"text-align: right;\">\n",
       "      <th></th>\n",
       "      <th>Appearances</th>\n",
       "    </tr>\n",
       "    <tr>\n",
       "      <th>Name</th>\n",
       "      <th></th>\n",
       "    </tr>\n",
       "  </thead>\n",
       "  <tbody>\n",
       "    <tr>\n",
       "      <th>Spider-Man</th>\n",
       "      <td>4043</td>\n",
       "    </tr>\n",
       "    <tr>\n",
       "      <th>Captain America</th>\n",
       "      <td>3360</td>\n",
       "    </tr>\n",
       "    <tr>\n",
       "      <th>Wolverine</th>\n",
       "      <td>3061</td>\n",
       "    </tr>\n",
       "    <tr>\n",
       "      <th>Iron Man</th>\n",
       "      <td>2961</td>\n",
       "    </tr>\n",
       "    <tr>\n",
       "      <th>Thor</th>\n",
       "      <td>2258</td>\n",
       "    </tr>\n",
       "    <tr>\n",
       "      <th>...</th>\n",
       "      <td>...</td>\n",
       "    </tr>\n",
       "    <tr>\n",
       "      <th>Visher-Rakk</th>\n",
       "      <td>1</td>\n",
       "    </tr>\n",
       "    <tr>\n",
       "      <th>Weapon Red</th>\n",
       "      <td>1</td>\n",
       "    </tr>\n",
       "    <tr>\n",
       "      <th>Wolfgang von Roehm</th>\n",
       "      <td>1</td>\n",
       "    </tr>\n",
       "    <tr>\n",
       "      <th>Xan</th>\n",
       "      <td>1</td>\n",
       "    </tr>\n",
       "    <tr>\n",
       "      <th>Zamira</th>\n",
       "      <td>1</td>\n",
       "    </tr>\n",
       "  </tbody>\n",
       "</table>\n",
       "<p>15280 rows × 1 columns</p>\n",
       "</div>"
      ],
      "text/plain": [
       "                    Appearances\n",
       "Name                           \n",
       "Spider-Man                 4043\n",
       "Captain America            3360\n",
       "Wolverine                  3061\n",
       "Iron Man                   2961\n",
       "Thor                       2258\n",
       "...                         ...\n",
       "Visher-Rakk                   1\n",
       "Weapon Red                    1\n",
       "Wolfgang von Roehm            1\n",
       "Xan                           1\n",
       "Zamira                        1\n",
       "\n",
       "[15280 rows x 1 columns]"
      ]
     },
     "execution_count": 7,
     "metadata": {},
     "output_type": "execute_result"
    }
   ],
   "source": [
    "marvel_pop = bpd.read_csv('marvel.csv').set_index('Name')\n",
    "marvel_pop"
   ]
  },
  {
   "cell_type": "code",
   "execution_count": 8,
   "id": "derived-edgar",
   "metadata": {},
   "outputs": [
    {
     "data": {
      "text/plain": [
       "96.36980575831078"
      ]
     },
     "execution_count": 8,
     "metadata": {},
     "output_type": "execute_result"
    }
   ],
   "source": [
    "marvel_pop_std = np.std(marvel_pop.get('Appearances'))\n",
    "marvel_pop_std"
   ]
  },
  {
   "cell_type": "markdown",
   "id": "documented-characterization",
   "metadata": {},
   "source": [
    "**Question 1.2.** Complete the implementation of the function `predict_sd`. It should take in a sample size `n` and return the predicted standard deviation (according to the CLT) of the sample mean's distribution, for samples of size `n` taken from the `marvel_pop` DataFrame.\n",
    "\n",
    "***Hint:*** **Do not** use or modify your code from `simulate_sample_n`."
   ]
  },
  {
   "cell_type": "code",
   "execution_count": 9,
   "id": "usual-knitting",
   "metadata": {},
   "outputs": [
    {
     "data": {
      "text/plain": [
       "30.47480838642722"
      ]
     },
     "execution_count": 9,
     "metadata": {},
     "output_type": "execute_result"
    }
   ],
   "source": [
    "def predict_sd(n):\n",
    "    return marvel_pop_std/(n)**(1/2)\n",
    "\n",
    "predict_sd(10)"
   ]
  },
  {
   "cell_type": "code",
   "execution_count": 10,
   "id": "annoying-venture",
   "metadata": {},
   "outputs": [
    {
     "data": {
      "text/plain": [
       "266592.62533569336"
      ]
     },
     "execution_count": 10,
     "metadata": {},
     "output_type": "execute_result"
    }
   ],
   "source": [
    "predict_sd(75)*10**10 % 10**6"
   ]
  },
  {
   "cell_type": "markdown",
   "id": "fancy-battle",
   "metadata": {},
   "source": [
    "**Question 1.3.** Complete the implementation of the function `empirical_sd`. It should take in a sample size `n`, draw 1,000 samples of size `n` from `marvel_pop` with replacement, calculate the mean of each sample, and return the **standard deviation of the distribution of the sample means**.\n",
    "\n",
    "***Hint:*** This function will be similar to the `simulate_sample_n` function you wrote earlier."
   ]
  },
  {
   "cell_type": "code",
   "execution_count": 11,
   "id": "resident-diary",
   "metadata": {},
   "outputs": [
    {
     "data": {
      "text/plain": [
       "29.388261014221307"
      ]
     },
     "execution_count": 11,
     "metadata": {},
     "output_type": "execute_result"
    }
   ],
   "source": [
    "def empirical_sd(n): \n",
    "    sample_means = np.array([])\n",
    "    repetitions = 1000\n",
    "\n",
    "    for i in np.arange(repetitions):\n",
    "        sampled = marvel_pop.sample(n, replace=True)\n",
    "        sampled_mean = sampled.get('Appearances').mean()\n",
    "        sample_means = np.append(sample_means, sampled_mean)\n",
    "        \n",
    "    return np.std(sample_means)\n",
    "\n",
    "empirical_sd(10)"
   ]
  },
  {
   "cell_type": "markdown",
   "id": "raising-longitude",
   "metadata": {},
   "source": [
    "The cell below will plot the predicted SDs (computed by your `predict_sd` function) and empirical SDs (computed by your `empirical_sd` function) for various sample sizes. It may take a few moments to run."
   ]
  },
  {
   "cell_type": "code",
   "execution_count": 12,
   "id": "surprising-drilling",
   "metadata": {},
   "outputs": [
    {
     "data": {
      "image/png": "[encoded data removed]",
      "text/plain": [
       "<Figure size 1000x500 with 1 Axes>"
      ]
     },
     "metadata": {},
     "output_type": "display_data"
    }
   ],
   "source": [
    "sd_df = bpd.DataFrame().assign(Sample_Size = np.arange(10, 101, 10))\n",
    "predicted = sd_df.get('Sample_Size').apply(predict_sd)\n",
    "empirical = sd_df.get('Sample_Size').apply(empirical_sd)\n",
    "sd_df = sd_df.assign(Predicted_SD = predicted, Empirical_SD = empirical)\n",
    "ax = sd_df.plot(kind='scatter',x='Sample_Size', y='Empirical_SD',label='Empirical_SD', color='red', alpha=0.6, s=100, figsize=(10, 5));\n",
    "ax = sd_df.plot(kind='scatter',x='Sample_Size', y='Predicted_SD',label='Predicted_SD', color='blue', alpha=0.6, s=100, ax=ax)\n",
    "ax.set_ylabel('Standard Deviation');\n",
    "plt.show()"
   ]
  },
  {
   "cell_type": "markdown",
   "id": "blond-extent",
   "metadata": {},
   "source": [
    "It appears that the formula $$\\text{SD of Distribution of Possible Sample Means} = \\frac{\\text{Population SD}}{\\sqrt{\\text{sample size}}}$$ matches what we see in practice!"
   ]
  },
  {
   "cell_type": "markdown",
   "id": "answering-gates",
   "metadata": {},
   "source": [
    "## 2. Pokémon Types 🔥💧🌿\n",
    "<center><img src=\"./pokemon.png\" width=400/></center>\n",
    "\n",
    "In Pokémon, each Pokémon character is assigned a type, which influences its abilities and moves. But which types are common and which are rare? Run the cell below to load in a DataFrame, `pokedex`, which contains one row for each Pokémon. This is the same dataset you worked with in Homework 2."
   ]
  },
  {
   "cell_type": "code",
   "execution_count": 13,
   "id": "active-partner",
   "metadata": {},
   "outputs": [
    {
     "data": {
      "text/html": [
       "<div>\n",
       "<style scoped>\n",
       "    .dataframe tbody tr th:only-of-type {\n",
       "        vertical-align: middle;\n",
       "    }\n",
       "\n",
       "    .dataframe tbody tr th {\n",
       "        vertical-align: top;\n",
       "    }\n",
       "\n",
       "    .dataframe thead th {\n",
       "        text-align: right;\n",
       "    }\n",
       "</style>\n",
       "<table border=\"1\" class=\"dataframe\">\n",
       "  <thead>\n",
       "    <tr style=\"text-align: right;\">\n",
       "      <th></th>\n",
       "      <th>pokedex_number</th>\n",
       "      <th>name</th>\n",
       "      <th>type</th>\n",
       "      <th>attack</th>\n",
       "      <th>defense</th>\n",
       "      <th>hp</th>\n",
       "      <th>sp_attack</th>\n",
       "      <th>sp_defense</th>\n",
       "      <th>generation</th>\n",
       "      <th>is_legendary</th>\n",
       "    </tr>\n",
       "  </thead>\n",
       "  <tbody>\n",
       "    <tr>\n",
       "      <th>0</th>\n",
       "      <td>460</td>\n",
       "      <td>Abomasnow</td>\n",
       "      <td>grass</td>\n",
       "      <td>132</td>\n",
       "      <td>105</td>\n",
       "      <td>90</td>\n",
       "      <td>132</td>\n",
       "      <td>105</td>\n",
       "      <td>4</td>\n",
       "      <td>0</td>\n",
       "    </tr>\n",
       "    <tr>\n",
       "      <th>1</th>\n",
       "      <td>63</td>\n",
       "      <td>Abra</td>\n",
       "      <td>psychic</td>\n",
       "      <td>20</td>\n",
       "      <td>15</td>\n",
       "      <td>25</td>\n",
       "      <td>105</td>\n",
       "      <td>55</td>\n",
       "      <td>1</td>\n",
       "      <td>0</td>\n",
       "    </tr>\n",
       "    <tr>\n",
       "      <th>2</th>\n",
       "      <td>359</td>\n",
       "      <td>Absol</td>\n",
       "      <td>dark</td>\n",
       "      <td>150</td>\n",
       "      <td>60</td>\n",
       "      <td>65</td>\n",
       "      <td>115</td>\n",
       "      <td>60</td>\n",
       "      <td>3</td>\n",
       "      <td>0</td>\n",
       "    </tr>\n",
       "    <tr>\n",
       "      <th>3</th>\n",
       "      <td>617</td>\n",
       "      <td>Accelgor</td>\n",
       "      <td>bug</td>\n",
       "      <td>70</td>\n",
       "      <td>40</td>\n",
       "      <td>80</td>\n",
       "      <td>100</td>\n",
       "      <td>60</td>\n",
       "      <td>5</td>\n",
       "      <td>0</td>\n",
       "    </tr>\n",
       "    <tr>\n",
       "      <th>4</th>\n",
       "      <td>681</td>\n",
       "      <td>Aegislash</td>\n",
       "      <td>steel</td>\n",
       "      <td>150</td>\n",
       "      <td>50</td>\n",
       "      <td>60</td>\n",
       "      <td>150</td>\n",
       "      <td>50</td>\n",
       "      <td>6</td>\n",
       "      <td>0</td>\n",
       "    </tr>\n",
       "    <tr>\n",
       "      <th>...</th>\n",
       "      <td>...</td>\n",
       "      <td>...</td>\n",
       "      <td>...</td>\n",
       "      <td>...</td>\n",
       "      <td>...</td>\n",
       "      <td>...</td>\n",
       "      <td>...</td>\n",
       "      <td>...</td>\n",
       "      <td>...</td>\n",
       "      <td>...</td>\n",
       "    </tr>\n",
       "    <tr>\n",
       "      <th>796</th>\n",
       "      <td>571</td>\n",
       "      <td>Zoroark</td>\n",
       "      <td>dark</td>\n",
       "      <td>105</td>\n",
       "      <td>60</td>\n",
       "      <td>60</td>\n",
       "      <td>120</td>\n",
       "      <td>60</td>\n",
       "      <td>5</td>\n",
       "      <td>0</td>\n",
       "    </tr>\n",
       "    <tr>\n",
       "      <th>797</th>\n",
       "      <td>570</td>\n",
       "      <td>Zorua</td>\n",
       "      <td>dark</td>\n",
       "      <td>65</td>\n",
       "      <td>40</td>\n",
       "      <td>40</td>\n",
       "      <td>80</td>\n",
       "      <td>40</td>\n",
       "      <td>5</td>\n",
       "      <td>0</td>\n",
       "    </tr>\n",
       "    <tr>\n",
       "      <th>798</th>\n",
       "      <td>41</td>\n",
       "      <td>Zubat</td>\n",
       "      <td>poison</td>\n",
       "      <td>45</td>\n",
       "      <td>35</td>\n",
       "      <td>40</td>\n",
       "      <td>30</td>\n",
       "      <td>40</td>\n",
       "      <td>1</td>\n",
       "      <td>0</td>\n",
       "    </tr>\n",
       "    <tr>\n",
       "      <th>799</th>\n",
       "      <td>634</td>\n",
       "      <td>Zweilous</td>\n",
       "      <td>dark</td>\n",
       "      <td>85</td>\n",
       "      <td>70</td>\n",
       "      <td>72</td>\n",
       "      <td>65</td>\n",
       "      <td>70</td>\n",
       "      <td>5</td>\n",
       "      <td>0</td>\n",
       "    </tr>\n",
       "    <tr>\n",
       "      <th>800</th>\n",
       "      <td>718</td>\n",
       "      <td>Zygarde</td>\n",
       "      <td>dragon</td>\n",
       "      <td>100</td>\n",
       "      <td>121</td>\n",
       "      <td>216</td>\n",
       "      <td>91</td>\n",
       "      <td>95</td>\n",
       "      <td>6</td>\n",
       "      <td>1</td>\n",
       "    </tr>\n",
       "  </tbody>\n",
       "</table>\n",
       "<p>801 rows × 10 columns</p>\n",
       "</div>"
      ],
      "text/plain": [
       "     pokedex_number       name     type  attack  defense   hp  sp_attack  \\\n",
       "0               460  Abomasnow    grass     132      105   90        132   \n",
       "1                63       Abra  psychic      20       15   25        105   \n",
       "2               359      Absol     dark     150       60   65        115   \n",
       "3               617   Accelgor      bug      70       40   80        100   \n",
       "4               681  Aegislash    steel     150       50   60        150   \n",
       "..              ...        ...      ...     ...      ...  ...        ...   \n",
       "796             571    Zoroark     dark     105       60   60        120   \n",
       "797             570      Zorua     dark      65       40   40         80   \n",
       "798              41      Zubat   poison      45       35   40         30   \n",
       "799             634   Zweilous     dark      85       70   72         65   \n",
       "800             718    Zygarde   dragon     100      121  216         91   \n",
       "\n",
       "     sp_defense  generation  is_legendary  \n",
       "0           105           4             0  \n",
       "1            55           1             0  \n",
       "2            60           3             0  \n",
       "3            60           5             0  \n",
       "4            50           6             0  \n",
       "..          ...         ...           ...  \n",
       "796          60           5             0  \n",
       "797          40           5             0  \n",
       "798          40           1             0  \n",
       "799          70           5             0  \n",
       "800          95           6             1  \n",
       "\n",
       "[801 rows x 10 columns]"
      ]
     },
     "execution_count": 13,
     "metadata": {},
     "output_type": "execute_result"
    }
   ],
   "source": [
    "pokedex = bpd.read_csv('pokedex.csv')\n",
    "pokedex"
   ]
  },
  {
   "cell_type": "markdown",
   "id": "modular-talent",
   "metadata": {},
   "source": [
    "The values in the `'pokedex_number'` column are unique numbers which are used to identify each Pokémon. The values in the `'type'` column are the [elemental types](https://bulbapedia.bulbagarden.net/wiki/Type) – while some Pokémon have multiple types, in this dataset we will choose one type for each Pokémon.\n",
    "\n",
    "In the cell below, we compute the distribution of the `'type'` column."
   ]
  },
  {
   "cell_type": "code",
   "execution_count": 14,
   "id": "exceptional-hazard",
   "metadata": {},
   "outputs": [
    {
     "data": {
      "text/html": [
       "<div>\n",
       "<style scoped>\n",
       "    .dataframe tbody tr th:only-of-type {\n",
       "        vertical-align: middle;\n",
       "    }\n",
       "\n",
       "    .dataframe tbody tr th {\n",
       "        vertical-align: top;\n",
       "    }\n",
       "\n",
       "    .dataframe thead th {\n",
       "        text-align: right;\n",
       "    }\n",
       "</style>\n",
       "<table border=\"1\" class=\"dataframe\">\n",
       "  <thead>\n",
       "    <tr style=\"text-align: right;\">\n",
       "      <th></th>\n",
       "      <th>Count</th>\n",
       "    </tr>\n",
       "    <tr>\n",
       "      <th>type</th>\n",
       "      <th></th>\n",
       "    </tr>\n",
       "  </thead>\n",
       "  <tbody>\n",
       "    <tr>\n",
       "      <th>water</th>\n",
       "      <td>114</td>\n",
       "    </tr>\n",
       "    <tr>\n",
       "      <th>normal</th>\n",
       "      <td>105</td>\n",
       "    </tr>\n",
       "    <tr>\n",
       "      <th>grass</th>\n",
       "      <td>78</td>\n",
       "    </tr>\n",
       "    <tr>\n",
       "      <th>bug</th>\n",
       "      <td>72</td>\n",
       "    </tr>\n",
       "    <tr>\n",
       "      <th>psychic</th>\n",
       "      <td>53</td>\n",
       "    </tr>\n",
       "    <tr>\n",
       "      <th>...</th>\n",
       "      <td>...</td>\n",
       "    </tr>\n",
       "    <tr>\n",
       "      <th>dragon</th>\n",
       "      <td>27</td>\n",
       "    </tr>\n",
       "    <tr>\n",
       "      <th>steel</th>\n",
       "      <td>24</td>\n",
       "    </tr>\n",
       "    <tr>\n",
       "      <th>ice</th>\n",
       "      <td>23</td>\n",
       "    </tr>\n",
       "    <tr>\n",
       "      <th>fairy</th>\n",
       "      <td>18</td>\n",
       "    </tr>\n",
       "    <tr>\n",
       "      <th>flying</th>\n",
       "      <td>3</td>\n",
       "    </tr>\n",
       "  </tbody>\n",
       "</table>\n",
       "<p>18 rows × 1 columns</p>\n",
       "</div>"
      ],
      "text/plain": [
       "         Count\n",
       "type          \n",
       "water      114\n",
       "normal     105\n",
       "grass       78\n",
       "bug         72\n",
       "psychic     53\n",
       "...        ...\n",
       "dragon      27\n",
       "steel       24\n",
       "ice         23\n",
       "fairy       18\n",
       "flying       3\n",
       "\n",
       "[18 rows x 1 columns]"
      ]
     },
     "execution_count": 14,
     "metadata": {},
     "output_type": "execute_result"
    }
   ],
   "source": [
    "pokemon_by_type = pokedex.groupby('type').count()\n",
    "pokemon_by_type = (pokemon_by_type.assign(Count=pokemon_by_type.get('pokedex_number'))\n",
    "                                      .sort_values(by='Count', ascending=False)\n",
    "                                      .get(['Count']))\n",
    "pokemon_by_type"
   ]
  },
  {
   "cell_type": "markdown",
   "id": "configured-complement",
   "metadata": {},
   "source": [
    "As you can see, the most common type among Pokémon is water; 114 of the 801 Pokémon in this dataset are water types, which is $\\frac{114}{801} \\approx 0.14$ as a proportion. In case you're wondering, the next most common types are normal, grass, and bug.\n",
    "\n",
    "We'll treat `pokedex` as our population. In this section, we'll repeatedly draw samples from this population and compute two different statistics – the sample _proportion_ of water types and the sample _count_ of water types. In doing so, we'll learn more about the relationship between the sample proportion and sample count."
   ]
  },
  {
   "cell_type": "markdown",
   "id": "interior-trout",
   "metadata": {},
   "source": [
    "**Question 2.1.** 10,000 times, draw a **simple random sample** of 200 Pokémon from the population of Pokémon in `pokedex`. For each sample, compute the proportion of Pokémon which are water types. Store all 10,000 proportions in the array `props`."
   ]
  },
  {
   "cell_type": "code",
   "execution_count": 15,
   "id": "widespread-consumer",
   "metadata": {},
   "outputs": [
    {
     "data": {
      "text/plain": [
       "array([0.13, 0.16, 0.14, ..., 0.15, 0.1 , 0.07])"
      ]
     },
     "execution_count": 15,
     "metadata": {},
     "output_type": "execute_result"
    }
   ],
   "source": [
    "props = np.array([])\n",
    "repetitions = 10000\n",
    "sample_size = 200\n",
    "\n",
    "for i in np.arange(repetitions):\n",
    "        sampled = pokedex.sample(sample_size, replace=True)\n",
    "        water_proportion = sampled[sampled.get('type')=='water'].shape[0]/sampled.shape[0]\n",
    "        props = np.append(props, water_proportion)\n",
    "\n",
    "props"
   ]
  },
  {
   "cell_type": "code",
   "execution_count": 16,
   "id": "sized-junior",
   "metadata": {},
   "outputs": [
    {
     "data": {
      "text/plain": [
       "0.14244849999999998"
      ]
     },
     "execution_count": 16,
     "metadata": {},
     "output_type": "execute_result"
    }
   ],
   "source": [
    "props.mean()"
   ]
  },
  {
   "cell_type": "markdown",
   "id": "quality-baghdad",
   "metadata": {},
   "source": [
    "Once you've defined `props`, run the following cell to see the distribution of values in `props`."
   ]
  },
  {
   "cell_type": "code",
   "execution_count": 17,
   "id": "sunset-habitat",
   "metadata": {},
   "outputs": [
    {
     "data": {
      "image/png": "[encoded data removed]",
      "text/plain": [
       "<Figure size 1000x500 with 1 Axes>"
      ]
     },
     "metadata": {},
     "output_type": "display_data"
    }
   ],
   "source": [
    "bpd.DataFrame().assign(props=props).plot(kind='hist', density=True, ec='w', bins=11, figsize=(10, 5));\n",
    "plt.show()"
   ]
  },
  {
   "cell_type": "markdown",
   "id": "english-surrey",
   "metadata": {},
   "source": [
    "**Question 2.2.** What _should_ the mean of `props` be, according to the Central Limit Theorem? Store this value in `theoretical_props_mean`. You should not access the data in `props` when calculating `theoretical_props_mean`, because `props` contains the empirical results of an experiment; instead, only refer to `pokedex`. \n",
    "\n",
    "Then, calculate the actual mean of `props` and store this value in `actual_props_mean`."
   ]
  },
  {
   "cell_type": "code",
   "execution_count": 18,
   "id": "least-school",
   "metadata": {},
   "outputs": [
    {
     "data": {
      "text/plain": [
       "Count    114\n",
       "Name: water, dtype: int64"
      ]
     },
     "execution_count": 18,
     "metadata": {},
     "output_type": "execute_result"
    }
   ],
   "source": [
    "pokemon_by_type.loc['water']"
   ]
  },
  {
   "cell_type": "code",
   "execution_count": 19,
   "id": "boolean-exchange",
   "metadata": {},
   "outputs": [
    {
     "name": "stdout",
     "output_type": "stream",
     "text": [
      "The Central Limit Theorem states that the mean of `props` should be 0.14232209737827714.\n",
      "The actual mean of `props` is 0.14244849999999998.\n"
     ]
    }
   ],
   "source": [
    "theoretical_props_mean = pokedex[pokedex.get('type')=='water'].shape[0]/pokedex.shape[0]\n",
    "actual_props_mean = props.mean()\n",
    "\n",
    "# Don't change the following line.\n",
    "print(f'The Central Limit Theorem states that the mean of `props` should be {theoretical_props_mean}.\\nThe actual mean of `props` is {actual_props_mean}.')"
   ]
  },
  {
   "cell_type": "code",
   "execution_count": 20,
   "id": "computational-stable",
   "metadata": {},
   "outputs": [
    {
     "data": {
      "text/plain": [
       "97378277.125"
      ]
     },
     "execution_count": 20,
     "metadata": {},
     "output_type": "execute_result"
    }
   ],
   "source": [
    "pokedex[pokedex.get('type')=='water'].shape[0]/pokedex.shape[0] * 10**15 % 10**8"
   ]
  },
  {
   "cell_type": "markdown",
   "id": "known-manner",
   "metadata": {},
   "source": [
    "**Question 2.3.** Again, 10,000 times, draw a simple random sample of 200 Pokémon from the population of Pokémon in `pokedex`. This time, for each sample, compute the **number** of Pokémon who are water types. Store all 10,000 counts in the array `counts`."
   ]
  },
  {
   "cell_type": "code",
   "execution_count": 21,
   "id": "weird-bathroom",
   "metadata": {},
   "outputs": [
    {
     "data": {
      "text/plain": [
       "array([26., 23., 15., ..., 26., 32., 28.])"
      ]
     },
     "execution_count": 21,
     "metadata": {},
     "output_type": "execute_result"
    }
   ],
   "source": [
    "counts = np.array([])\n",
    "repetitions = 10000\n",
    "sample_size = 200\n",
    "\n",
    "for i in np.arange(repetitions):\n",
    "        sampled = pokedex.sample(sample_size, replace=True)\n",
    "        water_counts = sampled[sampled.get('type')=='water'].shape[0]\n",
    "        counts = np.append(counts, water_counts)\n",
    "\n",
    "counts"
   ]
  },
  {
   "cell_type": "code",
   "execution_count": 22,
   "id": "green-beverage",
   "metadata": {},
   "outputs": [
    {
     "data": {
      "text/plain": [
       "28.4624"
      ]
     },
     "execution_count": 22,
     "metadata": {},
     "output_type": "execute_result"
    }
   ],
   "source": [
    "counts.mean()"
   ]
  },
  {
   "cell_type": "code",
   "execution_count": 23,
   "id": "gentle-inflation",
   "metadata": {},
   "outputs": [
    {
     "data": {
      "text/plain": [
       "0.142312"
      ]
     },
     "execution_count": 23,
     "metadata": {},
     "output_type": "execute_result"
    }
   ],
   "source": [
    "counts.mean()/sample_size"
   ]
  },
  {
   "cell_type": "markdown",
   "id": "agreed-consideration",
   "metadata": {},
   "source": [
    "Once you've defined `counts`, run the following cell to see the distribution of values in `counts`."
   ]
  },
  {
   "cell_type": "code",
   "execution_count": 24,
   "id": "closed-booth",
   "metadata": {},
   "outputs": [
    {
     "data": {
      "image/png": "[encoded data removed]",
      "text/plain": [
       "<Figure size 1000x500 with 1 Axes>"
      ]
     },
     "metadata": {},
     "output_type": "display_data"
    }
   ],
   "source": [
    "bpd.DataFrame().assign(counts=counts).plot(kind='hist', density=True, ec='w', bins=11, figsize=(10, 5));\n",
    "plt.show()"
   ]
  },
  {
   "cell_type": "markdown",
   "id": "willing-emphasis",
   "metadata": {},
   "source": [
    "**Question 2.4.** What _should_ the mean of `counts` be, according to the Central Limit Theorem? Store this value in `theoretical_counts_mean`. Again, you should not access the data in `counts` when calculating `theoretical_counts_mean`; instead, only refer to `pokedex`.\n",
    "\n",
    "Then, calculate the actual mean of `counts` and store this value in `actual_counts_mean`.\n",
    "\n",
    "***Hint:*** A count is not a mean, so the Central Limit Theorem as we've seen it does not *directly* apply. However, you can use your answer to Question 2.2 to help you find `theoretical_counts_mean`."
   ]
  },
  {
   "cell_type": "code",
   "execution_count": 25,
   "id": "paperback-element",
   "metadata": {},
   "outputs": [
    {
     "name": "stdout",
     "output_type": "stream",
     "text": [
      "The Central Limit Theorem states that the mean of `counts` should be 28.46441947565543.\n",
      "The actual mean of `counts` is 28.4624.\n"
     ]
    }
   ],
   "source": [
    "theoretical_counts_mean =  pokedex[pokedex.get('type')=='water'].shape[0]*sample_size/pokedex.shape[0]\n",
    "actual_counts_mean = counts.mean()\n",
    "\n",
    "# Don't change the following line.\n",
    "print(f'The Central Limit Theorem states that the mean of `counts` should be {theoretical_counts_mean}.\\nThe actual mean of `counts` is {actual_counts_mean}.')"
   ]
  },
  {
   "cell_type": "code",
   "execution_count": 26,
   "id": "hourly-alarm",
   "metadata": {},
   "outputs": [
    {
     "data": {
      "text/plain": [
       "0"
      ]
     },
     "execution_count": 26,
     "metadata": {},
     "output_type": "execute_result"
    }
   ],
   "source": [
    "pokedex[pokedex.get('type')=='water'].shape[0] * 10**13 % 10**4"
   ]
  },
  {
   "cell_type": "code",
   "execution_count": 27,
   "id": "hungarian-principle",
   "metadata": {},
   "outputs": [
    {
     "data": {
      "text/plain": [
       "6554.3125"
      ]
     },
     "execution_count": 27,
     "metadata": {},
     "output_type": "execute_result"
    }
   ],
   "source": [
    " pokedex[pokedex.get('type')=='water'].shape[0]*sample_size/pokedex.shape[0] * 10**13 % 10**4"
   ]
  },
  {
   "cell_type": "markdown",
   "id": "timely-label",
   "metadata": {},
   "source": [
    "**Question 2.5.** Let's explore how the histogram of counts changes when we take samples of different sizes. \n",
    "\n",
    "Complete the implementation of the function `count_types`. It should take in an integer `sample_size` and do the following:\n",
    "- 10,000 times, draw a simple random sample of `sample_size` from `pokedex`.\n",
    "- For each sample, compute the number of Pokémon who are water types.\n",
    "- Return an array with 10,000 counts.\n",
    "\n",
    "This requires generalizing your code from Question 2.3."
   ]
  },
  {
   "cell_type": "code",
   "execution_count": 28,
   "id": "pharmaceutical-share",
   "metadata": {},
   "outputs": [],
   "source": [
    "def count_types(sample_size):\n",
    "    counts = np.array([])\n",
    "    repetitions = 10000\n",
    "\n",
    "    for i in np.arange(repetitions):\n",
    "            sampled = pokedex.sample(sample_size, replace=False)\n",
    "            water_counts = sampled[sampled.get('type')=='water'].shape[0]\n",
    "            counts = np.append(counts, water_counts)\n",
    "\n",
    "    return counts"
   ]
  },
  {
   "cell_type": "code",
   "execution_count": 29,
   "id": "egyptian-medline",
   "metadata": {},
   "outputs": [
    {
     "data": {
      "text/plain": [
       "array([31., 27., 40., ..., 17., 25., 33.])"
      ]
     },
     "execution_count": 29,
     "metadata": {},
     "output_type": "execute_result"
    }
   ],
   "source": [
    "count_types(200)"
   ]
  },
  {
   "cell_type": "code",
   "execution_count": 30,
   "id": "severe-luxembourg",
   "metadata": {},
   "outputs": [
    {
     "data": {
      "text/plain": [
       "10000"
      ]
     },
     "execution_count": 30,
     "metadata": {},
     "output_type": "execute_result"
    }
   ],
   "source": [
    "len(count_types(200))"
   ]
  },
  {
   "cell_type": "code",
   "execution_count": 31,
   "id": "celtic-newsletter",
   "metadata": {},
   "outputs": [
    {
     "data": {
      "text/plain": [
       "array([114., 114., 114., ..., 114., 114., 114.])"
      ]
     },
     "execution_count": 31,
     "metadata": {},
     "output_type": "execute_result"
    }
   ],
   "source": [
    "count_types(801)"
   ]
  },
  {
   "cell_type": "markdown",
   "id": "american-taiwan",
   "metadata": {},
   "source": [
    "The code below will use the function you just defined to plot the empirical distribution of the count of water types, for several different sample sizes. It may take a few moments to run."
   ]
  },
  {
   "cell_type": "code",
   "execution_count": 32,
   "id": "pregnant-bidder",
   "metadata": {},
   "outputs": [
    {
     "data": {
      "image/png": "[encoded data removed]",
      "text/plain": [
       "<Figure size 500x300 with 1 Axes>"
      ]
     },
     "metadata": {},
     "output_type": "display_data"
    },
    {
     "data": {
      "image/png": "[encoded data removed]",
      "text/plain": [
       "<Figure size 500x300 with 1 Axes>"
      ]
     },
     "metadata": {},
     "output_type": "display_data"
    },
    {
     "data": {
      "image/png": "[encoded data removed]",
      "text/plain": [
       "<Figure size 500x300 with 1 Axes>"
      ]
     },
     "metadata": {},
     "output_type": "display_data"
    },
    {
     "data": {
      "image/png": "[encoded data removed]",
      "text/plain": [
       "<Figure size 500x300 with 1 Axes>"
      ]
     },
     "metadata": {},
     "output_type": "display_data"
    }
   ],
   "source": [
    "for sample_size in [25, 50, 100, 200]:\n",
    "    bpd.DataFrame().assign(types=count_types(sample_size)) \\\n",
    "                   .plot(kind='hist', density=True, ec='w', bins = np.arange(0, 50, 2), \n",
    "                         title=f'Sample Size {sample_size}', legend=None, figsize=(5, 3))\n",
    "plt.show()"
   ]
  },
  {
   "cell_type": "markdown",
   "id": "excellent-reference",
   "metadata": {},
   "source": [
    "**Question 2.6.** Using the plots above, what do you notice about the relationship between sample size and the mean of the empirical distribution of the count of water types? Similarly, what do you notice about the relationship between sample size and the standard deviation of the empirical distribution of the count of water types? \n",
    "\n",
    "Assign `q2_6` to a **list** of numbers 1 through 4 corresponding to the true statements below.\n",
    "1. As the sample size increases, the mean of the distribution of counts increases.\n",
    "1. As the sample size increases, the mean of the distribution of counts decreases.\n",
    "1. As the sample size increases, the standard deviation of the distribution of counts increases.\n",
    "1. As the sample size increases, the standard deviation of the distribution of counts decreases."
   ]
  },
  {
   "cell_type": "code",
   "execution_count": 33,
   "id": "moderate-alexander",
   "metadata": {},
   "outputs": [],
   "source": [
    "q2_6 = [1, 3]"
   ]
  },
  {
   "cell_type": "markdown",
   "id": "exposed-champion",
   "metadata": {},
   "source": [
    "## 3. Drake vs. Kendrick Lamar 🎤👑"
   ]
  },
  {
   "cell_type": "markdown",
   "id": "miniature-respondent",
   "metadata": {},
   "source": [
    "The Drake-Kendrick Lamar rap feud has captured public attention in recent weeks as the two artists traded insults through targeted diss tracks. The general consensus online is that Kendrick has \"won\" the battle, but who are UCSD students crowning the winner?\n",
    "\n",
    "To answer this question, Sophia decided to survey some of the [39,687 current UCSD students](https://ir.ucsd.edu/third-week/index.html), asking them if they believe Drake or Kendrick Lamar is the better rapper. Out of the 580 randomly sampled students, 203 said they prefer Drake and 377 said they prefer Kendrick Lamar. We've recorded this information in the DataFrame below."
   ]
  },
  {
   "cell_type": "code",
   "execution_count": 34,
   "id": "joint-timer",
   "metadata": {},
   "outputs": [
    {
     "data": {
      "text/html": [
       "<div>\n",
       "<style scoped>\n",
       "    .dataframe tbody tr th:only-of-type {\n",
       "        vertical-align: middle;\n",
       "    }\n",
       "\n",
       "    .dataframe tbody tr th {\n",
       "        vertical-align: top;\n",
       "    }\n",
       "\n",
       "    .dataframe thead th {\n",
       "        text-align: right;\n",
       "    }\n",
       "</style>\n",
       "<table border=\"1\" class=\"dataframe\">\n",
       "  <thead>\n",
       "    <tr style=\"text-align: right;\">\n",
       "      <th></th>\n",
       "      <th>Opinion</th>\n",
       "      <th>Count</th>\n",
       "      <th>Proportion</th>\n",
       "    </tr>\n",
       "  </thead>\n",
       "  <tbody>\n",
       "    <tr>\n",
       "      <th>0</th>\n",
       "      <td>Drake</td>\n",
       "      <td>203</td>\n",
       "      <td>0.35</td>\n",
       "    </tr>\n",
       "    <tr>\n",
       "      <th>1</th>\n",
       "      <td>Kendrick Lamar</td>\n",
       "      <td>377</td>\n",
       "      <td>0.65</td>\n",
       "    </tr>\n",
       "  </tbody>\n",
       "</table>\n",
       "</div>"
      ],
      "text/plain": [
       "          Opinion  Count  Proportion\n",
       "0           Drake    203        0.35\n",
       "1  Kendrick Lamar    377        0.65"
      ]
     },
     "execution_count": 34,
     "metadata": {},
     "output_type": "execute_result"
    }
   ],
   "source": [
    "# Run this cell, but don't change it.\n",
    "survey = bpd.DataFrame().assign(\n",
    "    Opinion=np.array([\"Drake\", \"Kendrick Lamar\"]),\n",
    "    Count=np.array([203, 377]))\n",
    "sample_size = survey.get(\"Count\").sum()\n",
    "survey_results = survey.assign(\n",
    "    Proportion=survey.get(\"Count\") / sample_size)\n",
    "survey_results"
   ]
  },
  {
   "cell_type": "markdown",
   "id": "british-astronomy",
   "metadata": {},
   "source": [
    "Next, Sophia used 1,000 bootstrap resamples to compute a confidence interval for the proportion of all UCSD students who prefer `'Kendrick Lamar'`.  Run the next cell to see the empirical distribution of this proportion in the 1,000 resamples.\n",
    "\n",
    "Note that we're using `np.random.multinomial` to do the resampling here, since each element of the resample is either 1 (`'Kendrick Lamar'`) or 0 (`'Drake'`) with known probabilities. This accomplishes the same thing as using `.sample` with `replace=True`, but is much faster."
   ]
  },
  {
   "cell_type": "code",
   "execution_count": 35,
   "id": "focused-therapist",
   "metadata": {},
   "outputs": [
    {
     "data": {
      "image/png": "[encoded data removed]",
      "text/plain": [
       "<Figure size 1000x500 with 1 Axes>"
      ]
     },
     "metadata": {},
     "output_type": "display_data"
    }
   ],
   "source": [
    "kendrick_proportions = np.array([])\n",
    "for i in np.arange(1000):\n",
    "    resample = np.random.multinomial(sample_size, survey_results.get('Proportion')) / sample_size\n",
    "    kendrick_proportions = np.append(kendrick_proportions, resample[1])\n",
    "bpd.DataFrame().assign(kendrick_proportions = kendrick_proportions) \\\n",
    "                .plot(kind='hist', density=True, ec='w', bins=np.arange(0.55, 0.75, 0.01), figsize=(10,5));\n",
    "plt.show()"
   ]
  },
  {
   "cell_type": "markdown",
   "id": "promotional-birthday",
   "metadata": {},
   "source": [
    "Recall, the Central Limit Theorem says\n",
    "\n",
    "$$\\text{SD of Distribution of Possible Sample Means} = \\frac{\\text{Population SD}}{\\sqrt{\\text{sample size}}}$$\n",
    "\n",
    "Furthermore, in any collection of numbers where the only unique values are 0 and 1, there is a simple formula for the standard deviation of the collection:\n",
    "\n",
    "$$\\text{SD of Collection of 0s and 1s} = \\sqrt{(\\text{Proportion of 0s in Collection}) \\times (\\text{Proportion of 1s in Collection})}$$\n",
    "\n",
    "Note that samples and populations are both possible examples of \"collections.\" \n",
    "\n",
    "(You're not responsible for deriving this formula, but if you're curious, it's possible to do so just by using the definition of standard deviation and a little algebra!)"
   ]
  },
  {
   "cell_type": "markdown",
   "id": "addressed-identity",
   "metadata": {},
   "source": [
    "Since you'll need the numbers in it to answer Question 3.1, here's `survey_results` once again:"
   ]
  },
  {
   "cell_type": "code",
   "execution_count": 36,
   "id": "spread-costs",
   "metadata": {},
   "outputs": [
    {
     "data": {
      "text/html": [
       "<div>\n",
       "<style scoped>\n",
       "    .dataframe tbody tr th:only-of-type {\n",
       "        vertical-align: middle;\n",
       "    }\n",
       "\n",
       "    .dataframe tbody tr th {\n",
       "        vertical-align: top;\n",
       "    }\n",
       "\n",
       "    .dataframe thead th {\n",
       "        text-align: right;\n",
       "    }\n",
       "</style>\n",
       "<table border=\"1\" class=\"dataframe\">\n",
       "  <thead>\n",
       "    <tr style=\"text-align: right;\">\n",
       "      <th></th>\n",
       "      <th>Opinion</th>\n",
       "      <th>Count</th>\n",
       "      <th>Proportion</th>\n",
       "    </tr>\n",
       "  </thead>\n",
       "  <tbody>\n",
       "    <tr>\n",
       "      <th>0</th>\n",
       "      <td>Drake</td>\n",
       "      <td>203</td>\n",
       "      <td>0.35</td>\n",
       "    </tr>\n",
       "    <tr>\n",
       "      <th>1</th>\n",
       "      <td>Kendrick Lamar</td>\n",
       "      <td>377</td>\n",
       "      <td>0.65</td>\n",
       "    </tr>\n",
       "  </tbody>\n",
       "</table>\n",
       "</div>"
      ],
      "text/plain": [
       "          Opinion  Count  Proportion\n",
       "0           Drake    203        0.35\n",
       "1  Kendrick Lamar    377        0.65"
      ]
     },
     "execution_count": 36,
     "metadata": {},
     "output_type": "execute_result"
    }
   ],
   "source": [
    "survey_results"
   ]
  },
  {
   "cell_type": "markdown",
   "id": "drawn-clinic",
   "metadata": {},
   "source": [
    "**Question 3.1.**\n",
    "**Without accessing the data in `kendrick_proportions` in any way**, compute an approximation of the standard deviation of the array `kendrick_proportions` and assign it to the variable `approximate_sd`.\n",
    "\n",
    "Instead of using `kendrick_proportions` directly, use **both** the Central Limit Theorem and the standard deviation formula above. Since you don't know the true proportions of 0s and 1s in the population, use the proportions in the sample instead (since they're likely to be similar), which are provided in the DataFrame `survey_results`."
   ]
  },
  {
   "cell_type": "code",
   "execution_count": 37,
   "id": "advanced-contamination",
   "metadata": {},
   "outputs": [
    {
     "data": {
      "text/plain": [
       "0.35"
      ]
     },
     "execution_count": 37,
     "metadata": {},
     "output_type": "execute_result"
    }
   ],
   "source": [
    "survey_results.loc[0].get('Proportion')"
   ]
  },
  {
   "cell_type": "code",
   "execution_count": 38,
   "id": "wound-printing",
   "metadata": {},
   "outputs": [
    {
     "data": {
      "text/plain": [
       "580"
      ]
     },
     "execution_count": 38,
     "metadata": {},
     "output_type": "execute_result"
    }
   ],
   "source": [
    "survey_results.get('Count').sum()"
   ]
  },
  {
   "cell_type": "code",
   "execution_count": 39,
   "id": "liberal-driver",
   "metadata": {},
   "outputs": [
    {
     "data": {
      "text/plain": [
       "0.019805084683240937"
      ]
     },
     "execution_count": 39,
     "metadata": {},
     "output_type": "execute_result"
    }
   ],
   "source": [
    "approximate_sd = ((survey_results.loc[0].get('Proportion') * survey_results.loc[1].get('Proportion'))**(1/2)\n",
    "                 / (survey_results.get('Count').sum())**(1/2))\n",
    "approximate_sd"
   ]
  },
  {
   "cell_type": "code",
   "execution_count": 40,
   "id": "steady-judgment",
   "metadata": {},
   "outputs": [
    {
     "data": {
      "text/plain": [
       "True"
      ]
     },
     "execution_count": 40,
     "metadata": {},
     "output_type": "execute_result"
    }
   ],
   "source": [
    "int(approximate_sd * 10 ** 6 % 10 ** 4) == 9805"
   ]
  },
  {
   "cell_type": "markdown",
   "id": "existing-istanbul",
   "metadata": {},
   "source": [
    "**Question 3.2.** Compute the actual standard deviation of the array `kendrick_proportions`. Your answer should be close to your answer from Question 3.1."
   ]
  },
  {
   "cell_type": "code",
   "execution_count": 41,
   "id": "varied-fraud",
   "metadata": {},
   "outputs": [
    {
     "data": {
      "text/plain": [
       "0.01899647747245458"
      ]
     },
     "execution_count": 41,
     "metadata": {},
     "output_type": "execute_result"
    }
   ],
   "source": [
    "exact_sd = np.std(kendrick_proportions)\n",
    "exact_sd"
   ]
  },
  {
   "cell_type": "markdown",
   "id": "wicked-composite",
   "metadata": {},
   "source": [
    "Since you'll need the numbers in it to answer Question 3.3, here's `survey_results` once again:"
   ]
  },
  {
   "cell_type": "code",
   "execution_count": 42,
   "id": "quick-giant",
   "metadata": {},
   "outputs": [
    {
     "data": {
      "text/html": [
       "<div>\n",
       "<style scoped>\n",
       "    .dataframe tbody tr th:only-of-type {\n",
       "        vertical-align: middle;\n",
       "    }\n",
       "\n",
       "    .dataframe tbody tr th {\n",
       "        vertical-align: top;\n",
       "    }\n",
       "\n",
       "    .dataframe thead th {\n",
       "        text-align: right;\n",
       "    }\n",
       "</style>\n",
       "<table border=\"1\" class=\"dataframe\">\n",
       "  <thead>\n",
       "    <tr style=\"text-align: right;\">\n",
       "      <th></th>\n",
       "      <th>Opinion</th>\n",
       "      <th>Count</th>\n",
       "      <th>Proportion</th>\n",
       "    </tr>\n",
       "  </thead>\n",
       "  <tbody>\n",
       "    <tr>\n",
       "      <th>0</th>\n",
       "      <td>Drake</td>\n",
       "      <td>203</td>\n",
       "      <td>0.35</td>\n",
       "    </tr>\n",
       "    <tr>\n",
       "      <th>1</th>\n",
       "      <td>Kendrick Lamar</td>\n",
       "      <td>377</td>\n",
       "      <td>0.65</td>\n",
       "    </tr>\n",
       "  </tbody>\n",
       "</table>\n",
       "</div>"
      ],
      "text/plain": [
       "          Opinion  Count  Proportion\n",
       "0           Drake    203        0.35\n",
       "1  Kendrick Lamar    377        0.65"
      ]
     },
     "execution_count": 42,
     "metadata": {},
     "output_type": "execute_result"
    }
   ],
   "source": [
    "survey_results"
   ]
  },
  {
   "cell_type": "markdown",
   "id": "alternative-frank",
   "metadata": {},
   "source": [
    "**Question 3.3.**\n",
    "**Without accessing `kendrick_proportions` in any way**, compute an approximate 95% confidence interval for the proportion of students who prefer `'Kendrick Lamar'`.\n",
    "\n",
    "The cell below `grader.check(\"q3_3\")` draws your interval in gold below the histogram of `kendrick_proportions`; use that to verify that your answer looks right.\n",
    "\n",
    "***Hint:*** In the past, we've used `np.percentile` on the array of bootstrapped estimates to find the bounds for the confidence interval. Now, **we're not allowed to use the bootstrapped distribution**, so we can't do it that way. But we don't need to:\n",
    "- The Central Limit Theorem tells us that the distribution of the sample mean is normal with a certain mean and standard deviation.\n",
    "- `survey_results` provides an estimate of this mean; you can use that number here.\n",
    "- In Question 3.1, you estimated this standard deviation (without using `kendrick_proportions`) and saved it to the variable `approximate_sd`; you can use that here as well.\n",
    "- We also know that 95% of the area of the normal distribution falls within a certain number of standard deviations from the mean."
   ]
  },
  {
   "cell_type": "code",
   "execution_count": 43,
   "id": "supposed-reasoning",
   "metadata": {},
   "outputs": [
    {
     "data": {
      "text/plain": [
       "0.019805084683240937"
      ]
     },
     "execution_count": 43,
     "metadata": {},
     "output_type": "execute_result"
    }
   ],
   "source": [
    "approximate_sd"
   ]
  },
  {
   "cell_type": "code",
   "execution_count": 44,
   "id": "super-insertion",
   "metadata": {},
   "outputs": [
    {
     "data": {
      "text/plain": [
       "0.65"
      ]
     },
     "execution_count": 44,
     "metadata": {},
     "output_type": "execute_result"
    }
   ],
   "source": [
    "mean = survey_results.loc[1].get('Proportion')\n",
    "mean"
   ]
  },
  {
   "cell_type": "code",
   "execution_count": 45,
   "id": "fundamental-interval",
   "metadata": {},
   "outputs": [
    {
     "data": {
      "text/plain": [
       "[0.6103898306335181, 0.6896101693664819]"
      ]
     },
     "execution_count": 45,
     "metadata": {},
     "output_type": "execute_result"
    }
   ],
   "source": [
    "lower_limit = mean - 2*approximate_sd\n",
    "upper_limit = mean + 2*approximate_sd\n",
    "\n",
    "# Your interval is:\n",
    "[lower_limit, upper_limit]"
   ]
  },
  {
   "cell_type": "code",
   "execution_count": 46,
   "id": "designing-aside",
   "metadata": {},
   "outputs": [
    {
     "data": {
      "image/png": "[encoded data removed]",
      "text/plain": [
       "<Figure size 1000x500 with 1 Axes>"
      ]
     },
     "metadata": {},
     "output_type": "display_data"
    }
   ],
   "source": [
    "# Run this cell to plot your confidence interval.\n",
    "bpd.DataFrame().assign(kendrick_proportions = kendrick_proportions).plot(kind='hist', density=True, ec='w', bins=np.arange(0.55, 0.75, 0.01), figsize=(10, 5));\n",
    "plt.plot([upper_limit, lower_limit], [0, 0], color='gold', linewidth=10, label='Normal CI');\n",
    "plt.legend();\n",
    "plt.show()"
   ]
  },
  {
   "cell_type": "markdown",
   "id": "occupied-irish",
   "metadata": {},
   "source": [
    "Your confidence interval should make it clear that we're pretty confident that most students prefer `'Kendrick Lamar'`. This makes sense, as the proportion of people choosing `'Kendrick Lamar'` in the sample was high. \n",
    "\n",
    "Sophia is considering redoing the survey with a larger sample to estimate with greater precision the population proportion of students who prefer `'Kendrick Lamar'`. She wants the **standard deviation of the distribution of the sample mean to be 0.004** (or less).  She will need to take a new sample that's large enough to achieve that. Polling is time-consuming, so the sample also shouldn't be bigger than necessary.\n",
    "\n",
    "Instead of making the conservative assumption that the population standard deviation is 0.5 (the largest possible SD of a collection of 0s and 1s), she decides to assume that it's equal to the standard deviation of her first sample. That is,\n",
    "\n",
    "$$\\text{Population SD} \\approx \\text{Sample SD} = \\sqrt{(\\text{Proportion of 0s in Sample}) \\times (\\text{Proportion of 1s in Sample})}$$\n",
    "\n",
    "Under that assumption, she computes the smallest sample size necessary in order to be confident that the standard deviation of the distribution of the sample mean is at most 0.004."
   ]
  },
  {
   "cell_type": "markdown",
   "id": "thrown-pound",
   "metadata": {},
   "source": [
    "**Question 3.4.**\n",
    "What sample size did Sophia find? Assign your answer to the variable `new_sample_size`, which should be of type `int`.\n",
    "\n",
    "Use the fact that $$\\text{SD of Distribution of Possible Sample Means} = \\frac{\\text{Population SD}}{\\sqrt{\\text{sample size}}}$$\n",
    "\n",
    "***Hints:***\n",
    "- There is only one unknown in the equation above.\n",
    "- Think about how you should round your answer to satisfy the constraints of the problem."
   ]
  },
  {
   "cell_type": "code",
   "execution_count": 47,
   "id": "insured-africa",
   "metadata": {},
   "outputs": [],
   "source": [
    "### Pop SD/sqrt(sample size) <= 0.004 ---> Pop SD/0.004 <= sqrt(sample size) ---> (Pop SD/0.004)^2 <= sample size"
   ]
  },
  {
   "cell_type": "code",
   "execution_count": 48,
   "id": "pediatric-catering",
   "metadata": {},
   "outputs": [
    {
     "data": {
      "text/plain": [
       "0.47696960070847283"
      ]
     },
     "execution_count": 48,
     "metadata": {},
     "output_type": "execute_result"
    }
   ],
   "source": [
    "pop_sd_estimate = (survey_results.loc[0].get('Proportion') * survey_results.loc[1].get('Proportion'))**(1/2)\n",
    "pop_sd_estimate"
   ]
  },
  {
   "cell_type": "code",
   "execution_count": 49,
   "id": "synthetic-violence",
   "metadata": {},
   "outputs": [
    {
     "data": {
      "text/plain": [
       "0.004"
      ]
     },
     "execution_count": 49,
     "metadata": {},
     "output_type": "execute_result"
    }
   ],
   "source": [
    "sd_of_distribution_estimate = 0.004 #approximate_sd\n",
    "sd_of_distribution_estimate"
   ]
  },
  {
   "cell_type": "code",
   "execution_count": 50,
   "id": "imposed-shower",
   "metadata": {},
   "outputs": [
    {
     "data": {
      "text/plain": [
       "14219"
      ]
     },
     "execution_count": 50,
     "metadata": {},
     "output_type": "execute_result"
    }
   ],
   "source": [
    "new_sample_size = (pop_sd_estimate/sd_of_distribution_estimate)**2\n",
    "new_sample_size = round(new_sample_size)\n",
    "new_sample_size"
   ]
  },
  {
   "cell_type": "code",
   "execution_count": 51,
   "id": "improving-fishing",
   "metadata": {},
   "outputs": [
    {
     "data": {
      "text/plain": [
       "14"
      ]
     },
     "execution_count": 51,
     "metadata": {},
     "output_type": "execute_result"
    }
   ],
   "source": [
    "round(new_sample_size / 10 ** 3) #== 14"
   ]
  },
  {
   "cell_type": "markdown",
   "id": "changing-choice",
   "metadata": {},
   "source": [
    "**Question 3.5.** Suppose Sophia wants to be even more precise and take a sample of sufficient size such that the standard deviation of the sample mean distribution is 0.002. Is it possible for them to do this? Choose the best answer and explanation, then assign `q3_5` to either 1, 2, 3, or 4.\n",
    "\n",
    "1. Yes. They can repeat the sample again until they comes across a sample with a standard deviation of 0.002.\n",
    "1. Yes. Since the 0.002 is half of 0.004, the required sample size is half of `new_sample_size`.\n",
    "1. Yes. Since the 0.002 is half of 0.004, the required sample size is twice as large as `new_sample_size`.\n",
    "1. No, the sample size required to reach that sample mean standard deviation is larger than the number of students at UCSD (39,687).\n"
   ]
  },
  {
   "cell_type": "code",
   "execution_count": 52,
   "id": "excess-serve",
   "metadata": {},
   "outputs": [
    {
     "data": {
      "text/plain": [
       "56874"
      ]
     },
     "execution_count": 52,
     "metadata": {},
     "output_type": "execute_result"
    }
   ],
   "source": [
    "half_sd = (pop_sd_estimate/0.002)**2\n",
    "half_sd = int(half_sd)\n",
    "half_sd"
   ]
  },
  {
   "cell_type": "code",
   "execution_count": 53,
   "id": "precise-recipe",
   "metadata": {},
   "outputs": [],
   "source": [
    "### As the standard deviation of the sample mean gets divided by 2, the value inside the squared parenthesis\n",
    "### would double, therefore the new sample size would be 4 times as large, and therefore larger than the number of students"
   ]
  },
  {
   "cell_type": "code",
   "execution_count": 54,
   "id": "revolutionary-polish",
   "metadata": {},
   "outputs": [],
   "source": [
    "q3_5 = 4"
   ]
  },
  {
   "cell_type": "markdown",
   "id": "split-command",
   "metadata": {},
   "source": [
    "## 4. Key Concepts 🔑"
   ]
  },
  {
   "cell_type": "markdown",
   "id": "coastal-emission",
   "metadata": {},
   "source": [
    "$$x_{i \\: \\text{(su)}} = \\frac{x_i - \\text{mean of $x$}}{\\text{SD of $x$}}$$"
   ]
  },
  {
   "cell_type": "markdown",
   "id": "disciplinary-bryan",
   "metadata": {},
   "source": [
    "$$x_{i \\: \\text{(su)}} = \\frac{34 - \\text{20}}{\\text{3}}$$"
   ]
  },
  {
   "cell_type": "markdown",
   "id": "legendary-massage",
   "metadata": {},
   "source": [
    "**Question 4.1.** How do we convert the value 34 to standard units if it comes from a dataset where the mean is 20 and the standard deviation is 3? Assign `q4_1` to either 1, 2, 3, or 4.\n",
    "\n",
    "\n",
    "\n",
    "1.\n",
    "$\\dfrac{20-34}{3}$\n",
    "\n",
    "2.\n",
    "$\\dfrac{34-20}{3}$\n",
    "\n",
    "3.\n",
    "$\\dfrac{{34-20}}{\\sqrt{3}}$\n",
    "\n",
    "4.\n",
    "$\\dfrac{({20-34})^2}{3}$"
   ]
  },
  {
   "cell_type": "code",
   "execution_count": 55,
   "id": "acting-affiliate",
   "metadata": {},
   "outputs": [],
   "source": [
    "q4_1 = 2"
   ]
  },
  {
   "cell_type": "markdown",
   "id": "alpha-assist",
   "metadata": {},
   "source": [
    "Chebyshev's inequality states that *no matter what the shape of the distribution* is, the proportion of the values that fall in the range\n",
    "\n",
    "$$\\mbox{average} \\pm z \\mbox { Standard Deviations}$$\n",
    "is at least \n",
    "$$1 - \\frac{1}{z^{2}}$$ "
   ]
  },
  {
   "cell_type": "code",
   "execution_count": 56,
   "id": "mineral-province",
   "metadata": {},
   "outputs": [],
   "source": [
    "### 0.5 = 1 - 1/z^2 ---> 1/z^2 = 0.5 ---> z^2 = 2 ---> z = sqrt(2)"
   ]
  },
  {
   "cell_type": "code",
   "execution_count": 57,
   "id": "regular-cemetery",
   "metadata": {},
   "outputs": [
    {
     "data": {
      "text/plain": [
       "1.4142135623730951"
      ]
     },
     "execution_count": 57,
     "metadata": {},
     "output_type": "execute_result"
    }
   ],
   "source": [
    "2**(1/2)"
   ]
  },
  {
   "cell_type": "markdown",
   "id": "seventh-financing",
   "metadata": {},
   "source": [
    "**Question 4.2.** According to Chebyshev's inequality, for any dataset, at least half of the data falls within how many standard deviations of the mean? Assign the **smallest** correct answer to `q4_2`.\n",
    "\n",
    "1. 1.35\n",
    "2. 1.40\n",
    "3. 1.45\n",
    "4. 1.50"
   ]
  },
  {
   "cell_type": "code",
   "execution_count": 58,
   "id": "verbal-intelligence",
   "metadata": {},
   "outputs": [
    {
     "data": {
      "text/plain": [
       "0.4897959183673468"
      ]
     },
     "execution_count": 58,
     "metadata": {},
     "output_type": "execute_result"
    }
   ],
   "source": [
    "1 - 1/(1.4)**2"
   ]
  },
  {
   "cell_type": "code",
   "execution_count": 59,
   "id": "cooperative-impact",
   "metadata": {},
   "outputs": [
    {
     "data": {
      "text/plain": [
       "0.5243757431629013"
      ]
     },
     "execution_count": 59,
     "metadata": {},
     "output_type": "execute_result"
    }
   ],
   "source": [
    "1 - 1/(1.45)**2"
   ]
  },
  {
   "cell_type": "code",
   "execution_count": 60,
   "id": "liable-toolbox",
   "metadata": {},
   "outputs": [],
   "source": [
    "q4_2 = 3"
   ]
  },
  {
   "cell_type": "markdown",
   "id": "mathematical-gathering",
   "metadata": {},
   "source": [
    "**Question 4.3.** Assign `q4_3` to a **list** of all statements below that are **always** true.\n",
    "\n",
    "\n",
    "\n",
    "1. An empirical histogram of the sample mean of a large random sample drawn with replacement from a population will be roughly normal.\n",
    "1. An empirical histogram of the sample median of a large random sample drawn with replacement from a population will be roughly normal.\n",
    "1. If we know the mean and SD of a distribution, we can calculate a 68% confidence interval by stepping out one standard deviation from the mean in both directions.\n",
    "1. For any distribution, 95% of the data falls within two standard deviations of the mean.\n",
    "1. For any distribution, at least 95% of the data falls within five standard deviations of the mean.\n"
   ]
  },
  {
   "cell_type": "code",
   "execution_count": 61,
   "id": "hollywood-criterion",
   "metadata": {},
   "outputs": [],
   "source": [
    "### 1 is correct. 2 is wrong. 3 depends on the type of distribution\n",
    "### 4 is wrong. This is only valid for normal distributions. 5 is correct via Chebyshev inequality"
   ]
  },
  {
   "cell_type": "code",
   "execution_count": 62,
   "id": "great-interest",
   "metadata": {},
   "outputs": [
    {
     "data": {
      "text/plain": [
       "0.75"
      ]
     },
     "execution_count": 62,
     "metadata": {},
     "output_type": "execute_result"
    }
   ],
   "source": [
    "1 - 1/(2)**2"
   ]
  },
  {
   "cell_type": "code",
   "execution_count": 63,
   "id": "heated-groove",
   "metadata": {},
   "outputs": [
    {
     "data": {
      "text/plain": [
       "0.96"
      ]
     },
     "execution_count": 63,
     "metadata": {},
     "output_type": "execute_result"
    }
   ],
   "source": [
    "1 - 1/(5)**2"
   ]
  },
  {
   "cell_type": "code",
   "execution_count": 64,
   "id": "focal-istanbul",
   "metadata": {},
   "outputs": [],
   "source": [
    "q4_3 = [1, 5]"
   ]
  },
  {
   "cell_type": "markdown",
   "id": "characteristic-rochester",
   "metadata": {},
   "source": [
    "**Question 4.4.** Consider drawing a large random sample with replacement from some population. Let $x$ be the sample size such that the standard deviation of the distribution of sample means is 20. Choose the sample size required to guarantee that the standard deviation of the distribution of sample means is no more than 5. Assign `q4_4` to either 1, 2, 3, or 4.\n",
    "\n",
    "1. $2x$\n",
    "1. $4x$\n",
    "1. $8x$\n",
    "1. $16x$"
   ]
  },
  {
   "cell_type": "markdown",
   "id": "municipal-request",
   "metadata": {},
   "source": [
    "$$\\text{SD of Distribution of Possible Sample Means} = \\frac{\\text{Population SD}}{\\sqrt{\\text{sample size}}}$$"
   ]
  },
  {
   "cell_type": "markdown",
   "id": "convertible-double",
   "metadata": {},
   "source": [
    "$$\\text{20} = \\frac{\\text{Population SD}}{\\sqrt{\\text{x}}}$$"
   ]
  },
  {
   "cell_type": "markdown",
   "id": "respiratory-president",
   "metadata": {},
   "source": [
    "$$\\text{x} = (\\frac{\\text{Population SD}}{\\text{20}})^2 = \\frac{\\text{(Population SD)}^2}{400}$$"
   ]
  },
  {
   "cell_type": "markdown",
   "id": "union-montreal",
   "metadata": {},
   "source": [
    "$$\\text{5} = \\frac{\\text{Population SD}}{\\sqrt{\\text{New x}}}$$"
   ]
  },
  {
   "cell_type": "markdown",
   "id": "younger-profile",
   "metadata": {},
   "source": [
    "$$\\text{New x} = (\\frac{\\text{Population SD}}{\\text{5}})^2 = \\frac{\\text{(Population SD)}^2}{25}$$"
   ]
  },
  {
   "cell_type": "code",
   "execution_count": 65,
   "id": "little-angel",
   "metadata": {},
   "outputs": [
    {
     "data": {
      "text/plain": [
       "16.0"
      ]
     },
     "execution_count": 65,
     "metadata": {},
     "output_type": "execute_result"
    }
   ],
   "source": [
    "400/25"
   ]
  },
  {
   "cell_type": "code",
   "execution_count": 66,
   "id": "dimensional-highland",
   "metadata": {},
   "outputs": [],
   "source": [
    "### As the SD gets multiplied by 4, the square root of the population must be 4 times larger than before,\n",
    "### therefore the population size must be 16 times larger"
   ]
  },
  {
   "cell_type": "code",
   "execution_count": 67,
   "id": "imported-greece",
   "metadata": {},
   "outputs": [],
   "source": [
    "q4_4 = 4"
   ]
  },
  {
   "cell_type": "markdown",
   "id": "alleged-prevention",
   "metadata": {},
   "source": [
    "Congratulations! You are done with Homework 5."
   ]
  }
 ],
 "metadata": {
  "kernelspec": {
   "display_name": "Python 3",
   "language": "python",
   "name": "python3"
  },
  "language_info": {
   "codemirror_mode": {
    "name": "ipython",
    "version": 3
   },
   "file_extension": ".py",
   "mimetype": "text/x-python",
   "name": "python",
   "nbconvert_exporter": "python",
   "pygments_lexer": "ipython3",
   "version": "3.8.5"
  }
 },
 "nbformat": 4,
 "nbformat_minor": 5
}
