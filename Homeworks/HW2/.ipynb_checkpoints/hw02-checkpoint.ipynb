{
 "cells": [
  {
   "cell_type": "markdown",
   "metadata": {},
   "source": [
    "# Homework 2: DataFrames, Data Visualization, and Functions\n",
    "\n",
    "## Due Tuesday, April 23rd at 11:59PM\n",
    "\n",
    "Welcome to Homework 2! This week, we will cover DataFrame manipulations, making visualizations, and defining functions. You can find additional help on these topics in  [BPD 6, 9-12](https://notes.dsc10.com/01-getting_started/functions-defining.html) in the `babypandas` notes and [CIT 7-7.3](https://inferentialthinking.com/chapters/07/Visualization.html) in the textbook."
   ]
  },
  {
   "cell_type": "markdown",
   "metadata": {},
   "source": [
    "### Instructions\n",
    "\n",
    "Remember to start early and submit often. You are given six slip days throughout the quarter to extend deadlines. See the syllabus for more details. With the exception of using slip days, late work will not be accepted unless you have made special arrangements with your instructor.\n",
    "\n",
    "**Important**: For homeworks, the `otter` tests don't usually tell you that your answer is correct. More often, they help catch careless mistakes. It's up to you to ensure that your answer is correct. If you're not sure, ask someone (not for the answer, but for some guidance about your approach). These are great questions for office hours (see the schedule on the [Calendar](https://dsc10.com/calendar)) or Ed. Directly sharing answers is not okay, but discussing problems with the course staff or with other students is encouraged. \n",
    "\n",
    "**Please do not use for-loops for any questions in this homework.** If you don't know what a for-loop is, don't worry – we haven't covered them yet. But if you do know what they are and are wondering why it's not OK to use them, it is because loops in Python are slow, and looping over arrays and DataFrames should usually be avoided.\n",
    "\n",
    "<font color=red>**🚨 If you create a data visualization that is too cluttered to read or takes more than a few seconds to generate, this is a sign you are doing something wrong. Do not submit code like this, or the Gradescope autograder may fail to grade your entire assignment. It's better to leave a question blank than to submit code that will cause the autograder to fail on your full assignment.**</font>"
   ]
  },
  {
   "cell_type": "code",
   "execution_count": 1,
   "metadata": {},
   "outputs": [],
   "source": [
    "# Please don't change this cell, but do make sure to run it\n",
    "import babypandas as bpd\n",
    "import numpy as np\n",
    "\n",
    "import matplotlib.pyplot as plt\n",
    "plt.style.use('ggplot')\n",
    "plt.rcParams['figure.figsize'] = (10, 5)\n",
    "\n",
    "import otter\n",
    "grader = otter.Notebook()"
   ]
  },
  {
   "cell_type": "markdown",
   "metadata": {},
   "source": [
    "## 1. Gotta Catch 'Em All! ✅"
   ]
  },
  {
   "cell_type": "markdown",
   "metadata": {},
   "source": [
    "<center><img src=\"./images/pokemon.png\" width=400/></center>\n",
    "\n",
    "Pokémon is an immensely popular video game and animation franchise that originated in Japan in 1996. Pokémon, short for Pocket Monsters, come in a variety of types.  In this problem, we will investigate how attack and defense statistics vary among these types\n",
    "\n",
    "The file named `pokedex.csv` in the `data/` directory has a row for each Pokémon (up to the seventh generation), and the following columns.\n",
    "\n",
    "|Column|Description|\n",
    "|------|-----------|\n",
    "|pokedex_number|The Pokémon's identification number in an encyclopedia of all Pokémon.|\n",
    "|name|The name of the Pokémon.|\n",
    "|type|The categorical type of the Pokémon, for example, \"normal\", \"fire\", \"water\". Each Pokémon is limited to one type for simplicity.|\n",
    "|attack|The Pokémon's power for physical moves.|\n",
    "|defense|The Pokémon's ability to prevent damage from attacks.|\n",
    "|hp| Hit Points. Indicates how much damage a Pokémon can tolerate.|\n",
    "|sp_attack|Special Attack. The Pokémon's power for special moves.|\n",
    "|sp_defense|Special Defense. The Pokémon's ability to prevent damage from special attacks.|\n",
    "|generation|A group of Pokémon that are compatible for Pokémon games.|\n",
    "|is_legendary|Indicates whether the Pokémon is legendary. Legendary Pokémon are rare and powerful. 1 means legendary, 0 means not.|"
   ]
  },
  {
   "cell_type": "markdown",
   "metadata": {},
   "source": [
    "First, we read the data in as a DataFrame."
   ]
  },
  {
   "cell_type": "code",
   "execution_count": 2,
   "metadata": {
    "scrolled": true
   },
   "outputs": [
    {
     "data": {
      "text/html": [
       "<div>\n",
       "<style scoped>\n",
       "    .dataframe tbody tr th:only-of-type {\n",
       "        vertical-align: middle;\n",
       "    }\n",
       "\n",
       "    .dataframe tbody tr th {\n",
       "        vertical-align: top;\n",
       "    }\n",
       "\n",
       "    .dataframe thead th {\n",
       "        text-align: right;\n",
       "    }\n",
       "</style>\n",
       "<table border=\"1\" class=\"dataframe\">\n",
       "  <thead>\n",
       "    <tr style=\"text-align: right;\">\n",
       "      <th></th>\n",
       "      <th>pokedex_number</th>\n",
       "      <th>name</th>\n",
       "      <th>type</th>\n",
       "      <th>attack</th>\n",
       "      <th>defense</th>\n",
       "      <th>hp</th>\n",
       "      <th>sp_attack</th>\n",
       "      <th>sp_defense</th>\n",
       "      <th>generation</th>\n",
       "      <th>is_legendary</th>\n",
       "    </tr>\n",
       "  </thead>\n",
       "  <tbody>\n",
       "    <tr>\n",
       "      <th>0</th>\n",
       "      <td>460</td>\n",
       "      <td>Abomasnow</td>\n",
       "      <td>grass</td>\n",
       "      <td>132</td>\n",
       "      <td>105</td>\n",
       "      <td>90</td>\n",
       "      <td>132</td>\n",
       "      <td>105</td>\n",
       "      <td>4</td>\n",
       "      <td>0</td>\n",
       "    </tr>\n",
       "    <tr>\n",
       "      <th>1</th>\n",
       "      <td>63</td>\n",
       "      <td>Abra</td>\n",
       "      <td>psychic</td>\n",
       "      <td>20</td>\n",
       "      <td>15</td>\n",
       "      <td>25</td>\n",
       "      <td>105</td>\n",
       "      <td>55</td>\n",
       "      <td>1</td>\n",
       "      <td>0</td>\n",
       "    </tr>\n",
       "    <tr>\n",
       "      <th>2</th>\n",
       "      <td>359</td>\n",
       "      <td>Absol</td>\n",
       "      <td>dark</td>\n",
       "      <td>150</td>\n",
       "      <td>60</td>\n",
       "      <td>65</td>\n",
       "      <td>115</td>\n",
       "      <td>60</td>\n",
       "      <td>3</td>\n",
       "      <td>0</td>\n",
       "    </tr>\n",
       "    <tr>\n",
       "      <th>3</th>\n",
       "      <td>617</td>\n",
       "      <td>Accelgor</td>\n",
       "      <td>bug</td>\n",
       "      <td>70</td>\n",
       "      <td>40</td>\n",
       "      <td>80</td>\n",
       "      <td>100</td>\n",
       "      <td>60</td>\n",
       "      <td>5</td>\n",
       "      <td>0</td>\n",
       "    </tr>\n",
       "    <tr>\n",
       "      <th>4</th>\n",
       "      <td>681</td>\n",
       "      <td>Aegislash</td>\n",
       "      <td>steel</td>\n",
       "      <td>150</td>\n",
       "      <td>50</td>\n",
       "      <td>60</td>\n",
       "      <td>150</td>\n",
       "      <td>50</td>\n",
       "      <td>6</td>\n",
       "      <td>0</td>\n",
       "    </tr>\n",
       "    <tr>\n",
       "      <th>...</th>\n",
       "      <td>...</td>\n",
       "      <td>...</td>\n",
       "      <td>...</td>\n",
       "      <td>...</td>\n",
       "      <td>...</td>\n",
       "      <td>...</td>\n",
       "      <td>...</td>\n",
       "      <td>...</td>\n",
       "      <td>...</td>\n",
       "      <td>...</td>\n",
       "    </tr>\n",
       "    <tr>\n",
       "      <th>796</th>\n",
       "      <td>571</td>\n",
       "      <td>Zoroark</td>\n",
       "      <td>dark</td>\n",
       "      <td>105</td>\n",
       "      <td>60</td>\n",
       "      <td>60</td>\n",
       "      <td>120</td>\n",
       "      <td>60</td>\n",
       "      <td>5</td>\n",
       "      <td>0</td>\n",
       "    </tr>\n",
       "    <tr>\n",
       "      <th>797</th>\n",
       "      <td>570</td>\n",
       "      <td>Zorua</td>\n",
       "      <td>dark</td>\n",
       "      <td>65</td>\n",
       "      <td>40</td>\n",
       "      <td>40</td>\n",
       "      <td>80</td>\n",
       "      <td>40</td>\n",
       "      <td>5</td>\n",
       "      <td>0</td>\n",
       "    </tr>\n",
       "    <tr>\n",
       "      <th>798</th>\n",
       "      <td>41</td>\n",
       "      <td>Zubat</td>\n",
       "      <td>poison</td>\n",
       "      <td>45</td>\n",
       "      <td>35</td>\n",
       "      <td>40</td>\n",
       "      <td>30</td>\n",
       "      <td>40</td>\n",
       "      <td>1</td>\n",
       "      <td>0</td>\n",
       "    </tr>\n",
       "    <tr>\n",
       "      <th>799</th>\n",
       "      <td>634</td>\n",
       "      <td>Zweilous</td>\n",
       "      <td>dark</td>\n",
       "      <td>85</td>\n",
       "      <td>70</td>\n",
       "      <td>72</td>\n",
       "      <td>65</td>\n",
       "      <td>70</td>\n",
       "      <td>5</td>\n",
       "      <td>0</td>\n",
       "    </tr>\n",
       "    <tr>\n",
       "      <th>800</th>\n",
       "      <td>718</td>\n",
       "      <td>Zygarde</td>\n",
       "      <td>dragon</td>\n",
       "      <td>100</td>\n",
       "      <td>121</td>\n",
       "      <td>216</td>\n",
       "      <td>91</td>\n",
       "      <td>95</td>\n",
       "      <td>6</td>\n",
       "      <td>1</td>\n",
       "    </tr>\n",
       "  </tbody>\n",
       "</table>\n",
       "<p>801 rows × 10 columns</p>\n",
       "</div>"
      ],
      "text/plain": [
       "     pokedex_number       name     type  attack  defense   hp  sp_attack  \\\n",
       "0               460  Abomasnow    grass     132      105   90        132   \n",
       "1                63       Abra  psychic      20       15   25        105   \n",
       "2               359      Absol     dark     150       60   65        115   \n",
       "3               617   Accelgor      bug      70       40   80        100   \n",
       "4               681  Aegislash    steel     150       50   60        150   \n",
       "..              ...        ...      ...     ...      ...  ...        ...   \n",
       "796             571    Zoroark     dark     105       60   60        120   \n",
       "797             570      Zorua     dark      65       40   40         80   \n",
       "798              41      Zubat   poison      45       35   40         30   \n",
       "799             634   Zweilous     dark      85       70   72         65   \n",
       "800             718    Zygarde   dragon     100      121  216         91   \n",
       "\n",
       "     sp_defense  generation  is_legendary  \n",
       "0           105           4             0  \n",
       "1            55           1             0  \n",
       "2            60           3             0  \n",
       "3            60           5             0  \n",
       "4            50           6             0  \n",
       "..          ...         ...           ...  \n",
       "796          60           5             0  \n",
       "797          40           5             0  \n",
       "798          40           1             0  \n",
       "799          70           5             0  \n",
       "800          95           6             1  \n",
       "\n",
       "[801 rows x 10 columns]"
      ]
     },
     "execution_count": 2,
     "metadata": {},
     "output_type": "execute_result"
    }
   ],
   "source": [
    "pokedex = bpd.read_csv('data/pokedex.csv')\n",
    "pokedex"
   ]
  },
  {
   "cell_type": "markdown",
   "metadata": {},
   "source": [
    "Let's explore particular columns to get to know the data a little better. The `.describe()` method gives us some useful information about a column. Try it out on the `'name'` column."
   ]
  },
  {
   "cell_type": "code",
   "execution_count": 3,
   "metadata": {},
   "outputs": [
    {
     "data": {
      "text/plain": [
       "count           801\n",
       "unique          801\n",
       "top       Abomasnow\n",
       "freq              1\n",
       "Name: name, dtype: object"
      ]
     },
     "execution_count": 3,
     "metadata": {},
     "output_type": "execute_result"
    }
   ],
   "source": [
    "pokedex.get('name').describe()"
   ]
  },
  {
   "cell_type": "markdown",
   "metadata": {},
   "source": [
    "We learn that this column has 801 values, all of which are unique, and as a result the most frequent name appears only once.\n",
    "\n",
    "If we try this same command on the `'type'` column, we'll see that although there are 801 entries, only 18 of them are unique. There are many Pokémon with the same `'type'`. The most common `'type'` is `'water'`; there are 114 such Pokémon. "
   ]
  },
  {
   "cell_type": "code",
   "execution_count": 4,
   "metadata": {},
   "outputs": [
    {
     "data": {
      "text/plain": [
       "count       801\n",
       "unique       18\n",
       "top       water\n",
       "freq        114\n",
       "Name: type, dtype: object"
      ]
     },
     "execution_count": 4,
     "metadata": {},
     "output_type": "execute_result"
    }
   ],
   "source": [
    "pokedex.get('type').describe()"
   ]
  },
  {
   "cell_type": "markdown",
   "metadata": {},
   "source": [
    "**Question 1.1.** Which would be a better choice of index for this dataset, `'name'` or `'type'`? Set the index of `pokedex` to whichever of these two attributes makes more sense."
   ]
  },
  {
   "cell_type": "code",
   "execution_count": 5,
   "metadata": {},
   "outputs": [
    {
     "data": {
      "text/html": [
       "<div>\n",
       "<style scoped>\n",
       "    .dataframe tbody tr th:only-of-type {\n",
       "        vertical-align: middle;\n",
       "    }\n",
       "\n",
       "    .dataframe tbody tr th {\n",
       "        vertical-align: top;\n",
       "    }\n",
       "\n",
       "    .dataframe thead th {\n",
       "        text-align: right;\n",
       "    }\n",
       "</style>\n",
       "<table border=\"1\" class=\"dataframe\">\n",
       "  <thead>\n",
       "    <tr style=\"text-align: right;\">\n",
       "      <th></th>\n",
       "      <th>pokedex_number</th>\n",
       "      <th>type</th>\n",
       "      <th>attack</th>\n",
       "      <th>defense</th>\n",
       "      <th>hp</th>\n",
       "      <th>sp_attack</th>\n",
       "      <th>sp_defense</th>\n",
       "      <th>generation</th>\n",
       "      <th>is_legendary</th>\n",
       "    </tr>\n",
       "    <tr>\n",
       "      <th>name</th>\n",
       "      <th></th>\n",
       "      <th></th>\n",
       "      <th></th>\n",
       "      <th></th>\n",
       "      <th></th>\n",
       "      <th></th>\n",
       "      <th></th>\n",
       "      <th></th>\n",
       "      <th></th>\n",
       "    </tr>\n",
       "  </thead>\n",
       "  <tbody>\n",
       "    <tr>\n",
       "      <th>Abomasnow</th>\n",
       "      <td>460</td>\n",
       "      <td>grass</td>\n",
       "      <td>132</td>\n",
       "      <td>105</td>\n",
       "      <td>90</td>\n",
       "      <td>132</td>\n",
       "      <td>105</td>\n",
       "      <td>4</td>\n",
       "      <td>0</td>\n",
       "    </tr>\n",
       "    <tr>\n",
       "      <th>Abra</th>\n",
       "      <td>63</td>\n",
       "      <td>psychic</td>\n",
       "      <td>20</td>\n",
       "      <td>15</td>\n",
       "      <td>25</td>\n",
       "      <td>105</td>\n",
       "      <td>55</td>\n",
       "      <td>1</td>\n",
       "      <td>0</td>\n",
       "    </tr>\n",
       "    <tr>\n",
       "      <th>Absol</th>\n",
       "      <td>359</td>\n",
       "      <td>dark</td>\n",
       "      <td>150</td>\n",
       "      <td>60</td>\n",
       "      <td>65</td>\n",
       "      <td>115</td>\n",
       "      <td>60</td>\n",
       "      <td>3</td>\n",
       "      <td>0</td>\n",
       "    </tr>\n",
       "    <tr>\n",
       "      <th>Accelgor</th>\n",
       "      <td>617</td>\n",
       "      <td>bug</td>\n",
       "      <td>70</td>\n",
       "      <td>40</td>\n",
       "      <td>80</td>\n",
       "      <td>100</td>\n",
       "      <td>60</td>\n",
       "      <td>5</td>\n",
       "      <td>0</td>\n",
       "    </tr>\n",
       "    <tr>\n",
       "      <th>Aegislash</th>\n",
       "      <td>681</td>\n",
       "      <td>steel</td>\n",
       "      <td>150</td>\n",
       "      <td>50</td>\n",
       "      <td>60</td>\n",
       "      <td>150</td>\n",
       "      <td>50</td>\n",
       "      <td>6</td>\n",
       "      <td>0</td>\n",
       "    </tr>\n",
       "    <tr>\n",
       "      <th>...</th>\n",
       "      <td>...</td>\n",
       "      <td>...</td>\n",
       "      <td>...</td>\n",
       "      <td>...</td>\n",
       "      <td>...</td>\n",
       "      <td>...</td>\n",
       "      <td>...</td>\n",
       "      <td>...</td>\n",
       "      <td>...</td>\n",
       "    </tr>\n",
       "    <tr>\n",
       "      <th>Zoroark</th>\n",
       "      <td>571</td>\n",
       "      <td>dark</td>\n",
       "      <td>105</td>\n",
       "      <td>60</td>\n",
       "      <td>60</td>\n",
       "      <td>120</td>\n",
       "      <td>60</td>\n",
       "      <td>5</td>\n",
       "      <td>0</td>\n",
       "    </tr>\n",
       "    <tr>\n",
       "      <th>Zorua</th>\n",
       "      <td>570</td>\n",
       "      <td>dark</td>\n",
       "      <td>65</td>\n",
       "      <td>40</td>\n",
       "      <td>40</td>\n",
       "      <td>80</td>\n",
       "      <td>40</td>\n",
       "      <td>5</td>\n",
       "      <td>0</td>\n",
       "    </tr>\n",
       "    <tr>\n",
       "      <th>Zubat</th>\n",
       "      <td>41</td>\n",
       "      <td>poison</td>\n",
       "      <td>45</td>\n",
       "      <td>35</td>\n",
       "      <td>40</td>\n",
       "      <td>30</td>\n",
       "      <td>40</td>\n",
       "      <td>1</td>\n",
       "      <td>0</td>\n",
       "    </tr>\n",
       "    <tr>\n",
       "      <th>Zweilous</th>\n",
       "      <td>634</td>\n",
       "      <td>dark</td>\n",
       "      <td>85</td>\n",
       "      <td>70</td>\n",
       "      <td>72</td>\n",
       "      <td>65</td>\n",
       "      <td>70</td>\n",
       "      <td>5</td>\n",
       "      <td>0</td>\n",
       "    </tr>\n",
       "    <tr>\n",
       "      <th>Zygarde</th>\n",
       "      <td>718</td>\n",
       "      <td>dragon</td>\n",
       "      <td>100</td>\n",
       "      <td>121</td>\n",
       "      <td>216</td>\n",
       "      <td>91</td>\n",
       "      <td>95</td>\n",
       "      <td>6</td>\n",
       "      <td>1</td>\n",
       "    </tr>\n",
       "  </tbody>\n",
       "</table>\n",
       "<p>801 rows × 9 columns</p>\n",
       "</div>"
      ],
      "text/plain": [
       "           pokedex_number     type  attack  defense   hp  sp_attack  \\\n",
       "name                                                                  \n",
       "Abomasnow             460    grass     132      105   90        132   \n",
       "Abra                   63  psychic      20       15   25        105   \n",
       "Absol                 359     dark     150       60   65        115   \n",
       "Accelgor              617      bug      70       40   80        100   \n",
       "Aegislash             681    steel     150       50   60        150   \n",
       "...                   ...      ...     ...      ...  ...        ...   \n",
       "Zoroark               571     dark     105       60   60        120   \n",
       "Zorua                 570     dark      65       40   40         80   \n",
       "Zubat                  41   poison      45       35   40         30   \n",
       "Zweilous              634     dark      85       70   72         65   \n",
       "Zygarde               718   dragon     100      121  216         91   \n",
       "\n",
       "           sp_defense  generation  is_legendary  \n",
       "name                                             \n",
       "Abomasnow         105           4             0  \n",
       "Abra               55           1             0  \n",
       "Absol              60           3             0  \n",
       "Accelgor           60           5             0  \n",
       "Aegislash          50           6             0  \n",
       "...               ...         ...           ...  \n",
       "Zoroark            60           5             0  \n",
       "Zorua              40           5             0  \n",
       "Zubat              40           1             0  \n",
       "Zweilous           70           5             0  \n",
       "Zygarde            95           6             1  \n",
       "\n",
       "[801 rows x 9 columns]"
      ]
     },
     "execution_count": 5,
     "metadata": {},
     "output_type": "execute_result"
    }
   ],
   "source": [
    "pokedex = pokedex.set_index('name')\n",
    "pokedex"
   ]
  },
  {
   "cell_type": "code",
   "execution_count": 6,
   "metadata": {
    "deletable": false,
    "editable": false
   },
   "outputs": [
    {
     "data": {
      "text/html": [
       "<p><strong><pre style='display: inline;'>q1_1</pre></strong> passed!</p>"
      ],
      "text/plain": [
       "q1_1 results: All test cases passed!"
      ]
     },
     "execution_count": 6,
     "metadata": {},
     "output_type": "execute_result"
    }
   ],
   "source": [
    "grader.check(\"q1_1\")"
   ]
  },
  {
   "cell_type": "markdown",
   "metadata": {},
   "source": [
    "**Question 1.2.** Assign `weakest_attack` and `weakest_defense` to the names of the weakest Pokémon in terms of attack and defense respectively.\n",
    "\n",
    "Similarly, assign `strongest_attack` and `strongest_defense` to the names of the strongest Pokémon in terms of attack and defense respectively.\n",
    "\n",
    "In the case of a tie, choose any one of the equally weakest or equally strongest Pokémon."
   ]
  },
  {
   "cell_type": "code",
   "execution_count": 7,
   "metadata": {},
   "outputs": [
    {
     "data": {
      "text/html": [
       "<div>\n",
       "<style scoped>\n",
       "    .dataframe tbody tr th:only-of-type {\n",
       "        vertical-align: middle;\n",
       "    }\n",
       "\n",
       "    .dataframe tbody tr th {\n",
       "        vertical-align: top;\n",
       "    }\n",
       "\n",
       "    .dataframe thead th {\n",
       "        text-align: right;\n",
       "    }\n",
       "</style>\n",
       "<table border=\"1\" class=\"dataframe\">\n",
       "  <thead>\n",
       "    <tr style=\"text-align: right;\">\n",
       "      <th></th>\n",
       "      <th>pokedex_number</th>\n",
       "      <th>type</th>\n",
       "      <th>attack</th>\n",
       "      <th>defense</th>\n",
       "      <th>hp</th>\n",
       "      <th>sp_attack</th>\n",
       "      <th>sp_defense</th>\n",
       "      <th>generation</th>\n",
       "      <th>is_legendary</th>\n",
       "    </tr>\n",
       "    <tr>\n",
       "      <th>name</th>\n",
       "      <th></th>\n",
       "      <th></th>\n",
       "      <th></th>\n",
       "      <th></th>\n",
       "      <th></th>\n",
       "      <th></th>\n",
       "      <th></th>\n",
       "      <th></th>\n",
       "      <th></th>\n",
       "    </tr>\n",
       "  </thead>\n",
       "  <tbody>\n",
       "    <tr>\n",
       "      <th>Happiny</th>\n",
       "      <td>440</td>\n",
       "      <td>normal</td>\n",
       "      <td>5</td>\n",
       "      <td>5</td>\n",
       "      <td>100</td>\n",
       "      <td>15</td>\n",
       "      <td>65</td>\n",
       "      <td>4</td>\n",
       "      <td>0</td>\n",
       "    </tr>\n",
       "    <tr>\n",
       "      <th>Chansey</th>\n",
       "      <td>113</td>\n",
       "      <td>normal</td>\n",
       "      <td>5</td>\n",
       "      <td>5</td>\n",
       "      <td>250</td>\n",
       "      <td>35</td>\n",
       "      <td>105</td>\n",
       "      <td>1</td>\n",
       "      <td>0</td>\n",
       "    </tr>\n",
       "    <tr>\n",
       "      <th>Shuckle</th>\n",
       "      <td>213</td>\n",
       "      <td>bug</td>\n",
       "      <td>10</td>\n",
       "      <td>230</td>\n",
       "      <td>20</td>\n",
       "      <td>10</td>\n",
       "      <td>230</td>\n",
       "      <td>2</td>\n",
       "      <td>0</td>\n",
       "    </tr>\n",
       "    <tr>\n",
       "      <th>Blissey</th>\n",
       "      <td>242</td>\n",
       "      <td>normal</td>\n",
       "      <td>10</td>\n",
       "      <td>10</td>\n",
       "      <td>255</td>\n",
       "      <td>75</td>\n",
       "      <td>135</td>\n",
       "      <td>2</td>\n",
       "      <td>0</td>\n",
       "    </tr>\n",
       "    <tr>\n",
       "      <th>Magikarp</th>\n",
       "      <td>129</td>\n",
       "      <td>water</td>\n",
       "      <td>10</td>\n",
       "      <td>55</td>\n",
       "      <td>20</td>\n",
       "      <td>15</td>\n",
       "      <td>20</td>\n",
       "      <td>1</td>\n",
       "      <td>0</td>\n",
       "    </tr>\n",
       "    <tr>\n",
       "      <th>...</th>\n",
       "      <td>...</td>\n",
       "      <td>...</td>\n",
       "      <td>...</td>\n",
       "      <td>...</td>\n",
       "      <td>...</td>\n",
       "      <td>...</td>\n",
       "      <td>...</td>\n",
       "      <td>...</td>\n",
       "      <td>...</td>\n",
       "    </tr>\n",
       "    <tr>\n",
       "      <th>Garchomp</th>\n",
       "      <td>445</td>\n",
       "      <td>dragon</td>\n",
       "      <td>170</td>\n",
       "      <td>115</td>\n",
       "      <td>108</td>\n",
       "      <td>120</td>\n",
       "      <td>95</td>\n",
       "      <td>4</td>\n",
       "      <td>0</td>\n",
       "    </tr>\n",
       "    <tr>\n",
       "      <th>Rayquaza</th>\n",
       "      <td>384</td>\n",
       "      <td>dragon</td>\n",
       "      <td>180</td>\n",
       "      <td>100</td>\n",
       "      <td>105</td>\n",
       "      <td>180</td>\n",
       "      <td>100</td>\n",
       "      <td>3</td>\n",
       "      <td>1</td>\n",
       "    </tr>\n",
       "    <tr>\n",
       "      <th>Groudon</th>\n",
       "      <td>383</td>\n",
       "      <td>ground</td>\n",
       "      <td>180</td>\n",
       "      <td>160</td>\n",
       "      <td>100</td>\n",
       "      <td>150</td>\n",
       "      <td>90</td>\n",
       "      <td>3</td>\n",
       "      <td>1</td>\n",
       "    </tr>\n",
       "    <tr>\n",
       "      <th>Kartana</th>\n",
       "      <td>798</td>\n",
       "      <td>grass</td>\n",
       "      <td>181</td>\n",
       "      <td>131</td>\n",
       "      <td>59</td>\n",
       "      <td>59</td>\n",
       "      <td>31</td>\n",
       "      <td>7</td>\n",
       "      <td>1</td>\n",
       "    </tr>\n",
       "    <tr>\n",
       "      <th>Heracross</th>\n",
       "      <td>214</td>\n",
       "      <td>bug</td>\n",
       "      <td>185</td>\n",
       "      <td>115</td>\n",
       "      <td>80</td>\n",
       "      <td>40</td>\n",
       "      <td>105</td>\n",
       "      <td>2</td>\n",
       "      <td>0</td>\n",
       "    </tr>\n",
       "  </tbody>\n",
       "</table>\n",
       "<p>801 rows × 9 columns</p>\n",
       "</div>"
      ],
      "text/plain": [
       "           pokedex_number    type  attack  defense   hp  sp_attack  \\\n",
       "name                                                                 \n",
       "Happiny               440  normal       5        5  100         15   \n",
       "Chansey               113  normal       5        5  250         35   \n",
       "Shuckle               213     bug      10      230   20         10   \n",
       "Blissey               242  normal      10       10  255         75   \n",
       "Magikarp              129   water      10       55   20         15   \n",
       "...                   ...     ...     ...      ...  ...        ...   \n",
       "Garchomp              445  dragon     170      115  108        120   \n",
       "Rayquaza              384  dragon     180      100  105        180   \n",
       "Groudon               383  ground     180      160  100        150   \n",
       "Kartana               798   grass     181      131   59         59   \n",
       "Heracross             214     bug     185      115   80         40   \n",
       "\n",
       "           sp_defense  generation  is_legendary  \n",
       "name                                             \n",
       "Happiny            65           4             0  \n",
       "Chansey           105           1             0  \n",
       "Shuckle           230           2             0  \n",
       "Blissey           135           2             0  \n",
       "Magikarp           20           1             0  \n",
       "...               ...         ...           ...  \n",
       "Garchomp           95           4             0  \n",
       "Rayquaza          100           3             1  \n",
       "Groudon            90           3             1  \n",
       "Kartana            31           7             1  \n",
       "Heracross         105           2             0  \n",
       "\n",
       "[801 rows x 9 columns]"
      ]
     },
     "execution_count": 7,
     "metadata": {},
     "output_type": "execute_result"
    }
   ],
   "source": [
    "attack = pokedex.sort_values(by='attack')\n",
    "attack"
   ]
  },
  {
   "cell_type": "code",
   "execution_count": 8,
   "metadata": {},
   "outputs": [
    {
     "data": {
      "text/plain": [
       "pokedex_number       440\n",
       "type              normal\n",
       "attack                 5\n",
       "defense                5\n",
       "hp                   100\n",
       "sp_attack             15\n",
       "sp_defense            65\n",
       "generation             4\n",
       "is_legendary           0\n",
       "Name: Happiny, dtype: object"
      ]
     },
     "execution_count": 8,
     "metadata": {},
     "output_type": "execute_result"
    }
   ],
   "source": [
    "attack.iloc[0]"
   ]
  },
  {
   "cell_type": "code",
   "execution_count": 9,
   "metadata": {},
   "outputs": [
    {
     "data": {
      "text/plain": [
       "'Happiny'"
      ]
     },
     "execution_count": 9,
     "metadata": {},
     "output_type": "execute_result"
    }
   ],
   "source": [
    "attack.index[0]"
   ]
  },
  {
   "cell_type": "code",
   "execution_count": 10,
   "metadata": {},
   "outputs": [
    {
     "data": {
      "text/html": [
       "<div>\n",
       "<style scoped>\n",
       "    .dataframe tbody tr th:only-of-type {\n",
       "        vertical-align: middle;\n",
       "    }\n",
       "\n",
       "    .dataframe tbody tr th {\n",
       "        vertical-align: top;\n",
       "    }\n",
       "\n",
       "    .dataframe thead th {\n",
       "        text-align: right;\n",
       "    }\n",
       "</style>\n",
       "<table border=\"1\" class=\"dataframe\">\n",
       "  <thead>\n",
       "    <tr style=\"text-align: right;\">\n",
       "      <th></th>\n",
       "      <th>pokedex_number</th>\n",
       "      <th>type</th>\n",
       "      <th>attack</th>\n",
       "      <th>defense</th>\n",
       "      <th>hp</th>\n",
       "      <th>sp_attack</th>\n",
       "      <th>sp_defense</th>\n",
       "      <th>generation</th>\n",
       "      <th>is_legendary</th>\n",
       "    </tr>\n",
       "    <tr>\n",
       "      <th>name</th>\n",
       "      <th></th>\n",
       "      <th></th>\n",
       "      <th></th>\n",
       "      <th></th>\n",
       "      <th></th>\n",
       "      <th></th>\n",
       "      <th></th>\n",
       "      <th></th>\n",
       "      <th></th>\n",
       "    </tr>\n",
       "  </thead>\n",
       "  <tbody>\n",
       "    <tr>\n",
       "      <th>Chansey</th>\n",
       "      <td>113</td>\n",
       "      <td>normal</td>\n",
       "      <td>5</td>\n",
       "      <td>5</td>\n",
       "      <td>250</td>\n",
       "      <td>35</td>\n",
       "      <td>105</td>\n",
       "      <td>1</td>\n",
       "      <td>0</td>\n",
       "    </tr>\n",
       "    <tr>\n",
       "      <th>Happiny</th>\n",
       "      <td>440</td>\n",
       "      <td>normal</td>\n",
       "      <td>5</td>\n",
       "      <td>5</td>\n",
       "      <td>100</td>\n",
       "      <td>15</td>\n",
       "      <td>65</td>\n",
       "      <td>4</td>\n",
       "      <td>0</td>\n",
       "    </tr>\n",
       "    <tr>\n",
       "      <th>Blissey</th>\n",
       "      <td>242</td>\n",
       "      <td>normal</td>\n",
       "      <td>10</td>\n",
       "      <td>10</td>\n",
       "      <td>255</td>\n",
       "      <td>75</td>\n",
       "      <td>135</td>\n",
       "      <td>2</td>\n",
       "      <td>0</td>\n",
       "    </tr>\n",
       "    <tr>\n",
       "      <th>Abra</th>\n",
       "      <td>63</td>\n",
       "      <td>psychic</td>\n",
       "      <td>20</td>\n",
       "      <td>15</td>\n",
       "      <td>25</td>\n",
       "      <td>105</td>\n",
       "      <td>55</td>\n",
       "      <td>1</td>\n",
       "      <td>0</td>\n",
       "    </tr>\n",
       "    <tr>\n",
       "      <th>Pichu</th>\n",
       "      <td>172</td>\n",
       "      <td>electric</td>\n",
       "      <td>40</td>\n",
       "      <td>15</td>\n",
       "      <td>20</td>\n",
       "      <td>35</td>\n",
       "      <td>35</td>\n",
       "      <td>2</td>\n",
       "      <td>0</td>\n",
       "    </tr>\n",
       "    <tr>\n",
       "      <th>...</th>\n",
       "      <td>...</td>\n",
       "      <td>...</td>\n",
       "      <td>...</td>\n",
       "      <td>...</td>\n",
       "      <td>...</td>\n",
       "      <td>...</td>\n",
       "      <td>...</td>\n",
       "      <td>...</td>\n",
       "      <td>...</td>\n",
       "    </tr>\n",
       "    <tr>\n",
       "      <th>Avalugg</th>\n",
       "      <td>713</td>\n",
       "      <td>ice</td>\n",
       "      <td>117</td>\n",
       "      <td>184</td>\n",
       "      <td>95</td>\n",
       "      <td>44</td>\n",
       "      <td>46</td>\n",
       "      <td>6</td>\n",
       "      <td>0</td>\n",
       "    </tr>\n",
       "    <tr>\n",
       "      <th>Regirock</th>\n",
       "      <td>377</td>\n",
       "      <td>rock</td>\n",
       "      <td>100</td>\n",
       "      <td>200</td>\n",
       "      <td>80</td>\n",
       "      <td>50</td>\n",
       "      <td>100</td>\n",
       "      <td>3</td>\n",
       "      <td>1</td>\n",
       "    </tr>\n",
       "    <tr>\n",
       "      <th>Shuckle</th>\n",
       "      <td>213</td>\n",
       "      <td>bug</td>\n",
       "      <td>10</td>\n",
       "      <td>230</td>\n",
       "      <td>20</td>\n",
       "      <td>10</td>\n",
       "      <td>230</td>\n",
       "      <td>2</td>\n",
       "      <td>0</td>\n",
       "    </tr>\n",
       "    <tr>\n",
       "      <th>Steelix</th>\n",
       "      <td>208</td>\n",
       "      <td>steel</td>\n",
       "      <td>125</td>\n",
       "      <td>230</td>\n",
       "      <td>75</td>\n",
       "      <td>55</td>\n",
       "      <td>95</td>\n",
       "      <td>2</td>\n",
       "      <td>0</td>\n",
       "    </tr>\n",
       "    <tr>\n",
       "      <th>Aggron</th>\n",
       "      <td>306</td>\n",
       "      <td>steel</td>\n",
       "      <td>140</td>\n",
       "      <td>230</td>\n",
       "      <td>70</td>\n",
       "      <td>60</td>\n",
       "      <td>80</td>\n",
       "      <td>3</td>\n",
       "      <td>0</td>\n",
       "    </tr>\n",
       "  </tbody>\n",
       "</table>\n",
       "<p>801 rows × 9 columns</p>\n",
       "</div>"
      ],
      "text/plain": [
       "          pokedex_number      type  attack  defense   hp  sp_attack  \\\n",
       "name                                                                  \n",
       "Chansey              113    normal       5        5  250         35   \n",
       "Happiny              440    normal       5        5  100         15   \n",
       "Blissey              242    normal      10       10  255         75   \n",
       "Abra                  63   psychic      20       15   25        105   \n",
       "Pichu                172  electric      40       15   20         35   \n",
       "...                  ...       ...     ...      ...  ...        ...   \n",
       "Avalugg              713       ice     117      184   95         44   \n",
       "Regirock             377      rock     100      200   80         50   \n",
       "Shuckle              213       bug      10      230   20         10   \n",
       "Steelix              208     steel     125      230   75         55   \n",
       "Aggron               306     steel     140      230   70         60   \n",
       "\n",
       "          sp_defense  generation  is_legendary  \n",
       "name                                            \n",
       "Chansey          105           1             0  \n",
       "Happiny           65           4             0  \n",
       "Blissey          135           2             0  \n",
       "Abra              55           1             0  \n",
       "Pichu             35           2             0  \n",
       "...              ...         ...           ...  \n",
       "Avalugg           46           6             0  \n",
       "Regirock         100           3             1  \n",
       "Shuckle          230           2             0  \n",
       "Steelix           95           2             0  \n",
       "Aggron            80           3             0  \n",
       "\n",
       "[801 rows x 9 columns]"
      ]
     },
     "execution_count": 10,
     "metadata": {},
     "output_type": "execute_result"
    }
   ],
   "source": [
    "defense = pokedex.sort_values(by='defense')\n",
    "defense"
   ]
  },
  {
   "cell_type": "code",
   "execution_count": 11,
   "metadata": {},
   "outputs": [
    {
     "data": {
      "text/plain": [
       "pokedex_number       113\n",
       "type              normal\n",
       "attack                 5\n",
       "defense                5\n",
       "hp                   250\n",
       "sp_attack             35\n",
       "sp_defense           105\n",
       "generation             1\n",
       "is_legendary           0\n",
       "Name: Chansey, dtype: object"
      ]
     },
     "execution_count": 11,
     "metadata": {},
     "output_type": "execute_result"
    }
   ],
   "source": [
    "defense.iloc[0]"
   ]
  },
  {
   "cell_type": "code",
   "execution_count": 12,
   "metadata": {},
   "outputs": [
    {
     "data": {
      "text/plain": [
       "'Chansey'"
      ]
     },
     "execution_count": 12,
     "metadata": {},
     "output_type": "execute_result"
    }
   ],
   "source": [
    "defense.index[0]"
   ]
  },
  {
   "cell_type": "code",
   "execution_count": 13,
   "metadata": {},
   "outputs": [
    {
     "name": "stdout",
     "output_type": "stream",
     "text": [
      "Weakest attack: Happiny\n",
      "Strongest attack: Heracross\n",
      "Weakest defense: Chansey\n",
      "Strongest defense: Aggron\n"
     ]
    }
   ],
   "source": [
    "weakest_attack = attack.index[0]\n",
    "print('Weakest attack:', weakest_attack)\n",
    "\n",
    "strongest_attack = attack.index[-1]\n",
    "print('Strongest attack:', strongest_attack)\n",
    "\n",
    "weakest_defense = defense.index[0]\n",
    "print('Weakest defense:', weakest_defense)\n",
    "\n",
    "strongest_defense = defense.index[-1]\n",
    "print('Strongest defense:', strongest_defense)"
   ]
  },
  {
   "cell_type": "code",
   "execution_count": 14,
   "metadata": {
    "deletable": false,
    "editable": false
   },
   "outputs": [
    {
     "data": {
      "text/html": [
       "<p><strong><pre style='display: inline;'>q1_2</pre></strong> passed!</p>"
      ],
      "text/plain": [
       "q1_2 results: All test cases passed!"
      ]
     },
     "execution_count": 14,
     "metadata": {},
     "output_type": "execute_result"
    }
   ],
   "source": [
    "grader.check(\"q1_2\")"
   ]
  },
  {
   "cell_type": "markdown",
   "metadata": {},
   "source": [
    "**Question 1.3.** Typically at the beginning of a game, the Pokémon trainer (the player) has to make a choice between `'water'`, `'grass'`, and `'fire'` Pokémon. Make a DataFrame named `water_grass_fire` containing only Pokémon of these `'type'`s. All columns of `pokedex` should be included."
   ]
  },
  {
   "cell_type": "code",
   "execution_count": 15,
   "metadata": {},
   "outputs": [],
   "source": [
    "# is_water_grass_fire = pokedex[((pokedex['type'] == 'water') & (pokedex['type'] == 'grass') & (pokedex['type'] == 'fire'))]\n",
    "# is_water_grass_fire"
   ]
  },
  {
   "cell_type": "code",
   "execution_count": 16,
   "metadata": {},
   "outputs": [
    {
     "data": {
      "text/plain": [
       "name\n",
       "Abomasnow    False\n",
       "Abra         False\n",
       "Absol        False\n",
       "Accelgor     False\n",
       "Aegislash    False\n",
       "             ...  \n",
       "Zoroark      False\n",
       "Zorua        False\n",
       "Zubat        False\n",
       "Zweilous     False\n",
       "Zygarde      False\n",
       "Name: type, Length: 801, dtype: bool"
      ]
     },
     "execution_count": 16,
     "metadata": {},
     "output_type": "execute_result"
    }
   ],
   "source": [
    "is_water = pokedex.get('type') == 'water'\n",
    "is_water"
   ]
  },
  {
   "cell_type": "code",
   "execution_count": 17,
   "metadata": {},
   "outputs": [
    {
     "data": {
      "text/html": [
       "<div>\n",
       "<style scoped>\n",
       "    .dataframe tbody tr th:only-of-type {\n",
       "        vertical-align: middle;\n",
       "    }\n",
       "\n",
       "    .dataframe tbody tr th {\n",
       "        vertical-align: top;\n",
       "    }\n",
       "\n",
       "    .dataframe thead th {\n",
       "        text-align: right;\n",
       "    }\n",
       "</style>\n",
       "<table border=\"1\" class=\"dataframe\">\n",
       "  <thead>\n",
       "    <tr style=\"text-align: right;\">\n",
       "      <th></th>\n",
       "      <th>pokedex_number</th>\n",
       "      <th>type</th>\n",
       "      <th>attack</th>\n",
       "      <th>defense</th>\n",
       "      <th>hp</th>\n",
       "      <th>sp_attack</th>\n",
       "      <th>sp_defense</th>\n",
       "      <th>generation</th>\n",
       "      <th>is_legendary</th>\n",
       "    </tr>\n",
       "    <tr>\n",
       "      <th>name</th>\n",
       "      <th></th>\n",
       "      <th></th>\n",
       "      <th></th>\n",
       "      <th></th>\n",
       "      <th></th>\n",
       "      <th></th>\n",
       "      <th></th>\n",
       "      <th></th>\n",
       "      <th></th>\n",
       "    </tr>\n",
       "  </thead>\n",
       "  <tbody>\n",
       "    <tr>\n",
       "      <th>Alomomola</th>\n",
       "      <td>594</td>\n",
       "      <td>water</td>\n",
       "      <td>75</td>\n",
       "      <td>80</td>\n",
       "      <td>165</td>\n",
       "      <td>40</td>\n",
       "      <td>45</td>\n",
       "      <td>5</td>\n",
       "      <td>0</td>\n",
       "    </tr>\n",
       "    <tr>\n",
       "      <th>Araquanid</th>\n",
       "      <td>752</td>\n",
       "      <td>water</td>\n",
       "      <td>70</td>\n",
       "      <td>92</td>\n",
       "      <td>68</td>\n",
       "      <td>50</td>\n",
       "      <td>132</td>\n",
       "      <td>7</td>\n",
       "      <td>0</td>\n",
       "    </tr>\n",
       "    <tr>\n",
       "      <th>Azumarill</th>\n",
       "      <td>184</td>\n",
       "      <td>water</td>\n",
       "      <td>50</td>\n",
       "      <td>80</td>\n",
       "      <td>100</td>\n",
       "      <td>60</td>\n",
       "      <td>80</td>\n",
       "      <td>2</td>\n",
       "      <td>0</td>\n",
       "    </tr>\n",
       "    <tr>\n",
       "      <th>Barboach</th>\n",
       "      <td>339</td>\n",
       "      <td>water</td>\n",
       "      <td>48</td>\n",
       "      <td>43</td>\n",
       "      <td>50</td>\n",
       "      <td>46</td>\n",
       "      <td>41</td>\n",
       "      <td>3</td>\n",
       "      <td>0</td>\n",
       "    </tr>\n",
       "    <tr>\n",
       "      <th>Basculin</th>\n",
       "      <td>550</td>\n",
       "      <td>water</td>\n",
       "      <td>92</td>\n",
       "      <td>65</td>\n",
       "      <td>70</td>\n",
       "      <td>80</td>\n",
       "      <td>55</td>\n",
       "      <td>5</td>\n",
       "      <td>0</td>\n",
       "    </tr>\n",
       "    <tr>\n",
       "      <th>...</th>\n",
       "      <td>...</td>\n",
       "      <td>...</td>\n",
       "      <td>...</td>\n",
       "      <td>...</td>\n",
       "      <td>...</td>\n",
       "      <td>...</td>\n",
       "      <td>...</td>\n",
       "      <td>...</td>\n",
       "      <td>...</td>\n",
       "    </tr>\n",
       "    <tr>\n",
       "      <th>Wartortle</th>\n",
       "      <td>8</td>\n",
       "      <td>water</td>\n",
       "      <td>63</td>\n",
       "      <td>80</td>\n",
       "      <td>59</td>\n",
       "      <td>65</td>\n",
       "      <td>80</td>\n",
       "      <td>1</td>\n",
       "      <td>0</td>\n",
       "    </tr>\n",
       "    <tr>\n",
       "      <th>Whiscash</th>\n",
       "      <td>340</td>\n",
       "      <td>water</td>\n",
       "      <td>78</td>\n",
       "      <td>73</td>\n",
       "      <td>110</td>\n",
       "      <td>76</td>\n",
       "      <td>71</td>\n",
       "      <td>3</td>\n",
       "      <td>0</td>\n",
       "    </tr>\n",
       "    <tr>\n",
       "      <th>Wingull</th>\n",
       "      <td>278</td>\n",
       "      <td>water</td>\n",
       "      <td>30</td>\n",
       "      <td>30</td>\n",
       "      <td>40</td>\n",
       "      <td>55</td>\n",
       "      <td>30</td>\n",
       "      <td>3</td>\n",
       "      <td>0</td>\n",
       "    </tr>\n",
       "    <tr>\n",
       "      <th>Wishiwashi</th>\n",
       "      <td>746</td>\n",
       "      <td>water</td>\n",
       "      <td>140</td>\n",
       "      <td>130</td>\n",
       "      <td>45</td>\n",
       "      <td>140</td>\n",
       "      <td>135</td>\n",
       "      <td>7</td>\n",
       "      <td>0</td>\n",
       "    </tr>\n",
       "    <tr>\n",
       "      <th>Wooper</th>\n",
       "      <td>194</td>\n",
       "      <td>water</td>\n",
       "      <td>45</td>\n",
       "      <td>45</td>\n",
       "      <td>55</td>\n",
       "      <td>25</td>\n",
       "      <td>25</td>\n",
       "      <td>2</td>\n",
       "      <td>0</td>\n",
       "    </tr>\n",
       "  </tbody>\n",
       "</table>\n",
       "<p>114 rows × 9 columns</p>\n",
       "</div>"
      ],
      "text/plain": [
       "            pokedex_number   type  attack  defense   hp  sp_attack  \\\n",
       "name                                                                 \n",
       "Alomomola              594  water      75       80  165         40   \n",
       "Araquanid              752  water      70       92   68         50   \n",
       "Azumarill              184  water      50       80  100         60   \n",
       "Barboach               339  water      48       43   50         46   \n",
       "Basculin               550  water      92       65   70         80   \n",
       "...                    ...    ...     ...      ...  ...        ...   \n",
       "Wartortle                8  water      63       80   59         65   \n",
       "Whiscash               340  water      78       73  110         76   \n",
       "Wingull                278  water      30       30   40         55   \n",
       "Wishiwashi             746  water     140      130   45        140   \n",
       "Wooper                 194  water      45       45   55         25   \n",
       "\n",
       "            sp_defense  generation  is_legendary  \n",
       "name                                              \n",
       "Alomomola           45           5             0  \n",
       "Araquanid          132           7             0  \n",
       "Azumarill           80           2             0  \n",
       "Barboach            41           3             0  \n",
       "Basculin            55           5             0  \n",
       "...                ...         ...           ...  \n",
       "Wartortle           80           1             0  \n",
       "Whiscash            71           3             0  \n",
       "Wingull             30           3             0  \n",
       "Wishiwashi         135           7             0  \n",
       "Wooper              25           2             0  \n",
       "\n",
       "[114 rows x 9 columns]"
      ]
     },
     "execution_count": 17,
     "metadata": {},
     "output_type": "execute_result"
    }
   ],
   "source": [
    "water_df = pokedex[is_water]\n",
    "water_df"
   ]
  },
  {
   "cell_type": "code",
   "execution_count": 18,
   "metadata": {},
   "outputs": [
    {
     "data": {
      "text/html": [
       "<div>\n",
       "<style scoped>\n",
       "    .dataframe tbody tr th:only-of-type {\n",
       "        vertical-align: middle;\n",
       "    }\n",
       "\n",
       "    .dataframe tbody tr th {\n",
       "        vertical-align: top;\n",
       "    }\n",
       "\n",
       "    .dataframe thead th {\n",
       "        text-align: right;\n",
       "    }\n",
       "</style>\n",
       "<table border=\"1\" class=\"dataframe\">\n",
       "  <thead>\n",
       "    <tr style=\"text-align: right;\">\n",
       "      <th></th>\n",
       "      <th>pokedex_number</th>\n",
       "      <th>type</th>\n",
       "      <th>attack</th>\n",
       "      <th>defense</th>\n",
       "      <th>hp</th>\n",
       "      <th>sp_attack</th>\n",
       "      <th>sp_defense</th>\n",
       "      <th>generation</th>\n",
       "      <th>is_legendary</th>\n",
       "    </tr>\n",
       "    <tr>\n",
       "      <th>name</th>\n",
       "      <th></th>\n",
       "      <th></th>\n",
       "      <th></th>\n",
       "      <th></th>\n",
       "      <th></th>\n",
       "      <th></th>\n",
       "      <th></th>\n",
       "      <th></th>\n",
       "      <th></th>\n",
       "    </tr>\n",
       "  </thead>\n",
       "  <tbody>\n",
       "    <tr>\n",
       "      <th>Abomasnow</th>\n",
       "      <td>460</td>\n",
       "      <td>grass</td>\n",
       "      <td>132</td>\n",
       "      <td>105</td>\n",
       "      <td>90</td>\n",
       "      <td>132</td>\n",
       "      <td>105</td>\n",
       "      <td>4</td>\n",
       "      <td>0</td>\n",
       "    </tr>\n",
       "    <tr>\n",
       "      <th>Amoonguss</th>\n",
       "      <td>591</td>\n",
       "      <td>grass</td>\n",
       "      <td>85</td>\n",
       "      <td>70</td>\n",
       "      <td>114</td>\n",
       "      <td>85</td>\n",
       "      <td>80</td>\n",
       "      <td>5</td>\n",
       "      <td>0</td>\n",
       "    </tr>\n",
       "    <tr>\n",
       "      <th>Bayleef</th>\n",
       "      <td>153</td>\n",
       "      <td>grass</td>\n",
       "      <td>62</td>\n",
       "      <td>80</td>\n",
       "      <td>60</td>\n",
       "      <td>63</td>\n",
       "      <td>80</td>\n",
       "      <td>2</td>\n",
       "      <td>0</td>\n",
       "    </tr>\n",
       "    <tr>\n",
       "      <th>Bellossom</th>\n",
       "      <td>182</td>\n",
       "      <td>grass</td>\n",
       "      <td>80</td>\n",
       "      <td>95</td>\n",
       "      <td>75</td>\n",
       "      <td>90</td>\n",
       "      <td>100</td>\n",
       "      <td>2</td>\n",
       "      <td>0</td>\n",
       "    </tr>\n",
       "    <tr>\n",
       "      <th>Bellsprout</th>\n",
       "      <td>69</td>\n",
       "      <td>grass</td>\n",
       "      <td>75</td>\n",
       "      <td>35</td>\n",
       "      <td>50</td>\n",
       "      <td>70</td>\n",
       "      <td>30</td>\n",
       "      <td>1</td>\n",
       "      <td>0</td>\n",
       "    </tr>\n",
       "    <tr>\n",
       "      <th>...</th>\n",
       "      <td>...</td>\n",
       "      <td>...</td>\n",
       "      <td>...</td>\n",
       "      <td>...</td>\n",
       "      <td>...</td>\n",
       "      <td>...</td>\n",
       "      <td>...</td>\n",
       "      <td>...</td>\n",
       "      <td>...</td>\n",
       "    </tr>\n",
       "    <tr>\n",
       "      <th>Victreebel</th>\n",
       "      <td>71</td>\n",
       "      <td>grass</td>\n",
       "      <td>105</td>\n",
       "      <td>65</td>\n",
       "      <td>80</td>\n",
       "      <td>100</td>\n",
       "      <td>70</td>\n",
       "      <td>1</td>\n",
       "      <td>0</td>\n",
       "    </tr>\n",
       "    <tr>\n",
       "      <th>Vileplume</th>\n",
       "      <td>45</td>\n",
       "      <td>grass</td>\n",
       "      <td>80</td>\n",
       "      <td>85</td>\n",
       "      <td>75</td>\n",
       "      <td>110</td>\n",
       "      <td>90</td>\n",
       "      <td>1</td>\n",
       "      <td>0</td>\n",
       "    </tr>\n",
       "    <tr>\n",
       "      <th>Virizion</th>\n",
       "      <td>640</td>\n",
       "      <td>grass</td>\n",
       "      <td>90</td>\n",
       "      <td>72</td>\n",
       "      <td>91</td>\n",
       "      <td>90</td>\n",
       "      <td>129</td>\n",
       "      <td>5</td>\n",
       "      <td>1</td>\n",
       "    </tr>\n",
       "    <tr>\n",
       "      <th>Weepinbell</th>\n",
       "      <td>70</td>\n",
       "      <td>grass</td>\n",
       "      <td>90</td>\n",
       "      <td>50</td>\n",
       "      <td>65</td>\n",
       "      <td>85</td>\n",
       "      <td>45</td>\n",
       "      <td>1</td>\n",
       "      <td>0</td>\n",
       "    </tr>\n",
       "    <tr>\n",
       "      <th>Whimsicott</th>\n",
       "      <td>547</td>\n",
       "      <td>grass</td>\n",
       "      <td>67</td>\n",
       "      <td>85</td>\n",
       "      <td>60</td>\n",
       "      <td>77</td>\n",
       "      <td>75</td>\n",
       "      <td>5</td>\n",
       "      <td>0</td>\n",
       "    </tr>\n",
       "  </tbody>\n",
       "</table>\n",
       "<p>78 rows × 9 columns</p>\n",
       "</div>"
      ],
      "text/plain": [
       "            pokedex_number   type  attack  defense   hp  sp_attack  \\\n",
       "name                                                                 \n",
       "Abomasnow              460  grass     132      105   90        132   \n",
       "Amoonguss              591  grass      85       70  114         85   \n",
       "Bayleef                153  grass      62       80   60         63   \n",
       "Bellossom              182  grass      80       95   75         90   \n",
       "Bellsprout              69  grass      75       35   50         70   \n",
       "...                    ...    ...     ...      ...  ...        ...   \n",
       "Victreebel              71  grass     105       65   80        100   \n",
       "Vileplume               45  grass      80       85   75        110   \n",
       "Virizion               640  grass      90       72   91         90   \n",
       "Weepinbell              70  grass      90       50   65         85   \n",
       "Whimsicott             547  grass      67       85   60         77   \n",
       "\n",
       "            sp_defense  generation  is_legendary  \n",
       "name                                              \n",
       "Abomasnow          105           4             0  \n",
       "Amoonguss           80           5             0  \n",
       "Bayleef             80           2             0  \n",
       "Bellossom          100           2             0  \n",
       "Bellsprout          30           1             0  \n",
       "...                ...         ...           ...  \n",
       "Victreebel          70           1             0  \n",
       "Vileplume           90           1             0  \n",
       "Virizion           129           5             1  \n",
       "Weepinbell          45           1             0  \n",
       "Whimsicott          75           5             0  \n",
       "\n",
       "[78 rows x 9 columns]"
      ]
     },
     "execution_count": 18,
     "metadata": {},
     "output_type": "execute_result"
    }
   ],
   "source": [
    "is_grass = pokedex.get('type') == 'grass'\n",
    "grass_df = pokedex[is_grass]\n",
    "grass_df"
   ]
  },
  {
   "cell_type": "code",
   "execution_count": 19,
   "metadata": {},
   "outputs": [
    {
     "data": {
      "text/html": [
       "<div>\n",
       "<style scoped>\n",
       "    .dataframe tbody tr th:only-of-type {\n",
       "        vertical-align: middle;\n",
       "    }\n",
       "\n",
       "    .dataframe tbody tr th {\n",
       "        vertical-align: top;\n",
       "    }\n",
       "\n",
       "    .dataframe thead th {\n",
       "        text-align: right;\n",
       "    }\n",
       "</style>\n",
       "<table border=\"1\" class=\"dataframe\">\n",
       "  <thead>\n",
       "    <tr style=\"text-align: right;\">\n",
       "      <th></th>\n",
       "      <th>pokedex_number</th>\n",
       "      <th>type</th>\n",
       "      <th>attack</th>\n",
       "      <th>defense</th>\n",
       "      <th>hp</th>\n",
       "      <th>sp_attack</th>\n",
       "      <th>sp_defense</th>\n",
       "      <th>generation</th>\n",
       "      <th>is_legendary</th>\n",
       "    </tr>\n",
       "    <tr>\n",
       "      <th>name</th>\n",
       "      <th></th>\n",
       "      <th></th>\n",
       "      <th></th>\n",
       "      <th></th>\n",
       "      <th></th>\n",
       "      <th></th>\n",
       "      <th></th>\n",
       "      <th></th>\n",
       "      <th></th>\n",
       "    </tr>\n",
       "  </thead>\n",
       "  <tbody>\n",
       "    <tr>\n",
       "      <th>Arcanine</th>\n",
       "      <td>59</td>\n",
       "      <td>fire</td>\n",
       "      <td>110</td>\n",
       "      <td>80</td>\n",
       "      <td>90</td>\n",
       "      <td>100</td>\n",
       "      <td>80</td>\n",
       "      <td>1</td>\n",
       "      <td>0</td>\n",
       "    </tr>\n",
       "    <tr>\n",
       "      <th>Blaziken</th>\n",
       "      <td>257</td>\n",
       "      <td>fire</td>\n",
       "      <td>160</td>\n",
       "      <td>80</td>\n",
       "      <td>80</td>\n",
       "      <td>130</td>\n",
       "      <td>80</td>\n",
       "      <td>3</td>\n",
       "      <td>0</td>\n",
       "    </tr>\n",
       "    <tr>\n",
       "      <th>Braixen</th>\n",
       "      <td>654</td>\n",
       "      <td>fire</td>\n",
       "      <td>59</td>\n",
       "      <td>58</td>\n",
       "      <td>59</td>\n",
       "      <td>90</td>\n",
       "      <td>70</td>\n",
       "      <td>6</td>\n",
       "      <td>0</td>\n",
       "    </tr>\n",
       "    <tr>\n",
       "      <th>Camerupt</th>\n",
       "      <td>323</td>\n",
       "      <td>fire</td>\n",
       "      <td>120</td>\n",
       "      <td>100</td>\n",
       "      <td>70</td>\n",
       "      <td>145</td>\n",
       "      <td>105</td>\n",
       "      <td>3</td>\n",
       "      <td>0</td>\n",
       "    </tr>\n",
       "    <tr>\n",
       "      <th>Charizard</th>\n",
       "      <td>6</td>\n",
       "      <td>fire</td>\n",
       "      <td>104</td>\n",
       "      <td>78</td>\n",
       "      <td>78</td>\n",
       "      <td>159</td>\n",
       "      <td>115</td>\n",
       "      <td>1</td>\n",
       "      <td>0</td>\n",
       "    </tr>\n",
       "    <tr>\n",
       "      <th>...</th>\n",
       "      <td>...</td>\n",
       "      <td>...</td>\n",
       "      <td>...</td>\n",
       "      <td>...</td>\n",
       "      <td>...</td>\n",
       "      <td>...</td>\n",
       "      <td>...</td>\n",
       "      <td>...</td>\n",
       "      <td>...</td>\n",
       "    </tr>\n",
       "    <tr>\n",
       "      <th>Torracat</th>\n",
       "      <td>726</td>\n",
       "      <td>fire</td>\n",
       "      <td>85</td>\n",
       "      <td>50</td>\n",
       "      <td>65</td>\n",
       "      <td>80</td>\n",
       "      <td>50</td>\n",
       "      <td>7</td>\n",
       "      <td>0</td>\n",
       "    </tr>\n",
       "    <tr>\n",
       "      <th>Turtonator</th>\n",
       "      <td>776</td>\n",
       "      <td>fire</td>\n",
       "      <td>78</td>\n",
       "      <td>135</td>\n",
       "      <td>60</td>\n",
       "      <td>91</td>\n",
       "      <td>85</td>\n",
       "      <td>7</td>\n",
       "      <td>0</td>\n",
       "    </tr>\n",
       "    <tr>\n",
       "      <th>Typhlosion</th>\n",
       "      <td>157</td>\n",
       "      <td>fire</td>\n",
       "      <td>84</td>\n",
       "      <td>78</td>\n",
       "      <td>78</td>\n",
       "      <td>109</td>\n",
       "      <td>85</td>\n",
       "      <td>2</td>\n",
       "      <td>0</td>\n",
       "    </tr>\n",
       "    <tr>\n",
       "      <th>Volcanion</th>\n",
       "      <td>721</td>\n",
       "      <td>fire</td>\n",
       "      <td>110</td>\n",
       "      <td>120</td>\n",
       "      <td>80</td>\n",
       "      <td>130</td>\n",
       "      <td>90</td>\n",
       "      <td>6</td>\n",
       "      <td>1</td>\n",
       "    </tr>\n",
       "    <tr>\n",
       "      <th>Vulpix</th>\n",
       "      <td>37</td>\n",
       "      <td>fire</td>\n",
       "      <td>41</td>\n",
       "      <td>40</td>\n",
       "      <td>38</td>\n",
       "      <td>50</td>\n",
       "      <td>65</td>\n",
       "      <td>1</td>\n",
       "      <td>0</td>\n",
       "    </tr>\n",
       "  </tbody>\n",
       "</table>\n",
       "<p>52 rows × 9 columns</p>\n",
       "</div>"
      ],
      "text/plain": [
       "            pokedex_number  type  attack  defense  hp  sp_attack  sp_defense  \\\n",
       "name                                                                           \n",
       "Arcanine                59  fire     110       80  90        100          80   \n",
       "Blaziken               257  fire     160       80  80        130          80   \n",
       "Braixen                654  fire      59       58  59         90          70   \n",
       "Camerupt               323  fire     120      100  70        145         105   \n",
       "Charizard                6  fire     104       78  78        159         115   \n",
       "...                    ...   ...     ...      ...  ..        ...         ...   \n",
       "Torracat               726  fire      85       50  65         80          50   \n",
       "Turtonator             776  fire      78      135  60         91          85   \n",
       "Typhlosion             157  fire      84       78  78        109          85   \n",
       "Volcanion              721  fire     110      120  80        130          90   \n",
       "Vulpix                  37  fire      41       40  38         50          65   \n",
       "\n",
       "            generation  is_legendary  \n",
       "name                                  \n",
       "Arcanine             1             0  \n",
       "Blaziken             3             0  \n",
       "Braixen              6             0  \n",
       "Camerupt             3             0  \n",
       "Charizard            1             0  \n",
       "...                ...           ...  \n",
       "Torracat             7             0  \n",
       "Turtonator           7             0  \n",
       "Typhlosion           2             0  \n",
       "Volcanion            6             1  \n",
       "Vulpix               1             0  \n",
       "\n",
       "[52 rows x 9 columns]"
      ]
     },
     "execution_count": 19,
     "metadata": {},
     "output_type": "execute_result"
    }
   ],
   "source": [
    "is_fire = pokedex.get('type') == 'fire'\n",
    "fire_df = pokedex[is_fire]\n",
    "fire_df"
   ]
  },
  {
   "cell_type": "code",
   "execution_count": 20,
   "metadata": {},
   "outputs": [
    {
     "data": {
      "text/plain": [
       "name\n",
       "Abomasnow     True\n",
       "Abra         False\n",
       "Absol        False\n",
       "Accelgor     False\n",
       "Aegislash    False\n",
       "             ...  \n",
       "Zoroark      False\n",
       "Zorua        False\n",
       "Zubat        False\n",
       "Zweilous     False\n",
       "Zygarde      False\n",
       "Name: type, Length: 801, dtype: bool"
      ]
     },
     "execution_count": 20,
     "metadata": {},
     "output_type": "execute_result"
    }
   ],
   "source": [
    "is_water | is_grass | is_fire"
   ]
  },
  {
   "cell_type": "code",
   "execution_count": 21,
   "metadata": {},
   "outputs": [
    {
     "data": {
      "text/html": [
       "<div>\n",
       "<style scoped>\n",
       "    .dataframe tbody tr th:only-of-type {\n",
       "        vertical-align: middle;\n",
       "    }\n",
       "\n",
       "    .dataframe tbody tr th {\n",
       "        vertical-align: top;\n",
       "    }\n",
       "\n",
       "    .dataframe thead th {\n",
       "        text-align: right;\n",
       "    }\n",
       "</style>\n",
       "<table border=\"1\" class=\"dataframe\">\n",
       "  <thead>\n",
       "    <tr style=\"text-align: right;\">\n",
       "      <th></th>\n",
       "      <th>pokedex_number</th>\n",
       "      <th>type</th>\n",
       "      <th>attack</th>\n",
       "      <th>defense</th>\n",
       "      <th>hp</th>\n",
       "      <th>sp_attack</th>\n",
       "      <th>sp_defense</th>\n",
       "      <th>generation</th>\n",
       "      <th>is_legendary</th>\n",
       "    </tr>\n",
       "    <tr>\n",
       "      <th>name</th>\n",
       "      <th></th>\n",
       "      <th></th>\n",
       "      <th></th>\n",
       "      <th></th>\n",
       "      <th></th>\n",
       "      <th></th>\n",
       "      <th></th>\n",
       "      <th></th>\n",
       "      <th></th>\n",
       "    </tr>\n",
       "  </thead>\n",
       "  <tbody>\n",
       "    <tr>\n",
       "      <th>Abomasnow</th>\n",
       "      <td>460</td>\n",
       "      <td>grass</td>\n",
       "      <td>132</td>\n",
       "      <td>105</td>\n",
       "      <td>90</td>\n",
       "      <td>132</td>\n",
       "      <td>105</td>\n",
       "      <td>4</td>\n",
       "      <td>0</td>\n",
       "    </tr>\n",
       "    <tr>\n",
       "      <th>Alomomola</th>\n",
       "      <td>594</td>\n",
       "      <td>water</td>\n",
       "      <td>75</td>\n",
       "      <td>80</td>\n",
       "      <td>165</td>\n",
       "      <td>40</td>\n",
       "      <td>45</td>\n",
       "      <td>5</td>\n",
       "      <td>0</td>\n",
       "    </tr>\n",
       "    <tr>\n",
       "      <th>Amoonguss</th>\n",
       "      <td>591</td>\n",
       "      <td>grass</td>\n",
       "      <td>85</td>\n",
       "      <td>70</td>\n",
       "      <td>114</td>\n",
       "      <td>85</td>\n",
       "      <td>80</td>\n",
       "      <td>5</td>\n",
       "      <td>0</td>\n",
       "    </tr>\n",
       "    <tr>\n",
       "      <th>Araquanid</th>\n",
       "      <td>752</td>\n",
       "      <td>water</td>\n",
       "      <td>70</td>\n",
       "      <td>92</td>\n",
       "      <td>68</td>\n",
       "      <td>50</td>\n",
       "      <td>132</td>\n",
       "      <td>7</td>\n",
       "      <td>0</td>\n",
       "    </tr>\n",
       "    <tr>\n",
       "      <th>Arcanine</th>\n",
       "      <td>59</td>\n",
       "      <td>fire</td>\n",
       "      <td>110</td>\n",
       "      <td>80</td>\n",
       "      <td>90</td>\n",
       "      <td>100</td>\n",
       "      <td>80</td>\n",
       "      <td>1</td>\n",
       "      <td>0</td>\n",
       "    </tr>\n",
       "    <tr>\n",
       "      <th>...</th>\n",
       "      <td>...</td>\n",
       "      <td>...</td>\n",
       "      <td>...</td>\n",
       "      <td>...</td>\n",
       "      <td>...</td>\n",
       "      <td>...</td>\n",
       "      <td>...</td>\n",
       "      <td>...</td>\n",
       "      <td>...</td>\n",
       "    </tr>\n",
       "    <tr>\n",
       "      <th>Whimsicott</th>\n",
       "      <td>547</td>\n",
       "      <td>grass</td>\n",
       "      <td>67</td>\n",
       "      <td>85</td>\n",
       "      <td>60</td>\n",
       "      <td>77</td>\n",
       "      <td>75</td>\n",
       "      <td>5</td>\n",
       "      <td>0</td>\n",
       "    </tr>\n",
       "    <tr>\n",
       "      <th>Whiscash</th>\n",
       "      <td>340</td>\n",
       "      <td>water</td>\n",
       "      <td>78</td>\n",
       "      <td>73</td>\n",
       "      <td>110</td>\n",
       "      <td>76</td>\n",
       "      <td>71</td>\n",
       "      <td>3</td>\n",
       "      <td>0</td>\n",
       "    </tr>\n",
       "    <tr>\n",
       "      <th>Wingull</th>\n",
       "      <td>278</td>\n",
       "      <td>water</td>\n",
       "      <td>30</td>\n",
       "      <td>30</td>\n",
       "      <td>40</td>\n",
       "      <td>55</td>\n",
       "      <td>30</td>\n",
       "      <td>3</td>\n",
       "      <td>0</td>\n",
       "    </tr>\n",
       "    <tr>\n",
       "      <th>Wishiwashi</th>\n",
       "      <td>746</td>\n",
       "      <td>water</td>\n",
       "      <td>140</td>\n",
       "      <td>130</td>\n",
       "      <td>45</td>\n",
       "      <td>140</td>\n",
       "      <td>135</td>\n",
       "      <td>7</td>\n",
       "      <td>0</td>\n",
       "    </tr>\n",
       "    <tr>\n",
       "      <th>Wooper</th>\n",
       "      <td>194</td>\n",
       "      <td>water</td>\n",
       "      <td>45</td>\n",
       "      <td>45</td>\n",
       "      <td>55</td>\n",
       "      <td>25</td>\n",
       "      <td>25</td>\n",
       "      <td>2</td>\n",
       "      <td>0</td>\n",
       "    </tr>\n",
       "  </tbody>\n",
       "</table>\n",
       "<p>244 rows × 9 columns</p>\n",
       "</div>"
      ],
      "text/plain": [
       "            pokedex_number   type  attack  defense   hp  sp_attack  \\\n",
       "name                                                                 \n",
       "Abomasnow              460  grass     132      105   90        132   \n",
       "Alomomola              594  water      75       80  165         40   \n",
       "Amoonguss              591  grass      85       70  114         85   \n",
       "Araquanid              752  water      70       92   68         50   \n",
       "Arcanine                59   fire     110       80   90        100   \n",
       "...                    ...    ...     ...      ...  ...        ...   \n",
       "Whimsicott             547  grass      67       85   60         77   \n",
       "Whiscash               340  water      78       73  110         76   \n",
       "Wingull                278  water      30       30   40         55   \n",
       "Wishiwashi             746  water     140      130   45        140   \n",
       "Wooper                 194  water      45       45   55         25   \n",
       "\n",
       "            sp_defense  generation  is_legendary  \n",
       "name                                              \n",
       "Abomasnow          105           4             0  \n",
       "Alomomola           45           5             0  \n",
       "Amoonguss           80           5             0  \n",
       "Araquanid          132           7             0  \n",
       "Arcanine            80           1             0  \n",
       "...                ...         ...           ...  \n",
       "Whimsicott          75           5             0  \n",
       "Whiscash            71           3             0  \n",
       "Wingull             30           3             0  \n",
       "Wishiwashi         135           7             0  \n",
       "Wooper              25           2             0  \n",
       "\n",
       "[244 rows x 9 columns]"
      ]
     },
     "execution_count": 21,
     "metadata": {},
     "output_type": "execute_result"
    }
   ],
   "source": [
    "water_grass_fire = pokedex[is_water | is_grass | is_fire]\n",
    "water_grass_fire"
   ]
  },
  {
   "cell_type": "code",
   "execution_count": 22,
   "metadata": {},
   "outputs": [
    {
     "data": {
      "text/plain": [
       "array(['grass', 'water', 'fire'], dtype=object)"
      ]
     },
     "execution_count": 22,
     "metadata": {},
     "output_type": "execute_result"
    }
   ],
   "source": [
    "water_grass_fire.get('type').unique()"
   ]
  },
  {
   "cell_type": "code",
   "execution_count": 23,
   "metadata": {
    "deletable": false,
    "editable": false
   },
   "outputs": [
    {
     "data": {
      "text/html": [
       "<p><strong><pre style='display: inline;'>q1_3</pre></strong> passed!</p>"
      ],
      "text/plain": [
       "q1_3 results: All test cases passed!"
      ]
     },
     "execution_count": 23,
     "metadata": {},
     "output_type": "execute_result"
    }
   ],
   "source": [
    "grader.check(\"q1_3\")"
   ]
  },
  {
   "cell_type": "markdown",
   "metadata": {},
   "source": [
    "**Question 1.4.** Create a DataFrame named `legendary_pokemon`, indexed by `'type'` and having one column, called `'num_legendary'`, that contains the number of legendary Pokémon of each `'type'`. Only include `'type'`s with at least one legendary Pokémon of that `'type'`.\n",
    "\n",
    "***Hint:*** You will need to drop and rename columns. Instead of using `.drop`, you may want to use `.get` with a **list** containing the name of a single column."
   ]
  },
  {
   "cell_type": "code",
   "execution_count": 24,
   "metadata": {},
   "outputs": [
    {
     "data": {
      "text/html": [
       "<div>\n",
       "<style scoped>\n",
       "    .dataframe tbody tr th:only-of-type {\n",
       "        vertical-align: middle;\n",
       "    }\n",
       "\n",
       "    .dataframe tbody tr th {\n",
       "        vertical-align: top;\n",
       "    }\n",
       "\n",
       "    .dataframe thead th {\n",
       "        text-align: right;\n",
       "    }\n",
       "</style>\n",
       "<table border=\"1\" class=\"dataframe\">\n",
       "  <thead>\n",
       "    <tr style=\"text-align: right;\">\n",
       "      <th></th>\n",
       "      <th>pokedex_number</th>\n",
       "      <th>type</th>\n",
       "      <th>attack</th>\n",
       "      <th>defense</th>\n",
       "      <th>hp</th>\n",
       "      <th>sp_attack</th>\n",
       "      <th>sp_defense</th>\n",
       "      <th>generation</th>\n",
       "      <th>is_legendary</th>\n",
       "    </tr>\n",
       "    <tr>\n",
       "      <th>name</th>\n",
       "      <th></th>\n",
       "      <th></th>\n",
       "      <th></th>\n",
       "      <th></th>\n",
       "      <th></th>\n",
       "      <th></th>\n",
       "      <th></th>\n",
       "      <th></th>\n",
       "      <th></th>\n",
       "    </tr>\n",
       "  </thead>\n",
       "  <tbody>\n",
       "    <tr>\n",
       "      <th>Arceus</th>\n",
       "      <td>493</td>\n",
       "      <td>normal</td>\n",
       "      <td>120</td>\n",
       "      <td>120</td>\n",
       "      <td>120</td>\n",
       "      <td>120</td>\n",
       "      <td>120</td>\n",
       "      <td>4</td>\n",
       "      <td>1</td>\n",
       "    </tr>\n",
       "    <tr>\n",
       "      <th>Articuno</th>\n",
       "      <td>144</td>\n",
       "      <td>ice</td>\n",
       "      <td>85</td>\n",
       "      <td>100</td>\n",
       "      <td>90</td>\n",
       "      <td>95</td>\n",
       "      <td>125</td>\n",
       "      <td>1</td>\n",
       "      <td>1</td>\n",
       "    </tr>\n",
       "    <tr>\n",
       "      <th>Azelf</th>\n",
       "      <td>482</td>\n",
       "      <td>psychic</td>\n",
       "      <td>125</td>\n",
       "      <td>70</td>\n",
       "      <td>75</td>\n",
       "      <td>125</td>\n",
       "      <td>70</td>\n",
       "      <td>4</td>\n",
       "      <td>1</td>\n",
       "    </tr>\n",
       "    <tr>\n",
       "      <th>Buzzwole</th>\n",
       "      <td>794</td>\n",
       "      <td>bug</td>\n",
       "      <td>139</td>\n",
       "      <td>139</td>\n",
       "      <td>107</td>\n",
       "      <td>53</td>\n",
       "      <td>53</td>\n",
       "      <td>7</td>\n",
       "      <td>1</td>\n",
       "    </tr>\n",
       "    <tr>\n",
       "      <th>Celebi</th>\n",
       "      <td>251</td>\n",
       "      <td>psychic</td>\n",
       "      <td>100</td>\n",
       "      <td>100</td>\n",
       "      <td>100</td>\n",
       "      <td>100</td>\n",
       "      <td>100</td>\n",
       "      <td>2</td>\n",
       "      <td>1</td>\n",
       "    </tr>\n",
       "    <tr>\n",
       "      <th>...</th>\n",
       "      <td>...</td>\n",
       "      <td>...</td>\n",
       "      <td>...</td>\n",
       "      <td>...</td>\n",
       "      <td>...</td>\n",
       "      <td>...</td>\n",
       "      <td>...</td>\n",
       "      <td>...</td>\n",
       "      <td>...</td>\n",
       "    </tr>\n",
       "    <tr>\n",
       "      <th>Xurkitree</th>\n",
       "      <td>796</td>\n",
       "      <td>electric</td>\n",
       "      <td>89</td>\n",
       "      <td>71</td>\n",
       "      <td>83</td>\n",
       "      <td>173</td>\n",
       "      <td>71</td>\n",
       "      <td>7</td>\n",
       "      <td>1</td>\n",
       "    </tr>\n",
       "    <tr>\n",
       "      <th>Yveltal</th>\n",
       "      <td>717</td>\n",
       "      <td>dark</td>\n",
       "      <td>131</td>\n",
       "      <td>95</td>\n",
       "      <td>126</td>\n",
       "      <td>131</td>\n",
       "      <td>98</td>\n",
       "      <td>6</td>\n",
       "      <td>1</td>\n",
       "    </tr>\n",
       "    <tr>\n",
       "      <th>Zapdos</th>\n",
       "      <td>145</td>\n",
       "      <td>electric</td>\n",
       "      <td>90</td>\n",
       "      <td>85</td>\n",
       "      <td>90</td>\n",
       "      <td>125</td>\n",
       "      <td>90</td>\n",
       "      <td>1</td>\n",
       "      <td>1</td>\n",
       "    </tr>\n",
       "    <tr>\n",
       "      <th>Zekrom</th>\n",
       "      <td>644</td>\n",
       "      <td>dragon</td>\n",
       "      <td>150</td>\n",
       "      <td>120</td>\n",
       "      <td>100</td>\n",
       "      <td>120</td>\n",
       "      <td>100</td>\n",
       "      <td>5</td>\n",
       "      <td>1</td>\n",
       "    </tr>\n",
       "    <tr>\n",
       "      <th>Zygarde</th>\n",
       "      <td>718</td>\n",
       "      <td>dragon</td>\n",
       "      <td>100</td>\n",
       "      <td>121</td>\n",
       "      <td>216</td>\n",
       "      <td>91</td>\n",
       "      <td>95</td>\n",
       "      <td>6</td>\n",
       "      <td>1</td>\n",
       "    </tr>\n",
       "  </tbody>\n",
       "</table>\n",
       "<p>70 rows × 9 columns</p>\n",
       "</div>"
      ],
      "text/plain": [
       "           pokedex_number      type  attack  defense   hp  sp_attack  \\\n",
       "name                                                                   \n",
       "Arceus                493    normal     120      120  120        120   \n",
       "Articuno              144       ice      85      100   90         95   \n",
       "Azelf                 482   psychic     125       70   75        125   \n",
       "Buzzwole              794       bug     139      139  107         53   \n",
       "Celebi                251   psychic     100      100  100        100   \n",
       "...                   ...       ...     ...      ...  ...        ...   \n",
       "Xurkitree             796  electric      89       71   83        173   \n",
       "Yveltal               717      dark     131       95  126        131   \n",
       "Zapdos                145  electric      90       85   90        125   \n",
       "Zekrom                644    dragon     150      120  100        120   \n",
       "Zygarde               718    dragon     100      121  216         91   \n",
       "\n",
       "           sp_defense  generation  is_legendary  \n",
       "name                                             \n",
       "Arceus            120           4             1  \n",
       "Articuno          125           1             1  \n",
       "Azelf              70           4             1  \n",
       "Buzzwole           53           7             1  \n",
       "Celebi            100           2             1  \n",
       "...               ...         ...           ...  \n",
       "Xurkitree          71           7             1  \n",
       "Yveltal            98           6             1  \n",
       "Zapdos             90           1             1  \n",
       "Zekrom            100           5             1  \n",
       "Zygarde            95           6             1  \n",
       "\n",
       "[70 rows x 9 columns]"
      ]
     },
     "execution_count": 24,
     "metadata": {},
     "output_type": "execute_result"
    }
   ],
   "source": [
    "is_legendary = pokedex[pokedex.get('is_legendary')==1]\n",
    "is_legendary"
   ]
  },
  {
   "cell_type": "code",
   "execution_count": 25,
   "metadata": {},
   "outputs": [
    {
     "data": {
      "text/plain": [
       "type\n",
       "bug          3\n",
       "dark         3\n",
       "dragon       7\n",
       "electric     5\n",
       "fairy        1\n",
       "            ..\n",
       "normal       3\n",
       "psychic     17\n",
       "rock         4\n",
       "steel        6\n",
       "water        6\n",
       "Name: num_legendary, Length: 16, dtype: int64"
      ]
     },
     "execution_count": 25,
     "metadata": {},
     "output_type": "execute_result"
    }
   ],
   "source": [
    "count_legendaries = is_legendary.groupby('type').count()\n",
    "legendary_pokemon = count_legendaries.assign(num_legendary=count_legendaries.get('is_legendary')).get(['num_legendary'])\n",
    "legendary_pokemon.get('num_legendary')#.unique()"
   ]
  },
  {
   "cell_type": "code",
   "execution_count": 26,
   "metadata": {},
   "outputs": [
    {
     "data": {
      "text/html": [
       "<div>\n",
       "<style scoped>\n",
       "    .dataframe tbody tr th:only-of-type {\n",
       "        vertical-align: middle;\n",
       "    }\n",
       "\n",
       "    .dataframe tbody tr th {\n",
       "        vertical-align: top;\n",
       "    }\n",
       "\n",
       "    .dataframe thead th {\n",
       "        text-align: right;\n",
       "    }\n",
       "</style>\n",
       "<table border=\"1\" class=\"dataframe\">\n",
       "  <thead>\n",
       "    <tr style=\"text-align: right;\">\n",
       "      <th></th>\n",
       "      <th>num_legendary</th>\n",
       "    </tr>\n",
       "    <tr>\n",
       "      <th>type</th>\n",
       "      <th></th>\n",
       "    </tr>\n",
       "  </thead>\n",
       "  <tbody>\n",
       "    <tr>\n",
       "      <th>bug</th>\n",
       "      <td>3</td>\n",
       "    </tr>\n",
       "    <tr>\n",
       "      <th>dark</th>\n",
       "      <td>3</td>\n",
       "    </tr>\n",
       "    <tr>\n",
       "      <th>dragon</th>\n",
       "      <td>7</td>\n",
       "    </tr>\n",
       "    <tr>\n",
       "      <th>electric</th>\n",
       "      <td>5</td>\n",
       "    </tr>\n",
       "    <tr>\n",
       "      <th>fairy</th>\n",
       "      <td>1</td>\n",
       "    </tr>\n",
       "    <tr>\n",
       "      <th>...</th>\n",
       "      <td>...</td>\n",
       "    </tr>\n",
       "    <tr>\n",
       "      <th>normal</th>\n",
       "      <td>3</td>\n",
       "    </tr>\n",
       "    <tr>\n",
       "      <th>psychic</th>\n",
       "      <td>17</td>\n",
       "    </tr>\n",
       "    <tr>\n",
       "      <th>rock</th>\n",
       "      <td>4</td>\n",
       "    </tr>\n",
       "    <tr>\n",
       "      <th>steel</th>\n",
       "      <td>6</td>\n",
       "    </tr>\n",
       "    <tr>\n",
       "      <th>water</th>\n",
       "      <td>6</td>\n",
       "    </tr>\n",
       "  </tbody>\n",
       "</table>\n",
       "<p>16 rows × 1 columns</p>\n",
       "</div>"
      ],
      "text/plain": [
       "          num_legendary\n",
       "type                   \n",
       "bug                   3\n",
       "dark                  3\n",
       "dragon                7\n",
       "electric              5\n",
       "fairy                 1\n",
       "...                 ...\n",
       "normal                3\n",
       "psychic              17\n",
       "rock                  4\n",
       "steel                 6\n",
       "water                 6\n",
       "\n",
       "[16 rows x 1 columns]"
      ]
     },
     "execution_count": 26,
     "metadata": {},
     "output_type": "execute_result"
    }
   ],
   "source": [
    "legendary_pokemon"
   ]
  },
  {
   "cell_type": "code",
   "execution_count": 27,
   "metadata": {},
   "outputs": [
    {
     "data": {
      "text/plain": [
       "array([ 3,  3,  7,  5,  1,  5,  1,  1,  4,  2,  2,  3, 17,  4,  6,  6])"
      ]
     },
     "execution_count": 27,
     "metadata": {},
     "output_type": "execute_result"
    }
   ],
   "source": [
    "legendary_pokemon.get('num_legendary').values"
   ]
  },
  {
   "cell_type": "code",
   "execution_count": 28,
   "metadata": {},
   "outputs": [
    {
     "data": {
      "text/plain": [
       "70"
      ]
     },
     "execution_count": 28,
     "metadata": {},
     "output_type": "execute_result"
    }
   ],
   "source": [
    "count_legendaries.get('is_legendary').sum()"
   ]
  },
  {
   "cell_type": "code",
   "execution_count": 29,
   "metadata": {
    "deletable": false,
    "editable": false
   },
   "outputs": [
    {
     "data": {
      "text/html": [
       "<p><strong><pre style='display: inline;'>q1_4</pre></strong> passed!</p>"
      ],
      "text/plain": [
       "q1_4 results: All test cases passed!"
      ]
     },
     "execution_count": 29,
     "metadata": {},
     "output_type": "execute_result"
    }
   ],
   "source": [
    "grader.check(\"q1_4\")"
   ]
  },
  {
   "cell_type": "markdown",
   "metadata": {},
   "source": [
    "**Question 1.5.** Notice that the `legendary_pokemon` DataFrame has fewer than 18 rows, though the original data had 18 unique `'type'`s; this means that there are certain `'type'`s that don't have any legendary Pokémon. Determine which `'type'`s don't have any legendary Pokémon, and assign `non_legendary` to an array of these `'type'`s. "
   ]
  },
  {
   "cell_type": "code",
   "execution_count": 30,
   "metadata": {},
   "outputs": [
    {
     "data": {
      "text/plain": [
       "Index(['bug', 'dark', 'dragon', 'electric', 'fairy', 'fire', 'flying', 'ghost',\n",
       "       'grass', 'ground', 'ice', 'normal', 'psychic', 'rock', 'steel',\n",
       "       'water'],\n",
       "      dtype='object', name='type')"
      ]
     },
     "execution_count": 30,
     "metadata": {},
     "output_type": "execute_result"
    }
   ],
   "source": [
    "has_legendary = legendary_pokemon.index.unique()\n",
    "has_legendary"
   ]
  },
  {
   "cell_type": "code",
   "execution_count": 31,
   "metadata": {},
   "outputs": [
    {
     "data": {
      "text/plain": [
       "Index(['grass', 'psychic', 'dark', 'bug', 'steel', 'rock', 'normal', 'water',\n",
       "       'dragon', 'electric', 'poison', 'fire', 'fairy', 'ice', 'ground',\n",
       "       'ghost', 'fighting', 'flying'],\n",
       "      dtype='object', name='type')"
      ]
     },
     "execution_count": 31,
     "metadata": {},
     "output_type": "execute_result"
    }
   ],
   "source": [
    "all_types_df = pokedex.set_index('type')\n",
    "all_types = all_types_df.index.unique()\n",
    "all_types"
   ]
  },
  {
   "cell_type": "code",
   "execution_count": 32,
   "metadata": {},
   "outputs": [
    {
     "data": {
      "text/plain": [
       "Index(['fighting', 'poison'], dtype='object', name='type')"
      ]
     },
     "execution_count": 32,
     "metadata": {},
     "output_type": "execute_result"
    }
   ],
   "source": [
    "has_no_legendary_types = all_types.difference(has_legendary)\n",
    "has_no_legendary_types"
   ]
  },
  {
   "cell_type": "code",
   "execution_count": 33,
   "metadata": {},
   "outputs": [
    {
     "data": {
      "text/plain": [
       "array(['fighting', 'poison'], dtype=object)"
      ]
     },
     "execution_count": 33,
     "metadata": {},
     "output_type": "execute_result"
    }
   ],
   "source": [
    "non_legendary = np.array(has_no_legendary_types)\n",
    "non_legendary"
   ]
  },
  {
   "cell_type": "code",
   "execution_count": 34,
   "metadata": {
    "deletable": false,
    "editable": false
   },
   "outputs": [
    {
     "data": {
      "text/html": [
       "<p><strong><pre style='display: inline;'>q1_5</pre></strong> passed!</p>"
      ],
      "text/plain": [
       "q1_5 results: All test cases passed!"
      ]
     },
     "execution_count": 34,
     "metadata": {},
     "output_type": "execute_result"
    }
   ],
   "source": [
    "grader.check(\"q1_5\")"
   ]
  },
  {
   "cell_type": "markdown",
   "metadata": {},
   "source": [
    "**Question 1.6.** Suppose that as a Pokémon trainer, you want to assemble a strong team of Pokémon of various `'type'`s. Create a DataFrame called `mean_stats`, indexed by `'type'`, that contains the average statistics for Pokémon of each type. `mean_stats` should have five columns: `'attack'`, `'defense'`, `'hp'`, `'sp_attack'`, and `'sp_defense'`."
   ]
  },
  {
   "cell_type": "code",
   "execution_count": 35,
   "metadata": {},
   "outputs": [
    {
     "data": {
      "text/html": [
       "<div>\n",
       "<style scoped>\n",
       "    .dataframe tbody tr th:only-of-type {\n",
       "        vertical-align: middle;\n",
       "    }\n",
       "\n",
       "    .dataframe tbody tr th {\n",
       "        vertical-align: top;\n",
       "    }\n",
       "\n",
       "    .dataframe thead th {\n",
       "        text-align: right;\n",
       "    }\n",
       "</style>\n",
       "<table border=\"1\" class=\"dataframe\">\n",
       "  <thead>\n",
       "    <tr style=\"text-align: right;\">\n",
       "      <th></th>\n",
       "      <th>attack</th>\n",
       "      <th>defense</th>\n",
       "      <th>hp</th>\n",
       "      <th>sp_attack</th>\n",
       "      <th>sp_defense</th>\n",
       "    </tr>\n",
       "    <tr>\n",
       "      <th>type</th>\n",
       "      <th></th>\n",
       "      <th></th>\n",
       "      <th></th>\n",
       "      <th></th>\n",
       "      <th></th>\n",
       "    </tr>\n",
       "  </thead>\n",
       "  <tbody>\n",
       "    <tr>\n",
       "      <th>bug</th>\n",
       "      <td>70.125000</td>\n",
       "      <td>70.847222</td>\n",
       "      <td>56.722222</td>\n",
       "      <td>56.652778</td>\n",
       "      <td>62.513889</td>\n",
       "    </tr>\n",
       "    <tr>\n",
       "      <th>dark</th>\n",
       "      <td>87.793103</td>\n",
       "      <td>70.517241</td>\n",
       "      <td>72.551724</td>\n",
       "      <td>74.517241</td>\n",
       "      <td>69.068966</td>\n",
       "    </tr>\n",
       "    <tr>\n",
       "      <th>dragon</th>\n",
       "      <td>106.407407</td>\n",
       "      <td>86.259259</td>\n",
       "      <td>79.851852</td>\n",
       "      <td>89.592593</td>\n",
       "      <td>84.555556</td>\n",
       "    </tr>\n",
       "    <tr>\n",
       "      <th>electric</th>\n",
       "      <td>70.820513</td>\n",
       "      <td>61.820513</td>\n",
       "      <td>60.512821</td>\n",
       "      <td>87.538462</td>\n",
       "      <td>70.051282</td>\n",
       "    </tr>\n",
       "    <tr>\n",
       "      <th>fairy</th>\n",
       "      <td>62.111111</td>\n",
       "      <td>68.166667</td>\n",
       "      <td>73.944444</td>\n",
       "      <td>81.500000</td>\n",
       "      <td>87.777778</td>\n",
       "    </tr>\n",
       "    <tr>\n",
       "      <th>...</th>\n",
       "      <td>...</td>\n",
       "      <td>...</td>\n",
       "      <td>...</td>\n",
       "      <td>...</td>\n",
       "      <td>...</td>\n",
       "    </tr>\n",
       "    <tr>\n",
       "      <th>poison</th>\n",
       "      <td>72.656250</td>\n",
       "      <td>70.031250</td>\n",
       "      <td>65.593750</td>\n",
       "      <td>61.562500</td>\n",
       "      <td>65.531250</td>\n",
       "    </tr>\n",
       "    <tr>\n",
       "      <th>psychic</th>\n",
       "      <td>65.566038</td>\n",
       "      <td>69.264151</td>\n",
       "      <td>72.943396</td>\n",
       "      <td>92.603774</td>\n",
       "      <td>85.735849</td>\n",
       "    </tr>\n",
       "    <tr>\n",
       "      <th>rock</th>\n",
       "      <td>90.666667</td>\n",
       "      <td>96.266667</td>\n",
       "      <td>66.333333</td>\n",
       "      <td>63.200000</td>\n",
       "      <td>73.377778</td>\n",
       "    </tr>\n",
       "    <tr>\n",
       "      <th>steel</th>\n",
       "      <td>93.083333</td>\n",
       "      <td>120.208333</td>\n",
       "      <td>66.791667</td>\n",
       "      <td>72.708333</td>\n",
       "      <td>82.208333</td>\n",
       "    </tr>\n",
       "    <tr>\n",
       "      <th>water</th>\n",
       "      <td>73.307018</td>\n",
       "      <td>73.482456</td>\n",
       "      <td>70.219298</td>\n",
       "      <td>74.061404</td>\n",
       "      <td>71.798246</td>\n",
       "    </tr>\n",
       "  </tbody>\n",
       "</table>\n",
       "<p>18 rows × 5 columns</p>\n",
       "</div>"
      ],
      "text/plain": [
       "              attack     defense         hp  sp_attack  sp_defense\n",
       "type                                                              \n",
       "bug        70.125000   70.847222  56.722222  56.652778   62.513889\n",
       "dark       87.793103   70.517241  72.551724  74.517241   69.068966\n",
       "dragon    106.407407   86.259259  79.851852  89.592593   84.555556\n",
       "electric   70.820513   61.820513  60.512821  87.538462   70.051282\n",
       "fairy      62.111111   68.166667  73.944444  81.500000   87.777778\n",
       "...              ...         ...        ...        ...         ...\n",
       "poison     72.656250   70.031250  65.593750  61.562500   65.531250\n",
       "psychic    65.566038   69.264151  72.943396  92.603774   85.735849\n",
       "rock       90.666667   96.266667  66.333333  63.200000   73.377778\n",
       "steel      93.083333  120.208333  66.791667  72.708333   82.208333\n",
       "water      73.307018   73.482456  70.219298  74.061404   71.798246\n",
       "\n",
       "[18 rows x 5 columns]"
      ]
     },
     "execution_count": 35,
     "metadata": {},
     "output_type": "execute_result"
    }
   ],
   "source": [
    "mean_stats = pokedex.groupby('type').mean().get(['attack', 'defense', 'hp', 'sp_attack', 'sp_defense'])\n",
    "mean_stats"
   ]
  },
  {
   "cell_type": "code",
   "execution_count": 36,
   "metadata": {
    "deletable": false,
    "editable": false
   },
   "outputs": [
    {
     "data": {
      "text/html": [
       "<p><strong><pre style='display: inline;'>q1_6</pre></strong> passed!</p>"
      ],
      "text/plain": [
       "q1_6 results: All test cases passed!"
      ]
     },
     "execution_count": 36,
     "metadata": {},
     "output_type": "execute_result"
    }
   ],
   "source": [
    "grader.check(\"q1_6\")"
   ]
  },
  {
   "cell_type": "markdown",
   "metadata": {},
   "source": [
    "**Question 1.7.** A strong Pokémon is one that has high values for `'attack'`, `'defense'`, `'hp'`, `'sp_attack'`, and `'sp_defense'`. Suppose that you develop a formula to summarize all of these stats into a single number called strength. The strength of a Pokémon is a weighted average of these five stats, where each stat is weighted as follows:\n",
    "\n",
    "- `attack`: 20%\n",
    "- `defense`: 20%\n",
    "- `hp`: 30%\n",
    "- `sp_attack`: 15%\n",
    "- `sp_defense`: 15%\n",
    "\n",
    "Define a function called `calculate_strength` that takes as input the `'pokedex_number'` of a Pokémon and returns its strength, as defined above."
   ]
  },
  {
   "cell_type": "code",
   "execution_count": 37,
   "metadata": {},
   "outputs": [
    {
     "data": {
      "text/plain": [
       "name\n",
       "Abomasnow    460\n",
       "Abra          63\n",
       "Absol        359\n",
       "Accelgor     617\n",
       "Aegislash    681\n",
       "            ... \n",
       "Zoroark      571\n",
       "Zorua        570\n",
       "Zubat         41\n",
       "Zweilous     634\n",
       "Zygarde      718\n",
       "Name: pokedex_number, Length: 801, dtype: int64"
      ]
     },
     "execution_count": 37,
     "metadata": {},
     "output_type": "execute_result"
    }
   ],
   "source": [
    "pokedex.get('pokedex_number')"
   ]
  },
  {
   "cell_type": "code",
   "execution_count": 38,
   "metadata": {},
   "outputs": [],
   "source": [
    "def get_pokemon_and_strength(number):\n",
    "    test_number = pokedex[pokedex.get('pokedex_number') == number] ### gets the row of each pokemon\n",
    "    attack = (\n",
    "        (test_number.get('attack')*20)+\n",
    "        (test_number.get('defense')*20)+\n",
    "        (test_number.get('hp')*30)+\n",
    "        (test_number.get('sp_attack')*15)+\n",
    "        (test_number.get('sp_defense')*15)\n",
    "    )/100\n",
    "    return attack"
   ]
  },
  {
   "cell_type": "code",
   "execution_count": 39,
   "metadata": {},
   "outputs": [
    {
     "data": {
      "text/plain": [
       "name\n",
       "Bulbasaur    52.6\n",
       "dtype: float64"
      ]
     },
     "execution_count": 39,
     "metadata": {},
     "output_type": "execute_result"
    }
   ],
   "source": [
    "get_pokemon_and_strength(1)"
   ]
  },
  {
   "cell_type": "code",
   "execution_count": 40,
   "metadata": {},
   "outputs": [
    {
     "data": {
      "text/plain": [
       "name\n",
       "Arceus    120.0\n",
       "dtype: float64"
      ]
     },
     "execution_count": 40,
     "metadata": {},
     "output_type": "execute_result"
    }
   ],
   "source": [
    "get_pokemon_and_strength(493)"
   ]
  },
  {
   "cell_type": "code",
   "execution_count": 41,
   "metadata": {
    "scrolled": true
   },
   "outputs": [],
   "source": [
    "def calculate_strength(number):\n",
    "    test_number = pokedex[pokedex.get('pokedex_number') == number] ### gets the row of each pokemon\n",
    "    attack = (\n",
    "        (test_number.get('attack')*20)+\n",
    "        (test_number.get('defense')*20)+\n",
    "        (test_number.get('hp')*30)+\n",
    "        (test_number.get('sp_attack')*15)+\n",
    "        (test_number.get('sp_defense')*15)\n",
    "    )/100\n",
    "    attack_value = attack.values[0]\n",
    "    return attack_value"
   ]
  },
  {
   "cell_type": "code",
   "execution_count": 42,
   "metadata": {},
   "outputs": [
    {
     "data": {
      "text/plain": [
       "numpy.ndarray"
      ]
     },
     "execution_count": 42,
     "metadata": {},
     "output_type": "execute_result"
    }
   ],
   "source": [
    "type(attack.values)"
   ]
  },
  {
   "cell_type": "code",
   "execution_count": 43,
   "metadata": {},
   "outputs": [
    {
     "data": {
      "text/plain": [
       "numpy.float64"
      ]
     },
     "execution_count": 43,
     "metadata": {},
     "output_type": "execute_result"
    }
   ],
   "source": [
    "type(calculate_strength(1))"
   ]
  },
  {
   "cell_type": "code",
   "execution_count": 44,
   "metadata": {},
   "outputs": [
    {
     "data": {
      "text/plain": [
       "52.6"
      ]
     },
     "execution_count": 44,
     "metadata": {},
     "output_type": "execute_result"
    }
   ],
   "source": [
    "calculate_strength(1)"
   ]
  },
  {
   "cell_type": "code",
   "execution_count": 45,
   "metadata": {
    "deletable": false,
    "editable": false
   },
   "outputs": [
    {
     "data": {
      "text/html": [
       "<p><strong><pre style='display: inline;'>q1_7</pre></strong> passed!</p>"
      ],
      "text/plain": [
       "q1_7 results: All test cases passed!"
      ]
     },
     "execution_count": 45,
     "metadata": {},
     "output_type": "execute_result"
    }
   ],
   "source": [
    "grader.check(\"q1_7\")"
   ]
  },
  {
   "cell_type": "markdown",
   "metadata": {},
   "source": [
    "**Question 1.8.** Create a DataFrame called `with_strength` that contains all the columns of `pokedex` plus one more called `'strength'`, containing the strength of each Pokémon as defined in the previous question. Order the rows in descending order of `'strength'`.\n",
    "\n",
    "***Hint:*** Use the `calculate_strength` function you've already written.\n",
    "\n"
   ]
  },
  {
   "cell_type": "code",
   "execution_count": 46,
   "metadata": {},
   "outputs": [
    {
     "data": {
      "text/html": [
       "<div>\n",
       "<style scoped>\n",
       "    .dataframe tbody tr th:only-of-type {\n",
       "        vertical-align: middle;\n",
       "    }\n",
       "\n",
       "    .dataframe tbody tr th {\n",
       "        vertical-align: top;\n",
       "    }\n",
       "\n",
       "    .dataframe thead th {\n",
       "        text-align: right;\n",
       "    }\n",
       "</style>\n",
       "<table border=\"1\" class=\"dataframe\">\n",
       "  <thead>\n",
       "    <tr style=\"text-align: right;\">\n",
       "      <th></th>\n",
       "      <th>pokedex_number</th>\n",
       "      <th>type</th>\n",
       "      <th>attack</th>\n",
       "      <th>defense</th>\n",
       "      <th>hp</th>\n",
       "      <th>sp_attack</th>\n",
       "      <th>sp_defense</th>\n",
       "      <th>generation</th>\n",
       "      <th>is_legendary</th>\n",
       "      <th>strength</th>\n",
       "    </tr>\n",
       "    <tr>\n",
       "      <th>name</th>\n",
       "      <th></th>\n",
       "      <th></th>\n",
       "      <th></th>\n",
       "      <th></th>\n",
       "      <th></th>\n",
       "      <th></th>\n",
       "      <th></th>\n",
       "      <th></th>\n",
       "      <th></th>\n",
       "      <th></th>\n",
       "    </tr>\n",
       "  </thead>\n",
       "  <tbody>\n",
       "    <tr>\n",
       "      <th>Abomasnow</th>\n",
       "      <td>460</td>\n",
       "      <td>grass</td>\n",
       "      <td>132</td>\n",
       "      <td>105</td>\n",
       "      <td>90</td>\n",
       "      <td>132</td>\n",
       "      <td>105</td>\n",
       "      <td>4</td>\n",
       "      <td>0</td>\n",
       "      <td>109.95</td>\n",
       "    </tr>\n",
       "    <tr>\n",
       "      <th>Abra</th>\n",
       "      <td>63</td>\n",
       "      <td>psychic</td>\n",
       "      <td>20</td>\n",
       "      <td>15</td>\n",
       "      <td>25</td>\n",
       "      <td>105</td>\n",
       "      <td>55</td>\n",
       "      <td>1</td>\n",
       "      <td>0</td>\n",
       "      <td>38.50</td>\n",
       "    </tr>\n",
       "    <tr>\n",
       "      <th>Absol</th>\n",
       "      <td>359</td>\n",
       "      <td>dark</td>\n",
       "      <td>150</td>\n",
       "      <td>60</td>\n",
       "      <td>65</td>\n",
       "      <td>115</td>\n",
       "      <td>60</td>\n",
       "      <td>3</td>\n",
       "      <td>0</td>\n",
       "      <td>87.75</td>\n",
       "    </tr>\n",
       "    <tr>\n",
       "      <th>Accelgor</th>\n",
       "      <td>617</td>\n",
       "      <td>bug</td>\n",
       "      <td>70</td>\n",
       "      <td>40</td>\n",
       "      <td>80</td>\n",
       "      <td>100</td>\n",
       "      <td>60</td>\n",
       "      <td>5</td>\n",
       "      <td>0</td>\n",
       "      <td>70.00</td>\n",
       "    </tr>\n",
       "    <tr>\n",
       "      <th>Aegislash</th>\n",
       "      <td>681</td>\n",
       "      <td>steel</td>\n",
       "      <td>150</td>\n",
       "      <td>50</td>\n",
       "      <td>60</td>\n",
       "      <td>150</td>\n",
       "      <td>50</td>\n",
       "      <td>6</td>\n",
       "      <td>0</td>\n",
       "      <td>88.00</td>\n",
       "    </tr>\n",
       "    <tr>\n",
       "      <th>...</th>\n",
       "      <td>...</td>\n",
       "      <td>...</td>\n",
       "      <td>...</td>\n",
       "      <td>...</td>\n",
       "      <td>...</td>\n",
       "      <td>...</td>\n",
       "      <td>...</td>\n",
       "      <td>...</td>\n",
       "      <td>...</td>\n",
       "      <td>...</td>\n",
       "    </tr>\n",
       "    <tr>\n",
       "      <th>Zoroark</th>\n",
       "      <td>571</td>\n",
       "      <td>dark</td>\n",
       "      <td>105</td>\n",
       "      <td>60</td>\n",
       "      <td>60</td>\n",
       "      <td>120</td>\n",
       "      <td>60</td>\n",
       "      <td>5</td>\n",
       "      <td>0</td>\n",
       "      <td>78.00</td>\n",
       "    </tr>\n",
       "    <tr>\n",
       "      <th>Zorua</th>\n",
       "      <td>570</td>\n",
       "      <td>dark</td>\n",
       "      <td>65</td>\n",
       "      <td>40</td>\n",
       "      <td>40</td>\n",
       "      <td>80</td>\n",
       "      <td>40</td>\n",
       "      <td>5</td>\n",
       "      <td>0</td>\n",
       "      <td>51.00</td>\n",
       "    </tr>\n",
       "    <tr>\n",
       "      <th>Zubat</th>\n",
       "      <td>41</td>\n",
       "      <td>poison</td>\n",
       "      <td>45</td>\n",
       "      <td>35</td>\n",
       "      <td>40</td>\n",
       "      <td>30</td>\n",
       "      <td>40</td>\n",
       "      <td>1</td>\n",
       "      <td>0</td>\n",
       "      <td>38.50</td>\n",
       "    </tr>\n",
       "    <tr>\n",
       "      <th>Zweilous</th>\n",
       "      <td>634</td>\n",
       "      <td>dark</td>\n",
       "      <td>85</td>\n",
       "      <td>70</td>\n",
       "      <td>72</td>\n",
       "      <td>65</td>\n",
       "      <td>70</td>\n",
       "      <td>5</td>\n",
       "      <td>0</td>\n",
       "      <td>72.85</td>\n",
       "    </tr>\n",
       "    <tr>\n",
       "      <th>Zygarde</th>\n",
       "      <td>718</td>\n",
       "      <td>dragon</td>\n",
       "      <td>100</td>\n",
       "      <td>121</td>\n",
       "      <td>216</td>\n",
       "      <td>91</td>\n",
       "      <td>95</td>\n",
       "      <td>6</td>\n",
       "      <td>1</td>\n",
       "      <td>136.90</td>\n",
       "    </tr>\n",
       "  </tbody>\n",
       "</table>\n",
       "<p>801 rows × 10 columns</p>\n",
       "</div>"
      ],
      "text/plain": [
       "           pokedex_number     type  attack  defense   hp  sp_attack  \\\n",
       "name                                                                  \n",
       "Abomasnow             460    grass     132      105   90        132   \n",
       "Abra                   63  psychic      20       15   25        105   \n",
       "Absol                 359     dark     150       60   65        115   \n",
       "Accelgor              617      bug      70       40   80        100   \n",
       "Aegislash             681    steel     150       50   60        150   \n",
       "...                   ...      ...     ...      ...  ...        ...   \n",
       "Zoroark               571     dark     105       60   60        120   \n",
       "Zorua                 570     dark      65       40   40         80   \n",
       "Zubat                  41   poison      45       35   40         30   \n",
       "Zweilous              634     dark      85       70   72         65   \n",
       "Zygarde               718   dragon     100      121  216         91   \n",
       "\n",
       "           sp_defense  generation  is_legendary  strength  \n",
       "name                                                       \n",
       "Abomasnow         105           4             0    109.95  \n",
       "Abra               55           1             0     38.50  \n",
       "Absol              60           3             0     87.75  \n",
       "Accelgor           60           5             0     70.00  \n",
       "Aegislash          50           6             0     88.00  \n",
       "...               ...         ...           ...       ...  \n",
       "Zoroark            60           5             0     78.00  \n",
       "Zorua              40           5             0     51.00  \n",
       "Zubat              40           1             0     38.50  \n",
       "Zweilous           70           5             0     72.85  \n",
       "Zygarde            95           6             1    136.90  \n",
       "\n",
       "[801 rows x 10 columns]"
      ]
     },
     "execution_count": 46,
     "metadata": {},
     "output_type": "execute_result"
    }
   ],
   "source": [
    "with_strength = pokedex.assign(strength=pokedex.get('pokedex_number').apply(calculate_strength))\n",
    "with_strength"
   ]
  },
  {
   "cell_type": "code",
   "execution_count": 47,
   "metadata": {
    "deletable": false,
    "editable": false
   },
   "outputs": [
    {
     "data": {
      "text/html": [
       "<p><strong><pre style='display: inline;'>q1_8</pre></strong> passed!</p>"
      ],
      "text/plain": [
       "q1_8 results: All test cases passed!"
      ]
     },
     "execution_count": 47,
     "metadata": {},
     "output_type": "execute_result"
    }
   ],
   "source": [
    "grader.check(\"q1_8\")"
   ]
  },
  {
   "cell_type": "markdown",
   "metadata": {},
   "source": [
    "**Question 1.9.** Make a plot that will help you answer the question, \"*Among water Pokémon, do those with stronger attack power also have stronger defense power?*\" Consider only regular `'attack'` and `'defense'`, **not** special (`'sp_attack'`, and `'sp_defense'`)."
   ]
  },
  {
   "cell_type": "code",
   "execution_count": 48,
   "metadata": {},
   "outputs": [
    {
     "data": {
      "text/plain": [
       "name\n",
       "Abomasnow    False\n",
       "Abra         False\n",
       "Absol        False\n",
       "Accelgor     False\n",
       "Aegislash    False\n",
       "             ...  \n",
       "Zoroark      False\n",
       "Zorua        False\n",
       "Zubat        False\n",
       "Zweilous     False\n",
       "Zygarde      False\n",
       "Name: type, Length: 801, dtype: bool"
      ]
     },
     "execution_count": 48,
     "metadata": {},
     "output_type": "execute_result"
    }
   ],
   "source": [
    "is_water"
   ]
  },
  {
   "cell_type": "markdown",
   "metadata": {
    "deletable": false,
    "editable": false
   },
   "source": [
    "<!-- BEGIN QUESTION -->\n",
    "\n",
    "<!--\n",
    "BEGIN QUESTION\n",
    "name: q1_9\n",
    "manual: true\n",
    "-->"
   ]
  },
  {
   "cell_type": "code",
   "execution_count": 49,
   "metadata": {},
   "outputs": [
    {
     "data": {
      "image/png": "[encoded data removed]",
      "text/plain": [
       "<Figure size 720x360 with 1 Axes>"
      ]
     },
     "metadata": {},
     "output_type": "display_data"
    }
   ],
   "source": [
    "# Create your plot here.\n",
    "water_df.plot(kind='scatter', x='attack', y='defense');"
   ]
  },
  {
   "cell_type": "markdown",
   "metadata": {},
   "source": [
    "<!-- END QUESTION -->\n",
    "\n",
    "\n",
    "\n",
    "**Question 1.10.** Considering that Pokémon `generation`s were developed in order, we might wonder how Pokémon have evolved over time. Draw a line plot that shows the trend, across generations, of the proportion of legendary Pokémon in each generation. This kind of plot might help you answer the question \"*Are later-generation Pokémon more likely to be legendary?*\"\n",
    "\n",
    "***Hint:*** You'll have to do some DataFrame manipulation before you can create the line plot."
   ]
  },
  {
   "cell_type": "code",
   "execution_count": 50,
   "metadata": {},
   "outputs": [
    {
     "data": {
      "text/html": [
       "<div>\n",
       "<style scoped>\n",
       "    .dataframe tbody tr th:only-of-type {\n",
       "        vertical-align: middle;\n",
       "    }\n",
       "\n",
       "    .dataframe tbody tr th {\n",
       "        vertical-align: top;\n",
       "    }\n",
       "\n",
       "    .dataframe thead th {\n",
       "        text-align: right;\n",
       "    }\n",
       "</style>\n",
       "<table border=\"1\" class=\"dataframe\">\n",
       "  <thead>\n",
       "    <tr style=\"text-align: right;\">\n",
       "      <th></th>\n",
       "      <th>pokedex_number</th>\n",
       "      <th>type</th>\n",
       "      <th>attack</th>\n",
       "      <th>defense</th>\n",
       "      <th>hp</th>\n",
       "      <th>sp_attack</th>\n",
       "      <th>sp_defense</th>\n",
       "      <th>generation</th>\n",
       "      <th>is_legendary</th>\n",
       "    </tr>\n",
       "    <tr>\n",
       "      <th>name</th>\n",
       "      <th></th>\n",
       "      <th></th>\n",
       "      <th></th>\n",
       "      <th></th>\n",
       "      <th></th>\n",
       "      <th></th>\n",
       "      <th></th>\n",
       "      <th></th>\n",
       "      <th></th>\n",
       "    </tr>\n",
       "  </thead>\n",
       "  <tbody>\n",
       "    <tr>\n",
       "      <th>Magmar</th>\n",
       "      <td>126</td>\n",
       "      <td>fire</td>\n",
       "      <td>95</td>\n",
       "      <td>57</td>\n",
       "      <td>65</td>\n",
       "      <td>100</td>\n",
       "      <td>85</td>\n",
       "      <td>1</td>\n",
       "      <td>0</td>\n",
       "    </tr>\n",
       "    <tr>\n",
       "      <th>Seaking</th>\n",
       "      <td>119</td>\n",
       "      <td>water</td>\n",
       "      <td>92</td>\n",
       "      <td>65</td>\n",
       "      <td>80</td>\n",
       "      <td>65</td>\n",
       "      <td>80</td>\n",
       "      <td>1</td>\n",
       "      <td>0</td>\n",
       "    </tr>\n",
       "    <tr>\n",
       "      <th>Seadra</th>\n",
       "      <td>117</td>\n",
       "      <td>water</td>\n",
       "      <td>65</td>\n",
       "      <td>95</td>\n",
       "      <td>55</td>\n",
       "      <td>95</td>\n",
       "      <td>45</td>\n",
       "      <td>1</td>\n",
       "      <td>0</td>\n",
       "    </tr>\n",
       "    <tr>\n",
       "      <th>Scyther</th>\n",
       "      <td>123</td>\n",
       "      <td>bug</td>\n",
       "      <td>110</td>\n",
       "      <td>80</td>\n",
       "      <td>70</td>\n",
       "      <td>55</td>\n",
       "      <td>80</td>\n",
       "      <td>1</td>\n",
       "      <td>0</td>\n",
       "    </tr>\n",
       "    <tr>\n",
       "      <th>Sandslash</th>\n",
       "      <td>28</td>\n",
       "      <td>ground</td>\n",
       "      <td>100</td>\n",
       "      <td>120</td>\n",
       "      <td>75</td>\n",
       "      <td>25</td>\n",
       "      <td>65</td>\n",
       "      <td>1</td>\n",
       "      <td>0</td>\n",
       "    </tr>\n",
       "    <tr>\n",
       "      <th>...</th>\n",
       "      <td>...</td>\n",
       "      <td>...</td>\n",
       "      <td>...</td>\n",
       "      <td>...</td>\n",
       "      <td>...</td>\n",
       "      <td>...</td>\n",
       "      <td>...</td>\n",
       "      <td>...</td>\n",
       "      <td>...</td>\n",
       "    </tr>\n",
       "    <tr>\n",
       "      <th>Komala</th>\n",
       "      <td>775</td>\n",
       "      <td>normal</td>\n",
       "      <td>115</td>\n",
       "      <td>65</td>\n",
       "      <td>65</td>\n",
       "      <td>75</td>\n",
       "      <td>95</td>\n",
       "      <td>7</td>\n",
       "      <td>0</td>\n",
       "    </tr>\n",
       "    <tr>\n",
       "      <th>Oranguru</th>\n",
       "      <td>765</td>\n",
       "      <td>normal</td>\n",
       "      <td>60</td>\n",
       "      <td>80</td>\n",
       "      <td>90</td>\n",
       "      <td>90</td>\n",
       "      <td>110</td>\n",
       "      <td>7</td>\n",
       "      <td>0</td>\n",
       "    </tr>\n",
       "    <tr>\n",
       "      <th>Oricorio</th>\n",
       "      <td>741</td>\n",
       "      <td>fire</td>\n",
       "      <td>70</td>\n",
       "      <td>70</td>\n",
       "      <td>75</td>\n",
       "      <td>98</td>\n",
       "      <td>70</td>\n",
       "      <td>7</td>\n",
       "      <td>0</td>\n",
       "    </tr>\n",
       "    <tr>\n",
       "      <th>Bounsweet</th>\n",
       "      <td>761</td>\n",
       "      <td>grass</td>\n",
       "      <td>30</td>\n",
       "      <td>38</td>\n",
       "      <td>42</td>\n",
       "      <td>30</td>\n",
       "      <td>38</td>\n",
       "      <td>7</td>\n",
       "      <td>0</td>\n",
       "    </tr>\n",
       "    <tr>\n",
       "      <th>Golisopod</th>\n",
       "      <td>768</td>\n",
       "      <td>bug</td>\n",
       "      <td>125</td>\n",
       "      <td>140</td>\n",
       "      <td>75</td>\n",
       "      <td>60</td>\n",
       "      <td>90</td>\n",
       "      <td>7</td>\n",
       "      <td>0</td>\n",
       "    </tr>\n",
       "  </tbody>\n",
       "</table>\n",
       "<p>801 rows × 9 columns</p>\n",
       "</div>"
      ],
      "text/plain": [
       "           pokedex_number    type  attack  defense  hp  sp_attack  sp_defense  \\\n",
       "name                                                                            \n",
       "Magmar                126    fire      95       57  65        100          85   \n",
       "Seaking               119   water      92       65  80         65          80   \n",
       "Seadra                117   water      65       95  55         95          45   \n",
       "Scyther               123     bug     110       80  70         55          80   \n",
       "Sandslash              28  ground     100      120  75         25          65   \n",
       "...                   ...     ...     ...      ...  ..        ...         ...   \n",
       "Komala                775  normal     115       65  65         75          95   \n",
       "Oranguru              765  normal      60       80  90         90         110   \n",
       "Oricorio              741    fire      70       70  75         98          70   \n",
       "Bounsweet             761   grass      30       38  42         30          38   \n",
       "Golisopod             768     bug     125      140  75         60          90   \n",
       "\n",
       "           generation  is_legendary  \n",
       "name                                 \n",
       "Magmar              1             0  \n",
       "Seaking             1             0  \n",
       "Seadra              1             0  \n",
       "Scyther             1             0  \n",
       "Sandslash           1             0  \n",
       "...               ...           ...  \n",
       "Komala              7             0  \n",
       "Oranguru            7             0  \n",
       "Oricorio            7             0  \n",
       "Bounsweet           7             0  \n",
       "Golisopod           7             0  \n",
       "\n",
       "[801 rows x 9 columns]"
      ]
     },
     "execution_count": 50,
     "metadata": {},
     "output_type": "execute_result"
    }
   ],
   "source": [
    "generations_df = pokedex.sort_values(by='generation')\n",
    "generations_df"
   ]
  },
  {
   "cell_type": "code",
   "execution_count": 51,
   "metadata": {},
   "outputs": [
    {
     "data": {
      "text/html": [
       "<div>\n",
       "<style scoped>\n",
       "    .dataframe tbody tr th:only-of-type {\n",
       "        vertical-align: middle;\n",
       "    }\n",
       "\n",
       "    .dataframe tbody tr th {\n",
       "        vertical-align: top;\n",
       "    }\n",
       "\n",
       "    .dataframe thead th {\n",
       "        text-align: right;\n",
       "    }\n",
       "</style>\n",
       "<table border=\"1\" class=\"dataframe\">\n",
       "  <thead>\n",
       "    <tr style=\"text-align: right;\">\n",
       "      <th></th>\n",
       "      <th>pokedex_number</th>\n",
       "      <th>type</th>\n",
       "      <th>attack</th>\n",
       "      <th>defense</th>\n",
       "      <th>hp</th>\n",
       "      <th>sp_attack</th>\n",
       "      <th>sp_defense</th>\n",
       "      <th>is_legendary</th>\n",
       "    </tr>\n",
       "    <tr>\n",
       "      <th>generation</th>\n",
       "      <th></th>\n",
       "      <th></th>\n",
       "      <th></th>\n",
       "      <th></th>\n",
       "      <th></th>\n",
       "      <th></th>\n",
       "      <th></th>\n",
       "      <th></th>\n",
       "    </tr>\n",
       "  </thead>\n",
       "  <tbody>\n",
       "    <tr>\n",
       "      <th>1</th>\n",
       "      <td>151</td>\n",
       "      <td>151</td>\n",
       "      <td>151</td>\n",
       "      <td>151</td>\n",
       "      <td>151</td>\n",
       "      <td>151</td>\n",
       "      <td>151</td>\n",
       "      <td>151</td>\n",
       "    </tr>\n",
       "    <tr>\n",
       "      <th>2</th>\n",
       "      <td>100</td>\n",
       "      <td>100</td>\n",
       "      <td>100</td>\n",
       "      <td>100</td>\n",
       "      <td>100</td>\n",
       "      <td>100</td>\n",
       "      <td>100</td>\n",
       "      <td>100</td>\n",
       "    </tr>\n",
       "    <tr>\n",
       "      <th>3</th>\n",
       "      <td>135</td>\n",
       "      <td>135</td>\n",
       "      <td>135</td>\n",
       "      <td>135</td>\n",
       "      <td>135</td>\n",
       "      <td>135</td>\n",
       "      <td>135</td>\n",
       "      <td>135</td>\n",
       "    </tr>\n",
       "    <tr>\n",
       "      <th>4</th>\n",
       "      <td>107</td>\n",
       "      <td>107</td>\n",
       "      <td>107</td>\n",
       "      <td>107</td>\n",
       "      <td>107</td>\n",
       "      <td>107</td>\n",
       "      <td>107</td>\n",
       "      <td>107</td>\n",
       "    </tr>\n",
       "    <tr>\n",
       "      <th>5</th>\n",
       "      <td>156</td>\n",
       "      <td>156</td>\n",
       "      <td>156</td>\n",
       "      <td>156</td>\n",
       "      <td>156</td>\n",
       "      <td>156</td>\n",
       "      <td>156</td>\n",
       "      <td>156</td>\n",
       "    </tr>\n",
       "    <tr>\n",
       "      <th>6</th>\n",
       "      <td>72</td>\n",
       "      <td>72</td>\n",
       "      <td>72</td>\n",
       "      <td>72</td>\n",
       "      <td>72</td>\n",
       "      <td>72</td>\n",
       "      <td>72</td>\n",
       "      <td>72</td>\n",
       "    </tr>\n",
       "    <tr>\n",
       "      <th>7</th>\n",
       "      <td>80</td>\n",
       "      <td>80</td>\n",
       "      <td>80</td>\n",
       "      <td>80</td>\n",
       "      <td>80</td>\n",
       "      <td>80</td>\n",
       "      <td>80</td>\n",
       "      <td>80</td>\n",
       "    </tr>\n",
       "  </tbody>\n",
       "</table>\n",
       "</div>"
      ],
      "text/plain": [
       "            pokedex_number  type  attack  defense   hp  sp_attack  sp_defense  \\\n",
       "generation                                                                      \n",
       "1                      151   151     151      151  151        151         151   \n",
       "2                      100   100     100      100  100        100         100   \n",
       "3                      135   135     135      135  135        135         135   \n",
       "4                      107   107     107      107  107        107         107   \n",
       "5                      156   156     156      156  156        156         156   \n",
       "6                       72    72      72       72   72         72          72   \n",
       "7                       80    80      80       80   80         80          80   \n",
       "\n",
       "            is_legendary  \n",
       "generation                \n",
       "1                    151  \n",
       "2                    100  \n",
       "3                    135  \n",
       "4                    107  \n",
       "5                    156  \n",
       "6                     72  \n",
       "7                     80  "
      ]
     },
     "execution_count": 51,
     "metadata": {},
     "output_type": "execute_result"
    }
   ],
   "source": [
    "count_by_generation = pokedex.groupby('generation').count()\n",
    "count_by_generation"
   ]
  },
  {
   "cell_type": "code",
   "execution_count": 52,
   "metadata": {},
   "outputs": [
    {
     "data": {
      "text/plain": [
       "generation\n",
       "1     5\n",
       "2     6\n",
       "3    10\n",
       "4    13\n",
       "5    13\n",
       "6     6\n",
       "7    17\n",
       "Name: num_legendary, dtype: int64"
      ]
     },
     "execution_count": 52,
     "metadata": {},
     "output_type": "execute_result"
    }
   ],
   "source": [
    "count_legendaries_by_generation = is_legendary.groupby('generation').count()\n",
    "legendary_pokemon_by_gen = count_legendaries_by_generation.assign(num_legendary=count_legendaries_by_generation.get('is_legendary')).get(['num_legendary'])\n",
    "legendary_pokemon_by_gen.get('num_legendary')#.unique()"
   ]
  },
  {
   "cell_type": "code",
   "execution_count": 53,
   "metadata": {},
   "outputs": [
    {
     "data": {
      "text/html": [
       "<div>\n",
       "<style scoped>\n",
       "    .dataframe tbody tr th:only-of-type {\n",
       "        vertical-align: middle;\n",
       "    }\n",
       "\n",
       "    .dataframe tbody tr th {\n",
       "        vertical-align: top;\n",
       "    }\n",
       "\n",
       "    .dataframe thead th {\n",
       "        text-align: right;\n",
       "    }\n",
       "</style>\n",
       "<table border=\"1\" class=\"dataframe\">\n",
       "  <thead>\n",
       "    <tr style=\"text-align: right;\">\n",
       "      <th></th>\n",
       "      <th>num_legendary</th>\n",
       "    </tr>\n",
       "    <tr>\n",
       "      <th>generation</th>\n",
       "      <th></th>\n",
       "    </tr>\n",
       "  </thead>\n",
       "  <tbody>\n",
       "    <tr>\n",
       "      <th>1</th>\n",
       "      <td>5</td>\n",
       "    </tr>\n",
       "    <tr>\n",
       "      <th>2</th>\n",
       "      <td>6</td>\n",
       "    </tr>\n",
       "    <tr>\n",
       "      <th>3</th>\n",
       "      <td>10</td>\n",
       "    </tr>\n",
       "    <tr>\n",
       "      <th>4</th>\n",
       "      <td>13</td>\n",
       "    </tr>\n",
       "    <tr>\n",
       "      <th>5</th>\n",
       "      <td>13</td>\n",
       "    </tr>\n",
       "    <tr>\n",
       "      <th>6</th>\n",
       "      <td>6</td>\n",
       "    </tr>\n",
       "    <tr>\n",
       "      <th>7</th>\n",
       "      <td>17</td>\n",
       "    </tr>\n",
       "  </tbody>\n",
       "</table>\n",
       "</div>"
      ],
      "text/plain": [
       "            num_legendary\n",
       "generation               \n",
       "1                       5\n",
       "2                       6\n",
       "3                      10\n",
       "4                      13\n",
       "5                      13\n",
       "6                       6\n",
       "7                      17"
      ]
     },
     "execution_count": 53,
     "metadata": {},
     "output_type": "execute_result"
    }
   ],
   "source": [
    "legendary_pokemon_by_gen"
   ]
  },
  {
   "cell_type": "code",
   "execution_count": 54,
   "metadata": {},
   "outputs": [
    {
     "data": {
      "text/html": [
       "<div>\n",
       "<style scoped>\n",
       "    .dataframe tbody tr th:only-of-type {\n",
       "        vertical-align: middle;\n",
       "    }\n",
       "\n",
       "    .dataframe tbody tr th {\n",
       "        vertical-align: top;\n",
       "    }\n",
       "\n",
       "    .dataframe thead th {\n",
       "        text-align: right;\n",
       "    }\n",
       "</style>\n",
       "<table border=\"1\" class=\"dataframe\">\n",
       "  <thead>\n",
       "    <tr style=\"text-align: right;\">\n",
       "      <th></th>\n",
       "      <th>num_legendary</th>\n",
       "      <th>pokemon_count</th>\n",
       "      <th>proportion_of_legendaries</th>\n",
       "    </tr>\n",
       "    <tr>\n",
       "      <th>generation</th>\n",
       "      <th></th>\n",
       "      <th></th>\n",
       "      <th></th>\n",
       "    </tr>\n",
       "  </thead>\n",
       "  <tbody>\n",
       "    <tr>\n",
       "      <th>1</th>\n",
       "      <td>5</td>\n",
       "      <td>151</td>\n",
       "      <td>0.033113</td>\n",
       "    </tr>\n",
       "    <tr>\n",
       "      <th>2</th>\n",
       "      <td>6</td>\n",
       "      <td>100</td>\n",
       "      <td>0.060000</td>\n",
       "    </tr>\n",
       "    <tr>\n",
       "      <th>3</th>\n",
       "      <td>10</td>\n",
       "      <td>135</td>\n",
       "      <td>0.074074</td>\n",
       "    </tr>\n",
       "    <tr>\n",
       "      <th>4</th>\n",
       "      <td>13</td>\n",
       "      <td>107</td>\n",
       "      <td>0.121495</td>\n",
       "    </tr>\n",
       "    <tr>\n",
       "      <th>5</th>\n",
       "      <td>13</td>\n",
       "      <td>156</td>\n",
       "      <td>0.083333</td>\n",
       "    </tr>\n",
       "    <tr>\n",
       "      <th>6</th>\n",
       "      <td>6</td>\n",
       "      <td>72</td>\n",
       "      <td>0.083333</td>\n",
       "    </tr>\n",
       "    <tr>\n",
       "      <th>7</th>\n",
       "      <td>17</td>\n",
       "      <td>80</td>\n",
       "      <td>0.212500</td>\n",
       "    </tr>\n",
       "  </tbody>\n",
       "</table>\n",
       "</div>"
      ],
      "text/plain": [
       "            num_legendary  pokemon_count  proportion_of_legendaries\n",
       "generation                                                         \n",
       "1                       5            151                   0.033113\n",
       "2                       6            100                   0.060000\n",
       "3                      10            135                   0.074074\n",
       "4                      13            107                   0.121495\n",
       "5                      13            156                   0.083333\n",
       "6                       6             72                   0.083333\n",
       "7                      17             80                   0.212500"
      ]
     },
     "execution_count": 54,
     "metadata": {},
     "output_type": "execute_result"
    }
   ],
   "source": [
    "#legendary_proportion = count_by_generation.groupby('generation').count() #assign(legendary_proportion=)\n",
    "legendary_proportion = legendary_pokemon_by_gen.assign(pokemon_count=count_by_generation.get('pokedex_number'))\n",
    "legendary_proportion = legendary_proportion.assign(proportion_of_legendaries=legendary_proportion.get('num_legendary')/legendary_proportion.get('pokemon_count'))\n",
    "legendary_proportion"
   ]
  },
  {
   "cell_type": "markdown",
   "metadata": {
    "deletable": false,
    "editable": false
   },
   "source": [
    "<!-- BEGIN QUESTION -->\n",
    "\n",
    "<!--\n",
    "BEGIN QUESTION\n",
    "name: q1_10\n",
    "manual: true\n",
    "-->"
   ]
  },
  {
   "cell_type": "code",
   "execution_count": 55,
   "metadata": {},
   "outputs": [
    {
     "data": {
      "image/png": "[encoded data removed]",
      "text/plain": [
       "<Figure size 720x360 with 1 Axes>"
      ]
     },
     "metadata": {},
     "output_type": "display_data"
    }
   ],
   "source": [
    "# Create your plot here.\n",
    "legendary_proportion.plot(kind='line', y='proportion_of_legendaries');"
   ]
  },
  {
   "cell_type": "markdown",
   "metadata": {},
   "source": [
    "<!-- END QUESTION -->\n",
    "\n",
    "\n",
    "\n",
    "## 2. As Seen on TV 📺"
   ]
  },
  {
   "cell_type": "markdown",
   "metadata": {},
   "source": [
    "In this problem, we'll work with a dataset from [Kaggle](https://www.kaggle.com/datasets/devanshiipatel/imdb-tv-shows/)  containing information about different TV shows, originally obtained from the Internet Movie Database (IMDb). In the cell below, we load the dataset in as a DataFrame named `tv_shows`. Take some time to look at the data in `tv_shows` to see what information is recorded."
   ]
  },
  {
   "cell_type": "code",
   "execution_count": 56,
   "metadata": {},
   "outputs": [
    {
     "data": {
      "text/html": [
       "<div>\n",
       "<style scoped>\n",
       "    .dataframe tbody tr th:only-of-type {\n",
       "        vertical-align: middle;\n",
       "    }\n",
       "\n",
       "    .dataframe tbody tr th {\n",
       "        vertical-align: top;\n",
       "    }\n",
       "\n",
       "    .dataframe thead th {\n",
       "        text-align: right;\n",
       "    }\n",
       "</style>\n",
       "<table border=\"1\" class=\"dataframe\">\n",
       "  <thead>\n",
       "    <tr style=\"text-align: right;\">\n",
       "      <th></th>\n",
       "      <th>Title</th>\n",
       "      <th>About</th>\n",
       "      <th>Genres</th>\n",
       "      <th>Actors</th>\n",
       "      <th>Rating</th>\n",
       "      <th>Votes</th>\n",
       "      <th>Years</th>\n",
       "    </tr>\n",
       "  </thead>\n",
       "  <tbody>\n",
       "    <tr>\n",
       "      <th>0</th>\n",
       "      <td>The Family Man</td>\n",
       "      <td>A working man from the National Investigation ...</td>\n",
       "      <td>Action, Comedy, Drama</td>\n",
       "      <td>Manoj Bajpayee, Samantha Akkineni, Priyamani, ...</td>\n",
       "      <td>8.8</td>\n",
       "      <td>57632</td>\n",
       "      <td>2019–</td>\n",
       "    </tr>\n",
       "    <tr>\n",
       "      <th>1</th>\n",
       "      <td>Lucifer</td>\n",
       "      <td>Lucifer Morningstar has decided he's had enoug...</td>\n",
       "      <td>Crime, Drama, Fantasy</td>\n",
       "      <td>Tom Ellis, Lauren German, Lesley-Ann Brandt, K...</td>\n",
       "      <td>8.1</td>\n",
       "      <td>252826</td>\n",
       "      <td>2016–</td>\n",
       "    </tr>\n",
       "    <tr>\n",
       "      <th>2</th>\n",
       "      <td>The Handmaid's Tale</td>\n",
       "      <td>Set in a dystopian future, a woman is forced t...</td>\n",
       "      <td>Drama, Sci-Fi, Thriller</td>\n",
       "      <td>Elisabeth Moss, Yvonne Strahovski, Joseph Fien...</td>\n",
       "      <td>8.4</td>\n",
       "      <td>187007</td>\n",
       "      <td>2017–</td>\n",
       "    </tr>\n",
       "    <tr>\n",
       "      <th>3</th>\n",
       "      <td>StartUp</td>\n",
       "      <td>A desperate banker, a Haitian-American gang lo...</td>\n",
       "      <td>Crime, Thriller</td>\n",
       "      <td>Adam Brody, Edi Gathegi, Otmara Marrero, Krist...</td>\n",
       "      <td>8.0</td>\n",
       "      <td>18165</td>\n",
       "      <td>2016–2018</td>\n",
       "    </tr>\n",
       "    <tr>\n",
       "      <th>4</th>\n",
       "      <td>Game of Thrones</td>\n",
       "      <td>Nine noble families fight for control over the...</td>\n",
       "      <td>Action, Adventure, Drama</td>\n",
       "      <td>Emilia Clarke, Peter Dinklage, Kit Harington, ...</td>\n",
       "      <td>9.3</td>\n",
       "      <td>1823966</td>\n",
       "      <td>2011–2019</td>\n",
       "    </tr>\n",
       "    <tr>\n",
       "      <th>...</th>\n",
       "      <td>...</td>\n",
       "      <td>...</td>\n",
       "      <td>...</td>\n",
       "      <td>...</td>\n",
       "      <td>...</td>\n",
       "      <td>...</td>\n",
       "      <td>...</td>\n",
       "    </tr>\n",
       "    <tr>\n",
       "      <th>2826</th>\n",
       "      <td>A Drop of True Blood</td>\n",
       "      <td>A kids' show centered around a special agent-i...</td>\n",
       "      <td>Short, Drama, Fantasy</td>\n",
       "      <td>Claudia Abrego, Ryan Kwanten, Stephen Moyer, A...</td>\n",
       "      <td>8.1</td>\n",
       "      <td>572</td>\n",
       "      <td>2010–</td>\n",
       "    </tr>\n",
       "    <tr>\n",
       "      <th>2827</th>\n",
       "      <td>Yu-Gi-Oh! GX</td>\n",
       "      <td>An anthology series in which each episode is a...</td>\n",
       "      <td>Animation, Action, Adventure</td>\n",
       "      <td>Matthew Labyorteaux, Wayne Grayson, Tony Saler...</td>\n",
       "      <td>6.8</td>\n",
       "      <td>4115</td>\n",
       "      <td>2004–2008</td>\n",
       "    </tr>\n",
       "    <tr>\n",
       "      <th>2828</th>\n",
       "      <td>Special Agent Oso</td>\n",
       "      <td>Four teenage heroes-for-hire warp through the ...</td>\n",
       "      <td>Animation, Action, Adventure</td>\n",
       "      <td>Meghan Strange, Gary Anthony Williams, Sean As...</td>\n",
       "      <td>5.2</td>\n",
       "      <td>475</td>\n",
       "      <td>2009–2012</td>\n",
       "    </tr>\n",
       "    <tr>\n",
       "      <th>2829</th>\n",
       "      <td>Metal Hurlant Chronicles</td>\n",
       "      <td>An expose on the U.S. government's secret prog...</td>\n",
       "      <td>Action, Sci-Fi</td>\n",
       "      <td>Scott Adkins, Karl E. Landler, Dominique Pinon...</td>\n",
       "      <td>5.8</td>\n",
       "      <td>1630</td>\n",
       "      <td>2012–2014</td>\n",
       "    </tr>\n",
       "    <tr>\n",
       "      <th>2830</th>\n",
       "      <td>Bravest Warriors</td>\n",
       "      <td>The adventures of young H.G. Wells and his tim...</td>\n",
       "      <td>Animation, Action, Adventure</td>\n",
       "      <td>Liliana Mumy, John Omohundro, Ian Jones-Quarte...</td>\n",
       "      <td>8.1</td>\n",
       "      <td>3187</td>\n",
       "      <td>2012–</td>\n",
       "    </tr>\n",
       "  </tbody>\n",
       "</table>\n",
       "<p>2831 rows × 7 columns</p>\n",
       "</div>"
      ],
      "text/plain": [
       "                         Title  \\\n",
       "0               The Family Man   \n",
       "1                      Lucifer   \n",
       "2          The Handmaid's Tale   \n",
       "3                      StartUp   \n",
       "4              Game of Thrones   \n",
       "...                        ...   \n",
       "2826      A Drop of True Blood   \n",
       "2827              Yu-Gi-Oh! GX   \n",
       "2828         Special Agent Oso   \n",
       "2829  Metal Hurlant Chronicles   \n",
       "2830          Bravest Warriors   \n",
       "\n",
       "                                                  About  \\\n",
       "0     A working man from the National Investigation ...   \n",
       "1     Lucifer Morningstar has decided he's had enoug...   \n",
       "2     Set in a dystopian future, a woman is forced t...   \n",
       "3     A desperate banker, a Haitian-American gang lo...   \n",
       "4     Nine noble families fight for control over the...   \n",
       "...                                                 ...   \n",
       "2826  A kids' show centered around a special agent-i...   \n",
       "2827  An anthology series in which each episode is a...   \n",
       "2828  Four teenage heroes-for-hire warp through the ...   \n",
       "2829  An expose on the U.S. government's secret prog...   \n",
       "2830  The adventures of young H.G. Wells and his tim...   \n",
       "\n",
       "                            Genres  \\\n",
       "0            Action, Comedy, Drama   \n",
       "1            Crime, Drama, Fantasy   \n",
       "2          Drama, Sci-Fi, Thriller   \n",
       "3                  Crime, Thriller   \n",
       "4         Action, Adventure, Drama   \n",
       "...                            ...   \n",
       "2826         Short, Drama, Fantasy   \n",
       "2827  Animation, Action, Adventure   \n",
       "2828  Animation, Action, Adventure   \n",
       "2829                Action, Sci-Fi   \n",
       "2830  Animation, Action, Adventure   \n",
       "\n",
       "                                                 Actors  Rating    Votes  \\\n",
       "0     Manoj Bajpayee, Samantha Akkineni, Priyamani, ...     8.8    57632   \n",
       "1     Tom Ellis, Lauren German, Lesley-Ann Brandt, K...     8.1   252826   \n",
       "2     Elisabeth Moss, Yvonne Strahovski, Joseph Fien...     8.4   187007   \n",
       "3     Adam Brody, Edi Gathegi, Otmara Marrero, Krist...     8.0    18165   \n",
       "4     Emilia Clarke, Peter Dinklage, Kit Harington, ...     9.3  1823966   \n",
       "...                                                 ...     ...      ...   \n",
       "2826  Claudia Abrego, Ryan Kwanten, Stephen Moyer, A...     8.1      572   \n",
       "2827  Matthew Labyorteaux, Wayne Grayson, Tony Saler...     6.8     4115   \n",
       "2828  Meghan Strange, Gary Anthony Williams, Sean As...     5.2      475   \n",
       "2829  Scott Adkins, Karl E. Landler, Dominique Pinon...     5.8     1630   \n",
       "2830  Liliana Mumy, John Omohundro, Ian Jones-Quarte...     8.1     3187   \n",
       "\n",
       "          Years  \n",
       "0        2019–   \n",
       "1        2016–   \n",
       "2        2017–   \n",
       "3     2016–2018  \n",
       "4     2011–2019  \n",
       "...         ...  \n",
       "2826     2010–   \n",
       "2827  2004–2008  \n",
       "2828  2009–2012  \n",
       "2829  2012–2014  \n",
       "2830     2012–   \n",
       "\n",
       "[2831 rows x 7 columns]"
      ]
     },
     "execution_count": 56,
     "metadata": {},
     "output_type": "execute_result"
    }
   ],
   "source": [
    "# Run this cell to load the dataset.\n",
    "tv_shows = bpd.read_csv('data/tv_shows.csv')\n",
    "tv_shows"
   ]
  },
  {
   "cell_type": "markdown",
   "metadata": {},
   "source": [
    "**Question 2.1.** If you look at the `'Years'` column in the DataFrame, you'll notice that most of the year ranges are separated by en dashes (`–`). Note that if a show was still on air at the time of data collection, its value in the `'Years'` column will end with an en dash. For example, in the first row of the DataFrame, the value in the `'Years'` column is `'2019–'`, meaning that the show has been airing since 2019. The presence of en dashes indicates that the `'Years'` column contains strings, not ints, since Python never displays ints separated by en dashes.\n",
    "\n",
    "Complete the implementation of the function `extract_start_year_as_int`, which takes as input a string `v` representing a year range, like the values listed in the DataFrame above, and outputs the start year of `v` as an int. For example, passing in the string `'2016–2018'` to the function should return the int `2016`.\n",
    "\n",
    "Then, use your function to add a column called `'StartYear'` to the `tv_shows` DataFrame that contains the start year of each show as an integer. You should directly modify the `tv_shows` DataFrame for this question.\n",
    "\n",
    "\n",
    "**_Hints:_** \n",
    "- En dashes (`–`) are **not** the same as hyphens (`-`)! The easiest way to get an en dash is to **copy it from here**: `–`.\n",
    "- The string method [`.split()`](https://docs.python.org/3/library/stdtypes.html#str.split) will be helpful.\n"
   ]
  },
  {
   "cell_type": "code",
   "execution_count": 57,
   "metadata": {},
   "outputs": [],
   "source": [
    "def extract_start_year_as_int(v):\n",
    "    return int(v.split('–')[0])"
   ]
  },
  {
   "cell_type": "code",
   "execution_count": 58,
   "metadata": {},
   "outputs": [
    {
     "data": {
      "text/plain": [
       "2016"
      ]
     },
     "execution_count": 58,
     "metadata": {},
     "output_type": "execute_result"
    }
   ],
   "source": [
    "extract_start_year_as_int('2016–2018')"
   ]
  },
  {
   "cell_type": "code",
   "execution_count": 59,
   "metadata": {},
   "outputs": [
    {
     "data": {
      "text/html": [
       "<div>\n",
       "<style scoped>\n",
       "    .dataframe tbody tr th:only-of-type {\n",
       "        vertical-align: middle;\n",
       "    }\n",
       "\n",
       "    .dataframe tbody tr th {\n",
       "        vertical-align: top;\n",
       "    }\n",
       "\n",
       "    .dataframe thead th {\n",
       "        text-align: right;\n",
       "    }\n",
       "</style>\n",
       "<table border=\"1\" class=\"dataframe\">\n",
       "  <thead>\n",
       "    <tr style=\"text-align: right;\">\n",
       "      <th></th>\n",
       "      <th>Title</th>\n",
       "      <th>About</th>\n",
       "      <th>Genres</th>\n",
       "      <th>Actors</th>\n",
       "      <th>Rating</th>\n",
       "      <th>Votes</th>\n",
       "      <th>Years</th>\n",
       "      <th>StartYear</th>\n",
       "    </tr>\n",
       "  </thead>\n",
       "  <tbody>\n",
       "    <tr>\n",
       "      <th>0</th>\n",
       "      <td>The Family Man</td>\n",
       "      <td>A working man from the National Investigation ...</td>\n",
       "      <td>Action, Comedy, Drama</td>\n",
       "      <td>Manoj Bajpayee, Samantha Akkineni, Priyamani, ...</td>\n",
       "      <td>8.8</td>\n",
       "      <td>57632</td>\n",
       "      <td>2019–</td>\n",
       "      <td>2019</td>\n",
       "    </tr>\n",
       "    <tr>\n",
       "      <th>1</th>\n",
       "      <td>Lucifer</td>\n",
       "      <td>Lucifer Morningstar has decided he's had enoug...</td>\n",
       "      <td>Crime, Drama, Fantasy</td>\n",
       "      <td>Tom Ellis, Lauren German, Lesley-Ann Brandt, K...</td>\n",
       "      <td>8.1</td>\n",
       "      <td>252826</td>\n",
       "      <td>2016–</td>\n",
       "      <td>2016</td>\n",
       "    </tr>\n",
       "    <tr>\n",
       "      <th>2</th>\n",
       "      <td>The Handmaid's Tale</td>\n",
       "      <td>Set in a dystopian future, a woman is forced t...</td>\n",
       "      <td>Drama, Sci-Fi, Thriller</td>\n",
       "      <td>Elisabeth Moss, Yvonne Strahovski, Joseph Fien...</td>\n",
       "      <td>8.4</td>\n",
       "      <td>187007</td>\n",
       "      <td>2017–</td>\n",
       "      <td>2017</td>\n",
       "    </tr>\n",
       "    <tr>\n",
       "      <th>3</th>\n",
       "      <td>StartUp</td>\n",
       "      <td>A desperate banker, a Haitian-American gang lo...</td>\n",
       "      <td>Crime, Thriller</td>\n",
       "      <td>Adam Brody, Edi Gathegi, Otmara Marrero, Krist...</td>\n",
       "      <td>8.0</td>\n",
       "      <td>18165</td>\n",
       "      <td>2016–2018</td>\n",
       "      <td>2016</td>\n",
       "    </tr>\n",
       "    <tr>\n",
       "      <th>4</th>\n",
       "      <td>Game of Thrones</td>\n",
       "      <td>Nine noble families fight for control over the...</td>\n",
       "      <td>Action, Adventure, Drama</td>\n",
       "      <td>Emilia Clarke, Peter Dinklage, Kit Harington, ...</td>\n",
       "      <td>9.3</td>\n",
       "      <td>1823966</td>\n",
       "      <td>2011–2019</td>\n",
       "      <td>2011</td>\n",
       "    </tr>\n",
       "    <tr>\n",
       "      <th>...</th>\n",
       "      <td>...</td>\n",
       "      <td>...</td>\n",
       "      <td>...</td>\n",
       "      <td>...</td>\n",
       "      <td>...</td>\n",
       "      <td>...</td>\n",
       "      <td>...</td>\n",
       "      <td>...</td>\n",
       "    </tr>\n",
       "    <tr>\n",
       "      <th>2826</th>\n",
       "      <td>A Drop of True Blood</td>\n",
       "      <td>A kids' show centered around a special agent-i...</td>\n",
       "      <td>Short, Drama, Fantasy</td>\n",
       "      <td>Claudia Abrego, Ryan Kwanten, Stephen Moyer, A...</td>\n",
       "      <td>8.1</td>\n",
       "      <td>572</td>\n",
       "      <td>2010–</td>\n",
       "      <td>2010</td>\n",
       "    </tr>\n",
       "    <tr>\n",
       "      <th>2827</th>\n",
       "      <td>Yu-Gi-Oh! GX</td>\n",
       "      <td>An anthology series in which each episode is a...</td>\n",
       "      <td>Animation, Action, Adventure</td>\n",
       "      <td>Matthew Labyorteaux, Wayne Grayson, Tony Saler...</td>\n",
       "      <td>6.8</td>\n",
       "      <td>4115</td>\n",
       "      <td>2004–2008</td>\n",
       "      <td>2004</td>\n",
       "    </tr>\n",
       "    <tr>\n",
       "      <th>2828</th>\n",
       "      <td>Special Agent Oso</td>\n",
       "      <td>Four teenage heroes-for-hire warp through the ...</td>\n",
       "      <td>Animation, Action, Adventure</td>\n",
       "      <td>Meghan Strange, Gary Anthony Williams, Sean As...</td>\n",
       "      <td>5.2</td>\n",
       "      <td>475</td>\n",
       "      <td>2009–2012</td>\n",
       "      <td>2009</td>\n",
       "    </tr>\n",
       "    <tr>\n",
       "      <th>2829</th>\n",
       "      <td>Metal Hurlant Chronicles</td>\n",
       "      <td>An expose on the U.S. government's secret prog...</td>\n",
       "      <td>Action, Sci-Fi</td>\n",
       "      <td>Scott Adkins, Karl E. Landler, Dominique Pinon...</td>\n",
       "      <td>5.8</td>\n",
       "      <td>1630</td>\n",
       "      <td>2012–2014</td>\n",
       "      <td>2012</td>\n",
       "    </tr>\n",
       "    <tr>\n",
       "      <th>2830</th>\n",
       "      <td>Bravest Warriors</td>\n",
       "      <td>The adventures of young H.G. Wells and his tim...</td>\n",
       "      <td>Animation, Action, Adventure</td>\n",
       "      <td>Liliana Mumy, John Omohundro, Ian Jones-Quarte...</td>\n",
       "      <td>8.1</td>\n",
       "      <td>3187</td>\n",
       "      <td>2012–</td>\n",
       "      <td>2012</td>\n",
       "    </tr>\n",
       "  </tbody>\n",
       "</table>\n",
       "<p>2831 rows × 8 columns</p>\n",
       "</div>"
      ],
      "text/plain": [
       "                         Title  \\\n",
       "0               The Family Man   \n",
       "1                      Lucifer   \n",
       "2          The Handmaid's Tale   \n",
       "3                      StartUp   \n",
       "4              Game of Thrones   \n",
       "...                        ...   \n",
       "2826      A Drop of True Blood   \n",
       "2827              Yu-Gi-Oh! GX   \n",
       "2828         Special Agent Oso   \n",
       "2829  Metal Hurlant Chronicles   \n",
       "2830          Bravest Warriors   \n",
       "\n",
       "                                                  About  \\\n",
       "0     A working man from the National Investigation ...   \n",
       "1     Lucifer Morningstar has decided he's had enoug...   \n",
       "2     Set in a dystopian future, a woman is forced t...   \n",
       "3     A desperate banker, a Haitian-American gang lo...   \n",
       "4     Nine noble families fight for control over the...   \n",
       "...                                                 ...   \n",
       "2826  A kids' show centered around a special agent-i...   \n",
       "2827  An anthology series in which each episode is a...   \n",
       "2828  Four teenage heroes-for-hire warp through the ...   \n",
       "2829  An expose on the U.S. government's secret prog...   \n",
       "2830  The adventures of young H.G. Wells and his tim...   \n",
       "\n",
       "                            Genres  \\\n",
       "0            Action, Comedy, Drama   \n",
       "1            Crime, Drama, Fantasy   \n",
       "2          Drama, Sci-Fi, Thriller   \n",
       "3                  Crime, Thriller   \n",
       "4         Action, Adventure, Drama   \n",
       "...                            ...   \n",
       "2826         Short, Drama, Fantasy   \n",
       "2827  Animation, Action, Adventure   \n",
       "2828  Animation, Action, Adventure   \n",
       "2829                Action, Sci-Fi   \n",
       "2830  Animation, Action, Adventure   \n",
       "\n",
       "                                                 Actors  Rating    Votes  \\\n",
       "0     Manoj Bajpayee, Samantha Akkineni, Priyamani, ...     8.8    57632   \n",
       "1     Tom Ellis, Lauren German, Lesley-Ann Brandt, K...     8.1   252826   \n",
       "2     Elisabeth Moss, Yvonne Strahovski, Joseph Fien...     8.4   187007   \n",
       "3     Adam Brody, Edi Gathegi, Otmara Marrero, Krist...     8.0    18165   \n",
       "4     Emilia Clarke, Peter Dinklage, Kit Harington, ...     9.3  1823966   \n",
       "...                                                 ...     ...      ...   \n",
       "2826  Claudia Abrego, Ryan Kwanten, Stephen Moyer, A...     8.1      572   \n",
       "2827  Matthew Labyorteaux, Wayne Grayson, Tony Saler...     6.8     4115   \n",
       "2828  Meghan Strange, Gary Anthony Williams, Sean As...     5.2      475   \n",
       "2829  Scott Adkins, Karl E. Landler, Dominique Pinon...     5.8     1630   \n",
       "2830  Liliana Mumy, John Omohundro, Ian Jones-Quarte...     8.1     3187   \n",
       "\n",
       "          Years  StartYear  \n",
       "0        2019–        2019  \n",
       "1        2016–        2016  \n",
       "2        2017–        2017  \n",
       "3     2016–2018       2016  \n",
       "4     2011–2019       2011  \n",
       "...         ...        ...  \n",
       "2826     2010–        2010  \n",
       "2827  2004–2008       2004  \n",
       "2828  2009–2012       2009  \n",
       "2829  2012–2014       2012  \n",
       "2830     2012–        2012  \n",
       "\n",
       "[2831 rows x 8 columns]"
      ]
     },
     "execution_count": 59,
     "metadata": {},
     "output_type": "execute_result"
    }
   ],
   "source": [
    "tv_shows = tv_shows.assign(StartYear=tv_shows.get('Years').apply(extract_start_year_as_int))\n",
    "tv_shows"
   ]
  },
  {
   "cell_type": "code",
   "execution_count": 60,
   "metadata": {},
   "outputs": [
    {
     "data": {
      "text/plain": [
       "(2831, 8)"
      ]
     },
     "execution_count": 60,
     "metadata": {},
     "output_type": "execute_result"
    }
   ],
   "source": [
    "tv_shows.shape"
   ]
  },
  {
   "cell_type": "code",
   "execution_count": 61,
   "metadata": {},
   "outputs": [
    {
     "data": {
      "text/plain": [
       "True"
      ]
     },
     "execution_count": 61,
     "metadata": {},
     "output_type": "execute_result"
    }
   ],
   "source": [
    "tv_shows.shape == (2831, 8)"
   ]
  },
  {
   "cell_type": "code",
   "execution_count": 62,
   "metadata": {},
   "outputs": [
    {
     "data": {
      "text/plain": [
       "Index(['Title', 'About', 'Genres', 'Actors', 'Rating', 'Votes', 'Years',\n",
       "       'StartYear'],\n",
       "      dtype='object')"
      ]
     },
     "execution_count": 62,
     "metadata": {},
     "output_type": "execute_result"
    }
   ],
   "source": [
    "tv_shows.columns"
   ]
  },
  {
   "cell_type": "code",
   "execution_count": 63,
   "metadata": {
    "deletable": false,
    "editable": false
   },
   "outputs": [
    {
     "data": {
      "text/html": [
       "<p><strong><pre style='display: inline;'>q2_1</pre></strong> passed!</p>"
      ],
      "text/plain": [
       "q2_1 results: All test cases passed!"
      ]
     },
     "execution_count": 63,
     "metadata": {},
     "output_type": "execute_result"
    }
   ],
   "source": [
    "grader.check(\"q2_1\")"
   ]
  },
  {
   "cell_type": "markdown",
   "metadata": {},
   "source": [
    "**Question 2.2.** You've been starting to feel that TV shows are just not as good as they used to be.  Create an appropriate plot that shows the relationship between the `'StartYear'` and the `'Rating'` of each show in `tv_shows`."
   ]
  },
  {
   "cell_type": "code",
   "execution_count": 64,
   "metadata": {},
   "outputs": [
    {
     "data": {
      "image/png": "[encoded data removed]",
      "text/plain": [
       "<Figure size 720x360 with 1 Axes>"
      ]
     },
     "metadata": {},
     "output_type": "display_data"
    }
   ],
   "source": [
    "# Create your plot here.\n",
    "tv_shows.plot(kind='scatter', x='StartYear', y='Rating');"
   ]
  },
  {
   "cell_type": "markdown",
   "metadata": {},
   "source": [
    "Unfortunately, this plot is not very informative. Instead, make a plot that shows how the **median** `'Rating'` of all shows from a given `'StartYear'` has changed over time. "
   ]
  },
  {
   "cell_type": "code",
   "execution_count": 65,
   "metadata": {},
   "outputs": [
    {
     "data": {
      "text/html": [
       "<div>\n",
       "<style scoped>\n",
       "    .dataframe tbody tr th:only-of-type {\n",
       "        vertical-align: middle;\n",
       "    }\n",
       "\n",
       "    .dataframe tbody tr th {\n",
       "        vertical-align: top;\n",
       "    }\n",
       "\n",
       "    .dataframe thead th {\n",
       "        text-align: right;\n",
       "    }\n",
       "</style>\n",
       "<table border=\"1\" class=\"dataframe\">\n",
       "  <thead>\n",
       "    <tr style=\"text-align: right;\">\n",
       "      <th></th>\n",
       "      <th>Rating</th>\n",
       "      <th>Votes</th>\n",
       "    </tr>\n",
       "    <tr>\n",
       "      <th>StartYear</th>\n",
       "      <th></th>\n",
       "      <th></th>\n",
       "    </tr>\n",
       "  </thead>\n",
       "  <tbody>\n",
       "    <tr>\n",
       "      <th>2001</th>\n",
       "      <td>7.40</td>\n",
       "      <td>5755.0</td>\n",
       "    </tr>\n",
       "    <tr>\n",
       "      <th>2002</th>\n",
       "      <td>7.25</td>\n",
       "      <td>6313.0</td>\n",
       "    </tr>\n",
       "    <tr>\n",
       "      <th>2003</th>\n",
       "      <td>7.45</td>\n",
       "      <td>8914.0</td>\n",
       "    </tr>\n",
       "    <tr>\n",
       "      <th>2004</th>\n",
       "      <td>7.60</td>\n",
       "      <td>7865.0</td>\n",
       "    </tr>\n",
       "    <tr>\n",
       "      <th>2005</th>\n",
       "      <td>7.70</td>\n",
       "      <td>7702.0</td>\n",
       "    </tr>\n",
       "    <tr>\n",
       "      <th>...</th>\n",
       "      <td>...</td>\n",
       "      <td>...</td>\n",
       "    </tr>\n",
       "    <tr>\n",
       "      <th>2016</th>\n",
       "      <td>7.50</td>\n",
       "      <td>4788.0</td>\n",
       "    </tr>\n",
       "    <tr>\n",
       "      <th>2017</th>\n",
       "      <td>7.40</td>\n",
       "      <td>3518.5</td>\n",
       "    </tr>\n",
       "    <tr>\n",
       "      <th>2018</th>\n",
       "      <td>7.40</td>\n",
       "      <td>3434.0</td>\n",
       "    </tr>\n",
       "    <tr>\n",
       "      <th>2019</th>\n",
       "      <td>7.30</td>\n",
       "      <td>2367.5</td>\n",
       "    </tr>\n",
       "    <tr>\n",
       "      <th>2020</th>\n",
       "      <td>6.90</td>\n",
       "      <td>2510.0</td>\n",
       "    </tr>\n",
       "  </tbody>\n",
       "</table>\n",
       "<p>20 rows × 2 columns</p>\n",
       "</div>"
      ],
      "text/plain": [
       "           Rating   Votes\n",
       "StartYear                \n",
       "2001         7.40  5755.0\n",
       "2002         7.25  6313.0\n",
       "2003         7.45  8914.0\n",
       "2004         7.60  7865.0\n",
       "2005         7.70  7702.0\n",
       "...           ...     ...\n",
       "2016         7.50  4788.0\n",
       "2017         7.40  3518.5\n",
       "2018         7.40  3434.0\n",
       "2019         7.30  2367.5\n",
       "2020         6.90  2510.0\n",
       "\n",
       "[20 rows x 2 columns]"
      ]
     },
     "execution_count": 65,
     "metadata": {},
     "output_type": "execute_result"
    }
   ],
   "source": [
    "tv_shows_by_year = tv_shows.groupby('StartYear').median()#.get('Rating').median()\n",
    "tv_shows_by_year"
   ]
  },
  {
   "cell_type": "code",
   "execution_count": 66,
   "metadata": {},
   "outputs": [
    {
     "data": {
      "text/plain": [
       "babypandas.bpd.Series"
      ]
     },
     "execution_count": 66,
     "metadata": {},
     "output_type": "execute_result"
    }
   ],
   "source": [
    "type(tv_shows_by_year.get('Rating'))"
   ]
  },
  {
   "cell_type": "code",
   "execution_count": 67,
   "metadata": {},
   "outputs": [
    {
     "data": {
      "text/plain": [
       "array([7.4 , 7.25, 7.45, 7.6 , 7.7 , 7.6 , 7.55, 7.6 , 7.6 , 7.6 , 7.5 ,\n",
       "       7.6 , 7.55, 7.5 , 7.55, 7.5 , 7.4 , 7.4 , 7.3 , 6.9 ])"
      ]
     },
     "execution_count": 67,
     "metadata": {},
     "output_type": "execute_result"
    }
   ],
   "source": [
    "tv_shows_by_year.get('Rating').values"
   ]
  },
  {
   "cell_type": "code",
   "execution_count": 68,
   "metadata": {},
   "outputs": [
    {
     "data": {
      "image/png": "[encoded data removed]",
      "text/plain": [
       "<Figure size 720x360 with 1 Axes>"
      ]
     },
     "metadata": {},
     "output_type": "display_data"
    }
   ],
   "source": [
    "# Create your plot here.\n",
    "tv_shows_by_year.plot(kind='line', y='Rating', xticks=np.arange(2001, 2021));"
   ]
  },
  {
   "cell_type": "markdown",
   "metadata": {},
   "source": [
    "Now, use the second plot you made to determine whether TV shows are as good as they used to be. Choose the most accurate statement below and assign an integer from 1 to 3 to the variable `q2_2`.\n",
    "\n",
    "1. TV shows have been getting worse since 2000.\n",
    "2. TV shows were getting worse until 2005, and since then, they have improved.\n",
    "3. TV shows have been getting worse since 2005."
   ]
  },
  {
   "cell_type": "code",
   "execution_count": 69,
   "metadata": {},
   "outputs": [
    {
     "data": {
      "text/plain": [
       "3"
      ]
     },
     "execution_count": 69,
     "metadata": {},
     "output_type": "execute_result"
    }
   ],
   "source": [
    "q2_2 = 3\n",
    "q2_2"
   ]
  },
  {
   "cell_type": "code",
   "execution_count": 70,
   "metadata": {
    "deletable": false,
    "editable": false
   },
   "outputs": [
    {
     "data": {
      "text/html": [
       "<p><strong><pre style='display: inline;'>q2_2</pre></strong> passed!</p>"
      ],
      "text/plain": [
       "q2_2 results: All test cases passed!"
      ]
     },
     "execution_count": 70,
     "metadata": {},
     "output_type": "execute_result"
    }
   ],
   "source": [
    "grader.check(\"q2_2\")"
   ]
  },
  {
   "cell_type": "markdown",
   "metadata": {},
   "source": [
    "**Question 2.3.** Assign `most_common_genres` to a DataFrame that contains the five most common genre combinations of TV shows in our dataset, in descending order of popularity. The DataFrame should be indexed by `'Genres'` and have only one column, `'Count'`, which is the number of TV shows of that genre combination.\n",
    "\n",
    "**_Note:_**  For this question, each TV show is assicated with one set of genres, which determines its genre combination. For example, `'Action, Adventure, Drama'` is one genre combination. `'Drama'`, by itself, is another genre combination."
   ]
  },
  {
   "cell_type": "code",
   "execution_count": 71,
   "metadata": {},
   "outputs": [
    {
     "data": {
      "text/plain": [
       "Genres\n",
       "Comedy                              270\n",
       "Drama                               180\n",
       "Crime, Drama, Mystery               173\n",
       "Animation, Action, Adventure        142\n",
       "Comedy, Drama                       107\n",
       "                                   ... \n",
       "Documentary, Comedy                   1\n",
       "Documentary, Comedy, Crime            1\n",
       "Documentary, Comedy, Horror           1\n",
       "Adventure, Game-Show, Reality-TV      1\n",
       "Comedy, History, Romance              1\n",
       "Name: Count, Length: 332, dtype: int64"
      ]
     },
     "execution_count": 71,
     "metadata": {},
     "output_type": "execute_result"
    }
   ],
   "source": [
    "groupby_genres = tv_shows.groupby('Genres').count()\n",
    "groupby_genres = groupby_genres.assign(Count=groupby_genres.get('Title')).sort_values(by='Count', ascending=False).get('Count')\n",
    "groupby_genres"
   ]
  },
  {
   "cell_type": "code",
   "execution_count": 72,
   "metadata": {},
   "outputs": [
    {
     "data": {
      "text/plain": [
       "babypandas.bpd.Series"
      ]
     },
     "execution_count": 72,
     "metadata": {},
     "output_type": "execute_result"
    }
   ],
   "source": [
    "type(groupby_genres)"
   ]
  },
  {
   "cell_type": "code",
   "execution_count": 73,
   "metadata": {},
   "outputs": [
    {
     "data": {
      "text/plain": [
       "Genres\n",
       "Comedy                          270\n",
       "Drama                           180\n",
       "Crime, Drama, Mystery           173\n",
       "Animation, Action, Adventure    142\n",
       "Comedy, Drama                   107\n",
       "Reality-TV                       94\n",
       "Action, Crime, Drama             81\n",
       "Crime, Drama                     62\n",
       "Drama, Romance                   60\n",
       "Crime, Drama, Thriller           60\n",
       "Name: Count, dtype: int64"
      ]
     },
     "execution_count": 73,
     "metadata": {},
     "output_type": "execute_result"
    }
   ],
   "source": [
    "groupby_genres.iloc[:10]"
   ]
  },
  {
   "cell_type": "code",
   "execution_count": 74,
   "metadata": {},
   "outputs": [
    {
     "data": {
      "text/plain": [
       "Genres\n",
       "Comedy                          270\n",
       "Drama                           180\n",
       "Crime, Drama, Mystery           173\n",
       "Animation, Action, Adventure    142\n",
       "Comedy, Drama                   107\n",
       "Name: Count, dtype: int64"
      ]
     },
     "execution_count": 74,
     "metadata": {},
     "output_type": "execute_result"
    }
   ],
   "source": [
    "top_5_genres = groupby_genres.iloc[:5]\n",
    "top_5_genres"
   ]
  },
  {
   "cell_type": "code",
   "execution_count": 75,
   "metadata": {},
   "outputs": [
    {
     "data": {
      "text/html": [
       "<div>\n",
       "<style scoped>\n",
       "    .dataframe tbody tr th:only-of-type {\n",
       "        vertical-align: middle;\n",
       "    }\n",
       "\n",
       "    .dataframe tbody tr th {\n",
       "        vertical-align: top;\n",
       "    }\n",
       "\n",
       "    .dataframe thead th {\n",
       "        text-align: right;\n",
       "    }\n",
       "</style>\n",
       "<table border=\"1\" class=\"dataframe\">\n",
       "  <thead>\n",
       "    <tr style=\"text-align: right;\">\n",
       "      <th></th>\n",
       "      <th>Count</th>\n",
       "    </tr>\n",
       "    <tr>\n",
       "      <th>Genres</th>\n",
       "      <th></th>\n",
       "    </tr>\n",
       "  </thead>\n",
       "  <tbody>\n",
       "    <tr>\n",
       "      <th>Comedy</th>\n",
       "      <td>270</td>\n",
       "    </tr>\n",
       "    <tr>\n",
       "      <th>Drama</th>\n",
       "      <td>180</td>\n",
       "    </tr>\n",
       "    <tr>\n",
       "      <th>Crime, Drama, Mystery</th>\n",
       "      <td>173</td>\n",
       "    </tr>\n",
       "    <tr>\n",
       "      <th>Animation, Action, Adventure</th>\n",
       "      <td>142</td>\n",
       "    </tr>\n",
       "    <tr>\n",
       "      <th>Comedy, Drama</th>\n",
       "      <td>107</td>\n",
       "    </tr>\n",
       "  </tbody>\n",
       "</table>\n",
       "</div>"
      ],
      "text/plain": [
       "                              Count\n",
       "Genres                             \n",
       "Comedy                          270\n",
       "Drama                           180\n",
       "Crime, Drama, Mystery           173\n",
       "Animation, Action, Adventure    142\n",
       "Comedy, Drama                   107"
      ]
     },
     "execution_count": 75,
     "metadata": {},
     "output_type": "execute_result"
    }
   ],
   "source": [
    "most_common_genres = bpd.DataFrame().assign(\n",
    "    Count=top_5_genres)\n",
    "most_common_genres"
   ]
  },
  {
   "cell_type": "code",
   "execution_count": 76,
   "metadata": {
    "deletable": false,
    "editable": false
   },
   "outputs": [
    {
     "data": {
      "text/html": [
       "<p><strong><pre style='display: inline;'>q2_3</pre></strong> passed!</p>"
      ],
      "text/plain": [
       "q2_3 results: All test cases passed!"
      ]
     },
     "execution_count": 76,
     "metadata": {},
     "output_type": "execute_result"
    }
   ],
   "source": [
    "grader.check(\"q2_3\")"
   ]
  },
  {
   "cell_type": "markdown",
   "metadata": {},
   "source": [
    "**Question 2.4.** Using the `most_common_genres` DataFrame you created in Question 2.3, create a horizontal bar chart that shows the distribution of TV shows into these five genre combinations. Make sure the bars are sorted such that the most common genre appears as the top-most bar in the bar chart."
   ]
  },
  {
   "cell_type": "markdown",
   "metadata": {
    "deletable": false,
    "editable": false
   },
   "source": [
    "<!-- BEGIN QUESTION -->\n",
    "\n",
    "<!--\n",
    "BEGIN QUESTION\n",
    "name: q2_4\n",
    "manual: true\n",
    "-->"
   ]
  },
  {
   "cell_type": "code",
   "execution_count": 77,
   "metadata": {},
   "outputs": [
    {
     "data": {
      "image/png": "[encoded data removed]",
      "text/plain": [
       "<Figure size 720x360 with 1 Axes>"
      ]
     },
     "metadata": {},
     "output_type": "display_data"
    }
   ],
   "source": [
    "# Create your bar chart here.\n",
    "most_common_genres.plot(kind='barh', y='Count').invert_yaxis();"
   ]
  },
  {
   "cell_type": "markdown",
   "metadata": {},
   "source": [
    "<!-- END QUESTION -->\n",
    "\n",
    "\n",
    "\n",
    "**Question 2.5.** Assign the variable `third_highest` to the genre combination with the third highest average overall `'Rating'` (*not* the third highest frequency), among all genre combinations in `tv_shows`.\n",
    "\n",
    "Do not manually type out your answer. Use `babypandas` methods to produce the answer."
   ]
  },
  {
   "cell_type": "code",
   "execution_count": 78,
   "metadata": {},
   "outputs": [
    {
     "data": {
      "text/html": [
       "<div>\n",
       "<style scoped>\n",
       "    .dataframe tbody tr th:only-of-type {\n",
       "        vertical-align: middle;\n",
       "    }\n",
       "\n",
       "    .dataframe tbody tr th {\n",
       "        vertical-align: top;\n",
       "    }\n",
       "\n",
       "    .dataframe thead th {\n",
       "        text-align: right;\n",
       "    }\n",
       "</style>\n",
       "<table border=\"1\" class=\"dataframe\">\n",
       "  <thead>\n",
       "    <tr style=\"text-align: right;\">\n",
       "      <th></th>\n",
       "      <th>Rating</th>\n",
       "      <th>Votes</th>\n",
       "      <th>StartYear</th>\n",
       "    </tr>\n",
       "    <tr>\n",
       "      <th>Genres</th>\n",
       "      <th></th>\n",
       "      <th></th>\n",
       "      <th></th>\n",
       "    </tr>\n",
       "  </thead>\n",
       "  <tbody>\n",
       "    <tr>\n",
       "      <th>Mystery</th>\n",
       "      <td>9.4</td>\n",
       "      <td>43.0</td>\n",
       "      <td>2019.000000</td>\n",
       "    </tr>\n",
       "    <tr>\n",
       "      <th>Comedy, Fantasy, Music</th>\n",
       "      <td>9.4</td>\n",
       "      <td>32326.0</td>\n",
       "      <td>2011.000000</td>\n",
       "    </tr>\n",
       "    <tr>\n",
       "      <th>Adventure, Comedy, Mystery</th>\n",
       "      <td>9.2</td>\n",
       "      <td>4051.0</td>\n",
       "      <td>2002.000000</td>\n",
       "    </tr>\n",
       "    <tr>\n",
       "      <th>Comedy, News</th>\n",
       "      <td>9.2</td>\n",
       "      <td>309.0</td>\n",
       "      <td>2005.000000</td>\n",
       "    </tr>\n",
       "    <tr>\n",
       "      <th>Documentary, Comedy</th>\n",
       "      <td>8.9</td>\n",
       "      <td>21253.0</td>\n",
       "      <td>2013.000000</td>\n",
       "    </tr>\n",
       "    <tr>\n",
       "      <th>...</th>\n",
       "      <td>...</td>\n",
       "      <td>...</td>\n",
       "      <td>...</td>\n",
       "    </tr>\n",
       "    <tr>\n",
       "      <th>Game-Show, Reality-TV, Romance</th>\n",
       "      <td>4.5</td>\n",
       "      <td>2059.0</td>\n",
       "      <td>2006.000000</td>\n",
       "    </tr>\n",
       "    <tr>\n",
       "      <th>Comedy, Drama, Reality-TV</th>\n",
       "      <td>4.2</td>\n",
       "      <td>9152.0</td>\n",
       "      <td>2012.333333</td>\n",
       "    </tr>\n",
       "    <tr>\n",
       "      <th>Drama, Reality-TV, Talk-Show</th>\n",
       "      <td>4.0</td>\n",
       "      <td>3330.0</td>\n",
       "      <td>2002.000000</td>\n",
       "    </tr>\n",
       "    <tr>\n",
       "      <th>Drama, Game-Show, Reality-TV</th>\n",
       "      <td>3.3</td>\n",
       "      <td>5761.5</td>\n",
       "      <td>2002.500000</td>\n",
       "    </tr>\n",
       "    <tr>\n",
       "      <th>Drama, Family, Reality-TV</th>\n",
       "      <td>2.8</td>\n",
       "      <td>27331.0</td>\n",
       "      <td>2006.000000</td>\n",
       "    </tr>\n",
       "  </tbody>\n",
       "</table>\n",
       "<p>332 rows × 3 columns</p>\n",
       "</div>"
      ],
      "text/plain": [
       "                                Rating    Votes    StartYear\n",
       "Genres                                                      \n",
       "Mystery                            9.4     43.0  2019.000000\n",
       "Comedy, Fantasy, Music             9.4  32326.0  2011.000000\n",
       "Adventure, Comedy, Mystery         9.2   4051.0  2002.000000\n",
       "Comedy, News                       9.2    309.0  2005.000000\n",
       "Documentary, Comedy                8.9  21253.0  2013.000000\n",
       "...                                ...      ...          ...\n",
       "Game-Show, Reality-TV, Romance     4.5   2059.0  2006.000000\n",
       "Comedy, Drama, Reality-TV          4.2   9152.0  2012.333333\n",
       "Drama, Reality-TV, Talk-Show       4.0   3330.0  2002.000000\n",
       "Drama, Game-Show, Reality-TV       3.3   5761.5  2002.500000\n",
       "Drama, Family, Reality-TV          2.8  27331.0  2006.000000\n",
       "\n",
       "[332 rows x 3 columns]"
      ]
     },
     "execution_count": 78,
     "metadata": {},
     "output_type": "execute_result"
    }
   ],
   "source": [
    "shows_by_average_rating = tv_shows.groupby('Genres').mean().sort_values(by='Rating', ascending=False)\n",
    "shows_by_average_rating"
   ]
  },
  {
   "cell_type": "code",
   "execution_count": 79,
   "metadata": {},
   "outputs": [
    {
     "data": {
      "text/plain": [
       "'Adventure, Comedy, Mystery'"
      ]
     },
     "execution_count": 79,
     "metadata": {},
     "output_type": "execute_result"
    }
   ],
   "source": [
    "third_highest = tv_shows.groupby('Genres').mean().sort_values(by='Rating', ascending=False).index[2]\n",
    "third_highest"
   ]
  },
  {
   "cell_type": "code",
   "execution_count": 80,
   "metadata": {
    "deletable": false,
    "editable": false
   },
   "outputs": [
    {
     "data": {
      "text/html": [
       "<p><strong><pre style='display: inline;'>q2_5</pre></strong> passed!</p>"
      ],
      "text/plain": [
       "q2_5 results: All test cases passed!"
      ]
     },
     "execution_count": 80,
     "metadata": {},
     "output_type": "execute_result"
    }
   ],
   "source": [
    "grader.check(\"q2_5\")"
   ]
  },
  {
   "cell_type": "markdown",
   "metadata": {
    "deletable": false,
    "editable": false
   },
   "source": [
    "**Question 2.6.** Using the `'StartYear'` column, identify the year between 2001 and 2009 (inclusive) that has the lowest total number of `'Votes'` for TV shows released that year. Assign this year to the variable `lowest_01_09`.\n",
    "\n",
    "Please make sure to use `babypandas` methods to find your answer; you should not type in the year manually.\n",
    "\n",
    "<!--\n",
    "BEGIN QUESTION\n",
    "name: q2_6\n",
    "-->"
   ]
  },
  {
   "cell_type": "code",
   "execution_count": 81,
   "metadata": {},
   "outputs": [
    {
     "data": {
      "text/html": [
       "<div>\n",
       "<style scoped>\n",
       "    .dataframe tbody tr th:only-of-type {\n",
       "        vertical-align: middle;\n",
       "    }\n",
       "\n",
       "    .dataframe tbody tr th {\n",
       "        vertical-align: top;\n",
       "    }\n",
       "\n",
       "    .dataframe thead th {\n",
       "        text-align: right;\n",
       "    }\n",
       "</style>\n",
       "<table border=\"1\" class=\"dataframe\">\n",
       "  <thead>\n",
       "    <tr style=\"text-align: right;\">\n",
       "      <th></th>\n",
       "      <th>Title</th>\n",
       "      <th>About</th>\n",
       "      <th>Genres</th>\n",
       "      <th>Actors</th>\n",
       "      <th>Rating</th>\n",
       "      <th>Votes</th>\n",
       "      <th>Years</th>\n",
       "      <th>StartYear</th>\n",
       "    </tr>\n",
       "  </thead>\n",
       "  <tbody>\n",
       "    <tr>\n",
       "      <th>6</th>\n",
       "      <td>Grey's Anatomy</td>\n",
       "      <td>A drama centered on the personal and professio...</td>\n",
       "      <td>Drama, Romance</td>\n",
       "      <td>Ellen Pompeo, Chandra Wilson, James Pickens Jr...</td>\n",
       "      <td>7.5</td>\n",
       "      <td>261340</td>\n",
       "      <td>2005–</td>\n",
       "      <td>2005</td>\n",
       "    </tr>\n",
       "    <tr>\n",
       "      <th>10</th>\n",
       "      <td>Breaking Bad</td>\n",
       "      <td>A high school chemistry teacher diagnosed with...</td>\n",
       "      <td>Crime, Drama, Thriller</td>\n",
       "      <td>Bryan Cranston, Aaron Paul, Anna Gunn, Betsy B...</td>\n",
       "      <td>9.4</td>\n",
       "      <td>1526926</td>\n",
       "      <td>2008–2013</td>\n",
       "      <td>2008</td>\n",
       "    </tr>\n",
       "    <tr>\n",
       "      <th>13</th>\n",
       "      <td>The Office</td>\n",
       "      <td>A mockumentary on a group of typical office wo...</td>\n",
       "      <td>Comedy</td>\n",
       "      <td>Steve Carell, Jenna Fischer, John Krasinski, R...</td>\n",
       "      <td>8.9</td>\n",
       "      <td>441951</td>\n",
       "      <td>2005–2013</td>\n",
       "      <td>2005</td>\n",
       "    </tr>\n",
       "    <tr>\n",
       "      <th>15</th>\n",
       "      <td>Criminal Minds</td>\n",
       "      <td>The cases of the F.B.I. Behavioral Analysis Un...</td>\n",
       "      <td>Crime, Drama, Mystery</td>\n",
       "      <td>Matthew Gray Gubler, Kirsten Vangsness, A.J. C...</td>\n",
       "      <td>8.0</td>\n",
       "      <td>167842</td>\n",
       "      <td>2005–2020</td>\n",
       "      <td>2005</td>\n",
       "    </tr>\n",
       "    <tr>\n",
       "      <th>21</th>\n",
       "      <td>Supernatural</td>\n",
       "      <td>Two brothers follow their father's footsteps a...</td>\n",
       "      <td>Drama, Fantasy, Horror</td>\n",
       "      <td>Jared Padalecki, Jensen Ackles, Jim Beaver, Mi...</td>\n",
       "      <td>8.4</td>\n",
       "      <td>399980</td>\n",
       "      <td>2005–2020</td>\n",
       "      <td>2005</td>\n",
       "    </tr>\n",
       "    <tr>\n",
       "      <th>...</th>\n",
       "      <td>...</td>\n",
       "      <td>...</td>\n",
       "      <td>...</td>\n",
       "      <td>...</td>\n",
       "      <td>...</td>\n",
       "      <td>...</td>\n",
       "      <td>...</td>\n",
       "      <td>...</td>\n",
       "    </tr>\n",
       "    <tr>\n",
       "      <th>2812</th>\n",
       "      <td>The Sarah Silverman Program.</td>\n",
       "      <td>Baki Hanma competes in an underground fighting...</td>\n",
       "      <td>Comedy</td>\n",
       "      <td>Sarah Silverman, Laura Silverman, Brian Posehn...</td>\n",
       "      <td>6.8</td>\n",
       "      <td>7274</td>\n",
       "      <td>2007–2010</td>\n",
       "      <td>2007</td>\n",
       "    </tr>\n",
       "    <tr>\n",
       "      <th>2814</th>\n",
       "      <td>Baki the Grappler</td>\n",
       "      <td>The death of a matriarch brings forgotten secr...</td>\n",
       "      <td>Animation, Action, Drama</td>\n",
       "      <td>Bob Carter, Masami Kikuchi, Robert McCollum, N...</td>\n",
       "      <td>7.7</td>\n",
       "      <td>1163</td>\n",
       "      <td>2001–2007</td>\n",
       "      <td>2001</td>\n",
       "    </tr>\n",
       "    <tr>\n",
       "      <th>2819</th>\n",
       "      <td>Sora no otoshimono</td>\n",
       "      <td>\"I'll make it so your body's unable to forget ...</td>\n",
       "      <td>Animation, Action, Comedy</td>\n",
       "      <td>Jamie Marchi, Brittney Karbowski, Saori Hayami...</td>\n",
       "      <td>7.3</td>\n",
       "      <td>1696</td>\n",
       "      <td>2009–2010</td>\n",
       "      <td>2009</td>\n",
       "    </tr>\n",
       "    <tr>\n",
       "      <th>2827</th>\n",
       "      <td>Yu-Gi-Oh! GX</td>\n",
       "      <td>An anthology series in which each episode is a...</td>\n",
       "      <td>Animation, Action, Adventure</td>\n",
       "      <td>Matthew Labyorteaux, Wayne Grayson, Tony Saler...</td>\n",
       "      <td>6.8</td>\n",
       "      <td>4115</td>\n",
       "      <td>2004–2008</td>\n",
       "      <td>2004</td>\n",
       "    </tr>\n",
       "    <tr>\n",
       "      <th>2828</th>\n",
       "      <td>Special Agent Oso</td>\n",
       "      <td>Four teenage heroes-for-hire warp through the ...</td>\n",
       "      <td>Animation, Action, Adventure</td>\n",
       "      <td>Meghan Strange, Gary Anthony Williams, Sean As...</td>\n",
       "      <td>5.2</td>\n",
       "      <td>475</td>\n",
       "      <td>2009–2012</td>\n",
       "      <td>2009</td>\n",
       "    </tr>\n",
       "  </tbody>\n",
       "</table>\n",
       "<p>634 rows × 8 columns</p>\n",
       "</div>"
      ],
      "text/plain": [
       "                             Title  \\\n",
       "6                   Grey's Anatomy   \n",
       "10                    Breaking Bad   \n",
       "13                      The Office   \n",
       "15                  Criminal Minds   \n",
       "21                    Supernatural   \n",
       "...                            ...   \n",
       "2812  The Sarah Silverman Program.   \n",
       "2814             Baki the Grappler   \n",
       "2819            Sora no otoshimono   \n",
       "2827                  Yu-Gi-Oh! GX   \n",
       "2828             Special Agent Oso   \n",
       "\n",
       "                                                  About  \\\n",
       "6     A drama centered on the personal and professio...   \n",
       "10    A high school chemistry teacher diagnosed with...   \n",
       "13    A mockumentary on a group of typical office wo...   \n",
       "15    The cases of the F.B.I. Behavioral Analysis Un...   \n",
       "21    Two brothers follow their father's footsteps a...   \n",
       "...                                                 ...   \n",
       "2812  Baki Hanma competes in an underground fighting...   \n",
       "2814  The death of a matriarch brings forgotten secr...   \n",
       "2819  \"I'll make it so your body's unable to forget ...   \n",
       "2827  An anthology series in which each episode is a...   \n",
       "2828  Four teenage heroes-for-hire warp through the ...   \n",
       "\n",
       "                            Genres  \\\n",
       "6                   Drama, Romance   \n",
       "10          Crime, Drama, Thriller   \n",
       "13                          Comedy   \n",
       "15           Crime, Drama, Mystery   \n",
       "21          Drama, Fantasy, Horror   \n",
       "...                            ...   \n",
       "2812                        Comedy   \n",
       "2814      Animation, Action, Drama   \n",
       "2819     Animation, Action, Comedy   \n",
       "2827  Animation, Action, Adventure   \n",
       "2828  Animation, Action, Adventure   \n",
       "\n",
       "                                                 Actors  Rating    Votes  \\\n",
       "6     Ellen Pompeo, Chandra Wilson, James Pickens Jr...     7.5   261340   \n",
       "10    Bryan Cranston, Aaron Paul, Anna Gunn, Betsy B...     9.4  1526926   \n",
       "13    Steve Carell, Jenna Fischer, John Krasinski, R...     8.9   441951   \n",
       "15    Matthew Gray Gubler, Kirsten Vangsness, A.J. C...     8.0   167842   \n",
       "21    Jared Padalecki, Jensen Ackles, Jim Beaver, Mi...     8.4   399980   \n",
       "...                                                 ...     ...      ...   \n",
       "2812  Sarah Silverman, Laura Silverman, Brian Posehn...     6.8     7274   \n",
       "2814  Bob Carter, Masami Kikuchi, Robert McCollum, N...     7.7     1163   \n",
       "2819  Jamie Marchi, Brittney Karbowski, Saori Hayami...     7.3     1696   \n",
       "2827  Matthew Labyorteaux, Wayne Grayson, Tony Saler...     6.8     4115   \n",
       "2828  Meghan Strange, Gary Anthony Williams, Sean As...     5.2      475   \n",
       "\n",
       "          Years  StartYear  \n",
       "6        2005–        2005  \n",
       "10    2008–2013       2008  \n",
       "13    2005–2013       2005  \n",
       "15    2005–2020       2005  \n",
       "21    2005–2020       2005  \n",
       "...         ...        ...  \n",
       "2812  2007–2010       2007  \n",
       "2814  2001–2007       2001  \n",
       "2819  2009–2010       2009  \n",
       "2827  2004–2008       2004  \n",
       "2828  2009–2012       2009  \n",
       "\n",
       "[634 rows x 8 columns]"
      ]
     },
     "execution_count": 81,
     "metadata": {},
     "output_type": "execute_result"
    }
   ],
   "source": [
    "between_01_09 = tv_shows[2001 <= tv_shows.get('StartYear') <= 2009]\n",
    "between_01_09"
   ]
  },
  {
   "cell_type": "code",
   "execution_count": 82,
   "metadata": {},
   "outputs": [
    {
     "data": {
      "text/html": [
       "<div>\n",
       "<style scoped>\n",
       "    .dataframe tbody tr th:only-of-type {\n",
       "        vertical-align: middle;\n",
       "    }\n",
       "\n",
       "    .dataframe tbody tr th {\n",
       "        vertical-align: top;\n",
       "    }\n",
       "\n",
       "    .dataframe thead th {\n",
       "        text-align: right;\n",
       "    }\n",
       "</style>\n",
       "<table border=\"1\" class=\"dataframe\">\n",
       "  <thead>\n",
       "    <tr style=\"text-align: right;\">\n",
       "      <th></th>\n",
       "      <th>Rating</th>\n",
       "      <th>Votes</th>\n",
       "    </tr>\n",
       "    <tr>\n",
       "      <th>StartYear</th>\n",
       "      <th></th>\n",
       "      <th></th>\n",
       "    </tr>\n",
       "  </thead>\n",
       "  <tbody>\n",
       "    <tr>\n",
       "      <th>2005</th>\n",
       "      <td>553.0</td>\n",
       "      <td>4263735</td>\n",
       "    </tr>\n",
       "    <tr>\n",
       "      <th>2008</th>\n",
       "      <td>574.0</td>\n",
       "      <td>3274714</td>\n",
       "    </tr>\n",
       "    <tr>\n",
       "      <th>2009</th>\n",
       "      <td>761.1</td>\n",
       "      <td>3256989</td>\n",
       "    </tr>\n",
       "    <tr>\n",
       "      <th>2007</th>\n",
       "      <td>627.2</td>\n",
       "      <td>2543157</td>\n",
       "    </tr>\n",
       "    <tr>\n",
       "      <th>2004</th>\n",
       "      <td>518.1</td>\n",
       "      <td>2316712</td>\n",
       "    </tr>\n",
       "    <tr>\n",
       "      <th>2006</th>\n",
       "      <td>476.4</td>\n",
       "      <td>2233483</td>\n",
       "    </tr>\n",
       "    <tr>\n",
       "      <th>2003</th>\n",
       "      <td>400.0</td>\n",
       "      <td>1571495</td>\n",
       "    </tr>\n",
       "    <tr>\n",
       "      <th>2001</th>\n",
       "      <td>385.1</td>\n",
       "      <td>1291982</td>\n",
       "    </tr>\n",
       "    <tr>\n",
       "      <th>2002</th>\n",
       "      <td>354.0</td>\n",
       "      <td>1222916</td>\n",
       "    </tr>\n",
       "  </tbody>\n",
       "</table>\n",
       "</div>"
      ],
      "text/plain": [
       "           Rating    Votes\n",
       "StartYear                 \n",
       "2005        553.0  4263735\n",
       "2008        574.0  3274714\n",
       "2009        761.1  3256989\n",
       "2007        627.2  2543157\n",
       "2004        518.1  2316712\n",
       "2006        476.4  2233483\n",
       "2003        400.0  1571495\n",
       "2001        385.1  1291982\n",
       "2002        354.0  1222916"
      ]
     },
     "execution_count": 82,
     "metadata": {},
     "output_type": "execute_result"
    }
   ],
   "source": [
    "years_by_votes = between_01_09.groupby('StartYear').sum().sort_values(by='Votes', ascending=False) #between_01_09.sort_values(by='Votes', ascending=False) #years_by_votes\n",
    "years_by_votes#.groupby('StartYear').sum().sort_values(by='Votes', ascending=False)"
   ]
  },
  {
   "cell_type": "code",
   "execution_count": 83,
   "metadata": {},
   "outputs": [
    {
     "data": {
      "text/plain": [
       "2002"
      ]
     },
     "execution_count": 83,
     "metadata": {},
     "output_type": "execute_result"
    }
   ],
   "source": [
    "lowest_01_09 = years_by_votes.index[-1]\n",
    "lowest_01_09"
   ]
  },
  {
   "cell_type": "code",
   "execution_count": 84,
   "metadata": {
    "deletable": false,
    "editable": false
   },
   "outputs": [
    {
     "data": {
      "text/html": [
       "<p><strong><pre style='display: inline;'>q2_6</pre></strong> passed!</p>"
      ],
      "text/plain": [
       "q2_6 results: All test cases passed!"
      ]
     },
     "execution_count": 84,
     "metadata": {},
     "output_type": "execute_result"
    }
   ],
   "source": [
    "grader.check(\"q2_6\")"
   ]
  },
  {
   "cell_type": "markdown",
   "metadata": {},
   "source": [
    "**Question 2.7.** Suppose we'd like to use a histogram to determine which `'Rating'`s are most common in `tv_shows`, to the nearest integer. Set the variable `nearest_integer_bins` to an array of values that can be used for the `bins` argument of this histogram.\n",
    "\n",
    "Draw the histogram, and then use the histogram to determine the most popular `'Rating'`, to the nearest integer, and manually type this integer in to save it as `most_popular_rating`.\n",
    "\n",
    "***Notes:*** \n",
    "- Use the standard convention for rounding. For example, 9 is considered the nearest integer to 8.5.\n",
    "- `nearest_integer_bins` should capture all of the data in the `'Rating'` column of `tv_shows` but not include any empty, unused bins. You'll need to determine the smallest and largest `'Rating'` values in `tv_shows` to do this."
   ]
  },
  {
   "cell_type": "code",
   "execution_count": 85,
   "metadata": {},
   "outputs": [
    {
     "data": {
      "text/plain": [
       "2"
      ]
     },
     "execution_count": 85,
     "metadata": {},
     "output_type": "execute_result"
    }
   ],
   "source": [
    "round(2.1)"
   ]
  },
  {
   "cell_type": "code",
   "execution_count": 86,
   "metadata": {},
   "outputs": [
    {
     "data": {
      "text/plain": [
       "9.0"
      ]
     },
     "execution_count": 86,
     "metadata": {},
     "output_type": "execute_result"
    }
   ],
   "source": [
    "np.ceil(8.5)"
   ]
  },
  {
   "cell_type": "code",
   "execution_count": 87,
   "metadata": {},
   "outputs": [
    {
     "data": {
      "text/plain": [
       "9.7"
      ]
     },
     "execution_count": 87,
     "metadata": {},
     "output_type": "execute_result"
    }
   ],
   "source": [
    "tv_shows.get('Rating').max()"
   ]
  },
  {
   "cell_type": "code",
   "execution_count": 88,
   "metadata": {},
   "outputs": [
    {
     "data": {
      "text/plain": [
       "10"
      ]
     },
     "execution_count": 88,
     "metadata": {},
     "output_type": "execute_result"
    }
   ],
   "source": [
    "round(tv_shows.get('Rating').max())"
   ]
  },
  {
   "cell_type": "code",
   "execution_count": 89,
   "metadata": {},
   "outputs": [
    {
     "data": {
      "text/plain": [
       "1.6"
      ]
     },
     "execution_count": 89,
     "metadata": {},
     "output_type": "execute_result"
    }
   ],
   "source": [
    "tv_shows.get('Rating').min()"
   ]
  },
  {
   "cell_type": "code",
   "execution_count": 90,
   "metadata": {},
   "outputs": [],
   "source": [
    "# nearest_integer_bins = np.arange(round(tv_shows.get('Rating').min()), round(tv_shows.get('Rating').max())+1)\n",
    "# nearest_integer_bins"
   ]
  },
  {
   "cell_type": "code",
   "execution_count": 91,
   "metadata": {},
   "outputs": [
    {
     "data": {
      "text/html": [
       "<div>\n",
       "<style scoped>\n",
       "    .dataframe tbody tr th:only-of-type {\n",
       "        vertical-align: middle;\n",
       "    }\n",
       "\n",
       "    .dataframe tbody tr th {\n",
       "        vertical-align: top;\n",
       "    }\n",
       "\n",
       "    .dataframe thead th {\n",
       "        text-align: right;\n",
       "    }\n",
       "</style>\n",
       "<table border=\"1\" class=\"dataframe\">\n",
       "  <thead>\n",
       "    <tr style=\"text-align: right;\">\n",
       "      <th></th>\n",
       "      <th>Title</th>\n",
       "      <th>About</th>\n",
       "      <th>Genres</th>\n",
       "      <th>Actors</th>\n",
       "      <th>Rating</th>\n",
       "      <th>Votes</th>\n",
       "      <th>Years</th>\n",
       "      <th>StartYear</th>\n",
       "      <th>Rounded_Rate</th>\n",
       "    </tr>\n",
       "  </thead>\n",
       "  <tbody>\n",
       "    <tr>\n",
       "      <th>0</th>\n",
       "      <td>The Family Man</td>\n",
       "      <td>A working man from the National Investigation ...</td>\n",
       "      <td>Action, Comedy, Drama</td>\n",
       "      <td>Manoj Bajpayee, Samantha Akkineni, Priyamani, ...</td>\n",
       "      <td>8.8</td>\n",
       "      <td>57632</td>\n",
       "      <td>2019–</td>\n",
       "      <td>2019</td>\n",
       "      <td>9.0</td>\n",
       "    </tr>\n",
       "    <tr>\n",
       "      <th>1</th>\n",
       "      <td>Lucifer</td>\n",
       "      <td>Lucifer Morningstar has decided he's had enoug...</td>\n",
       "      <td>Crime, Drama, Fantasy</td>\n",
       "      <td>Tom Ellis, Lauren German, Lesley-Ann Brandt, K...</td>\n",
       "      <td>8.1</td>\n",
       "      <td>252826</td>\n",
       "      <td>2016–</td>\n",
       "      <td>2016</td>\n",
       "      <td>8.0</td>\n",
       "    </tr>\n",
       "    <tr>\n",
       "      <th>2</th>\n",
       "      <td>The Handmaid's Tale</td>\n",
       "      <td>Set in a dystopian future, a woman is forced t...</td>\n",
       "      <td>Drama, Sci-Fi, Thriller</td>\n",
       "      <td>Elisabeth Moss, Yvonne Strahovski, Joseph Fien...</td>\n",
       "      <td>8.4</td>\n",
       "      <td>187007</td>\n",
       "      <td>2017–</td>\n",
       "      <td>2017</td>\n",
       "      <td>8.0</td>\n",
       "    </tr>\n",
       "    <tr>\n",
       "      <th>3</th>\n",
       "      <td>StartUp</td>\n",
       "      <td>A desperate banker, a Haitian-American gang lo...</td>\n",
       "      <td>Crime, Thriller</td>\n",
       "      <td>Adam Brody, Edi Gathegi, Otmara Marrero, Krist...</td>\n",
       "      <td>8.0</td>\n",
       "      <td>18165</td>\n",
       "      <td>2016–2018</td>\n",
       "      <td>2016</td>\n",
       "      <td>8.0</td>\n",
       "    </tr>\n",
       "    <tr>\n",
       "      <th>4</th>\n",
       "      <td>Game of Thrones</td>\n",
       "      <td>Nine noble families fight for control over the...</td>\n",
       "      <td>Action, Adventure, Drama</td>\n",
       "      <td>Emilia Clarke, Peter Dinklage, Kit Harington, ...</td>\n",
       "      <td>9.3</td>\n",
       "      <td>1823966</td>\n",
       "      <td>2011–2019</td>\n",
       "      <td>2011</td>\n",
       "      <td>9.0</td>\n",
       "    </tr>\n",
       "    <tr>\n",
       "      <th>...</th>\n",
       "      <td>...</td>\n",
       "      <td>...</td>\n",
       "      <td>...</td>\n",
       "      <td>...</td>\n",
       "      <td>...</td>\n",
       "      <td>...</td>\n",
       "      <td>...</td>\n",
       "      <td>...</td>\n",
       "      <td>...</td>\n",
       "    </tr>\n",
       "    <tr>\n",
       "      <th>2826</th>\n",
       "      <td>A Drop of True Blood</td>\n",
       "      <td>A kids' show centered around a special agent-i...</td>\n",
       "      <td>Short, Drama, Fantasy</td>\n",
       "      <td>Claudia Abrego, Ryan Kwanten, Stephen Moyer, A...</td>\n",
       "      <td>8.1</td>\n",
       "      <td>572</td>\n",
       "      <td>2010–</td>\n",
       "      <td>2010</td>\n",
       "      <td>8.0</td>\n",
       "    </tr>\n",
       "    <tr>\n",
       "      <th>2827</th>\n",
       "      <td>Yu-Gi-Oh! GX</td>\n",
       "      <td>An anthology series in which each episode is a...</td>\n",
       "      <td>Animation, Action, Adventure</td>\n",
       "      <td>Matthew Labyorteaux, Wayne Grayson, Tony Saler...</td>\n",
       "      <td>6.8</td>\n",
       "      <td>4115</td>\n",
       "      <td>2004–2008</td>\n",
       "      <td>2004</td>\n",
       "      <td>7.0</td>\n",
       "    </tr>\n",
       "    <tr>\n",
       "      <th>2828</th>\n",
       "      <td>Special Agent Oso</td>\n",
       "      <td>Four teenage heroes-for-hire warp through the ...</td>\n",
       "      <td>Animation, Action, Adventure</td>\n",
       "      <td>Meghan Strange, Gary Anthony Williams, Sean As...</td>\n",
       "      <td>5.2</td>\n",
       "      <td>475</td>\n",
       "      <td>2009–2012</td>\n",
       "      <td>2009</td>\n",
       "      <td>5.0</td>\n",
       "    </tr>\n",
       "    <tr>\n",
       "      <th>2829</th>\n",
       "      <td>Metal Hurlant Chronicles</td>\n",
       "      <td>An expose on the U.S. government's secret prog...</td>\n",
       "      <td>Action, Sci-Fi</td>\n",
       "      <td>Scott Adkins, Karl E. Landler, Dominique Pinon...</td>\n",
       "      <td>5.8</td>\n",
       "      <td>1630</td>\n",
       "      <td>2012–2014</td>\n",
       "      <td>2012</td>\n",
       "      <td>6.0</td>\n",
       "    </tr>\n",
       "    <tr>\n",
       "      <th>2830</th>\n",
       "      <td>Bravest Warriors</td>\n",
       "      <td>The adventures of young H.G. Wells and his tim...</td>\n",
       "      <td>Animation, Action, Adventure</td>\n",
       "      <td>Liliana Mumy, John Omohundro, Ian Jones-Quarte...</td>\n",
       "      <td>8.1</td>\n",
       "      <td>3187</td>\n",
       "      <td>2012–</td>\n",
       "      <td>2012</td>\n",
       "      <td>8.0</td>\n",
       "    </tr>\n",
       "  </tbody>\n",
       "</table>\n",
       "<p>2831 rows × 9 columns</p>\n",
       "</div>"
      ],
      "text/plain": [
       "                         Title  \\\n",
       "0               The Family Man   \n",
       "1                      Lucifer   \n",
       "2          The Handmaid's Tale   \n",
       "3                      StartUp   \n",
       "4              Game of Thrones   \n",
       "...                        ...   \n",
       "2826      A Drop of True Blood   \n",
       "2827              Yu-Gi-Oh! GX   \n",
       "2828         Special Agent Oso   \n",
       "2829  Metal Hurlant Chronicles   \n",
       "2830          Bravest Warriors   \n",
       "\n",
       "                                                  About  \\\n",
       "0     A working man from the National Investigation ...   \n",
       "1     Lucifer Morningstar has decided he's had enoug...   \n",
       "2     Set in a dystopian future, a woman is forced t...   \n",
       "3     A desperate banker, a Haitian-American gang lo...   \n",
       "4     Nine noble families fight for control over the...   \n",
       "...                                                 ...   \n",
       "2826  A kids' show centered around a special agent-i...   \n",
       "2827  An anthology series in which each episode is a...   \n",
       "2828  Four teenage heroes-for-hire warp through the ...   \n",
       "2829  An expose on the U.S. government's secret prog...   \n",
       "2830  The adventures of young H.G. Wells and his tim...   \n",
       "\n",
       "                            Genres  \\\n",
       "0            Action, Comedy, Drama   \n",
       "1            Crime, Drama, Fantasy   \n",
       "2          Drama, Sci-Fi, Thriller   \n",
       "3                  Crime, Thriller   \n",
       "4         Action, Adventure, Drama   \n",
       "...                            ...   \n",
       "2826         Short, Drama, Fantasy   \n",
       "2827  Animation, Action, Adventure   \n",
       "2828  Animation, Action, Adventure   \n",
       "2829                Action, Sci-Fi   \n",
       "2830  Animation, Action, Adventure   \n",
       "\n",
       "                                                 Actors  Rating    Votes  \\\n",
       "0     Manoj Bajpayee, Samantha Akkineni, Priyamani, ...     8.8    57632   \n",
       "1     Tom Ellis, Lauren German, Lesley-Ann Brandt, K...     8.1   252826   \n",
       "2     Elisabeth Moss, Yvonne Strahovski, Joseph Fien...     8.4   187007   \n",
       "3     Adam Brody, Edi Gathegi, Otmara Marrero, Krist...     8.0    18165   \n",
       "4     Emilia Clarke, Peter Dinklage, Kit Harington, ...     9.3  1823966   \n",
       "...                                                 ...     ...      ...   \n",
       "2826  Claudia Abrego, Ryan Kwanten, Stephen Moyer, A...     8.1      572   \n",
       "2827  Matthew Labyorteaux, Wayne Grayson, Tony Saler...     6.8     4115   \n",
       "2828  Meghan Strange, Gary Anthony Williams, Sean As...     5.2      475   \n",
       "2829  Scott Adkins, Karl E. Landler, Dominique Pinon...     5.8     1630   \n",
       "2830  Liliana Mumy, John Omohundro, Ian Jones-Quarte...     8.1     3187   \n",
       "\n",
       "          Years  StartYear  Rounded_Rate  \n",
       "0        2019–        2019           9.0  \n",
       "1        2016–        2016           8.0  \n",
       "2        2017–        2017           8.0  \n",
       "3     2016–2018       2016           8.0  \n",
       "4     2011–2019       2011           9.0  \n",
       "...         ...        ...           ...  \n",
       "2826     2010–        2010           8.0  \n",
       "2827  2004–2008       2004           7.0  \n",
       "2828  2009–2012       2009           5.0  \n",
       "2829  2012–2014       2012           6.0  \n",
       "2830     2012–        2012           8.0  \n",
       "\n",
       "[2831 rows x 9 columns]"
      ]
     },
     "execution_count": 91,
     "metadata": {},
     "output_type": "execute_result"
    }
   ],
   "source": [
    "round_rates = tv_shows.assign(Rounded_Rate = tv_shows.get('Rating').values.round(0))\n",
    "#round_rates['Rounded_Rate'] = round_rates['Rounded_Rate'].round()\n",
    "round_rates"
   ]
  },
  {
   "cell_type": "code",
   "execution_count": 92,
   "metadata": {},
   "outputs": [
    {
     "data": {
      "text/html": [
       "<div>\n",
       "<style scoped>\n",
       "    .dataframe tbody tr th:only-of-type {\n",
       "        vertical-align: middle;\n",
       "    }\n",
       "\n",
       "    .dataframe tbody tr th {\n",
       "        vertical-align: top;\n",
       "    }\n",
       "\n",
       "    .dataframe thead th {\n",
       "        text-align: right;\n",
       "    }\n",
       "</style>\n",
       "<table border=\"1\" class=\"dataframe\">\n",
       "  <thead>\n",
       "    <tr style=\"text-align: right;\">\n",
       "      <th></th>\n",
       "      <th>Title</th>\n",
       "      <th>About</th>\n",
       "      <th>Genres</th>\n",
       "      <th>Actors</th>\n",
       "      <th>Rating</th>\n",
       "      <th>Votes</th>\n",
       "      <th>Years</th>\n",
       "      <th>StartYear</th>\n",
       "    </tr>\n",
       "    <tr>\n",
       "      <th>Rounded_Rate</th>\n",
       "      <th></th>\n",
       "      <th></th>\n",
       "      <th></th>\n",
       "      <th></th>\n",
       "      <th></th>\n",
       "      <th></th>\n",
       "      <th></th>\n",
       "      <th></th>\n",
       "    </tr>\n",
       "  </thead>\n",
       "  <tbody>\n",
       "    <tr>\n",
       "      <th>2.0</th>\n",
       "      <td>2</td>\n",
       "      <td>2</td>\n",
       "      <td>2</td>\n",
       "      <td>2</td>\n",
       "      <td>2</td>\n",
       "      <td>2</td>\n",
       "      <td>2</td>\n",
       "      <td>2</td>\n",
       "    </tr>\n",
       "    <tr>\n",
       "      <th>3.0</th>\n",
       "      <td>13</td>\n",
       "      <td>13</td>\n",
       "      <td>13</td>\n",
       "      <td>13</td>\n",
       "      <td>13</td>\n",
       "      <td>13</td>\n",
       "      <td>13</td>\n",
       "      <td>13</td>\n",
       "    </tr>\n",
       "    <tr>\n",
       "      <th>4.0</th>\n",
       "      <td>43</td>\n",
       "      <td>43</td>\n",
       "      <td>43</td>\n",
       "      <td>43</td>\n",
       "      <td>43</td>\n",
       "      <td>43</td>\n",
       "      <td>43</td>\n",
       "      <td>43</td>\n",
       "    </tr>\n",
       "    <tr>\n",
       "      <th>5.0</th>\n",
       "      <td>85</td>\n",
       "      <td>85</td>\n",
       "      <td>85</td>\n",
       "      <td>85</td>\n",
       "      <td>85</td>\n",
       "      <td>85</td>\n",
       "      <td>85</td>\n",
       "      <td>85</td>\n",
       "    </tr>\n",
       "    <tr>\n",
       "      <th>6.0</th>\n",
       "      <td>341</td>\n",
       "      <td>341</td>\n",
       "      <td>341</td>\n",
       "      <td>341</td>\n",
       "      <td>341</td>\n",
       "      <td>341</td>\n",
       "      <td>341</td>\n",
       "      <td>341</td>\n",
       "    </tr>\n",
       "    <tr>\n",
       "      <th>7.0</th>\n",
       "      <td>890</td>\n",
       "      <td>890</td>\n",
       "      <td>890</td>\n",
       "      <td>890</td>\n",
       "      <td>890</td>\n",
       "      <td>890</td>\n",
       "      <td>890</td>\n",
       "      <td>890</td>\n",
       "    </tr>\n",
       "    <tr>\n",
       "      <th>8.0</th>\n",
       "      <td>1283</td>\n",
       "      <td>1283</td>\n",
       "      <td>1283</td>\n",
       "      <td>1283</td>\n",
       "      <td>1283</td>\n",
       "      <td>1283</td>\n",
       "      <td>1283</td>\n",
       "      <td>1283</td>\n",
       "    </tr>\n",
       "    <tr>\n",
       "      <th>9.0</th>\n",
       "      <td>171</td>\n",
       "      <td>171</td>\n",
       "      <td>171</td>\n",
       "      <td>171</td>\n",
       "      <td>171</td>\n",
       "      <td>171</td>\n",
       "      <td>171</td>\n",
       "      <td>171</td>\n",
       "    </tr>\n",
       "    <tr>\n",
       "      <th>10.0</th>\n",
       "      <td>3</td>\n",
       "      <td>3</td>\n",
       "      <td>3</td>\n",
       "      <td>3</td>\n",
       "      <td>3</td>\n",
       "      <td>3</td>\n",
       "      <td>3</td>\n",
       "      <td>3</td>\n",
       "    </tr>\n",
       "  </tbody>\n",
       "</table>\n",
       "</div>"
      ],
      "text/plain": [
       "              Title  About  Genres  Actors  Rating  Votes  Years  StartYear\n",
       "Rounded_Rate                                                               \n",
       "2.0               2      2       2       2       2      2      2          2\n",
       "3.0              13     13      13      13      13     13     13         13\n",
       "4.0              43     43      43      43      43     43     43         43\n",
       "5.0              85     85      85      85      85     85     85         85\n",
       "6.0             341    341     341     341     341    341    341        341\n",
       "7.0             890    890     890     890     890    890    890        890\n",
       "8.0            1283   1283    1283    1283    1283   1283   1283       1283\n",
       "9.0             171    171     171     171     171    171    171        171\n",
       "10.0              3      3       3       3       3      3      3          3"
      ]
     },
     "execution_count": 92,
     "metadata": {},
     "output_type": "execute_result"
    }
   ],
   "source": [
    "count_per_rate = round_rates.groupby('Rounded_Rate').count()\n",
    "count_per_rate"
   ]
  },
  {
   "cell_type": "code",
   "execution_count": 93,
   "metadata": {},
   "outputs": [
    {
     "data": {
      "text/html": [
       "<div>\n",
       "<style scoped>\n",
       "    .dataframe tbody tr th:only-of-type {\n",
       "        vertical-align: middle;\n",
       "    }\n",
       "\n",
       "    .dataframe tbody tr th {\n",
       "        vertical-align: top;\n",
       "    }\n",
       "\n",
       "    .dataframe thead th {\n",
       "        text-align: right;\n",
       "    }\n",
       "</style>\n",
       "<table border=\"1\" class=\"dataframe\">\n",
       "  <thead>\n",
       "    <tr style=\"text-align: right;\">\n",
       "      <th></th>\n",
       "      <th>Title</th>\n",
       "      <th>About</th>\n",
       "      <th>Genres</th>\n",
       "      <th>Actors</th>\n",
       "      <th>Votes</th>\n",
       "      <th>Years</th>\n",
       "      <th>StartYear</th>\n",
       "      <th>Rounded_Rate</th>\n",
       "    </tr>\n",
       "    <tr>\n",
       "      <th>Rating</th>\n",
       "      <th></th>\n",
       "      <th></th>\n",
       "      <th></th>\n",
       "      <th></th>\n",
       "      <th></th>\n",
       "      <th></th>\n",
       "      <th></th>\n",
       "      <th></th>\n",
       "    </tr>\n",
       "  </thead>\n",
       "  <tbody>\n",
       "    <tr>\n",
       "      <th>1.6</th>\n",
       "      <td>1</td>\n",
       "      <td>1</td>\n",
       "      <td>1</td>\n",
       "      <td>1</td>\n",
       "      <td>1</td>\n",
       "      <td>1</td>\n",
       "      <td>1</td>\n",
       "      <td>1</td>\n",
       "    </tr>\n",
       "    <tr>\n",
       "      <th>2.3</th>\n",
       "      <td>1</td>\n",
       "      <td>1</td>\n",
       "      <td>1</td>\n",
       "      <td>1</td>\n",
       "      <td>1</td>\n",
       "      <td>1</td>\n",
       "      <td>1</td>\n",
       "      <td>1</td>\n",
       "    </tr>\n",
       "    <tr>\n",
       "      <th>2.7</th>\n",
       "      <td>2</td>\n",
       "      <td>2</td>\n",
       "      <td>2</td>\n",
       "      <td>2</td>\n",
       "      <td>2</td>\n",
       "      <td>2</td>\n",
       "      <td>2</td>\n",
       "      <td>2</td>\n",
       "    </tr>\n",
       "    <tr>\n",
       "      <th>2.8</th>\n",
       "      <td>1</td>\n",
       "      <td>1</td>\n",
       "      <td>1</td>\n",
       "      <td>1</td>\n",
       "      <td>1</td>\n",
       "      <td>1</td>\n",
       "      <td>1</td>\n",
       "      <td>1</td>\n",
       "    </tr>\n",
       "    <tr>\n",
       "      <th>3.0</th>\n",
       "      <td>1</td>\n",
       "      <td>1</td>\n",
       "      <td>1</td>\n",
       "      <td>1</td>\n",
       "      <td>1</td>\n",
       "      <td>1</td>\n",
       "      <td>1</td>\n",
       "      <td>1</td>\n",
       "    </tr>\n",
       "    <tr>\n",
       "      <th>...</th>\n",
       "      <td>...</td>\n",
       "      <td>...</td>\n",
       "      <td>...</td>\n",
       "      <td>...</td>\n",
       "      <td>...</td>\n",
       "      <td>...</td>\n",
       "      <td>...</td>\n",
       "      <td>...</td>\n",
       "    </tr>\n",
       "    <tr>\n",
       "      <th>9.2</th>\n",
       "      <td>11</td>\n",
       "      <td>11</td>\n",
       "      <td>11</td>\n",
       "      <td>11</td>\n",
       "      <td>11</td>\n",
       "      <td>11</td>\n",
       "      <td>11</td>\n",
       "      <td>11</td>\n",
       "    </tr>\n",
       "    <tr>\n",
       "      <th>9.3</th>\n",
       "      <td>3</td>\n",
       "      <td>3</td>\n",
       "      <td>3</td>\n",
       "      <td>3</td>\n",
       "      <td>3</td>\n",
       "      <td>3</td>\n",
       "      <td>3</td>\n",
       "      <td>3</td>\n",
       "    </tr>\n",
       "    <tr>\n",
       "      <th>9.4</th>\n",
       "      <td>4</td>\n",
       "      <td>4</td>\n",
       "      <td>4</td>\n",
       "      <td>4</td>\n",
       "      <td>4</td>\n",
       "      <td>4</td>\n",
       "      <td>4</td>\n",
       "      <td>4</td>\n",
       "    </tr>\n",
       "    <tr>\n",
       "      <th>9.5</th>\n",
       "      <td>1</td>\n",
       "      <td>1</td>\n",
       "      <td>1</td>\n",
       "      <td>1</td>\n",
       "      <td>1</td>\n",
       "      <td>1</td>\n",
       "      <td>1</td>\n",
       "      <td>1</td>\n",
       "    </tr>\n",
       "    <tr>\n",
       "      <th>9.7</th>\n",
       "      <td>2</td>\n",
       "      <td>2</td>\n",
       "      <td>2</td>\n",
       "      <td>2</td>\n",
       "      <td>2</td>\n",
       "      <td>2</td>\n",
       "      <td>2</td>\n",
       "      <td>2</td>\n",
       "    </tr>\n",
       "  </tbody>\n",
       "</table>\n",
       "<p>71 rows × 8 columns</p>\n",
       "</div>"
      ],
      "text/plain": [
       "        Title  About  Genres  Actors  Votes  Years  StartYear  Rounded_Rate\n",
       "Rating                                                                     \n",
       "1.6         1      1       1       1      1      1          1             1\n",
       "2.3         1      1       1       1      1      1          1             1\n",
       "2.7         2      2       2       2      2      2          2             2\n",
       "2.8         1      1       1       1      1      1          1             1\n",
       "3.0         1      1       1       1      1      1          1             1\n",
       "...       ...    ...     ...     ...    ...    ...        ...           ...\n",
       "9.2        11     11      11      11     11     11         11            11\n",
       "9.3         3      3       3       3      3      3          3             3\n",
       "9.4         4      4       4       4      4      4          4             4\n",
       "9.5         1      1       1       1      1      1          1             1\n",
       "9.7         2      2       2       2      2      2          2             2\n",
       "\n",
       "[71 rows x 8 columns]"
      ]
     },
     "execution_count": 93,
     "metadata": {},
     "output_type": "execute_result"
    }
   ],
   "source": [
    "count_per_unrounded_rate = round_rates.groupby('Rating').count()\n",
    "count_per_unrounded_rate"
   ]
  },
  {
   "cell_type": "code",
   "execution_count": 94,
   "metadata": {},
   "outputs": [
    {
     "data": {
      "text/plain": [
       "<AxesSubplot:ylabel='Frequency'>"
      ]
     },
     "execution_count": 94,
     "metadata": {},
     "output_type": "execute_result"
    },
    {
     "data": {
      "image/png": "[encoded data removed]",
      "text/plain": [
       "<Figure size 720x360 with 1 Axes>"
      ]
     },
     "metadata": {},
     "output_type": "display_data"
    }
   ],
   "source": [
    "round_rates.plot(kind='hist', y='Rounded_Rate', ec='w')#, density=True, bins = nearest_integer_bins, ec='w');"
   ]
  },
  {
   "cell_type": "code",
   "execution_count": 95,
   "metadata": {},
   "outputs": [],
   "source": [
    "# nearest_integer_bins = np.arange(round_rates.get('Rounded_Rate').min()-1, round_rates.get('Rounded_Rate').max()+1)\n",
    "# nearest_integer_bins"
   ]
  },
  {
   "cell_type": "code",
   "execution_count": 96,
   "metadata": {},
   "outputs": [
    {
     "data": {
      "text/plain": [
       "array([ 0.6,  1.6,  2.6,  3.6,  4.6,  5.6,  6.6,  7.6,  8.6,  9.6, 10.6])"
      ]
     },
     "execution_count": 96,
     "metadata": {},
     "output_type": "execute_result"
    }
   ],
   "source": [
    "np.arange(round_rates.get('Rating').min()-1, round_rates.get('Rating').max()+1)"
   ]
  },
  {
   "cell_type": "code",
   "execution_count": 97,
   "metadata": {},
   "outputs": [
    {
     "data": {
      "text/plain": [
       "array([ 1.5,  2.5,  3.5,  4.5,  5.5,  6.5,  7.5,  8.5,  9.5, 10.5])"
      ]
     },
     "execution_count": 97,
     "metadata": {},
     "output_type": "execute_result"
    }
   ],
   "source": [
    "nearest_integer_bins = np.arange(round_rates.get('Rounded_Rate').min()-0.5, round_rates.get('Rounded_Rate').max()+1)\n",
    "nearest_integer_bins"
   ]
  },
  {
   "cell_type": "markdown",
   "metadata": {},
   "source": [
    "I still don't get this one :| I'm glad it works, but this doesn't make sense to me, shouldn't the bins be integers??"
   ]
  },
  {
   "cell_type": "markdown",
   "metadata": {},
   "source": [
    "Okay, I think I get it! Any value from [x.5, (x+1).5) should be added in the bin (x+1).\n",
    "\n",
    "As we want values ranging from 1.6 to 9.7, we would need bins from 2 to 10. However, to be rounded to 2, it can be any value starting from 1.5, therefore it should be our first bin. The same thing for 10, as we would need only up until 10, but values up until 10.5 should also be rounded t 10."
   ]
  },
  {
   "cell_type": "code",
   "execution_count": 98,
   "metadata": {},
   "outputs": [
    {
     "data": {
      "text/plain": [
       "8.1"
      ]
     },
     "execution_count": 98,
     "metadata": {},
     "output_type": "execute_result"
    }
   ],
   "source": [
    "9.7-1.6"
   ]
  },
  {
   "cell_type": "code",
   "execution_count": 99,
   "metadata": {},
   "outputs": [
    {
     "data": {
      "image/png": "[encoded data removed]",
      "text/plain": [
       "<Figure size 720x360 with 1 Axes>"
      ]
     },
     "metadata": {},
     "output_type": "display_data"
    }
   ],
   "source": [
    "# Create your histogram here, using nearest_integer_bins.\n",
    "\n",
    "round_rates.plot(kind='hist', y='Rounded_Rate', density=True, bins = nearest_integer_bins, ec='w');"
   ]
  },
  {
   "cell_type": "code",
   "execution_count": 100,
   "metadata": {},
   "outputs": [
    {
     "data": {
      "image/png": "[encoded data removed]",
      "text/plain": [
       "<Figure size 720x360 with 1 Axes>"
      ]
     },
     "metadata": {},
     "output_type": "display_data"
    }
   ],
   "source": [
    "round_rates.plot(kind='hist', y='Rating', density=True, bins = nearest_integer_bins, ec='w');\n",
    "\n",
    "### We can pass the unrouded ratings, and the histogram will be slightly different, \n",
    "### but still close enough, as the function round() doesn't always round x.5 values the same way (depends if x is even or odd)"
   ]
  },
  {
   "cell_type": "code",
   "execution_count": 101,
   "metadata": {},
   "outputs": [
    {
     "data": {
      "text/plain": [
       "5.0"
      ]
     },
     "execution_count": 101,
     "metadata": {},
     "output_type": "execute_result"
    }
   ],
   "source": [
    "2.5 * 10 % 10"
   ]
  },
  {
   "cell_type": "code",
   "execution_count": 102,
   "metadata": {
    "deletable": false,
    "editable": false
   },
   "outputs": [
    {
     "data": {
      "text/html": [
       "<p><strong><pre style='display: inline;'>q2_7_a</pre></strong> passed!</p>"
      ],
      "text/plain": [
       "q2_7_a results: All test cases passed!"
      ]
     },
     "execution_count": 102,
     "metadata": {},
     "output_type": "execute_result"
    }
   ],
   "source": [
    "grader.check(\"q2_7_a\")"
   ]
  },
  {
   "cell_type": "code",
   "execution_count": 103,
   "metadata": {},
   "outputs": [
    {
     "data": {
      "text/plain": [
       "5.0"
      ]
     },
     "execution_count": 103,
     "metadata": {},
     "output_type": "execute_result"
    }
   ],
   "source": [
    "nearest_integer_bins[2] * 10 % 10"
   ]
  },
  {
   "cell_type": "code",
   "execution_count": 104,
   "metadata": {},
   "outputs": [
    {
     "data": {
      "text/html": [
       "<div>\n",
       "<style scoped>\n",
       "    .dataframe tbody tr th:only-of-type {\n",
       "        vertical-align: middle;\n",
       "    }\n",
       "\n",
       "    .dataframe tbody tr th {\n",
       "        vertical-align: top;\n",
       "    }\n",
       "\n",
       "    .dataframe thead th {\n",
       "        text-align: right;\n",
       "    }\n",
       "</style>\n",
       "<table border=\"1\" class=\"dataframe\">\n",
       "  <thead>\n",
       "    <tr style=\"text-align: right;\">\n",
       "      <th></th>\n",
       "      <th>Title</th>\n",
       "      <th>About</th>\n",
       "      <th>Genres</th>\n",
       "      <th>Actors</th>\n",
       "      <th>Rating</th>\n",
       "      <th>Votes</th>\n",
       "      <th>Years</th>\n",
       "      <th>StartYear</th>\n",
       "    </tr>\n",
       "    <tr>\n",
       "      <th>Rounded_Rate</th>\n",
       "      <th></th>\n",
       "      <th></th>\n",
       "      <th></th>\n",
       "      <th></th>\n",
       "      <th></th>\n",
       "      <th></th>\n",
       "      <th></th>\n",
       "      <th></th>\n",
       "    </tr>\n",
       "  </thead>\n",
       "  <tbody>\n",
       "    <tr>\n",
       "      <th>8.0</th>\n",
       "      <td>1283</td>\n",
       "      <td>1283</td>\n",
       "      <td>1283</td>\n",
       "      <td>1283</td>\n",
       "      <td>1283</td>\n",
       "      <td>1283</td>\n",
       "      <td>1283</td>\n",
       "      <td>1283</td>\n",
       "    </tr>\n",
       "    <tr>\n",
       "      <th>7.0</th>\n",
       "      <td>890</td>\n",
       "      <td>890</td>\n",
       "      <td>890</td>\n",
       "      <td>890</td>\n",
       "      <td>890</td>\n",
       "      <td>890</td>\n",
       "      <td>890</td>\n",
       "      <td>890</td>\n",
       "    </tr>\n",
       "    <tr>\n",
       "      <th>6.0</th>\n",
       "      <td>341</td>\n",
       "      <td>341</td>\n",
       "      <td>341</td>\n",
       "      <td>341</td>\n",
       "      <td>341</td>\n",
       "      <td>341</td>\n",
       "      <td>341</td>\n",
       "      <td>341</td>\n",
       "    </tr>\n",
       "    <tr>\n",
       "      <th>9.0</th>\n",
       "      <td>171</td>\n",
       "      <td>171</td>\n",
       "      <td>171</td>\n",
       "      <td>171</td>\n",
       "      <td>171</td>\n",
       "      <td>171</td>\n",
       "      <td>171</td>\n",
       "      <td>171</td>\n",
       "    </tr>\n",
       "    <tr>\n",
       "      <th>5.0</th>\n",
       "      <td>85</td>\n",
       "      <td>85</td>\n",
       "      <td>85</td>\n",
       "      <td>85</td>\n",
       "      <td>85</td>\n",
       "      <td>85</td>\n",
       "      <td>85</td>\n",
       "      <td>85</td>\n",
       "    </tr>\n",
       "    <tr>\n",
       "      <th>4.0</th>\n",
       "      <td>43</td>\n",
       "      <td>43</td>\n",
       "      <td>43</td>\n",
       "      <td>43</td>\n",
       "      <td>43</td>\n",
       "      <td>43</td>\n",
       "      <td>43</td>\n",
       "      <td>43</td>\n",
       "    </tr>\n",
       "    <tr>\n",
       "      <th>3.0</th>\n",
       "      <td>13</td>\n",
       "      <td>13</td>\n",
       "      <td>13</td>\n",
       "      <td>13</td>\n",
       "      <td>13</td>\n",
       "      <td>13</td>\n",
       "      <td>13</td>\n",
       "      <td>13</td>\n",
       "    </tr>\n",
       "    <tr>\n",
       "      <th>10.0</th>\n",
       "      <td>3</td>\n",
       "      <td>3</td>\n",
       "      <td>3</td>\n",
       "      <td>3</td>\n",
       "      <td>3</td>\n",
       "      <td>3</td>\n",
       "      <td>3</td>\n",
       "      <td>3</td>\n",
       "    </tr>\n",
       "    <tr>\n",
       "      <th>2.0</th>\n",
       "      <td>2</td>\n",
       "      <td>2</td>\n",
       "      <td>2</td>\n",
       "      <td>2</td>\n",
       "      <td>2</td>\n",
       "      <td>2</td>\n",
       "      <td>2</td>\n",
       "      <td>2</td>\n",
       "    </tr>\n",
       "  </tbody>\n",
       "</table>\n",
       "</div>"
      ],
      "text/plain": [
       "              Title  About  Genres  Actors  Rating  Votes  Years  StartYear\n",
       "Rounded_Rate                                                               \n",
       "8.0            1283   1283    1283    1283    1283   1283   1283       1283\n",
       "7.0             890    890     890     890     890    890    890        890\n",
       "6.0             341    341     341     341     341    341    341        341\n",
       "9.0             171    171     171     171     171    171    171        171\n",
       "5.0              85     85      85      85      85     85     85         85\n",
       "4.0              43     43      43      43      43     43     43         43\n",
       "3.0              13     13      13      13      13     13     13         13\n",
       "10.0              3      3       3       3       3      3      3          3\n",
       "2.0               2      2       2       2       2      2      2          2"
      ]
     },
     "execution_count": 104,
     "metadata": {},
     "output_type": "execute_result"
    }
   ],
   "source": [
    "count_per_rate = round_rates.groupby('Rounded_Rate').count().sort_values(by='Title', ascending=False)\n",
    "count_per_rate"
   ]
  },
  {
   "cell_type": "code",
   "execution_count": 105,
   "metadata": {},
   "outputs": [
    {
     "data": {
      "text/html": [
       "<div>\n",
       "<style scoped>\n",
       "    .dataframe tbody tr th:only-of-type {\n",
       "        vertical-align: middle;\n",
       "    }\n",
       "\n",
       "    .dataframe tbody tr th {\n",
       "        vertical-align: top;\n",
       "    }\n",
       "\n",
       "    .dataframe thead th {\n",
       "        text-align: right;\n",
       "    }\n",
       "</style>\n",
       "<table border=\"1\" class=\"dataframe\">\n",
       "  <thead>\n",
       "    <tr style=\"text-align: right;\">\n",
       "      <th></th>\n",
       "      <th>Title</th>\n",
       "      <th>About</th>\n",
       "      <th>Genres</th>\n",
       "      <th>Actors</th>\n",
       "      <th>Votes</th>\n",
       "      <th>Years</th>\n",
       "      <th>StartYear</th>\n",
       "      <th>Rounded_Rate</th>\n",
       "    </tr>\n",
       "    <tr>\n",
       "      <th>Rating</th>\n",
       "      <th></th>\n",
       "      <th></th>\n",
       "      <th></th>\n",
       "      <th></th>\n",
       "      <th></th>\n",
       "      <th></th>\n",
       "      <th></th>\n",
       "      <th></th>\n",
       "    </tr>\n",
       "  </thead>\n",
       "  <tbody>\n",
       "    <tr>\n",
       "      <th>7.6</th>\n",
       "      <td>147</td>\n",
       "      <td>147</td>\n",
       "      <td>147</td>\n",
       "      <td>147</td>\n",
       "      <td>147</td>\n",
       "      <td>147</td>\n",
       "      <td>147</td>\n",
       "      <td>147</td>\n",
       "    </tr>\n",
       "    <tr>\n",
       "      <th>7.5</th>\n",
       "      <td>143</td>\n",
       "      <td>143</td>\n",
       "      <td>143</td>\n",
       "      <td>143</td>\n",
       "      <td>143</td>\n",
       "      <td>143</td>\n",
       "      <td>143</td>\n",
       "      <td>143</td>\n",
       "    </tr>\n",
       "    <tr>\n",
       "      <th>7.3</th>\n",
       "      <td>139</td>\n",
       "      <td>139</td>\n",
       "      <td>139</td>\n",
       "      <td>139</td>\n",
       "      <td>139</td>\n",
       "      <td>139</td>\n",
       "      <td>139</td>\n",
       "      <td>139</td>\n",
       "    </tr>\n",
       "    <tr>\n",
       "      <th>7.4</th>\n",
       "      <td>139</td>\n",
       "      <td>139</td>\n",
       "      <td>139</td>\n",
       "      <td>139</td>\n",
       "      <td>139</td>\n",
       "      <td>139</td>\n",
       "      <td>139</td>\n",
       "      <td>139</td>\n",
       "    </tr>\n",
       "    <tr>\n",
       "      <th>8.1</th>\n",
       "      <td>135</td>\n",
       "      <td>135</td>\n",
       "      <td>135</td>\n",
       "      <td>135</td>\n",
       "      <td>135</td>\n",
       "      <td>135</td>\n",
       "      <td>135</td>\n",
       "      <td>135</td>\n",
       "    </tr>\n",
       "    <tr>\n",
       "      <th>...</th>\n",
       "      <td>...</td>\n",
       "      <td>...</td>\n",
       "      <td>...</td>\n",
       "      <td>...</td>\n",
       "      <td>...</td>\n",
       "      <td>...</td>\n",
       "      <td>...</td>\n",
       "      <td>...</td>\n",
       "    </tr>\n",
       "    <tr>\n",
       "      <th>3.2</th>\n",
       "      <td>1</td>\n",
       "      <td>1</td>\n",
       "      <td>1</td>\n",
       "      <td>1</td>\n",
       "      <td>1</td>\n",
       "      <td>1</td>\n",
       "      <td>1</td>\n",
       "      <td>1</td>\n",
       "    </tr>\n",
       "    <tr>\n",
       "      <th>3.0</th>\n",
       "      <td>1</td>\n",
       "      <td>1</td>\n",
       "      <td>1</td>\n",
       "      <td>1</td>\n",
       "      <td>1</td>\n",
       "      <td>1</td>\n",
       "      <td>1</td>\n",
       "      <td>1</td>\n",
       "    </tr>\n",
       "    <tr>\n",
       "      <th>2.8</th>\n",
       "      <td>1</td>\n",
       "      <td>1</td>\n",
       "      <td>1</td>\n",
       "      <td>1</td>\n",
       "      <td>1</td>\n",
       "      <td>1</td>\n",
       "      <td>1</td>\n",
       "      <td>1</td>\n",
       "    </tr>\n",
       "    <tr>\n",
       "      <th>9.5</th>\n",
       "      <td>1</td>\n",
       "      <td>1</td>\n",
       "      <td>1</td>\n",
       "      <td>1</td>\n",
       "      <td>1</td>\n",
       "      <td>1</td>\n",
       "      <td>1</td>\n",
       "      <td>1</td>\n",
       "    </tr>\n",
       "    <tr>\n",
       "      <th>1.6</th>\n",
       "      <td>1</td>\n",
       "      <td>1</td>\n",
       "      <td>1</td>\n",
       "      <td>1</td>\n",
       "      <td>1</td>\n",
       "      <td>1</td>\n",
       "      <td>1</td>\n",
       "      <td>1</td>\n",
       "    </tr>\n",
       "  </tbody>\n",
       "</table>\n",
       "<p>71 rows × 8 columns</p>\n",
       "</div>"
      ],
      "text/plain": [
       "        Title  About  Genres  Actors  Votes  Years  StartYear  Rounded_Rate\n",
       "Rating                                                                     \n",
       "7.6       147    147     147     147    147    147        147           147\n",
       "7.5       143    143     143     143    143    143        143           143\n",
       "7.3       139    139     139     139    139    139        139           139\n",
       "7.4       139    139     139     139    139    139        139           139\n",
       "8.1       135    135     135     135    135    135        135           135\n",
       "...       ...    ...     ...     ...    ...    ...        ...           ...\n",
       "3.2         1      1       1       1      1      1          1             1\n",
       "3.0         1      1       1       1      1      1          1             1\n",
       "2.8         1      1       1       1      1      1          1             1\n",
       "9.5         1      1       1       1      1      1          1             1\n",
       "1.6         1      1       1       1      1      1          1             1\n",
       "\n",
       "[71 rows x 8 columns]"
      ]
     },
     "execution_count": 105,
     "metadata": {},
     "output_type": "execute_result"
    }
   ],
   "source": [
    "count_per_unrounded_rate = round_rates.groupby('Rating').count().sort_values(by='Title', ascending=False)\n",
    "count_per_unrounded_rate"
   ]
  },
  {
   "cell_type": "code",
   "execution_count": 106,
   "metadata": {},
   "outputs": [
    {
     "data": {
      "text/plain": [
       "8"
      ]
     },
     "execution_count": 106,
     "metadata": {},
     "output_type": "execute_result"
    }
   ],
   "source": [
    "# Now, view the histogram you created and type in an integer for most_popular_rating.\n",
    "most_popular_rating = int(count_per_rate.index[0])\n",
    "most_popular_rating"
   ]
  },
  {
   "cell_type": "code",
   "execution_count": 107,
   "metadata": {},
   "outputs": [
    {
     "data": {
      "text/plain": [
       "7.6"
      ]
     },
     "execution_count": 107,
     "metadata": {},
     "output_type": "execute_result"
    }
   ],
   "source": [
    "# Now, view the histogram you created and type in an integer for most_popular_rating.\n",
    "most_popular_unrounded_rating = float(count_per_unrounded_rate.index[0])\n",
    "most_popular_unrounded_rating"
   ]
  },
  {
   "cell_type": "code",
   "execution_count": 108,
   "metadata": {},
   "outputs": [
    {
     "data": {
      "text/plain": [
       "8"
      ]
     },
     "execution_count": 108,
     "metadata": {},
     "output_type": "execute_result"
    }
   ],
   "source": [
    "round(most_popular_unrounded_rating)"
   ]
  },
  {
   "cell_type": "code",
   "execution_count": 109,
   "metadata": {
    "deletable": false,
    "editable": false
   },
   "outputs": [
    {
     "data": {
      "text/html": [
       "<p><strong><pre style='display: inline;'>q2_7_b</pre></strong> passed!</p>"
      ],
      "text/plain": [
       "q2_7_b results: All test cases passed!"
      ]
     },
     "execution_count": 109,
     "metadata": {},
     "output_type": "execute_result"
    }
   ],
   "source": [
    "grader.check(\"q2_7_b\")"
   ]
  },
  {
   "cell_type": "markdown",
   "metadata": {},
   "source": [
    "## 3. Final Stretch 🧘‍♀️"
   ]
  },
  {
   "cell_type": "markdown",
   "metadata": {},
   "source": [
    "Suppose we have a DataFrame named `data` with two numerical columns, `'x'` and `'y'`. Consider the following scatter plot, which was generated by calling `data.plot(kind='scatter', x='x', y='y')`:\n",
    "\n",
    "<img src='images/q4_scatter_plot.png' width=400/>\n",
    "\n",
    "Now consider these two histograms:\n",
    "\n",
    "<center>\n",
    "    <table><tr>\n",
    "        <td><center><b>Histogram A</b><br> <img src='images/q4_histogram_one.png' width=400></center> </td>\n",
    "        <td><center><b>Histogram B</b><br> <img src='images/q4_histogram_two.png' width=400></center> </td>\n",
    "    </tr></table>\n",
    "</center>"
   ]
  },
  {
   "cell_type": "markdown",
   "metadata": {},
   "source": [
    "**Question 3.1.** Which of the following lines of code generated **Histogram B**? Assign `which_code` to either 1, 2, 3, or 4.\n",
    " \n",
    " \n",
    " 1. `data.plot(kind='hist', density=True, y='x')`\n",
    " 2. `data.plot(kind='hist', density=False, y='x')`\n",
    " 3. `data.plot(kind='hist', density=True, y='y')`\n",
    " 4. `data.plot(kind='hist', density=False, y='y')` "
   ]
  },
  {
   "cell_type": "code",
   "execution_count": 110,
   "metadata": {},
   "outputs": [],
   "source": [
    "### In this case, as the frequency is between 0 and 1, the density is definitely set to True, so 1 or 3. \n",
    "### As x has negative values, it would create the Histogram A, so it has to be option 3"
   ]
  },
  {
   "cell_type": "code",
   "execution_count": 111,
   "metadata": {},
   "outputs": [],
   "source": [
    "which_code = 3"
   ]
  },
  {
   "cell_type": "code",
   "execution_count": 112,
   "metadata": {
    "deletable": false,
    "editable": false
   },
   "outputs": [
    {
     "data": {
      "text/html": [
       "<p><strong><pre style='display: inline;'>q3_1</pre></strong> passed!</p>"
      ],
      "text/plain": [
       "q3_1 results: All test cases passed!"
      ]
     },
     "execution_count": 112,
     "metadata": {},
     "output_type": "execute_result"
    }
   ],
   "source": [
    "grader.check(\"q3_1\")"
   ]
  },
  {
   "cell_type": "markdown",
   "metadata": {},
   "source": [
    "**Question 3.2.** Suppose we run this block of code:\n",
    "\n",
    "```py\n",
    "new_data = bpd.DataFrame().assign(\n",
    "    x = data.get('x') / 4,\n",
    "    y = data.get('y')\n",
    ")\n",
    "```\n",
    "    \n",
    "We then run \n",
    "\n",
    "```py\n",
    "new_data.plot(kind='hist', density=True, y='x')\n",
    "```\n",
    "\n",
    "How will this histogram look compared to the histogram created by \n",
    "\n",
    "```py\n",
    "data.plot(kind='hist', density=True, y='x')\n",
    "```\n",
    "\n",
    "assuming both histograms are drawn on the same axes? Assign `histogram_difference` to either 1, 2, 3, or 4, corresponding to your choice.\n",
    "\n",
    "\n",
    "1. The `new_data` histogram will be narrower and shorter than the `data` histogram.\n",
    "2. The `new_data` histogram will be wider and shorter than the `data` histogram.\n",
    "3. The `new_data` histogram will be narrower and taller than the `data` histogram.\n",
    "4. The `new_data` histogram will be wider and taller than the `data` histogram.\n",
    "\n",
    "\n",
    "\n",
    "**_Hint:_** Look at the end of [Lecture 7](https://dsc10.com/resources/lectures/lec07/lec07.html#Plotting-overlaid-histograms) for an example of two histograms drawn on the same axes."
   ]
  },
  {
   "cell_type": "code",
   "execution_count": 113,
   "metadata": {},
   "outputs": [],
   "source": [
    "histogram_difference = 3"
   ]
  },
  {
   "cell_type": "code",
   "execution_count": 114,
   "metadata": {
    "deletable": false,
    "editable": false
   },
   "outputs": [
    {
     "data": {
      "text/html": [
       "<p><strong><pre style='display: inline;'>q3_2</pre></strong> passed!</p>"
      ],
      "text/plain": [
       "q3_2 results: All test cases passed!"
      ]
     },
     "execution_count": 114,
     "metadata": {},
     "output_type": "execute_result"
    }
   ],
   "source": [
    "grader.check(\"q3_2\")"
   ]
  },
  {
   "cell_type": "markdown",
   "metadata": {},
   "source": [
    "**Question 3.3.** Below, we show Histogram A again.\n",
    "\n",
    "<img src='./images/q4_histogram_one.png' width=400/>\n",
    "\n",
    "What **percent** of values in Histogram A are between -5 (inclusive) and -3 (exclusive)? While we cannot answer this question exactly since we do not know where the bins start and end, we can still approximate the answer. Assign the variable `percent_between` to a number 1 through 5, corresponding to the closest answer.\n",
    "\n",
    "1. 22%\n",
    "1. 27%\n",
    "1. 34%\n",
    "1. 40%\n",
    "1. 48%"
   ]
  },
  {
   "cell_type": "code",
   "execution_count": 115,
   "metadata": {},
   "outputs": [
    {
     "data": {
      "text/plain": [
       "40.325"
      ]
     },
     "execution_count": 115,
     "metadata": {},
     "output_type": "execute_result"
    }
   ],
   "source": [
    "(0.5*(0.215+0.24+0.18)+0.49*(0.175))*100"
   ]
  },
  {
   "cell_type": "code",
   "execution_count": 116,
   "metadata": {},
   "outputs": [],
   "source": [
    "percent_between = 4"
   ]
  },
  {
   "cell_type": "code",
   "execution_count": 117,
   "metadata": {
    "deletable": false,
    "editable": false
   },
   "outputs": [
    {
     "data": {
      "text/html": [
       "<p><strong><pre style='display: inline;'>q3_3</pre></strong> passed!</p>"
      ],
      "text/plain": [
       "q3_3 results: All test cases passed!"
      ]
     },
     "execution_count": 117,
     "metadata": {},
     "output_type": "execute_result"
    }
   ],
   "source": [
    "grader.check(\"q3_3\")"
   ]
  },
  {
   "cell_type": "markdown",
   "metadata": {},
   "source": [
    "## Finish Line: Almost there, but make sure to follow the steps below to submit! 🏁\n",
    "\n",
    "**_Citations:_** Did you use any generative artificial intelligence tools to assist you on this assignment? If so, please state, for each tool you used, the name of the tool (ex. ChatGPT) and the problem(s) in this assignment where you used the tool for help."
   ]
  },
  {
   "cell_type": "markdown",
   "metadata": {},
   "source": [
    "<hr style='color:Maroon;background-color:Maroon;border:0 none; height: 3px;'>\n",
    "\n",
    "Please cite tools here.\n",
    "\n",
    "<hr style='color:Maroon;background-color:Maroon;border:0 none; height: 3px;'>"
   ]
  },
  {
   "cell_type": "markdown",
   "metadata": {},
   "source": [
    "To submit your assignment:\n",
    "\n",
    "1. Select `Kernel -> Restart & Run All` to ensure that you have executed all cells, including the test cells. \n",
    "1. Read through the notebook to make sure all cells ran and all tests passed.\n",
    "1. Run the cell below to run all tests, and make sure that they all pass.\n",
    "1. Download your notebook using `File -> Download as -> Notebook (.ipynb)`, then upload your notebook to Gradescope.\n",
    "1. Stick around while the Gradescope autograder grades your work. Make sure you see that all tests have passed on Gradescope.\n",
    "1. Check that you have a confirmation email from Gradescope and save it as proof of your submission. \n",
    "\n",
    "With homeworks, unlike with labs, the grade you see on Gradescope is **not your final score**. We will run correctness tests after the assignment's due date has passed."
   ]
  },
  {
   "cell_type": "code",
   "execution_count": 118,
   "metadata": {},
   "outputs": [
    {
     "data": {
      "text/plain": [
       "q1_1 results: All test cases passed!\n",
       "\n",
       "q1_2 results: All test cases passed!\n",
       "\n",
       "q1_3 results: All test cases passed!\n",
       "\n",
       "q1_4 results: All test cases passed!\n",
       "\n",
       "q1_5 results: All test cases passed!\n",
       "\n",
       "q1_6 results: All test cases passed!\n",
       "\n",
       "q1_7 results: All test cases passed!\n",
       "\n",
       "q1_8 results: All test cases passed!\n",
       "\n",
       "q2_1 results: All test cases passed!\n",
       "\n",
       "q2_2 results: All test cases passed!\n",
       "\n",
       "q2_3 results: All test cases passed!\n",
       "\n",
       "q2_5 results: All test cases passed!\n",
       "\n",
       "q2_6 results: All test cases passed!\n",
       "\n",
       "q2_7_a results: All test cases passed!\n",
       "\n",
       "q2_7_b results: All test cases passed!\n",
       "\n",
       "q3_1 results: All test cases passed!\n",
       "\n",
       "q3_2 results: All test cases passed!\n",
       "\n",
       "q3_3 results: All test cases passed!"
      ]
     },
     "execution_count": 118,
     "metadata": {},
     "output_type": "execute_result"
    }
   ],
   "source": [
    "grader.check_all()"
   ]
  }
 ],
 "metadata": {
  "kernelspec": {
   "display_name": "Python 3",
   "language": "python",
   "name": "python3"
  },
  "language_info": {
   "codemirror_mode": {
    "name": "ipython",
    "version": 3
   },
   "file_extension": ".py",
   "mimetype": "text/x-python",
   "name": "python",
   "nbconvert_exporter": "python",
   "pygments_lexer": "ipython3",
   "version": "3.8.5"
  },
  "toc": {
   "base_numbering": 1,
   "nav_menu": {},
   "number_sections": true,
   "sideBar": true,
   "skip_h1_title": false,
   "title_cell": "Table of Contents",
   "title_sidebar": "Contents",
   "toc_cell": false,
   "toc_position": {},
   "toc_section_display": true,
   "toc_window_display": false
  }
 },
 "nbformat": 4,
 "nbformat_minor": 4
}
