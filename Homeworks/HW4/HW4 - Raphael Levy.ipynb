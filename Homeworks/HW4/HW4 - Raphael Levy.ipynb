{
 "cells": [
  {
   "cell_type": "markdown",
   "id": "virgin-industry",
   "metadata": {},
   "source": [
    "# Homework 4: Simulation, Sampling, and Bootstrapping\n",
    "\n",
    "## Due Tuesday, May 14th at 11:59PM\n",
    "\n",
    "Welcome to Homework 4! This homework will cover:\n",
    "- Simulations (see [CIT 9.3-9.4](https://inferentialthinking.com/chapters/09/3/Simulation.html))\n",
    "- Sampling and Empirical Distributions (see [CIT 10-10.4](https://inferentialthinking.com/chapters/10/Sampling_and_Empirical_Distributions.html))\n",
    "- Bootstrapping and Confidence Intervals (see [CIT 13.2](https://inferentialthinking.com/chapters/13/2/Bootstrap.html) and [CIT 13.3](https://inferentialthinking.com/chapters/13/3/Confidence_Intervals.html))"
   ]
  },
  {
   "cell_type": "markdown",
   "id": "careful-instruction",
   "metadata": {},
   "source": [
    "### Instructions\n",
    "\n",
    "Remember to start early and submit often. You are given six slip days throughout the quarter to extend deadlines. See the syllabus for more details. With the exception of using slip days, late work will not be accepted unless you have made special arrangements with your instructor.\n",
    "\n",
    "**Important**: For homeworks, the `otter` tests don't usually tell you that your answer is correct. More often, they help catch careless mistakes. It's up to you to ensure that your answer is correct. If you're not sure, ask someone (not for the answer, but for some guidance about your approach). These are great questions for office hours (the schedule can be found [here](https://dsc10.com/calendar)) or Ed. Directly sharing answers is not okay, but discussing problems with the course staff or with other students is encouraged. "
   ]
  },
  {
   "cell_type": "code",
   "execution_count": 1,
   "id": "suitable-curve",
   "metadata": {},
   "outputs": [],
   "source": [
    "# Please don't change this cell, but do make sure to run it.\n",
    "import babypandas as bpd\n",
    "import numpy as np\n",
    "\n",
    "import matplotlib.pyplot as plt\n",
    "plt.style.use('ggplot')\n",
    "\n",
    "# import otter\n",
    "# grader = otter.Notebook()"
   ]
  },
  {
   "cell_type": "markdown",
   "id": "advisory-antigua",
   "metadata": {},
   "source": [
    "## 1. Triton Spirit Night Lotto, continued 🔱 🏀 \n",
    "\n",
    "In the last homework, we calculated the probability of winning the grand prize (free housing) on a Spirit Night Lotto lottery ticket, and found that it was quite low 😭."
   ]
  },
  {
   "cell_type": "code",
   "execution_count": 2,
   "id": "committed-factor",
   "metadata": {},
   "outputs": [
    {
     "data": {
      "text/plain": [
       "6.216404065866433e-11"
      ]
     },
     "execution_count": 2,
     "metadata": {},
     "output_type": "execute_result"
    }
   ],
   "source": [
    "# Just run this cell, do not change it!\n",
    "free_housing_chance = (1 / 66) * (1 / 65) * (1 / 64) * (1 / 63) * (1 / 62) * (1 / 15)\n",
    "free_housing_chance"
   ]
  },
  {
   "cell_type": "markdown",
   "id": "super-stocks",
   "metadata": {},
   "source": [
    "In this question, we'll approach the same question not using math, but using simulation. \n",
    "\n",
    "It's important to remember how this lottery works:\n",
    "- First, you pick five **different** numbers, one at a time, from 1 to 66, representing the winning score at the Spirit Night game.\n",
    "- Then, you separately pick a number from 1 to 15. This is because the top scoring athlete (Bryce Pope) scored 15 points during the game. Let's say you select 9.\n",
    "- The six numbers you have selected, or  **your numbers**, can be represented all together as (7, 32, 24, 65, 13, 9). This is a _sequence_ of six numbers – **order matters**!\n",
    "\n",
    "The **winning numbers** are chosen by King Triton, who draws five balls, one at a time, **without replacement**, from a pot of white balls numbered 1 to 66. Then, he draws a gold ball, the Tritonball, from a pot of gold balls numbered 1 to 15. Both pots are completely separate, hence the different ball colors. For example, maybe the winning numbers are (65, 9, 24, 23, 1, 9).\n",
    "\n",
    "We’ll assume for this problem that in order to win the grand prize (free housing), all six of your numbers need to match the winning numbers and be in the **exact same positions**. In other words, your entire sequence of numbers must be exactly the same as King Triton's sequence of winning numbers. However, if some numbers in your sequence match up with the corresponding number in the winning sequence, you will still win some Triton Cash. \n",
    "\n",
    "Suppose again that you select (7, 32, 24, 65, 13, 9) and the winning numbers are (65, 9, 24, 23, 1, 9). In this case, two of your numbers are considered to match two of the winning numbers. \n",
    "- Your numbers: (7, 32, **24**, 65, 13, **9**)\n",
    "- Winning numbers: (65, 9, **24**, 23, 1, **9**)\n",
    "\n",
    "You won't win free housing, but you will win some Triton Cash. Note that although both sequences include the number 65 within the first five numbers (representing a white ball), since they are in different positions, that's not considered a match.\n"
   ]
  },
  {
   "cell_type": "markdown",
   "id": "external-jacob",
   "metadata": {},
   "source": [
    "**Question 1.1.** Implement a function called `simulate_one_ticket`. It should take no arguments, and it should return an array with 6 random numbers, simulating how the numbers are selected for a single Spirit Night Lotto ticket. The first five numbers should all be randomly chosen without replacement, from 1 to 66. The last number should be between 1 and 15."
   ]
  },
  {
   "cell_type": "code",
   "execution_count": 3,
   "id": "twenty-rebecca",
   "metadata": {},
   "outputs": [],
   "source": [
    "def simulate_one_ticket():\n",
    "    \"\"\"Simulate one Spirit Night Lotto ticket.\"\"\"\n",
    "    random_numbers = np.array([])\n",
    "    random_numbers = np.append(random_numbers, np.random.choice(np.arange(1, 67), 5))\n",
    "    random_numbers = np.append(random_numbers, np.random.choice(np.arange(1, 16), 1))\n",
    "    return random_numbers"
   ]
  },
  {
   "cell_type": "code",
   "execution_count": 4,
   "id": "earlier-advertiser",
   "metadata": {},
   "outputs": [
    {
     "data": {
      "text/plain": [
       "array([47., 35., 52., 49., 32.,  4.])"
      ]
     },
     "execution_count": 4,
     "metadata": {},
     "output_type": "execute_result"
    }
   ],
   "source": [
    "simulate_one_ticket()"
   ]
  },
  {
   "cell_type": "markdown",
   "id": "maritime-police",
   "metadata": {},
   "source": [
    "**Question 1.2.** It's draw day. You checked the winning numbers King Triton drew, which happened to be **(26, 49, 64, 5, 12, 7)**. Below, calculate how many matches there are between the winning numbers and a randomly generated ticket, and save the result in `num_matches`. Remember, order matters when counting matches!\n",
    "\n",
    "***Hint:*** You don't need a `for`-loop for this question. There is a one-line solution using `np.count_nonzero`."
   ]
  },
  {
   "cell_type": "code",
   "execution_count": 5,
   "id": "small-reality",
   "metadata": {},
   "outputs": [
    {
     "data": {
      "text/plain": [
       "array([13., 36., 33.,  0., -8., -1.])"
      ]
     },
     "execution_count": 5,
     "metadata": {},
     "output_type": "execute_result"
    }
   ],
   "source": [
    "winning = np.array([26, 49, 64, 5, 12, 7])\n",
    "simulated_ticket = np.array([13., 13., 31.,  5., 20.,  8.])\n",
    "winning-simulated_ticket"
   ]
  },
  {
   "cell_type": "code",
   "execution_count": 6,
   "id": "intermediate-vehicle",
   "metadata": {},
   "outputs": [
    {
     "data": {
      "text/plain": [
       "5"
      ]
     },
     "execution_count": 6,
     "metadata": {},
     "output_type": "execute_result"
    }
   ],
   "source": [
    "np.count_nonzero(winning-simulated_ticket)"
   ]
  },
  {
   "cell_type": "code",
   "execution_count": 7,
   "id": "postal-soccer",
   "metadata": {},
   "outputs": [
    {
     "data": {
      "text/plain": [
       "1"
      ]
     },
     "execution_count": 7,
     "metadata": {},
     "output_type": "execute_result"
    }
   ],
   "source": [
    "len(winning-simulated_ticket) - np.count_nonzero(winning-simulated_ticket)"
   ]
  },
  {
   "cell_type": "code",
   "execution_count": 8,
   "id": "appropriate-booking",
   "metadata": {},
   "outputs": [
    {
     "name": "stdout",
     "output_type": "stream",
     "text": [
      "The number of matches between the winning numbers [26 49 64  5 12  7] and the simulated ticket [ 7. 48. 35. 62. 28. 13.] is 0.\n"
     ]
    }
   ],
   "source": [
    "winning = np.array([26, 49, 64, 5, 12, 7])\n",
    "simulated_ticket = simulate_one_ticket()\n",
    "num_matches = len(winning - simulated_ticket) - np.count_nonzero(winning - simulated_ticket)\n",
    "\n",
    "print(f\"The number of matches between the winning numbers {winning} and the simulated ticket {simulated_ticket} is {num_matches}.\")"
   ]
  },
  {
   "cell_type": "markdown",
   "id": "grateful-winning",
   "metadata": {},
   "source": [
    "**Question 1.3.** You are disappointed because you bought a lottery ticket but you did not win free housing. To make yourself feel better, you write a simulation to remind yourself how unlikely it is to win the grand prize. \n",
    "\n",
    "Implement a simulation where you call the function `simulate_one_ticket` 100,000 times. In your 100,000 tickets, **how many times did you win the grand prize (free housing)?** Assign your answer to `count_free_housing`. (It would cost a fortune if you were to buy 100,000 tickets – it's pretty nice to be able to simulate this experiment instead of doing it in real life!) \n",
    "\n",
    "***Hint:*** Start by writing a simulation where you only buy 10 tickets. Once you are sure you have that figured out, then ramp it up to 100,000 tickets. This is a good general practice for writing simulations: start small! It may take a little while (up to a minute) for Python to perform the calculations when you are buying 100,000 tickets. "
   ]
  },
  {
   "cell_type": "code",
   "execution_count": 9,
   "id": "million-banking",
   "metadata": {},
   "outputs": [
    {
     "data": {
      "text/plain": [
       "0"
      ]
     },
     "execution_count": 9,
     "metadata": {},
     "output_type": "execute_result"
    }
   ],
   "source": [
    "winning = np.array([26, 49, 64, 5, 12, 7])\n",
    "num_repetitions = 100000\n",
    "count_matches_array = np.array([])\n",
    "for i in np.arange(num_repetitions):\n",
    "    simulated_ticket = simulate_one_ticket()\n",
    "    # this calculates the number of matches, or 6 - no matches\n",
    "    count_matches = len(winning - simulated_ticket) - np.count_nonzero(winning - simulated_ticket)\n",
    "    # if count_matches = 6, that means that no matches = 0, so they all match\n",
    "    if count_matches == len(winning - simulated_ticket):\n",
    "        # if they all match, count_matches_array is increased by 6\n",
    "        count_matches_array = np.append(count_matches_array, count_matches)\n",
    "\n",
    "# count_free_housing will be the total number of values in that array\n",
    "count_free_housing = len(count_matches_array)    \n",
    "count_free_housing"
   ]
  },
  {
   "cell_type": "markdown",
   "id": "american-hughes",
   "metadata": {},
   "source": [
    "How many times did you win free housing? Remember, the mathematical probability of winning free housing is quite low, on the order of $10^{-11}$. That's a lot lower than 1 in 100,000, which is $10^{-5}$.\n",
    "\n",
    "**Question 1.4.** As we've seen, you would need to be extremely lucky to win the grand prize. To encourage more students to buy Spirit Night Lotto tickets despite the terrible odds, there are some additional prizes. Students can win Triton Cash if *some* of their numbers match the corresponding winning numbers, as described in the introduction. Again, simulate the act of buying 100,000 tickets, but this time find **the greatest number of matches achieved by any of your tickets**, and assign this number to `most_matches`. \n",
    "\n",
    "For example, if 90,000 of your tickets matched 1 winning number and 10,000 of your tickets matched 2 winning numbers, then you would set `most_matches` to 2. If 99,999 of your tickets matched 1 winning number and one of your tickets matched 4 winning numbers, you would set `most_matches` to 4. If you happened to win the grand prize on one of your tickets, you would set `most_matches` to 6. \n",
    "\n",
    "***Hint:*** There are several ways to approach this; one way involves storing the number of matches per ticket in an array and finding the largest number in that array. "
   ]
  },
  {
   "cell_type": "code",
   "execution_count": 10,
   "id": "forward-venezuela",
   "metadata": {},
   "outputs": [
    {
     "data": {
      "text/plain": [
       "4.0"
      ]
     },
     "execution_count": 10,
     "metadata": {},
     "output_type": "execute_result"
    }
   ],
   "source": [
    "winning = np.array([26, 49, 64, 5, 12, 7])\n",
    "\n",
    "num_repetitions = 100000\n",
    "count_matches_array = np.array([])\n",
    "for i in np.arange(num_repetitions):\n",
    "    simulated_ticket = simulate_one_ticket()\n",
    "    count_matches = len(winning - simulated_ticket) - np.count_nonzero(winning - simulated_ticket)\n",
    "    count_matches_array = np.append(count_matches_array, count_matches)\n",
    "    \n",
    "most_matches = max(count_matches_array)\n",
    "most_matches"
   ]
  },
  {
   "cell_type": "markdown",
   "id": "boolean-blast",
   "metadata": {},
   "source": [
    "**Question 1.5.** Suppose one Spirit Night Lotto ticket costs $5.\n",
    "\n",
    "The Spirit Night Lotto advertisement on Instagram promises you will never lose money because of the following generous prizes:\n",
    "\n",
    "- Win $15 with a 1-number match\n",
    "\n",
    "- Win $50 with a 2-number match\n",
    "\n",
    "- Win $100 with a 3-number match\n",
    "\n",
    "- Win $1,000 with a 4-number match\n",
    "\n",
    "- Win $5,000 with a 5-number match\n",
    "\n",
    "- Win $25,000 with a 6-number match (free housing!)\n",
    "\n",
    "If you had the money to buy 100,000 tickets, what would be your net winnings from buying these tickets? Since this is net winnings, this should account for the prizes you win and the cost of buying the tickets. Assign the amount to `net_winnings`. Note that a positive value means you won money overall, and a negative value means you lost money overall. Do you believe the advertisement's claims?\n",
    "\n",
    "The winning numbers are the same from the previous part: **(26, 49, 64, 5, 12, 7)**.\n",
    "\n",
    "***Hint:*** Again, there are a few ways you could approach this problem. One way involves generating another 100,000 random tickets and counting the amount earned per ticket, adding to a running total. Alternatively, if you created an array of the number of matches per ticket in Question 1.4, you could loop through that array. For practice, you can try solving this problem multiple ways!"
   ]
  },
  {
   "cell_type": "code",
   "execution_count": 11,
   "id": "acknowledged-juvenile",
   "metadata": {},
   "outputs": [
    {
     "name": "stdout",
     "output_type": "stream",
     "text": [
      "1\n"
     ]
    }
   ],
   "source": [
    "my_array = [1, 2, 3, 4, 1, 1, 5] \n",
    "count_of_ones = my_array.count(5) \n",
    "print(count_of_ones)"
   ]
  },
  {
   "cell_type": "code",
   "execution_count": 12,
   "id": "graduate-gather",
   "metadata": {},
   "outputs": [
    {
     "data": {
      "text/plain": [
       "-272450"
      ]
     },
     "execution_count": 12,
     "metadata": {},
     "output_type": "execute_result"
    }
   ],
   "source": [
    "winning = np.array([26, 49, 64, 5, 12, 7])\n",
    "\n",
    "num_repetitions = 100000\n",
    "count_matches_array = np.array([])\n",
    "for i in np.arange(num_repetitions):\n",
    "    simulated_ticket = simulate_one_ticket()\n",
    "    count_matches = len(winning - simulated_ticket) - np.count_nonzero(winning - simulated_ticket)\n",
    "    count_matches_array = np.append(count_matches_array, count_matches)\n",
    "    count_matches_list = count_matches_array.tolist()\n",
    "#print(count_matches_array)\n",
    "# print(count_matches_array.tolist().count(0))\n",
    "\n",
    "net_winnings = (count_matches_list.count(0)*(-5) +\n",
    "                count_matches_list.count(1)*(10) +\n",
    "                count_matches_list.count(2)*(45) +\n",
    "                count_matches_list.count(3)*(95) +\n",
    "                count_matches_list.count(4)*(995) +\n",
    "                count_matches_list.count(5)*(4995) +\n",
    "                count_matches_list.count(6)*(24995)\n",
    "                )\n",
    "\n",
    "net_winnings"
   ]
  },
  {
   "cell_type": "markdown",
   "id": "animated-platinum",
   "metadata": {},
   "source": [
    "Nope, I do not believe them, as even the chances of getting a 1 are very slim ;("
   ]
  },
  {
   "cell_type": "markdown",
   "id": "progressive-lafayette",
   "metadata": {},
   "source": [
    "## 2. Sampling with NBA Data 🏀\n",
    "\n",
    "In this question, we will use a [dataset](https://www.kaggle.com/datasets/jamiewelsh2/nba-player-salaries-2022-23-season?resource=download) consisting of information about NBA player salaries and per game statistics for the 2022-23 season. We'll use this data to get some practice with sampling. Run the cell below to load the data into a DataFrame."
   ]
  },
  {
   "cell_type": "code",
   "execution_count": 13,
   "id": "superb-audio",
   "metadata": {},
   "outputs": [
    {
     "data": {
      "text/html": [
       "<div>\n",
       "<style scoped>\n",
       "    .dataframe tbody tr th:only-of-type {\n",
       "        vertical-align: middle;\n",
       "    }\n",
       "\n",
       "    .dataframe tbody tr th {\n",
       "        vertical-align: top;\n",
       "    }\n",
       "\n",
       "    .dataframe thead th {\n",
       "        text-align: right;\n",
       "    }\n",
       "</style>\n",
       "<table border=\"1\" class=\"dataframe\">\n",
       "  <thead>\n",
       "    <tr style=\"text-align: right;\">\n",
       "      <th></th>\n",
       "      <th>Name</th>\n",
       "      <th>Salary</th>\n",
       "      <th>Age</th>\n",
       "      <th>Team</th>\n",
       "      <th>Games</th>\n",
       "      <th>Rebounds</th>\n",
       "      <th>Assists</th>\n",
       "      <th>Steals</th>\n",
       "      <th>Blocks</th>\n",
       "      <th>Turnovers</th>\n",
       "      <th>Points</th>\n",
       "    </tr>\n",
       "  </thead>\n",
       "  <tbody>\n",
       "    <tr>\n",
       "      <th>0</th>\n",
       "      <td>Stephen Curry</td>\n",
       "      <td>48070014</td>\n",
       "      <td>34</td>\n",
       "      <td>GSW</td>\n",
       "      <td>56</td>\n",
       "      <td>6.1</td>\n",
       "      <td>6.3</td>\n",
       "      <td>0.9</td>\n",
       "      <td>0.4</td>\n",
       "      <td>3.2</td>\n",
       "      <td>29.4</td>\n",
       "    </tr>\n",
       "    <tr>\n",
       "      <th>1</th>\n",
       "      <td>John Wall</td>\n",
       "      <td>47345760</td>\n",
       "      <td>32</td>\n",
       "      <td>LAC</td>\n",
       "      <td>34</td>\n",
       "      <td>2.7</td>\n",
       "      <td>5.2</td>\n",
       "      <td>0.8</td>\n",
       "      <td>0.4</td>\n",
       "      <td>2.4</td>\n",
       "      <td>11.4</td>\n",
       "    </tr>\n",
       "    <tr>\n",
       "      <th>2</th>\n",
       "      <td>Russell Westbrook</td>\n",
       "      <td>47080179</td>\n",
       "      <td>34</td>\n",
       "      <td>LAL/LAC</td>\n",
       "      <td>73</td>\n",
       "      <td>5.8</td>\n",
       "      <td>7.5</td>\n",
       "      <td>1.0</td>\n",
       "      <td>0.5</td>\n",
       "      <td>3.5</td>\n",
       "      <td>15.9</td>\n",
       "    </tr>\n",
       "    <tr>\n",
       "      <th>3</th>\n",
       "      <td>LeBron James</td>\n",
       "      <td>44474988</td>\n",
       "      <td>38</td>\n",
       "      <td>LAL</td>\n",
       "      <td>55</td>\n",
       "      <td>8.3</td>\n",
       "      <td>6.8</td>\n",
       "      <td>0.9</td>\n",
       "      <td>0.6</td>\n",
       "      <td>3.2</td>\n",
       "      <td>28.9</td>\n",
       "    </tr>\n",
       "    <tr>\n",
       "      <th>4</th>\n",
       "      <td>Kevin Durant</td>\n",
       "      <td>44119845</td>\n",
       "      <td>34</td>\n",
       "      <td>BRK/PHO</td>\n",
       "      <td>47</td>\n",
       "      <td>6.7</td>\n",
       "      <td>5.0</td>\n",
       "      <td>0.7</td>\n",
       "      <td>1.4</td>\n",
       "      <td>3.3</td>\n",
       "      <td>29.1</td>\n",
       "    </tr>\n",
       "    <tr>\n",
       "      <th>...</th>\n",
       "      <td>...</td>\n",
       "      <td>...</td>\n",
       "      <td>...</td>\n",
       "      <td>...</td>\n",
       "      <td>...</td>\n",
       "      <td>...</td>\n",
       "      <td>...</td>\n",
       "      <td>...</td>\n",
       "      <td>...</td>\n",
       "      <td>...</td>\n",
       "      <td>...</td>\n",
       "    </tr>\n",
       "    <tr>\n",
       "      <th>462</th>\n",
       "      <td>Justin Minaya</td>\n",
       "      <td>35096</td>\n",
       "      <td>23</td>\n",
       "      <td>POR</td>\n",
       "      <td>4</td>\n",
       "      <td>3.8</td>\n",
       "      <td>1.0</td>\n",
       "      <td>0.5</td>\n",
       "      <td>1.3</td>\n",
       "      <td>1.0</td>\n",
       "      <td>4.3</td>\n",
       "    </tr>\n",
       "    <tr>\n",
       "      <th>463</th>\n",
       "      <td>Kobi Simmons</td>\n",
       "      <td>32795</td>\n",
       "      <td>25</td>\n",
       "      <td>CHO</td>\n",
       "      <td>5</td>\n",
       "      <td>0.8</td>\n",
       "      <td>1.0</td>\n",
       "      <td>0.0</td>\n",
       "      <td>0.4</td>\n",
       "      <td>0.2</td>\n",
       "      <td>1.0</td>\n",
       "    </tr>\n",
       "    <tr>\n",
       "      <th>464</th>\n",
       "      <td>Gabe York</td>\n",
       "      <td>32171</td>\n",
       "      <td>29</td>\n",
       "      <td>IND</td>\n",
       "      <td>3</td>\n",
       "      <td>2.0</td>\n",
       "      <td>1.7</td>\n",
       "      <td>0.7</td>\n",
       "      <td>0.0</td>\n",
       "      <td>0.0</td>\n",
       "      <td>8.0</td>\n",
       "    </tr>\n",
       "    <tr>\n",
       "      <th>465</th>\n",
       "      <td>RaiQuan Gray</td>\n",
       "      <td>5849</td>\n",
       "      <td>23</td>\n",
       "      <td>BRK</td>\n",
       "      <td>1</td>\n",
       "      <td>9.0</td>\n",
       "      <td>7.0</td>\n",
       "      <td>0.0</td>\n",
       "      <td>1.0</td>\n",
       "      <td>4.0</td>\n",
       "      <td>16.0</td>\n",
       "    </tr>\n",
       "    <tr>\n",
       "      <th>466</th>\n",
       "      <td>Jacob Gilyard</td>\n",
       "      <td>5849</td>\n",
       "      <td>24</td>\n",
       "      <td>MEM</td>\n",
       "      <td>1</td>\n",
       "      <td>4.0</td>\n",
       "      <td>7.0</td>\n",
       "      <td>3.0</td>\n",
       "      <td>0.0</td>\n",
       "      <td>2.0</td>\n",
       "      <td>3.0</td>\n",
       "    </tr>\n",
       "  </tbody>\n",
       "</table>\n",
       "<p>467 rows × 11 columns</p>\n",
       "</div>"
      ],
      "text/plain": [
       "                  Name    Salary  Age     Team  Games  Rebounds  Assists  \\\n",
       "0        Stephen Curry  48070014   34      GSW     56       6.1      6.3   \n",
       "1            John Wall  47345760   32      LAC     34       2.7      5.2   \n",
       "2    Russell Westbrook  47080179   34  LAL/LAC     73       5.8      7.5   \n",
       "3         LeBron James  44474988   38      LAL     55       8.3      6.8   \n",
       "4         Kevin Durant  44119845   34  BRK/PHO     47       6.7      5.0   \n",
       "..                 ...       ...  ...      ...    ...       ...      ...   \n",
       "462      Justin Minaya     35096   23      POR      4       3.8      1.0   \n",
       "463       Kobi Simmons     32795   25      CHO      5       0.8      1.0   \n",
       "464          Gabe York     32171   29      IND      3       2.0      1.7   \n",
       "465       RaiQuan Gray      5849   23      BRK      1       9.0      7.0   \n",
       "466      Jacob Gilyard      5849   24      MEM      1       4.0      7.0   \n",
       "\n",
       "     Steals  Blocks  Turnovers  Points  \n",
       "0       0.9     0.4        3.2    29.4  \n",
       "1       0.8     0.4        2.4    11.4  \n",
       "2       1.0     0.5        3.5    15.9  \n",
       "3       0.9     0.6        3.2    28.9  \n",
       "4       0.7     1.4        3.3    29.1  \n",
       "..      ...     ...        ...     ...  \n",
       "462     0.5     1.3        1.0     4.3  \n",
       "463     0.0     0.4        0.2     1.0  \n",
       "464     0.7     0.0        0.0     8.0  \n",
       "465     0.0     1.0        4.0    16.0  \n",
       "466     3.0     0.0        2.0     3.0  \n",
       "\n",
       "[467 rows x 11 columns]"
      ]
     },
     "execution_count": 13,
     "metadata": {},
     "output_type": "execute_result"
    }
   ],
   "source": [
    "# Just run this cell, do not change it!\n",
    "nba_data = bpd.read_csv('nba_players.csv')\n",
    "nba_data"
   ]
  },
  {
   "cell_type": "markdown",
   "id": "sharp-prior",
   "metadata": {},
   "source": [
    "We've provided a function called `compute_statistics` that takes as input a DataFrame with two columns, `'Points'` and `'Salary'`, and then:\n",
    "- draws a histogram of `'Points'`,\n",
    "- draws a histogram of `'Salary'`, and\n",
    "- returns a two-element array containing the mean `'Points'` and mean `'Salary'`.\n",
    "\n",
    "Run the cell below to define the `compute_statistics` function, and a helper function called `histograms`. Don't worry about how this code works, and please don't change anything."
   ]
  },
  {
   "cell_type": "code",
   "execution_count": 14,
   "id": "registered-leisure",
   "metadata": {},
   "outputs": [],
   "source": [
    "# Don't change this cell, just run it.\n",
    "def histograms(df):\n",
    "    points = df.get('Points').values\n",
    "    salaries = df.get('Salary').values\n",
    "    \n",
    "    plt.subplots(1, 2, figsize=(15, 4), dpi=100)\n",
    "\n",
    "    plt.subplot(1, 2, 1)\n",
    "    plt.hist(points, density=True, alpha=0.5, color='blue', ec='w', bins=np.arange(0, 35, 1))\n",
    "    plt.title('Distribution of Points')\n",
    "\n",
    "    plt.subplot(1, 2, 2)\n",
    "    plt.hist(salaries, density=True, alpha=0.5, color='blue', ec='w', bins=np.arange(0, 50000000, 1000000))\n",
    "    plt.title('Distribution of Salaries')\n",
    "    plt.show()\n",
    "    \n",
    "def compute_statistics(points_and_salaries_data, draw=True):\n",
    "    if draw:\n",
    "        histograms(points_and_salaries_data)\n",
    "    avg_points = points_and_salaries_data.get('Points').mean()\n",
    "    avg_salary = points_and_salaries_data.get('Salary').mean()\n",
    "    avg_array = np.array([avg_points, avg_salary]) \n",
    "    return avg_array"
   ]
  },
  {
   "cell_type": "markdown",
   "id": "approved-cooling",
   "metadata": {},
   "source": [
    "We can use this `compute_statistics` function to show the distribution of `'Points'` and `'Salary'` and compute their means, for any collection of players. \n",
    "\n",
    "Run the next cell to show these distributions and compute the means for all NBA players. Notice that an array containing the mean `'Points'` and mean `'Salary'` values is displayed before the histograms."
   ]
  },
  {
   "cell_type": "code",
   "execution_count": 15,
   "id": "binding-provision",
   "metadata": {},
   "outputs": [
    {
     "data": {
      "image/png": "[encoded data removed]",
      "text/plain": [
       "<Figure size 1500x400 with 2 Axes>"
      ]
     },
     "metadata": {},
     "output_type": "display_data"
    },
    {
     "data": {
      "text/plain": [
       "array([9.12997859e+00, 8.41659875e+06])"
      ]
     },
     "execution_count": 15,
     "metadata": {},
     "output_type": "execute_result"
    }
   ],
   "source": [
    "nba_stats = compute_statistics(nba_data)\n",
    "nba_stats"
   ]
  },
  {
   "cell_type": "markdown",
   "id": "guilty-experiment",
   "metadata": {},
   "source": [
    "Now, imagine that instead of having access to the full *population* of NBA players, we only have access to data on a smaller subset of players, or a *sample*.  For 467 players, it's not so unreasonable to expect to see all the data, but usually we aren't so lucky.  Instead, we often make *statistical inferences* about a large underlying population using a smaller sample.\n",
    "\n",
    "**Statistical inference** is the process of using data in a sample to _infer_ some characteristic about the population from which the sample was drawn. A common strategy for statistical inference is to estimate a parameter of the population by computing a corresponding statistic on a sample. This strategy sometimes works well and sometimes doesn't.  The degree to which it gives us useful answers depends on several factors.\n",
    "\n",
    "One very important factor in the utility of samples is how they were gathered. Let's look at some different sampling strategies."
   ]
  },
  {
   "cell_type": "markdown",
   "id": "plain-movie",
   "metadata": {},
   "source": [
    "### Convenience sampling\n",
    "One sampling methodology, which is **generally a bad idea**, is to choose players which are somehow convenient to sample.  For example, you might choose players from a team that's near your house, since it's easier to collect information about them.  This is called *convenience sampling*.\n",
    "\n",
    "**Question 2.1.**  Suppose you live in New Jersey and you decide to manually look up information from the three closest teams:\n",
    "- New York Knicks (`'NYK'`)\n",
    "- Brooklyn Nets (`'BRK'`)\n",
    "- Philadelphia 76ers (`'PHI'`)\n",
    "\n",
    "Assign `convenience_sample` to a subset of `nba_data` that contains only the rows for players that are in one of these three teams."
   ]
  },
  {
   "cell_type": "code",
   "execution_count": 16,
   "id": "retained-spray",
   "metadata": {},
   "outputs": [
    {
     "data": {
      "text/html": [
       "<div>\n",
       "<style scoped>\n",
       "    .dataframe tbody tr th:only-of-type {\n",
       "        vertical-align: middle;\n",
       "    }\n",
       "\n",
       "    .dataframe tbody tr th {\n",
       "        vertical-align: top;\n",
       "    }\n",
       "\n",
       "    .dataframe thead th {\n",
       "        text-align: right;\n",
       "    }\n",
       "</style>\n",
       "<table border=\"1\" class=\"dataframe\">\n",
       "  <thead>\n",
       "    <tr style=\"text-align: right;\">\n",
       "      <th></th>\n",
       "      <th>Name</th>\n",
       "      <th>Salary</th>\n",
       "      <th>Age</th>\n",
       "      <th>Team</th>\n",
       "      <th>Games</th>\n",
       "      <th>Rebounds</th>\n",
       "      <th>Assists</th>\n",
       "      <th>Steals</th>\n",
       "      <th>Blocks</th>\n",
       "      <th>Turnovers</th>\n",
       "      <th>Points</th>\n",
       "    </tr>\n",
       "  </thead>\n",
       "  <tbody>\n",
       "    <tr>\n",
       "      <th>16</th>\n",
       "      <td>Tobias Harris</td>\n",
       "      <td>37633050</td>\n",
       "      <td>30</td>\n",
       "      <td>PHI</td>\n",
       "      <td>74</td>\n",
       "      <td>5.7</td>\n",
       "      <td>2.5</td>\n",
       "      <td>0.9</td>\n",
       "      <td>0.5</td>\n",
       "      <td>1.2</td>\n",
       "      <td>14.7</td>\n",
       "    </tr>\n",
       "    <tr>\n",
       "      <th>20</th>\n",
       "      <td>Ben Simmons</td>\n",
       "      <td>35448672</td>\n",
       "      <td>26</td>\n",
       "      <td>BRK</td>\n",
       "      <td>42</td>\n",
       "      <td>6.3</td>\n",
       "      <td>6.1</td>\n",
       "      <td>1.3</td>\n",
       "      <td>0.6</td>\n",
       "      <td>2.3</td>\n",
       "      <td>6.9</td>\n",
       "    </tr>\n",
       "    <tr>\n",
       "      <th>27</th>\n",
       "      <td>Joel Embiid</td>\n",
       "      <td>33616770</td>\n",
       "      <td>28</td>\n",
       "      <td>PHI</td>\n",
       "      <td>66</td>\n",
       "      <td>10.2</td>\n",
       "      <td>4.2</td>\n",
       "      <td>1.0</td>\n",
       "      <td>1.7</td>\n",
       "      <td>3.4</td>\n",
       "      <td>33.1</td>\n",
       "    </tr>\n",
       "    <tr>\n",
       "      <th>29</th>\n",
       "      <td>James Harden</td>\n",
       "      <td>33000000</td>\n",
       "      <td>33</td>\n",
       "      <td>PHI</td>\n",
       "      <td>58</td>\n",
       "      <td>6.1</td>\n",
       "      <td>10.7</td>\n",
       "      <td>1.2</td>\n",
       "      <td>0.5</td>\n",
       "      <td>3.4</td>\n",
       "      <td>21.0</td>\n",
       "    </tr>\n",
       "    <tr>\n",
       "      <th>44</th>\n",
       "      <td>Jalen Brunson</td>\n",
       "      <td>27733332</td>\n",
       "      <td>26</td>\n",
       "      <td>NYK</td>\n",
       "      <td>68</td>\n",
       "      <td>3.5</td>\n",
       "      <td>6.2</td>\n",
       "      <td>0.9</td>\n",
       "      <td>0.2</td>\n",
       "      <td>2.1</td>\n",
       "      <td>24.0</td>\n",
       "    </tr>\n",
       "    <tr>\n",
       "      <th>...</th>\n",
       "      <td>...</td>\n",
       "      <td>...</td>\n",
       "      <td>...</td>\n",
       "      <td>...</td>\n",
       "      <td>...</td>\n",
       "      <td>...</td>\n",
       "      <td>...</td>\n",
       "      <td>...</td>\n",
       "      <td>...</td>\n",
       "      <td>...</td>\n",
       "      <td>...</td>\n",
       "    </tr>\n",
       "    <tr>\n",
       "      <th>403</th>\n",
       "      <td>Trevor Keels</td>\n",
       "      <td>520589</td>\n",
       "      <td>19</td>\n",
       "      <td>NYK</td>\n",
       "      <td>3</td>\n",
       "      <td>0.7</td>\n",
       "      <td>0.0</td>\n",
       "      <td>0.0</td>\n",
       "      <td>0.0</td>\n",
       "      <td>0.0</td>\n",
       "      <td>1.0</td>\n",
       "    </tr>\n",
       "    <tr>\n",
       "      <th>433</th>\n",
       "      <td>Louis King</td>\n",
       "      <td>307089</td>\n",
       "      <td>23</td>\n",
       "      <td>PHI</td>\n",
       "      <td>1</td>\n",
       "      <td>4.0</td>\n",
       "      <td>2.0</td>\n",
       "      <td>1.0</td>\n",
       "      <td>0.0</td>\n",
       "      <td>2.0</td>\n",
       "      <td>20.0</td>\n",
       "    </tr>\n",
       "    <tr>\n",
       "      <th>436</th>\n",
       "      <td>Alondes Williams</td>\n",
       "      <td>254446</td>\n",
       "      <td>23</td>\n",
       "      <td>BRK</td>\n",
       "      <td>1</td>\n",
       "      <td>1.0</td>\n",
       "      <td>0.0</td>\n",
       "      <td>0.0</td>\n",
       "      <td>0.0</td>\n",
       "      <td>2.0</td>\n",
       "      <td>0.0</td>\n",
       "    </tr>\n",
       "    <tr>\n",
       "      <th>445</th>\n",
       "      <td>Mac McClung</td>\n",
       "      <td>160856</td>\n",
       "      <td>24</td>\n",
       "      <td>PHI</td>\n",
       "      <td>2</td>\n",
       "      <td>5.0</td>\n",
       "      <td>4.5</td>\n",
       "      <td>0.0</td>\n",
       "      <td>0.0</td>\n",
       "      <td>1.5</td>\n",
       "      <td>12.5</td>\n",
       "    </tr>\n",
       "    <tr>\n",
       "      <th>465</th>\n",
       "      <td>RaiQuan Gray</td>\n",
       "      <td>5849</td>\n",
       "      <td>23</td>\n",
       "      <td>BRK</td>\n",
       "      <td>1</td>\n",
       "      <td>9.0</td>\n",
       "      <td>7.0</td>\n",
       "      <td>0.0</td>\n",
       "      <td>1.0</td>\n",
       "      <td>4.0</td>\n",
       "      <td>16.0</td>\n",
       "    </tr>\n",
       "  </tbody>\n",
       "</table>\n",
       "<p>36 rows × 11 columns</p>\n",
       "</div>"
      ],
      "text/plain": [
       "                 Name    Salary  Age Team  Games  Rebounds  Assists  Steals  \\\n",
       "16      Tobias Harris  37633050   30  PHI     74       5.7      2.5     0.9   \n",
       "20        Ben Simmons  35448672   26  BRK     42       6.3      6.1     1.3   \n",
       "27        Joel Embiid  33616770   28  PHI     66      10.2      4.2     1.0   \n",
       "29       James Harden  33000000   33  PHI     58       6.1     10.7     1.2   \n",
       "44      Jalen Brunson  27733332   26  NYK     68       3.5      6.2     0.9   \n",
       "..                ...       ...  ...  ...    ...       ...      ...     ...   \n",
       "403      Trevor Keels    520589   19  NYK      3       0.7      0.0     0.0   \n",
       "433        Louis King    307089   23  PHI      1       4.0      2.0     1.0   \n",
       "436  Alondes Williams    254446   23  BRK      1       1.0      0.0     0.0   \n",
       "445       Mac McClung    160856   24  PHI      2       5.0      4.5     0.0   \n",
       "465      RaiQuan Gray      5849   23  BRK      1       9.0      7.0     0.0   \n",
       "\n",
       "     Blocks  Turnovers  Points  \n",
       "16      0.5        1.2    14.7  \n",
       "20      0.6        2.3     6.9  \n",
       "27      1.7        3.4    33.1  \n",
       "29      0.5        3.4    21.0  \n",
       "44      0.2        2.1    24.0  \n",
       "..      ...        ...     ...  \n",
       "403     0.0        0.0     1.0  \n",
       "433     0.0        2.0    20.0  \n",
       "436     0.0        2.0     0.0  \n",
       "445     0.0        1.5    12.5  \n",
       "465     1.0        4.0    16.0  \n",
       "\n",
       "[36 rows x 11 columns]"
      ]
     },
     "execution_count": 16,
     "metadata": {},
     "output_type": "execute_result"
    }
   ],
   "source": [
    "convenience_sample = nba_data[(nba_data.get('Team')=='NYK') | (nba_data.get('Team')=='BRK') | (nba_data.get('Team')=='PHI')]\n",
    "convenience_sample"
   ]
  },
  {
   "cell_type": "markdown",
   "id": "dangerous-center",
   "metadata": {},
   "source": [
    "**Question 2.2.** Assign `convenience_stats` to an array of the mean `'Points'` and mean `'Salary'` of your convenience sample.  Since they're computed on a sample, these are called *sample means*. \n",
    "\n",
    "***Hint:*** Use the function `compute_statistics`; it's okay if histograms are displayed as well."
   ]
  },
  {
   "cell_type": "code",
   "execution_count": 17,
   "id": "brave-blogger",
   "metadata": {},
   "outputs": [
    {
     "data": {
      "image/png": "[encoded data removed]",
      "text/plain": [
       "<Figure size 1500x400 with 2 Axes>"
      ]
     },
     "metadata": {},
     "output_type": "display_data"
    },
    {
     "data": {
      "text/plain": [
       "array([1.04250000e+01, 9.64560108e+06])"
      ]
     },
     "execution_count": 17,
     "metadata": {},
     "output_type": "execute_result"
    }
   ],
   "source": [
    "convenience_stats = compute_statistics(convenience_sample)\n",
    "convenience_stats"
   ]
  },
  {
   "cell_type": "markdown",
   "id": "corrected-shanghai",
   "metadata": {},
   "source": [
    "Next, we'll compare the distribution of `'Points'` in our convenience sample to the distribution of `'Points'` for all the players in our dataset."
   ]
  },
  {
   "cell_type": "code",
   "execution_count": 18,
   "id": "compressed-karaoke",
   "metadata": {},
   "outputs": [
    {
     "data": {
      "image/png": "[encoded data removed]",
      "text/plain": [
       "<Figure size 1275x340 with 2 Axes>"
      ]
     },
     "metadata": {},
     "output_type": "display_data"
    }
   ],
   "source": [
    "# Just run this cell, do not change it!\n",
    "def compare_points(first, second, first_title, second_title):\n",
    "    \"\"\"Compare the points in two DataFrames.\"\"\"\n",
    "    bins = np.arange(0, 35, 1)\n",
    "    \n",
    "    plt.subplots(1, 2, figsize=(15, 4), dpi=85)\n",
    "\n",
    "    plt.subplot(1, 2, 1)\n",
    "    plt.hist(first.get('Points'), bins=bins, density=True, ec='w', color='blue', alpha=0.5)\n",
    "    plt.title(f'Points ({first_title})')\n",
    "    \n",
    "    plt.subplot(1, 2, 2)\n",
    "    plt.hist(second.get('Points'), bins=bins, density=True, ec='w', color='blue', alpha=0.5)\n",
    "    plt.title(f'Points ({second_title})')\n",
    "    plt.show()\n",
    "\n",
    "compare_points(nba_data, convenience_sample, 'All Players', 'Convenience Sample')"
   ]
  },
  {
   "cell_type": "markdown",
   "id": "contained-toddler",
   "metadata": {},
   "source": [
    "**Question 2.3.** From what you see in the histograms above, did the convenience sample give us an accurate picture of the points for the full population of NBA players?  Why or why not?\n",
    "\n",
    "Assign either 1, 2, 3, or 4 to the variable `sampling_q3` below. \n",
    "1. Yes. The sample is large enough, so it is an accurate representation of the population.\n",
    "1. No. Convenience samples generally don't give us an accurate representation of the population.\n",
    "1. No. Normally convenience samples give us an accurate representation of the population, but we just got unlucky.\n",
    "1. No. Normally convenience samples give us an accurate representation of the population, but only if the sample size is large enough. Our convenience sample here was too small."
   ]
  },
  {
   "cell_type": "code",
   "execution_count": 19,
   "id": "saved-genome",
   "metadata": {},
   "outputs": [],
   "source": [
    "sampling_q3 = 2"
   ]
  },
  {
   "cell_type": "markdown",
   "id": "mobile-cooling",
   "metadata": {},
   "source": [
    "### Simple random sampling\n",
    "A more principled approach is to sample uniformly at random from the players.  If we ensure that each player is selected at most once, this is a **random sample without replacement**, sometimes called a \"**simple random sample**\" or \"**SRS**\".  Imagine writing down each player's name on a card, putting the cards in a hat, and shuffling the hat.  To sample, pull out cards one by one and set them aside, stopping when the specified *sample size* is reached.\n",
    "\n",
    "We've produced two simple random samples of `nba_data`: the variable `small_srs_data` contains a SRS of size 70, and the variable `large_srs_data` contains a SRS of size 180."
   ]
  },
  {
   "cell_type": "markdown",
   "id": "amended-alignment",
   "metadata": {},
   "source": [
    "Now we'll run the same analyses on the small simple random sample, the large simple random sample, and the convenience sample. The subsequent code draws the histograms and computes the means for `'Points'` and `'Salary'`."
   ]
  },
  {
   "cell_type": "code",
   "execution_count": 20,
   "id": "surprising-cosmetic",
   "metadata": {},
   "outputs": [
    {
     "name": "stdout",
     "output_type": "stream",
     "text": [
      "Full data stats:                  [9.12997859e+00 8.41659875e+06]\n",
      "Small SRS stats:                  [1.00028571e+01 1.06680421e+07]\n",
      "Large SRS stats:                  [9.19333333e+00 8.34303573e+06]\n",
      "Convenience sample stats:         [1.04250000e+01 9.64560108e+06]\n"
     ]
    },
    {
     "data": {
      "image/png": "[encoded data removed]",
      "text/plain": [
       "<Figure size 1500x1500 with 6 Axes>"
      ]
     },
     "metadata": {},
     "output_type": "display_data"
    }
   ],
   "source": [
    "# Don't change this cell, but do run it.\n",
    "small_srs_data = bpd.read_csv('small_srs_salary.csv')\n",
    "large_srs_data = bpd.read_csv('large_srs_salary.csv')\n",
    "\n",
    "small_stats = compute_statistics(small_srs_data, draw=False);\n",
    "large_stats = compute_statistics(large_srs_data, draw=False);\n",
    "convenience_stats = compute_statistics(convenience_sample, draw=False);\n",
    "\n",
    "print('Full data stats:                 ', nba_stats)\n",
    "print('Small SRS stats:                 ', small_stats)\n",
    "print('Large SRS stats:                 ', large_stats)\n",
    "print('Convenience sample stats:        ', convenience_stats)\n",
    "\n",
    "color_dict = {\n",
    "    'small SRS': 'blue',\n",
    "    'large SRS': 'green',\n",
    "    'convenience sample': 'orange'\n",
    "}\n",
    "\n",
    "plt.subplots(3, 2, figsize=(15, 15), dpi=100)\n",
    "i = 1\n",
    "\n",
    "for df, name in zip([small_srs_data, large_srs_data, convenience_sample], color_dict.keys()):\n",
    "    plt.subplot(3, 2, i)\n",
    "    i += 2\n",
    "    plt.hist(df.get('Points'), density=True, alpha=0.5, color=color_dict[name], ec='w', \n",
    "             bins=np.arange(0, 35, 1))\n",
    "    plt.title(f'Points ({name})');\n",
    "\n",
    "i = 2\n",
    "for df, name in zip([small_srs_data, large_srs_data, convenience_sample], color_dict.keys()):\n",
    "    plt.subplot(3, 2, i)\n",
    "    i += 2\n",
    "    plt.hist(df.get('Salary'), density=True, alpha=0.5, color=color_dict[name], ec='w', \n",
    "             bins=np.arange(0, 50000000, 1000000))\n",
    "    plt.title(f'Salaries ({name})');\n",
    "plt.show()"
   ]
  },
  {
   "cell_type": "markdown",
   "id": "breathing-perfume",
   "metadata": {},
   "source": [
    "### Producing simple random samples\n",
    "Often it's useful to take random samples even when we have a larger dataset available.  One reason is that doing so can help us understand how inaccurate other samples are.\n",
    "\n",
    "As we saw in [Lecture 13](https://dsc10.com/resources/lectures/lec13/lec13.html#Sampling-rows-from-a-DataFrame), DataFrames have a `.sample` method for producing simple random samples.  Note that its default is to sample **without** replacement, which aligns with how simple random samples are drawn."
   ]
  },
  {
   "cell_type": "markdown",
   "id": "proper-prerequisite",
   "metadata": {},
   "source": [
    "**Question 2.4.** Produce a simple random sample of size 70 from `nba_data`. Store an array containing the mean `'Points'` and mean `'Salary'` of your SRS in `my_small_stats`. Again, it's fine if histograms are displayed."
   ]
  },
  {
   "cell_type": "code",
   "execution_count": 21,
   "id": "backed-policy",
   "metadata": {},
   "outputs": [
    {
     "data": {
      "image/png": "[encoded data removed]",
      "text/plain": [
       "<Figure size 1500x400 with 2 Axes>"
      ]
     },
     "metadata": {},
     "output_type": "display_data"
    },
    {
     "data": {
      "text/plain": [
       "array([9.14000000e+00, 7.84643754e+06])"
      ]
     },
     "execution_count": 21,
     "metadata": {},
     "output_type": "execute_result"
    }
   ],
   "source": [
    "my_small_sample = nba_data.sample(70, replace=False)\n",
    "my_small_stats = compute_statistics(my_small_sample)\n",
    "my_small_stats"
   ]
  },
  {
   "cell_type": "markdown",
   "id": "improved-arlington",
   "metadata": {},
   "source": [
    "Run the cell above many times, to collect new samples and compute their sample means.\n",
    "\n",
    "<br>\n",
    "\n",
    "Now, recall, `small_stats` is an array containing the mean `'Points'` and mean `'Salary'` for the one small SRS that we provided you with:"
   ]
  },
  {
   "cell_type": "code",
   "execution_count": 22,
   "id": "animal-happening",
   "metadata": {},
   "outputs": [
    {
     "data": {
      "text/plain": [
       "array([1.00028571e+01, 1.06680421e+07])"
      ]
     },
     "execution_count": 22,
     "metadata": {},
     "output_type": "execute_result"
    }
   ],
   "source": [
    "small_stats"
   ]
  },
  {
   "cell_type": "markdown",
   "id": "norwegian-implementation",
   "metadata": {},
   "source": [
    "Answer the following two-fold question:\n",
    "- Are the values in `my_small_stats` (the mean `'Points'` and `'Salary'` for **your** small SRS) similar to the values in `small_stats` (the mean `'Points'` and `'Salary'` for the small SRS **we provided you with**)? \n",
    "- Each time you collect a new sample – i.e. each time you re-run the cell where `my_small_stats` is defined – do the values in `my_small_stats` change a lot?\n",
    "\n",
    "Assign either 1, 2, 3, or 4 to the variable `sampling_q4` below.\n",
    "1. The values in `my_small_stats` are identical to the values in `small_stats`, and change a bit each time a new sample is collected.\n",
    "1. The values in `my_small_stats` are identical to the values in `small_stats`, and don't change at all each time a new sample is collected.\n",
    "1. The values in `my_small_stats` are slightly different from the values in `small_stats`, and change a bit each time a new sample is collected.\n",
    "1. The values in `my_small_stats` are very different from the values in `small_stats`, and don't change at all each time a new sample is collected."
   ]
  },
  {
   "cell_type": "code",
   "execution_count": 23,
   "id": "inclusive-dublin",
   "metadata": {},
   "outputs": [],
   "source": [
    "sampling_q4 = 3"
   ]
  },
  {
   "cell_type": "markdown",
   "id": "democratic-sunrise",
   "metadata": {},
   "source": [
    "**Question 2.5.** Similarly, create a simple random sample of size 180 from `nba_data` and store an array of the sample's mean `'Points'` and mean `'Salary'` in `my_large_stats`."
   ]
  },
  {
   "cell_type": "code",
   "execution_count": 24,
   "id": "western-friday",
   "metadata": {},
   "outputs": [
    {
     "data": {
      "image/png": "[encoded data removed]",
      "text/plain": [
       "<Figure size 1500x400 with 2 Axes>"
      ]
     },
     "metadata": {},
     "output_type": "display_data"
    },
    {
     "data": {
      "text/plain": [
       "array([9.04611111e+00, 8.60131017e+06])"
      ]
     },
     "execution_count": 24,
     "metadata": {},
     "output_type": "execute_result"
    }
   ],
   "source": [
    "my_large_sample = nba_data.sample(180, replace=False)\n",
    "my_large_stats = compute_statistics(my_large_sample)\n",
    "my_large_stats"
   ]
  },
  {
   "cell_type": "markdown",
   "id": "thrown-helicopter",
   "metadata": {},
   "source": [
    "Run the cell in which `my_large_stats` is defined many times. Do the histograms and  mean statistics (mean `'Points'` and mean `'Salary'`) seem to change more or less across samples of size 180 than across samples of size 70?\n",
    "\n",
    "Assign either 1, 2, or 3 to the variable `sampling_q5` below. \n",
    "\n",
    "1. The statistics change *less* across samples of size 180 than across samples of size 70.\n",
    "1. The statistics change an *equal amount* across samples of size 180 and across samples of size 70.\n",
    "1. The statistics change *more* across samples of size 180 than across samples of size 70."
   ]
  },
  {
   "cell_type": "code",
   "execution_count": 25,
   "id": "convertible-county",
   "metadata": {},
   "outputs": [],
   "source": [
    "sampling_q5 = 1"
   ]
  },
  {
   "cell_type": "markdown",
   "id": "cellular-israeli",
   "metadata": {},
   "source": [
    "## 3. Milk Tea, Yippee! 🥛🍵"
   ]
  },
  {
   "cell_type": "markdown",
   "id": "living-realtor",
   "metadata": {},
   "source": [
    "You are planning to open a milk tea shop in La Jolla! To get a sense of the local residents' milk tea preferences, you survey 200 randomly selected La Jolla residents and ask which type of tea they prefer the most among six options – `'jasmine'`, `'oolong'`, `'black'`, `'golden'`, `'matcha'`, `'Thai'`. \n",
    "\n",
    "<center><img src=\"tea.png\" width=70%></center>\n",
    "\n",
    "Run the next cell to load in the results of the survey."
   ]
  },
  {
   "cell_type": "code",
   "execution_count": 26,
   "id": "young-township",
   "metadata": {},
   "outputs": [
    {
     "data": {
      "text/html": [
       "<div>\n",
       "<style scoped>\n",
       "    .dataframe tbody tr th:only-of-type {\n",
       "        vertical-align: middle;\n",
       "    }\n",
       "\n",
       "    .dataframe tbody tr th {\n",
       "        vertical-align: top;\n",
       "    }\n",
       "\n",
       "    .dataframe thead th {\n",
       "        text-align: right;\n",
       "    }\n",
       "</style>\n",
       "<table border=\"1\" class=\"dataframe\">\n",
       "  <thead>\n",
       "    <tr style=\"text-align: right;\">\n",
       "      <th></th>\n",
       "      <th>tea</th>\n",
       "    </tr>\n",
       "  </thead>\n",
       "  <tbody>\n",
       "    <tr>\n",
       "      <th>0</th>\n",
       "      <td>jasmine</td>\n",
       "    </tr>\n",
       "    <tr>\n",
       "      <th>1</th>\n",
       "      <td>golden</td>\n",
       "    </tr>\n",
       "    <tr>\n",
       "      <th>2</th>\n",
       "      <td>black</td>\n",
       "    </tr>\n",
       "    <tr>\n",
       "      <th>3</th>\n",
       "      <td>matcha</td>\n",
       "    </tr>\n",
       "    <tr>\n",
       "      <th>4</th>\n",
       "      <td>matcha</td>\n",
       "    </tr>\n",
       "    <tr>\n",
       "      <th>...</th>\n",
       "      <td>...</td>\n",
       "    </tr>\n",
       "    <tr>\n",
       "      <th>195</th>\n",
       "      <td>black</td>\n",
       "    </tr>\n",
       "    <tr>\n",
       "      <th>196</th>\n",
       "      <td>matcha</td>\n",
       "    </tr>\n",
       "    <tr>\n",
       "      <th>197</th>\n",
       "      <td>oolong</td>\n",
       "    </tr>\n",
       "    <tr>\n",
       "      <th>198</th>\n",
       "      <td>black</td>\n",
       "    </tr>\n",
       "    <tr>\n",
       "      <th>199</th>\n",
       "      <td>jasmine</td>\n",
       "    </tr>\n",
       "  </tbody>\n",
       "</table>\n",
       "<p>200 rows × 1 columns</p>\n",
       "</div>"
      ],
      "text/plain": [
       "         tea\n",
       "0    jasmine\n",
       "1     golden\n",
       "2      black\n",
       "3     matcha\n",
       "4     matcha\n",
       "..       ...\n",
       "195    black\n",
       "196   matcha\n",
       "197   oolong\n",
       "198    black\n",
       "199  jasmine\n",
       "\n",
       "[200 rows x 1 columns]"
      ]
     },
     "execution_count": 26,
     "metadata": {},
     "output_type": "execute_result"
    }
   ],
   "source": [
    "survey = bpd.read_csv('tea.csv')\n",
    "survey"
   ]
  },
  {
   "cell_type": "markdown",
   "id": "important-portuguese",
   "metadata": {},
   "source": [
    "What you're truly interested in, though, is the proportion of *all La Jolla residents* that prefer each type of tea. These are *population parameters* (plural, because there are six proportions).\n",
    "\n",
    "Your friends tell you that jasmine tea is popular and that your shop should focus on jasmine tea-based creations. To make an informed decision, you decide to look at your survey data to determine the proportion of La Jolla residents that prefer `'jasmine'` tea over all other types of teas."
   ]
  },
  {
   "cell_type": "markdown",
   "id": "dietary-custody",
   "metadata": {},
   "source": [
    "**Question 3.1.** Start by calculating the proportion of residents in your sample who prefer `'jasmine'` tea. Assign this value to `jasmine_proportion`.\n"
   ]
  },
  {
   "cell_type": "code",
   "execution_count": 27,
   "id": "thirty-guatemala",
   "metadata": {},
   "outputs": [
    {
     "data": {
      "text/plain": [
       "0.245"
      ]
     },
     "execution_count": 27,
     "metadata": {},
     "output_type": "execute_result"
    }
   ],
   "source": [
    "jasmine_proportion = survey[survey.get('tea')=='jasmine'].shape[0]/survey.shape[0]\n",
    "jasmine_proportion"
   ]
  },
  {
   "cell_type": "markdown",
   "id": "fabulous-domestic",
   "metadata": {},
   "source": [
    "You're done... or are you? You have a single estimate for the true proportion of residents who prefer `'jasmine'` tea. However, you don't know how close that estimate is, or how much it could have varied if you'd had a different sample. In other words, you have an estimate, but no understanding of how close that estimate is to the true proportion of all local residents who prefer `'jasmine'` tea.\n",
    "\n",
    "This is where the idea of resampling via **[bootstrapping](https://inferentialthinking.com/chapters/13/2/Bootstrap.html)** comes in. Assuming that our sample resembles the population fairly well, we can resample from our original sample to produce more samples. From each of these resamples, we can produce another estimate for the true proportion of residents who prefer `'jasmine'` tea, which gives us a distribution of sample proportions that describes how the estimate might vary given different samples. We can then use this distribution to understand the **variability** in the estimated proportion of residents who prefer `'jasmine'` tea."
   ]
  },
  {
   "cell_type": "markdown",
   "id": "asian-coffee",
   "metadata": {},
   "source": [
    "**Question 3.2.** Now, let's use bootstrapping to get a sense of the distribution of the sample proportion. Complete the following code to produce 1,000 bootstrapped estimates for the proportion of residents who prefer `'jasmine'` tea. Store your 1,000 estimates in an array named `boot_jasmine_proportions`."
   ]
  },
  {
   "cell_type": "code",
   "execution_count": 28,
   "id": "blind-failing",
   "metadata": {},
   "outputs": [
    {
     "data": {
      "text/plain": [
       "array([0.24 , 0.25 , 0.205, 0.3  , 0.27 , 0.225, 0.235, 0.21 , 0.195,\n",
       "       0.325, 0.265, 0.27 , 0.245, 0.27 , 0.25 , 0.225, 0.205, 0.23 ,\n",
       "       0.21 , 0.29 , 0.26 , 0.235, 0.27 , 0.255, 0.285, 0.25 , 0.265,\n",
       "       0.19 , 0.205, 0.225, 0.25 , 0.275, 0.24 , 0.285, 0.2  , 0.225,\n",
       "       0.21 , 0.28 , 0.255, 0.24 , 0.22 , 0.24 , 0.29 , 0.27 , 0.23 ,\n",
       "       0.23 , 0.26 , 0.22 , 0.25 , 0.225, 0.235, 0.265, 0.205, 0.19 ,\n",
       "       0.235, 0.23 , 0.25 , 0.24 , 0.2  , 0.25 , 0.24 , 0.21 , 0.24 ,\n",
       "       0.26 , 0.21 , 0.245, 0.195, 0.24 , 0.245, 0.27 , 0.28 , 0.185,\n",
       "       0.275, 0.255, 0.2  , 0.245, 0.305, 0.28 , 0.24 , 0.23 , 0.275,\n",
       "       0.275, 0.26 , 0.265, 0.195, 0.23 , 0.195, 0.275, 0.28 , 0.26 ,\n",
       "       0.225, 0.29 , 0.24 , 0.215, 0.26 , 0.255, 0.18 , 0.195, 0.23 ,\n",
       "       0.285, 0.28 , 0.26 , 0.19 , 0.22 , 0.26 , 0.275, 0.245, 0.24 ,\n",
       "       0.205, 0.245, 0.28 , 0.285, 0.24 , 0.255, 0.25 , 0.26 , 0.2  ,\n",
       "       0.23 , 0.215, 0.28 , 0.19 , 0.21 , 0.22 , 0.275, 0.265, 0.28 ,\n",
       "       0.24 , 0.22 , 0.295, 0.225, 0.33 , 0.19 , 0.25 , 0.245, 0.2  ,\n",
       "       0.225, 0.275, 0.24 , 0.26 , 0.225, 0.275, 0.27 , 0.265, 0.285,\n",
       "       0.26 , 0.28 , 0.195, 0.205, 0.235, 0.255, 0.26 , 0.195, 0.26 ,\n",
       "       0.24 , 0.235, 0.27 , 0.275, 0.22 , 0.23 , 0.22 , 0.225, 0.255,\n",
       "       0.24 , 0.24 , 0.255, 0.24 , 0.195, 0.2  , 0.27 , 0.275, 0.23 ,\n",
       "       0.26 , 0.345, 0.255, 0.285, 0.25 , 0.2  , 0.24 , 0.255, 0.275,\n",
       "       0.205, 0.225, 0.23 , 0.26 , 0.235, 0.29 , 0.21 , 0.23 , 0.265,\n",
       "       0.255, 0.22 , 0.29 , 0.22 , 0.24 , 0.285, 0.225, 0.17 , 0.3  ,\n",
       "       0.255, 0.275, 0.245, 0.24 , 0.22 , 0.31 , 0.285, 0.22 , 0.245,\n",
       "       0.25 , 0.29 , 0.245, 0.31 , 0.185, 0.22 , 0.21 , 0.27 , 0.25 ,\n",
       "       0.21 , 0.22 , 0.225, 0.225, 0.23 , 0.255, 0.215, 0.235, 0.28 ,\n",
       "       0.285, 0.23 , 0.28 , 0.155, 0.26 , 0.31 , 0.215, 0.28 , 0.24 ,\n",
       "       0.225, 0.285, 0.16 , 0.265, 0.285, 0.21 , 0.235, 0.25 , 0.255,\n",
       "       0.29 , 0.3  , 0.255, 0.305, 0.26 , 0.225, 0.265, 0.21 , 0.28 ,\n",
       "       0.255, 0.235, 0.28 , 0.25 , 0.23 , 0.245, 0.225, 0.245, 0.26 ,\n",
       "       0.24 , 0.24 , 0.27 , 0.2  , 0.225, 0.265, 0.255, 0.245, 0.23 ,\n",
       "       0.21 , 0.255, 0.295, 0.205, 0.19 , 0.27 , 0.25 , 0.235, 0.24 ,\n",
       "       0.235, 0.29 , 0.26 , 0.265, 0.24 , 0.21 , 0.2  , 0.23 , 0.235,\n",
       "       0.28 , 0.24 , 0.25 , 0.275, 0.225, 0.24 , 0.235, 0.25 , 0.23 ,\n",
       "       0.29 , 0.24 , 0.225, 0.25 , 0.245, 0.24 , 0.265, 0.265, 0.25 ,\n",
       "       0.18 , 0.215, 0.235, 0.235, 0.225, 0.235, 0.205, 0.315, 0.21 ,\n",
       "       0.22 , 0.255, 0.2  , 0.24 , 0.24 , 0.225, 0.26 , 0.32 , 0.175,\n",
       "       0.27 , 0.24 , 0.245, 0.24 , 0.245, 0.31 , 0.205, 0.28 , 0.22 ,\n",
       "       0.245, 0.255, 0.24 , 0.245, 0.22 , 0.22 , 0.24 , 0.25 , 0.23 ,\n",
       "       0.26 , 0.24 , 0.205, 0.22 , 0.215, 0.23 , 0.275, 0.27 , 0.215,\n",
       "       0.315, 0.23 , 0.29 , 0.25 , 0.25 , 0.23 , 0.245, 0.285, 0.255,\n",
       "       0.215, 0.275, 0.245, 0.225, 0.205, 0.185, 0.245, 0.26 , 0.24 ,\n",
       "       0.225, 0.23 , 0.275, 0.28 , 0.295, 0.24 , 0.31 , 0.275, 0.25 ,\n",
       "       0.26 , 0.23 , 0.26 , 0.19 , 0.265, 0.265, 0.24 , 0.31 , 0.275,\n",
       "       0.325, 0.185, 0.24 , 0.23 , 0.23 , 0.195, 0.245, 0.215, 0.295,\n",
       "       0.26 , 0.295, 0.235, 0.205, 0.19 , 0.275, 0.245, 0.235, 0.26 ,\n",
       "       0.265, 0.265, 0.27 , 0.215, 0.26 , 0.265, 0.225, 0.215, 0.32 ,\n",
       "       0.215, 0.225, 0.29 , 0.255, 0.26 , 0.235, 0.295, 0.22 , 0.275,\n",
       "       0.3  , 0.26 , 0.275, 0.235, 0.28 , 0.26 , 0.255, 0.255, 0.23 ,\n",
       "       0.28 , 0.28 , 0.21 , 0.245, 0.26 , 0.21 , 0.22 , 0.24 , 0.205,\n",
       "       0.195, 0.21 , 0.21 , 0.24 , 0.22 , 0.32 , 0.265, 0.205, 0.22 ,\n",
       "       0.25 , 0.275, 0.25 , 0.22 , 0.165, 0.21 , 0.275, 0.28 , 0.3  ,\n",
       "       0.275, 0.27 , 0.295, 0.26 , 0.21 , 0.205, 0.23 , 0.295, 0.26 ,\n",
       "       0.29 , 0.205, 0.235, 0.23 , 0.26 , 0.26 , 0.315, 0.275, 0.23 ,\n",
       "       0.25 , 0.22 , 0.24 , 0.245, 0.23 , 0.23 , 0.23 , 0.23 , 0.255,\n",
       "       0.275, 0.28 , 0.275, 0.18 , 0.245, 0.21 , 0.3  , 0.23 , 0.245,\n",
       "       0.26 , 0.295, 0.27 , 0.235, 0.3  , 0.25 , 0.26 , 0.355, 0.22 ,\n",
       "       0.225, 0.215, 0.22 , 0.23 , 0.295, 0.26 , 0.23 , 0.255, 0.225,\n",
       "       0.185, 0.28 , 0.225, 0.28 , 0.24 , 0.24 , 0.25 , 0.205, 0.255,\n",
       "       0.255, 0.235, 0.265, 0.255, 0.325, 0.255, 0.32 , 0.2  , 0.275,\n",
       "       0.26 , 0.225, 0.26 , 0.235, 0.235, 0.29 , 0.185, 0.285, 0.21 ,\n",
       "       0.285, 0.185, 0.285, 0.19 , 0.28 , 0.295, 0.215, 0.255, 0.215,\n",
       "       0.28 , 0.265, 0.245, 0.26 , 0.26 , 0.28 , 0.21 , 0.25 , 0.255,\n",
       "       0.265, 0.25 , 0.265, 0.24 , 0.26 , 0.22 , 0.255, 0.235, 0.25 ,\n",
       "       0.22 , 0.27 , 0.245, 0.305, 0.225, 0.21 , 0.28 , 0.265, 0.24 ,\n",
       "       0.22 , 0.25 , 0.19 , 0.24 , 0.215, 0.26 , 0.22 , 0.245, 0.205,\n",
       "       0.215, 0.205, 0.265, 0.2  , 0.19 , 0.2  , 0.235, 0.245, 0.255,\n",
       "       0.23 , 0.28 , 0.285, 0.255, 0.23 , 0.245, 0.22 , 0.235, 0.24 ,\n",
       "       0.26 , 0.225, 0.225, 0.295, 0.26 , 0.28 , 0.27 , 0.215, 0.22 ,\n",
       "       0.29 , 0.24 , 0.25 , 0.24 , 0.28 , 0.27 , 0.28 , 0.215, 0.24 ,\n",
       "       0.235, 0.26 , 0.195, 0.235, 0.265, 0.23 , 0.27 , 0.21 , 0.19 ,\n",
       "       0.24 , 0.275, 0.24 , 0.22 , 0.27 , 0.245, 0.22 , 0.18 , 0.205,\n",
       "       0.22 , 0.265, 0.22 , 0.265, 0.3  , 0.24 , 0.235, 0.205, 0.23 ,\n",
       "       0.25 , 0.22 , 0.25 , 0.27 , 0.24 , 0.27 , 0.225, 0.22 , 0.175,\n",
       "       0.19 , 0.255, 0.255, 0.22 , 0.295, 0.305, 0.25 , 0.255, 0.175,\n",
       "       0.215, 0.235, 0.265, 0.28 , 0.23 , 0.215, 0.21 , 0.315, 0.245,\n",
       "       0.265, 0.29 , 0.165, 0.22 , 0.27 , 0.225, 0.185, 0.26 , 0.235,\n",
       "       0.21 , 0.23 , 0.235, 0.255, 0.235, 0.26 , 0.21 , 0.245, 0.26 ,\n",
       "       0.275, 0.235, 0.225, 0.205, 0.245, 0.265, 0.26 , 0.285, 0.22 ,\n",
       "       0.215, 0.25 , 0.24 , 0.21 , 0.2  , 0.255, 0.225, 0.215, 0.255,\n",
       "       0.25 , 0.245, 0.285, 0.25 , 0.205, 0.225, 0.235, 0.22 , 0.255,\n",
       "       0.26 , 0.22 , 0.2  , 0.235, 0.235, 0.295, 0.175, 0.245, 0.26 ,\n",
       "       0.225, 0.3  , 0.225, 0.25 , 0.24 , 0.26 , 0.23 , 0.27 , 0.26 ,\n",
       "       0.235, 0.25 , 0.245, 0.21 , 0.225, 0.245, 0.19 , 0.255, 0.25 ,\n",
       "       0.21 , 0.255, 0.235, 0.285, 0.18 , 0.28 , 0.24 , 0.27 , 0.27 ,\n",
       "       0.22 , 0.235, 0.26 , 0.25 , 0.295, 0.215, 0.25 , 0.23 , 0.26 ,\n",
       "       0.26 , 0.255, 0.295, 0.2  , 0.215, 0.255, 0.245, 0.215, 0.2  ,\n",
       "       0.225, 0.225, 0.235, 0.22 , 0.22 , 0.2  , 0.245, 0.27 , 0.31 ,\n",
       "       0.24 , 0.185, 0.19 , 0.235, 0.23 , 0.27 , 0.255, 0.265, 0.235,\n",
       "       0.255, 0.25 , 0.28 , 0.32 , 0.295, 0.265, 0.23 , 0.235, 0.26 ,\n",
       "       0.28 , 0.23 , 0.225, 0.235, 0.23 , 0.255, 0.255, 0.27 , 0.21 ,\n",
       "       0.245, 0.25 , 0.19 , 0.235, 0.25 , 0.27 , 0.29 , 0.215, 0.23 ,\n",
       "       0.27 , 0.175, 0.205, 0.22 , 0.32 , 0.23 , 0.32 , 0.25 , 0.27 ,\n",
       "       0.16 , 0.275, 0.265, 0.245, 0.22 , 0.245, 0.25 , 0.27 , 0.25 ,\n",
       "       0.23 , 0.255, 0.235, 0.255, 0.255, 0.28 , 0.235, 0.23 , 0.27 ,\n",
       "       0.265, 0.245, 0.275, 0.21 , 0.245, 0.265, 0.25 , 0.225, 0.22 ,\n",
       "       0.215, 0.225, 0.26 , 0.27 , 0.265, 0.235, 0.28 , 0.29 , 0.23 ,\n",
       "       0.315, 0.295, 0.225, 0.23 , 0.25 , 0.245, 0.26 , 0.255, 0.255,\n",
       "       0.305, 0.255, 0.24 , 0.28 , 0.285, 0.245, 0.195, 0.295, 0.28 ,\n",
       "       0.29 , 0.235, 0.25 , 0.26 , 0.255, 0.225, 0.245, 0.25 , 0.285,\n",
       "       0.235, 0.21 , 0.265, 0.29 , 0.235, 0.215, 0.295, 0.235, 0.23 ,\n",
       "       0.26 , 0.25 , 0.245, 0.235, 0.25 , 0.265, 0.26 , 0.25 , 0.26 ,\n",
       "       0.285, 0.24 , 0.265, 0.2  , 0.26 , 0.28 , 0.22 , 0.22 , 0.25 ,\n",
       "       0.275, 0.215, 0.26 , 0.205, 0.25 , 0.255, 0.25 , 0.225, 0.225,\n",
       "       0.21 , 0.225, 0.195, 0.27 , 0.25 , 0.225, 0.29 , 0.235, 0.225,\n",
       "       0.235, 0.23 , 0.25 , 0.29 , 0.225, 0.22 , 0.24 , 0.275, 0.285,\n",
       "       0.23 , 0.255, 0.26 , 0.23 , 0.26 , 0.245, 0.32 , 0.29 , 0.255,\n",
       "       0.25 , 0.22 , 0.225, 0.195, 0.27 , 0.255, 0.22 , 0.24 , 0.245,\n",
       "       0.32 , 0.235, 0.265, 0.24 , 0.26 , 0.23 , 0.23 , 0.315, 0.255,\n",
       "       0.2  , 0.215, 0.225, 0.28 , 0.225, 0.205, 0.21 , 0.225, 0.23 ,\n",
       "       0.25 , 0.22 , 0.29 , 0.2  , 0.275, 0.265, 0.22 , 0.21 , 0.18 ,\n",
       "       0.315, 0.295, 0.22 , 0.245, 0.255, 0.27 , 0.21 , 0.28 , 0.255,\n",
       "       0.27 ])"
      ]
     },
     "execution_count": 28,
     "metadata": {},
     "output_type": "execute_result"
    }
   ],
   "source": [
    "boot_jasmine_proportions = np.array([])\n",
    "for i in np.arange(1000):\n",
    "    resample = survey.sample(200, replace=True)\n",
    "    resample_proportion = resample[resample.get('tea')=='jasmine'].shape[0]/survey.shape[0]\n",
    "    boot_jasmine_proportions = np.append(boot_jasmine_proportions, resample_proportion)\n",
    "\n",
    "boot_jasmine_proportions"
   ]
  },
  {
   "cell_type": "code",
   "execution_count": 29,
   "id": "rocky-faith",
   "metadata": {},
   "outputs": [
    {
     "data": {
      "text/plain": [
       "1000"
      ]
     },
     "execution_count": 29,
     "metadata": {},
     "output_type": "execute_result"
    }
   ],
   "source": [
    "len(boot_jasmine_proportions)"
   ]
  },
  {
   "cell_type": "markdown",
   "id": "undefined-spread",
   "metadata": {},
   "source": [
    "**Question 3.3.** Using the array `boot_jasmine_proportions`, compute an approximate **95%** confidence interval for the true proportion of residents who prefer `'jasmine'` tea.  Compute the lower and upper ends of the interval, named `jasmine_lower_bound` and `jasmine_upper_bound`, respectively."
   ]
  },
  {
   "cell_type": "code",
   "execution_count": 30,
   "id": "secondary-geology",
   "metadata": {},
   "outputs": [
    {
     "name": "stdout",
     "output_type": "stream",
     "text": [
      "Bootstrapped 95% confidence interval for the true proportion of residents who prefer jasmine tea in the population:\n",
      "[0.185000, 0.310000]\n"
     ]
    }
   ],
   "source": [
    "jasmine_lower_bound = np.percentile(boot_jasmine_proportions, 2.5)\n",
    "jasmine_upper_bound = np.percentile(boot_jasmine_proportions, 97.5)\n",
    "\n",
    "# Print the confidence interval:\n",
    "print(\"Bootstrapped 95% confidence interval for the true proportion of residents who prefer jasmine tea in the population:\\n[{:f}, {:f}]\".format(jasmine_lower_bound, jasmine_upper_bound))"
   ]
  },
  {
   "cell_type": "code",
   "execution_count": 31,
   "id": "sonic-position",
   "metadata": {},
   "outputs": [
    {
     "data": {
      "text/html": [
       "<div>\n",
       "<style scoped>\n",
       "    .dataframe tbody tr th:only-of-type {\n",
       "        vertical-align: middle;\n",
       "    }\n",
       "\n",
       "    .dataframe tbody tr th {\n",
       "        vertical-align: top;\n",
       "    }\n",
       "\n",
       "    .dataframe thead th {\n",
       "        text-align: right;\n",
       "    }\n",
       "</style>\n",
       "<table border=\"1\" class=\"dataframe\">\n",
       "  <thead>\n",
       "    <tr style=\"text-align: right;\">\n",
       "      <th></th>\n",
       "      <th>jasmine_proportions</th>\n",
       "    </tr>\n",
       "  </thead>\n",
       "  <tbody>\n",
       "    <tr>\n",
       "      <th>0</th>\n",
       "      <td>0.240</td>\n",
       "    </tr>\n",
       "    <tr>\n",
       "      <th>1</th>\n",
       "      <td>0.250</td>\n",
       "    </tr>\n",
       "    <tr>\n",
       "      <th>2</th>\n",
       "      <td>0.205</td>\n",
       "    </tr>\n",
       "    <tr>\n",
       "      <th>3</th>\n",
       "      <td>0.300</td>\n",
       "    </tr>\n",
       "    <tr>\n",
       "      <th>4</th>\n",
       "      <td>0.270</td>\n",
       "    </tr>\n",
       "    <tr>\n",
       "      <th>...</th>\n",
       "      <td>...</td>\n",
       "    </tr>\n",
       "    <tr>\n",
       "      <th>995</th>\n",
       "      <td>0.270</td>\n",
       "    </tr>\n",
       "    <tr>\n",
       "      <th>996</th>\n",
       "      <td>0.210</td>\n",
       "    </tr>\n",
       "    <tr>\n",
       "      <th>997</th>\n",
       "      <td>0.280</td>\n",
       "    </tr>\n",
       "    <tr>\n",
       "      <th>998</th>\n",
       "      <td>0.255</td>\n",
       "    </tr>\n",
       "    <tr>\n",
       "      <th>999</th>\n",
       "      <td>0.270</td>\n",
       "    </tr>\n",
       "  </tbody>\n",
       "</table>\n",
       "<p>1000 rows × 1 columns</p>\n",
       "</div>"
      ],
      "text/plain": [
       "     jasmine_proportions\n",
       "0                  0.240\n",
       "1                  0.250\n",
       "2                  0.205\n",
       "3                  0.300\n",
       "4                  0.270\n",
       "..                   ...\n",
       "995                0.270\n",
       "996                0.210\n",
       "997                0.280\n",
       "998                0.255\n",
       "999                0.270\n",
       "\n",
       "[1000 rows x 1 columns]"
      ]
     },
     "execution_count": 31,
     "metadata": {},
     "output_type": "execute_result"
    }
   ],
   "source": [
    "jasmine_dataframe = bpd.DataFrame().assign(jasmine_proportions=boot_jasmine_proportions)\n",
    "jasmine_dataframe"
   ]
  },
  {
   "cell_type": "code",
   "execution_count": 32,
   "id": "inappropriate-trace",
   "metadata": {},
   "outputs": [
    {
     "data": {
      "image/png": "[encoded data removed]",
      "text/plain": [
       "<Figure size 640x480 with 1 Axes>"
      ]
     },
     "metadata": {},
     "output_type": "display_data"
    }
   ],
   "source": [
    "jasmine_dataframe.plot(kind='hist', density=True, ec='w');\n",
    "plt.show()"
   ]
  },
  {
   "cell_type": "code",
   "execution_count": 33,
   "id": "defensive-little",
   "metadata": {},
   "outputs": [
    {
     "data": {
      "text/plain": [
       "0.19999999999999998"
      ]
     },
     "execution_count": 33,
     "metadata": {},
     "output_type": "execute_result"
    }
   ],
   "source": [
    "jasmine_dataframe.get('jasmine_proportions').max() - jasmine_dataframe.get('jasmine_proportions').min()"
   ]
  },
  {
   "cell_type": "markdown",
   "id": "speaking-standard",
   "metadata": {},
   "source": [
    "**Question 3.4.**\n",
    "Is it true that 95% of the population lies in the range `jasmine_lower_bound` to `jasmine_upper_bound`? Assign the variable `q3_4` to either `True` or `False`. "
   ]
  },
  {
   "cell_type": "code",
   "execution_count": 34,
   "id": "graphic-assurance",
   "metadata": {},
   "outputs": [],
   "source": [
    "q3_4 = False"
   ]
  },
  {
   "cell_type": "markdown",
   "id": "oriental-visiting",
   "metadata": {},
   "source": [
    "**Question 3.5.**\n",
    "Is it true that the proportion of La Jolla residents who prefer `'jasmine'` tea over the other teas is a random quantity with approximately a 95% chance of falling between `jasmine_lower_bound` and `jasmine_upper_bound`? Assign the variable `q3_5` to either `True` or `False`."
   ]
  },
  {
   "cell_type": "code",
   "execution_count": 35,
   "id": "agreed-preservation",
   "metadata": {},
   "outputs": [],
   "source": [
    "### population parameter is not random"
   ]
  },
  {
   "cell_type": "code",
   "execution_count": 36,
   "id": "special-dispute",
   "metadata": {},
   "outputs": [],
   "source": [
    "q3_5 = False"
   ]
  },
  {
   "cell_type": "markdown",
   "id": "accredited-turner",
   "metadata": {},
   "source": [
    "**Question 3.6.**\n",
    "Suppose we were somehow able to produce 2,000 new samples, each one a uniform random sample of 200 La Jolla residents taken directly from the population. For each of those 2,000 new samples, we create a 95% confidence interval for the proportion of residents who prefer `'jasmine'` tea. Roughly how many of those 2,000 intervals should we expect to actually contain the true proportion of the population? Assign your answer to the variable `how_many` below. It should be of type `int`, representing the *number* of intervals, not the proportion or percentage."
   ]
  },
  {
   "cell_type": "code",
   "execution_count": 37,
   "id": "streaming-finland",
   "metadata": {},
   "outputs": [
    {
     "data": {
      "text/plain": [
       "1900"
      ]
     },
     "execution_count": 37,
     "metadata": {},
     "output_type": "execute_result"
    }
   ],
   "source": [
    "how_many = int(95*2000/100)\n",
    "how_many"
   ]
  },
  {
   "cell_type": "markdown",
   "id": "formal-attack",
   "metadata": {},
   "source": [
    "**Question 3.7.** We also created 90%, 96%, and 99% confidence intervals from one sample (shown below), but forgot to label which confidence intervals were which! Match the interval to the percent of confidence the interval represents and assign your choices (either 1, 2, or 3) to variables `ci_90`, `ci_96`, and `ci_99`, corresponding to the 90%, 96%, and 99% confidence intervals respectively.\n",
    "\n",
    "***Hint:*** Drawing the confidence intervals out on paper might help you visualize them better.\n"
   ]
  },
  {
   "cell_type": "markdown",
   "id": "according-inquiry",
   "metadata": {},
   "source": [
    "1. $[0.185, 0.31]$\n",
    "\n",
    "2. $[0.195, 0.3]$\n",
    "\n",
    "3. $[0.175,  0.325]$\n"
   ]
  },
  {
   "cell_type": "code",
   "execution_count": 38,
   "id": "official-startup",
   "metadata": {},
   "outputs": [
    {
     "data": {
      "text/plain": [
       "(2, 1, 3)"
      ]
     },
     "execution_count": 38,
     "metadata": {},
     "output_type": "execute_result"
    }
   ],
   "source": [
    "ci_90 = 2\n",
    "ci_96 = 1\n",
    "ci_99 = 3\n",
    "ci_90, ci_96, ci_99"
   ]
  },
  {
   "cell_type": "markdown",
   "id": "judicial-family",
   "metadata": {},
   "source": [
    "**Question 3.8.** Based on the results in `survey`, it seems that `'jasmine'` tea is more popular than `'black'` tea among residents. We would like to construct a range of likely values – that is, a confidence interval – for the difference in popularity, which we define as:\n",
    "\n",
    "$$\\text{(Proportion of residents who prefer jasmine tea)} - \\text{(Proportion of residents who prefer black tea)}$$\n",
    "\n",
    "Create a function, `differences_in_resamples`, that creates **1000 bootstrapped resamples of the original survey data** in the `survey` DataFrame, computes the difference in proportions for each resample, and returns an array of these differences. Store your bootstrapped estimates in an array called `boot_differences` and plot a histogram of these estimates.\n",
    "\n",
    "***Hints:*** \n",
    "- Use your code from Question 3.2 as a starting point.\n",
    "- To plot your histogram, you'll first need to create a DataFrame with one column, whose entries are the values in `boot_differences`. "
   ]
  },
  {
   "cell_type": "code",
   "execution_count": 39,
   "id": "functioning-squad",
   "metadata": {},
   "outputs": [
    {
     "data": {
      "text/html": [
       "<div>\n",
       "<style scoped>\n",
       "    .dataframe tbody tr th:only-of-type {\n",
       "        vertical-align: middle;\n",
       "    }\n",
       "\n",
       "    .dataframe tbody tr th {\n",
       "        vertical-align: top;\n",
       "    }\n",
       "\n",
       "    .dataframe thead th {\n",
       "        text-align: right;\n",
       "    }\n",
       "</style>\n",
       "<table border=\"1\" class=\"dataframe\">\n",
       "  <thead>\n",
       "    <tr style=\"text-align: right;\">\n",
       "      <th></th>\n",
       "      <th>differences_in_resamples</th>\n",
       "    </tr>\n",
       "  </thead>\n",
       "  <tbody>\n",
       "    <tr>\n",
       "      <th>0</th>\n",
       "      <td>0.090</td>\n",
       "    </tr>\n",
       "    <tr>\n",
       "      <th>1</th>\n",
       "      <td>-0.040</td>\n",
       "    </tr>\n",
       "    <tr>\n",
       "      <th>2</th>\n",
       "      <td>0.085</td>\n",
       "    </tr>\n",
       "    <tr>\n",
       "      <th>3</th>\n",
       "      <td>0.070</td>\n",
       "    </tr>\n",
       "    <tr>\n",
       "      <th>4</th>\n",
       "      <td>-0.020</td>\n",
       "    </tr>\n",
       "    <tr>\n",
       "      <th>...</th>\n",
       "      <td>...</td>\n",
       "    </tr>\n",
       "    <tr>\n",
       "      <th>995</th>\n",
       "      <td>-0.015</td>\n",
       "    </tr>\n",
       "    <tr>\n",
       "      <th>996</th>\n",
       "      <td>0.040</td>\n",
       "    </tr>\n",
       "    <tr>\n",
       "      <th>997</th>\n",
       "      <td>0.080</td>\n",
       "    </tr>\n",
       "    <tr>\n",
       "      <th>998</th>\n",
       "      <td>0.025</td>\n",
       "    </tr>\n",
       "    <tr>\n",
       "      <th>999</th>\n",
       "      <td>0.025</td>\n",
       "    </tr>\n",
       "  </tbody>\n",
       "</table>\n",
       "<p>1000 rows × 1 columns</p>\n",
       "</div>"
      ],
      "text/plain": [
       "     differences_in_resamples\n",
       "0                       0.090\n",
       "1                      -0.040\n",
       "2                       0.085\n",
       "3                       0.070\n",
       "4                      -0.020\n",
       "..                        ...\n",
       "995                    -0.015\n",
       "996                     0.040\n",
       "997                     0.080\n",
       "998                     0.025\n",
       "999                     0.025\n",
       "\n",
       "[1000 rows x 1 columns]"
      ]
     },
     "execution_count": 39,
     "metadata": {},
     "output_type": "execute_result"
    }
   ],
   "source": [
    "def differences_in_resamples():\n",
    "    boot_jasmine_proportions = np.array([])\n",
    "    boot_black_proportions = np.array([])\n",
    "    for i in np.arange(1000):\n",
    "        resample = survey.sample(200, replace=True)\n",
    "        resample_proportion_jasmine = resample[resample.get('tea')=='jasmine'].shape[0]/survey.shape[0]\n",
    "        resample_proportion_black = resample[resample.get('tea')=='black'].shape[0]/survey.shape[0]\n",
    "\n",
    "        boot_jasmine_proportions = np.append(boot_jasmine_proportions, resample_proportion_jasmine)\n",
    "        boot_black_proportions = np.append(boot_black_proportions, resample_proportion_black)\n",
    "    return boot_jasmine_proportions-boot_black_proportions\n",
    "\n",
    "boot_differences = differences_in_resamples()\n",
    "#boot_differences\n",
    "# Plot a histogram of boot_differences.\n",
    "\n",
    "difference_dataframe = bpd.DataFrame().assign(differences_in_resamples=boot_differences)\n",
    "difference_dataframe"
   ]
  },
  {
   "cell_type": "code",
   "execution_count": 40,
   "id": "sitting-omaha",
   "metadata": {},
   "outputs": [
    {
     "data": {
      "text/plain": [
       "-0.11500000000000002"
      ]
     },
     "execution_count": 40,
     "metadata": {},
     "output_type": "execute_result"
    }
   ],
   "source": [
    "difference_dataframe.get('differences_in_resamples').min()"
   ]
  },
  {
   "cell_type": "code",
   "execution_count": 41,
   "id": "another-oliver",
   "metadata": {},
   "outputs": [
    {
     "data": {
      "text/plain": [
       "0.16999999999999998"
      ]
     },
     "execution_count": 41,
     "metadata": {},
     "output_type": "execute_result"
    }
   ],
   "source": [
    "difference_dataframe.get('differences_in_resamples').max()"
   ]
  },
  {
   "cell_type": "code",
   "execution_count": 42,
   "id": "powered-algorithm",
   "metadata": {},
   "outputs": [
    {
     "data": {
      "text/plain": [
       "0.28500000000000003"
      ]
     },
     "execution_count": 42,
     "metadata": {},
     "output_type": "execute_result"
    }
   ],
   "source": [
    "difference_dataframe.get('differences_in_resamples').max() - difference_dataframe.get('differences_in_resamples').min()"
   ]
  },
  {
   "cell_type": "code",
   "execution_count": 43,
   "id": "political-bottle",
   "metadata": {},
   "outputs": [
    {
     "data": {
      "image/png": "[encoded data removed]",
      "text/plain": [
       "<Figure size 640x480 with 1 Axes>"
      ]
     },
     "metadata": {},
     "output_type": "display_data"
    }
   ],
   "source": [
    "difference_dataframe.plot(kind='hist', density=True, ec='w');\n",
    "plt.show()"
   ]
  },
  {
   "cell_type": "markdown",
   "id": "written-catalyst",
   "metadata": {},
   "source": [
    "**Question 3.9.** Compute an approximate 95% confidence interval for the difference in proportions. Assign the lower and upper bounds of the interval to `diff_lower_bound` and `diff_upper_bound`, respectively."
   ]
  },
  {
   "cell_type": "code",
   "execution_count": 44,
   "id": "individual-steering",
   "metadata": {},
   "outputs": [
    {
     "name": "stdout",
     "output_type": "stream",
     "text": [
      "Bootstrapped 95% confidence interval for the difference in popularity between jasmine tea and black tea:\n",
      "[-0.055000, 0.120125]\n"
     ]
    }
   ],
   "source": [
    "diff_lower_bound = np.percentile(boot_differences, 2.5)\n",
    "diff_upper_bound = np.percentile(boot_differences, 97.5)\n",
    "\n",
    "# Print the confidence interval:\n",
    "print(\"Bootstrapped 95% confidence interval for the difference in popularity between jasmine tea and black tea:\\n[{:f}, {:f}]\".format(diff_lower_bound, diff_upper_bound))"
   ]
  },
  {
   "cell_type": "markdown",
   "id": "broad-tokyo",
   "metadata": {},
   "source": [
    "**Question 3.10.** In this question, you computed two 95% confidence intervals:\n",
    "- In Question 3.3, you found a 95% confidence interval for the proportion of residents who prefer `'jasmine'` tea among the six tea options. Let's call this the \"jasmine CI.\"\n",
    "- In Question 3.9, you found a 95% confidence interval for the difference between the proportion of residents who prefer `'jasmine'` tea and the proportion of residents who prefer `'black'` tea. Let's call this the \"difference CI.\" \n",
    "\n",
    "Choose how to best fill in the blanks to describe the widths of these two confidence intervals. Set `q3_10` to either 1, 2, 3, or 4.\n",
    "\n",
    ">The jasmine CI is ________________________ than the difference CI because we have a ________________________ for a single unknown parameter than the difference between two unknown parameters.\n",
    "\n",
    "1. wider; more accurate guess\n",
    "1. narrower; more accurate guess\n",
    "1. wider; less accurate guess\n",
    "1. narrower; less accurate guess"
   ]
  },
  {
   "cell_type": "code",
   "execution_count": 45,
   "id": "greek-china",
   "metadata": {},
   "outputs": [],
   "source": [
    "#### The jasmine dataframe is narrower, so 2 or 4"
   ]
  },
  {
   "cell_type": "code",
   "execution_count": 46,
   "id": "dense-shopping",
   "metadata": {},
   "outputs": [],
   "source": [
    "q3_10 = 2"
   ]
  },
  {
   "cell_type": "markdown",
   "id": "korean-causing",
   "metadata": {},
   "source": [
    "## 4. Need a Lyft? 🚗\n",
    "Sofia is planning on traveling to Boston this summer. Since she won't have a car there, she's planning on using Uber or Lyft, two popular ride-sharing apps. Let's compare the cost of these ride-sharing apps to help Sofia save some money!\n",
    "\n",
    "Our [dataset](https://www.kaggle.com/datasets/ravi72munde/uber-lyft-cab-prices/data) contains a **sample** of all Uber and Lyft rides in Boston. We have information on the `'app'` (Lyft or Uber), the `'mode'` (level of service), the `'destination'` and `'source'` neighborhoods, the `'price'` in dollars, and the `'distance'` in miles. Run the cell below to load this data into the DataFrame `rideshare`."
   ]
  },
  {
   "cell_type": "code",
   "execution_count": 47,
   "id": "whole-science",
   "metadata": {},
   "outputs": [
    {
     "data": {
      "text/html": [
       "<div>\n",
       "<style scoped>\n",
       "    .dataframe tbody tr th:only-of-type {\n",
       "        vertical-align: middle;\n",
       "    }\n",
       "\n",
       "    .dataframe tbody tr th {\n",
       "        vertical-align: top;\n",
       "    }\n",
       "\n",
       "    .dataframe thead th {\n",
       "        text-align: right;\n",
       "    }\n",
       "</style>\n",
       "<table border=\"1\" class=\"dataframe\">\n",
       "  <thead>\n",
       "    <tr style=\"text-align: right;\">\n",
       "      <th></th>\n",
       "      <th>app</th>\n",
       "      <th>mode</th>\n",
       "      <th>destination</th>\n",
       "      <th>source</th>\n",
       "      <th>price</th>\n",
       "      <th>distance</th>\n",
       "    </tr>\n",
       "  </thead>\n",
       "  <tbody>\n",
       "    <tr>\n",
       "      <th>0</th>\n",
       "      <td>Uber</td>\n",
       "      <td>Black SUV</td>\n",
       "      <td>Beacon Hill</td>\n",
       "      <td>Northeastern University</td>\n",
       "      <td>31.5</td>\n",
       "      <td>2.61</td>\n",
       "    </tr>\n",
       "    <tr>\n",
       "      <th>1</th>\n",
       "      <td>Uber</td>\n",
       "      <td>Black</td>\n",
       "      <td>North Station</td>\n",
       "      <td>Haymarket Square</td>\n",
       "      <td>15.0</td>\n",
       "      <td>0.49</td>\n",
       "    </tr>\n",
       "    <tr>\n",
       "      <th>2</th>\n",
       "      <td>Uber</td>\n",
       "      <td>Black</td>\n",
       "      <td>Northeastern University</td>\n",
       "      <td>Back Bay</td>\n",
       "      <td>16.0</td>\n",
       "      <td>1.22</td>\n",
       "    </tr>\n",
       "    <tr>\n",
       "      <th>3</th>\n",
       "      <td>Lyft</td>\n",
       "      <td>Lux Black XL</td>\n",
       "      <td>Boston University</td>\n",
       "      <td>Beacon Hill</td>\n",
       "      <td>32.5</td>\n",
       "      <td>2.26</td>\n",
       "    </tr>\n",
       "    <tr>\n",
       "      <th>4</th>\n",
       "      <td>Uber</td>\n",
       "      <td>UberXL</td>\n",
       "      <td>Theatre District</td>\n",
       "      <td>Northeastern University</td>\n",
       "      <td>14.0</td>\n",
       "      <td>1.91</td>\n",
       "    </tr>\n",
       "    <tr>\n",
       "      <th>...</th>\n",
       "      <td>...</td>\n",
       "      <td>...</td>\n",
       "      <td>...</td>\n",
       "      <td>...</td>\n",
       "      <td>...</td>\n",
       "      <td>...</td>\n",
       "    </tr>\n",
       "    <tr>\n",
       "      <th>70509</th>\n",
       "      <td>Uber</td>\n",
       "      <td>Black</td>\n",
       "      <td>Financial District</td>\n",
       "      <td>Boston University</td>\n",
       "      <td>33.0</td>\n",
       "      <td>4.72</td>\n",
       "    </tr>\n",
       "    <tr>\n",
       "      <th>70510</th>\n",
       "      <td>Lyft</td>\n",
       "      <td>Shared</td>\n",
       "      <td>South Station</td>\n",
       "      <td>Theatre District</td>\n",
       "      <td>3.5</td>\n",
       "      <td>0.59</td>\n",
       "    </tr>\n",
       "    <tr>\n",
       "      <th>70511</th>\n",
       "      <td>Lyft</td>\n",
       "      <td>Lux Black</td>\n",
       "      <td>Northeastern University</td>\n",
       "      <td>West End</td>\n",
       "      <td>30.0</td>\n",
       "      <td>3.11</td>\n",
       "    </tr>\n",
       "    <tr>\n",
       "      <th>70512</th>\n",
       "      <td>Uber</td>\n",
       "      <td>Black</td>\n",
       "      <td>North End</td>\n",
       "      <td>Financial District</td>\n",
       "      <td>16.0</td>\n",
       "      <td>1.21</td>\n",
       "    </tr>\n",
       "    <tr>\n",
       "      <th>70513</th>\n",
       "      <td>Lyft</td>\n",
       "      <td>Lux Black</td>\n",
       "      <td>North Station</td>\n",
       "      <td>South Station</td>\n",
       "      <td>19.5</td>\n",
       "      <td>1.69</td>\n",
       "    </tr>\n",
       "  </tbody>\n",
       "</table>\n",
       "<p>70514 rows × 6 columns</p>\n",
       "</div>"
      ],
      "text/plain": [
       "        app          mode              destination                   source  \\\n",
       "0      Uber     Black SUV              Beacon Hill  Northeastern University   \n",
       "1      Uber         Black            North Station         Haymarket Square   \n",
       "2      Uber         Black  Northeastern University                 Back Bay   \n",
       "3      Lyft  Lux Black XL        Boston University              Beacon Hill   \n",
       "4      Uber        UberXL         Theatre District  Northeastern University   \n",
       "...     ...           ...                      ...                      ...   \n",
       "70509  Uber         Black       Financial District        Boston University   \n",
       "70510  Lyft        Shared            South Station         Theatre District   \n",
       "70511  Lyft     Lux Black  Northeastern University                 West End   \n",
       "70512  Uber         Black                North End       Financial District   \n",
       "70513  Lyft     Lux Black            North Station            South Station   \n",
       "\n",
       "       price  distance  \n",
       "0       31.5      2.61  \n",
       "1       15.0      0.49  \n",
       "2       16.0      1.22  \n",
       "3       32.5      2.26  \n",
       "4       14.0      1.91  \n",
       "...      ...       ...  \n",
       "70509   33.0      4.72  \n",
       "70510    3.5      0.59  \n",
       "70511   30.0      3.11  \n",
       "70512   16.0      1.21  \n",
       "70513   19.5      1.69  \n",
       "\n",
       "[70514 rows x 6 columns]"
      ]
     },
     "execution_count": 47,
     "metadata": {},
     "output_type": "execute_result"
    }
   ],
   "source": [
    "rideshare = bpd.read_csv('rideshare.csv')\n",
    "rideshare"
   ]
  },
  {
   "cell_type": "markdown",
   "id": "handled-holmes",
   "metadata": {},
   "source": [
    "**Question 4.1.** Let's start by determining the mean price for each of the two ridesharing apps. Create a DataFrame called `uber_lyft_means`, indexed by `'app'`, with one column called `'price'` that contains the mean price for each ridesharing app. Sort `uber_lyft_means` in ascending order of `'price'`.\n",
    "\n",
    "***Hint:*** This takes just one line of code."
   ]
  },
  {
   "cell_type": "code",
   "execution_count": 48,
   "id": "featured-somerset",
   "metadata": {},
   "outputs": [
    {
     "data": {
      "text/html": [
       "<div>\n",
       "<style scoped>\n",
       "    .dataframe tbody tr th:only-of-type {\n",
       "        vertical-align: middle;\n",
       "    }\n",
       "\n",
       "    .dataframe tbody tr th {\n",
       "        vertical-align: top;\n",
       "    }\n",
       "\n",
       "    .dataframe thead th {\n",
       "        text-align: right;\n",
       "    }\n",
       "</style>\n",
       "<table border=\"1\" class=\"dataframe\">\n",
       "  <thead>\n",
       "    <tr style=\"text-align: right;\">\n",
       "      <th></th>\n",
       "      <th>price</th>\n",
       "    </tr>\n",
       "    <tr>\n",
       "      <th>app</th>\n",
       "      <th></th>\n",
       "    </tr>\n",
       "  </thead>\n",
       "  <tbody>\n",
       "    <tr>\n",
       "      <th>Uber</th>\n",
       "      <td>15.817583</td>\n",
       "    </tr>\n",
       "    <tr>\n",
       "      <th>Lyft</th>\n",
       "      <td>17.415107</td>\n",
       "    </tr>\n",
       "  </tbody>\n",
       "</table>\n",
       "</div>"
      ],
      "text/plain": [
       "          price\n",
       "app            \n",
       "Uber  15.817583\n",
       "Lyft  17.415107"
      ]
     },
     "execution_count": 48,
     "metadata": {},
     "output_type": "execute_result"
    }
   ],
   "source": [
    "uber_lyft_means = rideshare.groupby('app').mean().drop(columns='distance').sort_values(by='price', ascending=True)\n",
    "uber_lyft_means"
   ]
  },
  {
   "cell_type": "markdown",
   "id": "alive-child",
   "metadata": {},
   "source": [
    "**Question 4.2.** Based on the data we have, one rideshare app appears to be cheaper than the other. But the data we have access to is only a sample of all rides, and thus the mean prices we computed above are only sample statistics, not  population parameters. Let's now extend each of our estimates to create a confidence interval for the mean price of **all** rides on each app. We'll start with Uber.\n",
    "\n",
    "Produce 1,000 bootstrapped estimates for the mean price of **all** Uber rides. Store the estimates in the `uber_means` array. Then, use the `uber_means` array to calculate an approximate **99% confidence interval** for the true mean price of all Uber rides. Assign the endpoints of your interval to `lower_bound` and `upper_bound`.\n",
    "\n",
    "***Hint:*** Make sure to query **before** resampling!"
   ]
  },
  {
   "cell_type": "code",
   "execution_count": 49,
   "id": "pending-ending",
   "metadata": {},
   "outputs": [
    {
     "data": {
      "text/html": [
       "<div>\n",
       "<style scoped>\n",
       "    .dataframe tbody tr th:only-of-type {\n",
       "        vertical-align: middle;\n",
       "    }\n",
       "\n",
       "    .dataframe tbody tr th {\n",
       "        vertical-align: top;\n",
       "    }\n",
       "\n",
       "    .dataframe thead th {\n",
       "        text-align: right;\n",
       "    }\n",
       "</style>\n",
       "<table border=\"1\" class=\"dataframe\">\n",
       "  <thead>\n",
       "    <tr style=\"text-align: right;\">\n",
       "      <th></th>\n",
       "      <th>app</th>\n",
       "      <th>mode</th>\n",
       "      <th>destination</th>\n",
       "      <th>source</th>\n",
       "      <th>price</th>\n",
       "      <th>distance</th>\n",
       "    </tr>\n",
       "  </thead>\n",
       "  <tbody>\n",
       "    <tr>\n",
       "      <th>0</th>\n",
       "      <td>Uber</td>\n",
       "      <td>Black SUV</td>\n",
       "      <td>Beacon Hill</td>\n",
       "      <td>Northeastern University</td>\n",
       "      <td>31.5</td>\n",
       "      <td>2.61</td>\n",
       "    </tr>\n",
       "    <tr>\n",
       "      <th>1</th>\n",
       "      <td>Uber</td>\n",
       "      <td>Black</td>\n",
       "      <td>North Station</td>\n",
       "      <td>Haymarket Square</td>\n",
       "      <td>15.0</td>\n",
       "      <td>0.49</td>\n",
       "    </tr>\n",
       "    <tr>\n",
       "      <th>2</th>\n",
       "      <td>Uber</td>\n",
       "      <td>Black</td>\n",
       "      <td>Northeastern University</td>\n",
       "      <td>Back Bay</td>\n",
       "      <td>16.0</td>\n",
       "      <td>1.22</td>\n",
       "    </tr>\n",
       "    <tr>\n",
       "      <th>4</th>\n",
       "      <td>Uber</td>\n",
       "      <td>UberXL</td>\n",
       "      <td>Theatre District</td>\n",
       "      <td>Northeastern University</td>\n",
       "      <td>14.0</td>\n",
       "      <td>1.91</td>\n",
       "    </tr>\n",
       "    <tr>\n",
       "      <th>6</th>\n",
       "      <td>Uber</td>\n",
       "      <td>WAV</td>\n",
       "      <td>Haymarket Square</td>\n",
       "      <td>Beacon Hill</td>\n",
       "      <td>9.5</td>\n",
       "      <td>1.35</td>\n",
       "    </tr>\n",
       "    <tr>\n",
       "      <th>...</th>\n",
       "      <td>...</td>\n",
       "      <td>...</td>\n",
       "      <td>...</td>\n",
       "      <td>...</td>\n",
       "      <td>...</td>\n",
       "      <td>...</td>\n",
       "    </tr>\n",
       "    <tr>\n",
       "      <th>70502</th>\n",
       "      <td>Uber</td>\n",
       "      <td>UberPool</td>\n",
       "      <td>South Station</td>\n",
       "      <td>Beacon Hill</td>\n",
       "      <td>7.0</td>\n",
       "      <td>1.39</td>\n",
       "    </tr>\n",
       "    <tr>\n",
       "      <th>70503</th>\n",
       "      <td>Uber</td>\n",
       "      <td>Black</td>\n",
       "      <td>Financial District</td>\n",
       "      <td>North End</td>\n",
       "      <td>17.5</td>\n",
       "      <td>1.22</td>\n",
       "    </tr>\n",
       "    <tr>\n",
       "      <th>70508</th>\n",
       "      <td>Uber</td>\n",
       "      <td>UberXL</td>\n",
       "      <td>Beacon Hill</td>\n",
       "      <td>Fenway</td>\n",
       "      <td>15.0</td>\n",
       "      <td>2.48</td>\n",
       "    </tr>\n",
       "    <tr>\n",
       "      <th>70509</th>\n",
       "      <td>Uber</td>\n",
       "      <td>Black</td>\n",
       "      <td>Financial District</td>\n",
       "      <td>Boston University</td>\n",
       "      <td>33.0</td>\n",
       "      <td>4.72</td>\n",
       "    </tr>\n",
       "    <tr>\n",
       "      <th>70512</th>\n",
       "      <td>Uber</td>\n",
       "      <td>Black</td>\n",
       "      <td>North End</td>\n",
       "      <td>Financial District</td>\n",
       "      <td>16.0</td>\n",
       "      <td>1.21</td>\n",
       "    </tr>\n",
       "  </tbody>\n",
       "</table>\n",
       "<p>36540 rows × 6 columns</p>\n",
       "</div>"
      ],
      "text/plain": [
       "        app       mode              destination                   source  \\\n",
       "0      Uber  Black SUV              Beacon Hill  Northeastern University   \n",
       "1      Uber      Black            North Station         Haymarket Square   \n",
       "2      Uber      Black  Northeastern University                 Back Bay   \n",
       "4      Uber     UberXL         Theatre District  Northeastern University   \n",
       "6      Uber        WAV         Haymarket Square              Beacon Hill   \n",
       "...     ...        ...                      ...                      ...   \n",
       "70502  Uber   UberPool            South Station              Beacon Hill   \n",
       "70503  Uber      Black       Financial District                North End   \n",
       "70508  Uber     UberXL              Beacon Hill                   Fenway   \n",
       "70509  Uber      Black       Financial District        Boston University   \n",
       "70512  Uber      Black                North End       Financial District   \n",
       "\n",
       "       price  distance  \n",
       "0       31.5      2.61  \n",
       "1       15.0      0.49  \n",
       "2       16.0      1.22  \n",
       "4       14.0      1.91  \n",
       "6        9.5      1.35  \n",
       "...      ...       ...  \n",
       "70502    7.0      1.39  \n",
       "70503   17.5      1.22  \n",
       "70508   15.0      2.48  \n",
       "70509   33.0      4.72  \n",
       "70512   16.0      1.21  \n",
       "\n",
       "[36540 rows x 6 columns]"
      ]
     },
     "execution_count": 49,
     "metadata": {},
     "output_type": "execute_result"
    }
   ],
   "source": [
    "uber_df = rideshare[rideshare.get('app')=='Uber']\n",
    "uber_df"
   ]
  },
  {
   "cell_type": "code",
   "execution_count": 50,
   "id": "convinced-transportation",
   "metadata": {},
   "outputs": [
    {
     "data": {
      "text/html": [
       "<div>\n",
       "<style scoped>\n",
       "    .dataframe tbody tr th:only-of-type {\n",
       "        vertical-align: middle;\n",
       "    }\n",
       "\n",
       "    .dataframe tbody tr th {\n",
       "        vertical-align: top;\n",
       "    }\n",
       "\n",
       "    .dataframe thead th {\n",
       "        text-align: right;\n",
       "    }\n",
       "</style>\n",
       "<table border=\"1\" class=\"dataframe\">\n",
       "  <thead>\n",
       "    <tr style=\"text-align: right;\">\n",
       "      <th></th>\n",
       "      <th>app</th>\n",
       "      <th>mode</th>\n",
       "      <th>destination</th>\n",
       "      <th>source</th>\n",
       "      <th>price</th>\n",
       "      <th>distance</th>\n",
       "    </tr>\n",
       "  </thead>\n",
       "  <tbody>\n",
       "    <tr>\n",
       "      <th>3</th>\n",
       "      <td>Lyft</td>\n",
       "      <td>Lux Black XL</td>\n",
       "      <td>Boston University</td>\n",
       "      <td>Beacon Hill</td>\n",
       "      <td>32.5</td>\n",
       "      <td>2.26</td>\n",
       "    </tr>\n",
       "    <tr>\n",
       "      <th>5</th>\n",
       "      <td>Lyft</td>\n",
       "      <td>Lyft XL</td>\n",
       "      <td>Fenway</td>\n",
       "      <td>West End</td>\n",
       "      <td>16.5</td>\n",
       "      <td>2.90</td>\n",
       "    </tr>\n",
       "    <tr>\n",
       "      <th>7</th>\n",
       "      <td>Lyft</td>\n",
       "      <td>Lux Black</td>\n",
       "      <td>North Station</td>\n",
       "      <td>Boston University</td>\n",
       "      <td>27.5</td>\n",
       "      <td>3.48</td>\n",
       "    </tr>\n",
       "    <tr>\n",
       "      <th>19</th>\n",
       "      <td>Lyft</td>\n",
       "      <td>Lux</td>\n",
       "      <td>Beacon Hill</td>\n",
       "      <td>Boston University</td>\n",
       "      <td>19.5</td>\n",
       "      <td>2.65</td>\n",
       "    </tr>\n",
       "    <tr>\n",
       "      <th>24</th>\n",
       "      <td>Lyft</td>\n",
       "      <td>Lux Black XL</td>\n",
       "      <td>West End</td>\n",
       "      <td>North End</td>\n",
       "      <td>27.5</td>\n",
       "      <td>1.26</td>\n",
       "    </tr>\n",
       "    <tr>\n",
       "      <th>...</th>\n",
       "      <td>...</td>\n",
       "      <td>...</td>\n",
       "      <td>...</td>\n",
       "      <td>...</td>\n",
       "      <td>...</td>\n",
       "      <td>...</td>\n",
       "    </tr>\n",
       "    <tr>\n",
       "      <th>70506</th>\n",
       "      <td>Lyft</td>\n",
       "      <td>Lux</td>\n",
       "      <td>North End</td>\n",
       "      <td>Back Bay</td>\n",
       "      <td>19.5</td>\n",
       "      <td>2.66</td>\n",
       "    </tr>\n",
       "    <tr>\n",
       "      <th>70507</th>\n",
       "      <td>Lyft</td>\n",
       "      <td>Lyft</td>\n",
       "      <td>Haymarket Square</td>\n",
       "      <td>Financial District</td>\n",
       "      <td>7.0</td>\n",
       "      <td>1.00</td>\n",
       "    </tr>\n",
       "    <tr>\n",
       "      <th>70510</th>\n",
       "      <td>Lyft</td>\n",
       "      <td>Shared</td>\n",
       "      <td>South Station</td>\n",
       "      <td>Theatre District</td>\n",
       "      <td>3.5</td>\n",
       "      <td>0.59</td>\n",
       "    </tr>\n",
       "    <tr>\n",
       "      <th>70511</th>\n",
       "      <td>Lyft</td>\n",
       "      <td>Lux Black</td>\n",
       "      <td>Northeastern University</td>\n",
       "      <td>West End</td>\n",
       "      <td>30.0</td>\n",
       "      <td>3.11</td>\n",
       "    </tr>\n",
       "    <tr>\n",
       "      <th>70513</th>\n",
       "      <td>Lyft</td>\n",
       "      <td>Lux Black</td>\n",
       "      <td>North Station</td>\n",
       "      <td>South Station</td>\n",
       "      <td>19.5</td>\n",
       "      <td>1.69</td>\n",
       "    </tr>\n",
       "  </tbody>\n",
       "</table>\n",
       "<p>33974 rows × 6 columns</p>\n",
       "</div>"
      ],
      "text/plain": [
       "        app          mode              destination              source  price  \\\n",
       "3      Lyft  Lux Black XL        Boston University         Beacon Hill   32.5   \n",
       "5      Lyft       Lyft XL                   Fenway            West End   16.5   \n",
       "7      Lyft     Lux Black            North Station   Boston University   27.5   \n",
       "19     Lyft           Lux              Beacon Hill   Boston University   19.5   \n",
       "24     Lyft  Lux Black XL                 West End           North End   27.5   \n",
       "...     ...           ...                      ...                 ...    ...   \n",
       "70506  Lyft           Lux                North End            Back Bay   19.5   \n",
       "70507  Lyft          Lyft         Haymarket Square  Financial District    7.0   \n",
       "70510  Lyft        Shared            South Station    Theatre District    3.5   \n",
       "70511  Lyft     Lux Black  Northeastern University            West End   30.0   \n",
       "70513  Lyft     Lux Black            North Station       South Station   19.5   \n",
       "\n",
       "       distance  \n",
       "3          2.26  \n",
       "5          2.90  \n",
       "7          3.48  \n",
       "19         2.65  \n",
       "24         1.26  \n",
       "...         ...  \n",
       "70506      2.66  \n",
       "70507      1.00  \n",
       "70510      0.59  \n",
       "70511      3.11  \n",
       "70513      1.69  \n",
       "\n",
       "[33974 rows x 6 columns]"
      ]
     },
     "execution_count": 50,
     "metadata": {},
     "output_type": "execute_result"
    }
   ],
   "source": [
    "lyft_df = rideshare[rideshare.get('app')=='Lyft']\n",
    "lyft_df"
   ]
  },
  {
   "cell_type": "code",
   "execution_count": 51,
   "id": "outside-mitchell",
   "metadata": {},
   "outputs": [
    {
     "data": {
      "text/plain": [
       "array([15.76579091, 15.87546524, 15.82330323, 15.8120416 , 15.78808155,\n",
       "       15.78738369, 15.77624521, 15.79578544, 15.80379037, 15.80545977,\n",
       "       15.75655446, 15.74280241, 15.76943076, 15.8379584 , 15.80377668,\n",
       "       15.78297756, 15.78233443, 15.81665298, 15.94756431, 15.78322386,\n",
       "       15.82702518, 15.89280241, 15.81717296, 15.85633552, 15.83619321,\n",
       "       15.87114122, 15.778763  , 15.84215928, 15.80499453, 15.84107827,\n",
       "       15.82727148, 15.86564039, 15.75149152, 15.78790367, 15.74995895,\n",
       "       15.87980296, 15.84922003, 15.85036946, 15.8779283 , 15.71131637,\n",
       "       15.76770662, 15.82660099, 15.86249316, 15.83245758, 15.79882321,\n",
       "       15.80552819, 15.86990969, 15.8187329 , 15.86626984, 15.75740285,\n",
       "       15.80483032, 15.80993432, 15.78409962, 15.84340449, 15.7683087 ,\n",
       "       15.8690613 , 15.86323207, 15.87788725, 15.83184182, 15.7910509 ,\n",
       "       15.84667488, 15.82281062, 15.80013684, 15.90537767, 15.78167761,\n",
       "       15.8054324 , 15.87929666, 15.72649152, 15.8923098 , 15.88097975,\n",
       "       15.84203612, 15.77724412, 15.77164751, 15.78801314, 15.85662288,\n",
       "       15.77728517, 15.88299124, 15.85065681, 15.82911877, 15.84273399,\n",
       "       15.74547072, 15.87701149, 15.74274767, 15.76789819, 15.79191297,\n",
       "       15.80236727, 15.876341  , 15.83964149, 15.81788451, 15.8028462 ,\n",
       "       15.80522715, 15.83531746, 15.8598659 , 15.81420361, 15.803763  ,\n",
       "       15.85753968, 15.8297619 , 15.80385878, 15.75665025, 15.84552545,\n",
       "       15.82534209, 15.81631089, 15.79280241, 15.83189655, 15.84215928,\n",
       "       15.78830049, 15.8128763 , 15.77304324, 15.79938424, 15.84740011,\n",
       "       15.81033114, 15.78182813, 15.71769294, 15.90550082, 15.74459496,\n",
       "       15.76951286, 15.86990969, 15.82103175, 15.83477011, 15.86394362,\n",
       "       15.85792282, 15.89666119, 15.84265189, 15.89447181, 15.79679803,\n",
       "       15.89020252, 15.77387794, 15.81785714, 15.81937603, 15.78154078,\n",
       "       15.843815  , 15.88936782, 15.7801861 , 15.81143952, 15.86063218,\n",
       "       15.81108374, 15.81922551, 15.78828681, 15.80595238, 15.73184182,\n",
       "       15.79261084, 15.83767105, 15.77163383, 15.78965517, 15.86301314,\n",
       "       15.81410783, 15.77846196, 15.87710728, 15.91583196, 15.79781062,\n",
       "       15.6954023 , 15.78141762, 15.79459496, 15.77344007, 15.85216201,\n",
       "       15.83601533, 15.81342365, 15.73776683, 15.79562124, 15.83853311,\n",
       "       15.84567597, 15.85305145, 15.83106185, 15.75160099, 15.87983032,\n",
       "       15.85998905, 15.76332786, 15.80372195, 15.77263273, 15.84451286,\n",
       "       15.77285167, 15.86357417, 15.88015873, 15.91380679, 15.78737001,\n",
       "       15.75062945, 15.94321292, 15.74827586, 15.85268199, 15.8555145 ,\n",
       "       15.81959496, 15.83851943, 15.83512589, 15.87068966, 15.78460591,\n",
       "       15.75723864, 15.88338807, 15.81075534, 15.81030378, 15.87728517,\n",
       "       15.77765463, 15.90463875, 15.78404488, 15.81420361, 15.77714833,\n",
       "       15.82285167, 15.7356185 , 15.81919814, 15.83928571, 15.82673782,\n",
       "       15.88762999, 15.88217022, 15.80996169, 15.76506568, 15.80942802,\n",
       "       15.86065955, 15.82628626, 15.87687466, 15.8689792 , 15.86631089,\n",
       "       15.85186097, 15.80644499, 15.77902299, 15.8249179 , 15.78232074,\n",
       "       15.79856322, 15.89477285, 15.85912698, 15.8696497 , 15.78382594,\n",
       "       15.83331965, 15.86249316, 15.8122879 , 15.83950465, 15.78589217,\n",
       "       15.87103175, 15.86491516, 15.70017789, 15.83706897, 15.83007663,\n",
       "       15.81895183, 15.78106185, 15.7665572 , 15.79429392, 15.8051861 ,\n",
       "       15.83259442, 15.86818555, 15.82571155, 15.83708265, 15.73940887,\n",
       "       15.841133  , 15.70853859, 15.75277778, 15.82120963, 15.85343459,\n",
       "       15.73642583, 15.75636289, 15.85145047, 15.83175972, 15.76135742,\n",
       "       15.88377121, 15.79809797, 15.80849754, 15.83429119, 15.81592775,\n",
       "       15.85275041, 15.83003558, 15.79735906, 15.82458949, 15.85358511,\n",
       "       15.82323481, 15.83180077, 15.7925561 , 15.85914067, 15.87785988,\n",
       "       15.76804871, 15.82141489, 15.75138205, 15.8166393 , 15.81621511,\n",
       "       15.80484401, 15.7931445 , 15.78556377, 15.86528462, 15.85615764,\n",
       "       15.87476738, 15.84024357, 15.82253695, 15.82029283, 15.83240285,\n",
       "       15.78151341, 15.7652162 , 15.81336891, 15.81735085, 15.81799398,\n",
       "       15.81365627, 15.83659004, 15.78902573, 15.83293651, 15.8636289 ,\n",
       "       15.74622332, 15.79296661, 15.80719759, 15.80154625, 15.81945813,\n",
       "       15.89074986, 15.80640394, 15.84051724, 15.78756158, 15.75474822,\n",
       "       15.80318829, 15.81789819, 15.90120416, 15.80530925, 15.83568692,\n",
       "       15.85065681, 15.88186918, 15.83940887, 15.79092775, 15.78825944,\n",
       "       15.80264094, 15.8362069 , 15.84931582, 15.90340722, 15.81940339,\n",
       "       15.78802682, 15.87438424, 15.89705802, 15.85269568, 15.78825944,\n",
       "       15.82716201, 15.84860427, 15.85244937, 15.81265736, 15.84697592,\n",
       "       15.77227696, 15.82790093, 15.74796114, 15.78775315, 15.79512863,\n",
       "       15.85186097, 15.79122879, 15.84237822, 15.83936782, 15.82409688,\n",
       "       15.85574713, 15.73433224, 15.81395731, 15.75522715, 15.76457307,\n",
       "       15.84860427, 15.72450739, 15.77443897, 15.87438424, 15.77657362,\n",
       "       15.81401204, 15.84968528, 15.76314997, 15.76258894, 15.82631363,\n",
       "       15.86617406, 15.87389163, 15.82761357, 15.78452381, 15.82201697,\n",
       "       15.80971538, 15.83590586, 15.86952655, 15.86139847, 15.87638205,\n",
       "       15.8152983 , 15.89965791, 15.79094143, 15.84363711, 15.80517241,\n",
       "       15.80455665, 15.83037767, 15.80269568, 15.84789272, 15.81175424,\n",
       "       15.76223317, 15.74603175, 15.83117132, 15.81409414, 15.84477285,\n",
       "       15.83576902, 15.92179803, 15.78565955, 15.83966886, 15.75566502,\n",
       "       15.81065955, 15.86083744, 15.79818008, 15.83772578, 15.82153804,\n",
       "       15.87695676, 15.8107827 , 15.80362616, 15.83482485, 15.75909962,\n",
       "       15.82731253, 15.80447455, 15.85613027, 15.82240011, 15.90224412,\n",
       "       15.79978106, 15.84206349, 15.78842365, 15.76930761, 15.84634647,\n",
       "       15.86417625, 15.84519704, 15.78498905, 15.75276409, 15.85574713,\n",
       "       15.75239464, 15.80519978, 15.77319376, 15.8077723 , 15.94512863,\n",
       "       15.86674877, 15.82504105, 15.81115216, 15.77770936, 15.78326492,\n",
       "       15.82606732, 15.75922277, 15.83505747, 15.83947729, 15.77044335,\n",
       "       15.77205802, 15.78806787, 15.83487958, 15.82647783, 15.81231527,\n",
       "       15.79934319, 15.83096606, 15.79575807, 15.82133279, 15.79763273,\n",
       "       15.85295567, 15.8558566 , 15.77598522, 15.80062945, 15.79909688,\n",
       "       15.81273946, 15.79652436, 15.84174877, 15.76841817, 15.81472359,\n",
       "       15.75532293, 15.71986864, 15.86324576, 15.91351943, 15.8809387 ,\n",
       "       15.8422277 , 15.85600712, 15.87442529, 15.85318829, 15.7812671 ,\n",
       "       15.84095512, 15.81410783, 15.81000274, 15.78096606, 15.80686918,\n",
       "       15.81977285, 15.85202518, 15.81330049, 15.82905036, 15.75473454,\n",
       "       15.80125889, 15.78087028, 15.77256431, 15.86243842, 15.75372195,\n",
       "       15.82389163, 15.87335796, 15.66495621, 15.81616037, 15.77535577,\n",
       "       15.78107553, 15.87027915, 15.85157362, 15.76324576, 15.81424466,\n",
       "       15.81299945, 15.827422  , 15.87515052, 15.85550082, 15.78340175,\n",
       "       15.80318829, 15.86732348, 15.88542693, 15.79382868, 15.75770389,\n",
       "       15.9414751 , 15.81836344, 15.82058019, 15.87261905, 15.77296114,\n",
       "       15.75366721, 15.75567871, 15.81211002, 15.86250684, 15.77557471,\n",
       "       15.77220854, 15.76687192, 15.89303503, 15.7452381 , 15.84064039,\n",
       "       15.78337438, 15.90786809, 15.91219212, 15.82224959, 15.78059661,\n",
       "       15.7532567 , 15.76007115, 15.85277778, 15.84012042, 15.79079091,\n",
       "       15.7665572 , 15.85860701, 15.72397373, 15.79057198, 15.75009579,\n",
       "       15.74820744, 15.81631089, 15.80925014, 15.76709086, 15.83048714,\n",
       "       15.79779693, 15.79937055, 15.90377668, 15.79128352, 15.76262999,\n",
       "       15.88481117, 15.83743842, 15.82194855, 15.81390257, 15.81802135,\n",
       "       15.79437603, 15.86874658, 15.81544882, 15.88464696, 15.80803229,\n",
       "       15.76758347, 15.78931308, 15.79036672, 15.74126984, 15.78301861,\n",
       "       15.80667761, 15.89094143, 15.73701423, 15.87114122, 15.86599617,\n",
       "       15.78968254, 15.81468254, 15.87298851, 15.79937055, 15.83575534,\n",
       "       15.7687329 , 15.76284893, 15.87084018, 15.830104  , 15.79776957,\n",
       "       15.81684455, 15.7766694 , 15.82874932, 15.83059661, 15.80264094,\n",
       "       15.8439792 , 15.74935687, 15.83074713, 15.71910235, 15.86383415,\n",
       "       15.8627121 , 15.80298303, 15.84027094, 15.84025725, 15.81736453,\n",
       "       15.85198413, 15.81483306, 15.8734127 , 15.82138752, 15.74986316,\n",
       "       15.85727969, 15.8191434 , 15.7719075 , 15.85348933, 15.82151067,\n",
       "       15.83238916, 15.88805419, 15.90815545, 15.81082375, 15.83604269,\n",
       "       15.85993432, 15.78678161, 15.85805966, 15.75335249, 15.78565955,\n",
       "       15.80257252, 15.74039409, 15.88227969, 15.81840449, 15.84478654,\n",
       "       15.81037219, 15.83471538, 15.86383415, 15.81752874, 15.74510126,\n",
       "       15.72664204, 15.74883689, 15.85428298, 15.78726054, 15.84503284,\n",
       "       15.80365353, 15.7788451 , 15.71336891, 15.7649699 , 15.81015326,\n",
       "       15.82848933, 15.81990969, 15.82281062, 15.86027641, 15.80192939,\n",
       "       15.77620416, 15.80781336, 15.8705665 , 15.82614943, 15.80311987,\n",
       "       15.87252326, 15.83892994, 15.80090312, 15.83880679, 15.89215928,\n",
       "       15.81584565, 15.81048166, 15.81206897, 15.79393815, 15.81119321,\n",
       "       15.87364532, 15.84293924, 15.77576628, 15.8831144 , 15.83560482,\n",
       "       15.8271757 , 15.86516147, 15.80868911, 15.70251779, 15.84719485,\n",
       "       15.75961959, 15.82806513, 15.8219075 , 15.8833607 , 15.85916804,\n",
       "       15.80821018, 15.83798577, 15.79511494, 15.80192939, 15.83490695,\n",
       "       15.89144773, 15.81506568, 15.86252053, 15.80785441, 15.82007389,\n",
       "       15.78731527, 15.86126163, 15.84712644, 15.88036398, 15.81547619,\n",
       "       15.81097427, 15.78248495, 15.80025999, 15.73955939, 15.84191297,\n",
       "       15.81382047, 15.88839628, 15.83743842, 15.79931582, 15.78693213,\n",
       "       15.88036398, 15.8015873 , 15.86777504, 15.88663109, 15.74195402,\n",
       "       15.82431582, 15.78851943, 15.78994253, 15.83166393, 15.81261631,\n",
       "       15.81470991, 15.8121237 , 15.80712917, 15.86059113, 15.85259989,\n",
       "       15.84251505, 15.72468528, 15.77252326, 15.79143404, 15.7872058 ,\n",
       "       15.78750684, 15.82307061, 15.76626984, 15.72506842, 15.76855501,\n",
       "       15.78912151, 15.77229064, 15.75663656, 15.89386973, 15.81527094,\n",
       "       15.79425287, 15.83847838, 15.78988779, 15.8265052 , 15.79652436,\n",
       "       15.86498358, 15.86499726, 15.7659688 , 15.79626437, 15.82219485,\n",
       "       15.81254789, 15.78356596, 15.76167214, 15.81269841, 15.75951013,\n",
       "       15.9081144 , 15.82360427, 15.76481938, 15.84002463, 15.74660646,\n",
       "       15.92972085, 15.78810892, 15.87796935, 15.86139847, 15.81778872,\n",
       "       15.78136289, 15.80318829, 15.70480296, 15.72112753, 15.86269841,\n",
       "       15.81561303, 15.8507526 , 15.80700602, 15.80340722, 15.86321839,\n",
       "       15.8668856 , 15.78426382, 15.78689108, 15.79831691, 15.86191845,\n",
       "       15.77393268, 15.84480022, 15.80537767, 15.82836617, 15.77955665,\n",
       "       15.9105364 , 15.81494253, 15.80725233, 15.83527641, 15.87467159,\n",
       "       15.89449918, 15.82283799, 15.72249589, 15.74017515, 15.79441708,\n",
       "       15.80372195, 15.80155993, 15.8044335 , 15.7446497 , 15.8499179 ,\n",
       "       15.78574165, 15.71325944, 15.80027367, 15.83322386, 15.76402573,\n",
       "       15.77505473, 15.83222496, 15.72669677, 15.83568692, 15.84558019,\n",
       "       15.82238643, 15.84499179, 15.82974822, 15.82903667, 15.93446907,\n",
       "       15.81891078, 15.76726875, 15.78397646, 15.79552545, 15.89763273,\n",
       "       15.85547345, 15.89630542, 15.7452381 , 15.78979201, 15.77746305,\n",
       "       15.77772304, 15.85457033, 15.85756705, 15.81031746, 15.72963875,\n",
       "       15.77606732, 15.76280788, 15.8841954 , 15.80722496, 15.78761631,\n",
       "       15.82075807, 15.83323755, 15.84902846, 15.85808703, 15.81937603,\n",
       "       15.77643678, 15.81086481, 15.74901478, 15.81540777, 15.71773399,\n",
       "       15.90064313, 15.73219759, 15.85983853, 15.77255063, 15.85552819,\n",
       "       15.78392173, 15.90615764, 15.848659  , 15.75276409, 15.77735359,\n",
       "       15.7887931 , 15.8234127 , 15.79038041, 15.75725233, 15.80803229,\n",
       "       15.87411056, 15.82977559, 15.71305419, 15.77735359, 15.7994116 ,\n",
       "       15.83631637, 15.81004379, 15.82922824, 15.81201423, 15.83399015,\n",
       "       15.89503284, 15.73664477, 15.908867  , 15.78983306, 15.79853585,\n",
       "       15.74371921, 15.82089491, 15.76509305, 15.90447455, 15.78041872,\n",
       "       15.77276957, 15.91369732, 15.90084839, 15.78338807, 15.89007937,\n",
       "       15.79343186, 15.81386152, 15.79530651, 15.8183908 , 15.69362343,\n",
       "       15.76536672, 15.86851396, 15.81850027, 15.85422824, 15.9242474 ,\n",
       "       15.79835796, 15.81721401, 15.80814176, 15.81969075, 15.83761631,\n",
       "       15.83408593, 15.82614943, 15.81610564, 15.75406404, 15.79931582,\n",
       "       15.89204981, 15.70901752, 15.78643952, 15.83033662, 15.79199507,\n",
       "       15.82151067, 15.76870553, 15.81412151, 15.80228517, 15.80812808,\n",
       "       15.93375753, 15.79024357, 15.88025452, 15.80521346, 15.81297209,\n",
       "       15.73323755, 15.76554461, 15.80452928, 15.79668856, 15.85565134,\n",
       "       15.80987958, 15.81483306, 15.80893541, 15.78113027, 15.83886152,\n",
       "       15.82671045, 15.80878489, 15.78374384, 15.79742748, 15.85659551,\n",
       "       15.84173508, 15.79317187, 15.86969075, 15.84859059, 15.74289819,\n",
       "       15.73810892, 15.83616585, 15.86418993, 15.81555829, 15.79038041,\n",
       "       15.88199234, 15.77301587, 15.80172414, 15.87042967, 15.81791188,\n",
       "       15.89653804, 15.85979748, 15.84649699, 15.76205528, 15.7786809 ,\n",
       "       15.83159551, 15.84455391, 15.80689655, 15.81689929, 15.7979064 ,\n",
       "       15.77665572, 15.8582786 , 15.79808429, 15.84445813, 15.8251642 ,\n",
       "       15.83032293, 15.83981938, 15.84767378, 15.85005473, 15.88995621,\n",
       "       15.78463328, 15.90734811, 15.82597154, 15.83865627, 15.83895731,\n",
       "       15.81037219, 15.866133  , 15.82071702, 15.85789546, 15.83572797,\n",
       "       15.83437329, 15.81713191, 15.84228243, 15.81425835, 15.84816639,\n",
       "       15.85439245, 15.77142857, 15.79811166, 15.77356322, 15.86360153,\n",
       "       15.87075807, 15.81231527, 15.78241653, 15.78965517, 15.80878489,\n",
       "       15.80457033, 15.80603448, 15.75311987, 15.83567323, 15.80617132,\n",
       "       15.87019704, 15.83165025, 15.76754242, 15.76689929, 15.88520799,\n",
       "       15.79146141, 15.80313355, 15.84371921, 15.84664751, 15.7226601 ,\n",
       "       15.79711275, 15.78314176, 15.91800766, 15.82008758, 15.83467433,\n",
       "       15.82119595, 15.89151615, 15.7341954 , 15.79787904, 15.77721675,\n",
       "       15.83373016, 15.78820471, 15.83230706, 15.83596059, 15.8023399 ,\n",
       "       15.81436782, 15.85955118, 15.83741106, 15.81495621, 15.80112206,\n",
       "       15.87446634, 15.92490421, 15.86200055, 15.75771757, 15.78732895,\n",
       "       15.84909688, 15.8301861 , 15.92401478, 15.85890805, 15.79016147])"
      ]
     },
     "execution_count": 51,
     "metadata": {},
     "output_type": "execute_result"
    }
   ],
   "source": [
    "uber_means = np.array([])\n",
    "for i in np.arange(1000):\n",
    "    resample = uber_df.sample(uber_df.shape[0], replace=True)\n",
    "    resample_proportion = resample.get('price').mean()\n",
    "    uber_means = np.append(uber_means, resample_proportion)\n",
    "\n",
    "uber_means"
   ]
  },
  {
   "cell_type": "code",
   "execution_count": 52,
   "id": "acceptable-spider",
   "metadata": {},
   "outputs": [
    {
     "data": {
      "image/png": "[encoded data removed]",
      "text/plain": [
       "<Figure size 1000x500 with 1 Axes>"
      ]
     },
     "metadata": {},
     "output_type": "display_data"
    },
    {
     "data": {
      "text/plain": [
       "'A 99% confidence interval for the average Uber ride price is [15.704791529830324, 15.933761083743843].'"
      ]
     },
     "execution_count": 52,
     "metadata": {},
     "output_type": "execute_result"
    }
   ],
   "source": [
    "lower_bound = np.percentile(uber_means, 0.5)\n",
    "upper_bound = np.percentile(uber_means, 99.5)\n",
    "\n",
    "# Display the estimates in a histogram.\n",
    "bpd.DataFrame().assign(Estimated_Mean_Price=uber_means).plot(kind='hist', density=True, ec='w', figsize=(10, 5), title='Uber');\n",
    "plt.plot([lower_bound, upper_bound], [0, 0], color='gold', linewidth=10, label='99% confidence interval');\n",
    "plt.show()\n",
    "\n",
    "# Don't change what's below (though you will need to copy and change it in 4.3).\n",
    "app_name = 'Uber'\n",
    "f'A 99% confidence interval for the average {app_name} ride price is [{lower_bound}, {upper_bound}].'"
   ]
  },
  {
   "cell_type": "markdown",
   "id": "equipped-heating",
   "metadata": {},
   "source": [
    "**Question 4.3.** Now we want to calculate the corresponding confidence interval for Lyft. Instead of copying our code from Question 4.2 and changing it to work for Lyft, let's write a more general function that works for _both_ Uber and Lyft. \n",
    "\n",
    "Create a function called `app_and_hist`, which takes in the name of a ridesharing app as a string, and:\n",
    "1. **Plots the histogram** of 1,000 bootstrapped estimates for that app's mean price.\n",
    "2. **Returns** a string describing the approximate 99% confidence interval for that app's mean price, formatted in the same way as the string displayed for Uber in Question 4.2. \n",
    "\n",
    "***Notes:*** \n",
    "- Make sure your function both plots a histogram and **returns** a string. For example, `mode_and_hist('Uber')` should return a string that starts with `'A 99% confidence interval for the average Uber ride price is'`. It's ok if you see the return string displayed before the plot.\n",
    "- The string displayed at the end of Question 4.2 was created using a feature of Python called f-strings. You'll need to copy and change that f-string expression. Read [this article](https://realpython.com/python-f-strings/#simple-syntax) for more details about f-strings if you're interested."
   ]
  },
  {
   "cell_type": "code",
   "execution_count": 53,
   "id": "violent-metro",
   "metadata": {},
   "outputs": [
    {
     "data": {
      "image/png": "[encoded data removed]",
      "text/plain": [
       "<Figure size 1000x500 with 1 Axes>"
      ]
     },
     "metadata": {},
     "output_type": "display_data"
    },
    {
     "name": "stdout",
     "output_type": "stream",
     "text": [
      "A 99% confidence interval for the average Uber ride price is [15.715485632183908, 15.939447181171317].\n"
     ]
    },
    {
     "data": {
      "image/png": "[encoded data removed]",
      "text/plain": [
       "<Figure size 1000x500 with 1 Axes>"
      ]
     },
     "metadata": {},
     "output_type": "display_data"
    },
    {
     "name": "stdout",
     "output_type": "stream",
     "text": [
      "A 99% confidence interval for the average Lyft ride price is [17.282292089539055, 17.577492517807734].\n"
     ]
    }
   ],
   "source": [
    "def app_and_hist(app_name):\n",
    "    app_df = rideshare[rideshare.get('app')==app_name]\n",
    "    app_means = np.array([])\n",
    "    for i in np.arange(1000):\n",
    "        resample = app_df.sample(app_df.shape[0], replace=True)\n",
    "        resample_proportion = resample.get('price').mean()\n",
    "        app_means = np.append(app_means, resample_proportion)\n",
    "        \n",
    "    lower_bound = np.percentile(app_means, 0.5)\n",
    "    upper_bound = np.percentile(app_means, 99.5)\n",
    "\n",
    "    # Display the estimates in a histogram.\n",
    "    bpd.DataFrame().assign(Estimated_Mean_Price=app_means).plot(kind='hist', density=True, ec='w', figsize=(10, 5), title=app_name);\n",
    "    plt.plot([lower_bound, upper_bound], [0, 0], color='gold', linewidth=10, label='99% confidence interval');\n",
    "    plt.show()\n",
    "    \n",
    "    # Don't change what's below (though you will need to copy and change it in 4.3).\n",
    "    app_name = app_name\n",
    "    \n",
    "    return f'A 99% confidence interval for the average {app_name} ride price is [{lower_bound}, {upper_bound}].'   \n",
    "    \n",
    "    \n",
    "# Example calls to the function. Don't change the lines below.\n",
    "uber_string = app_and_hist('Uber')\n",
    "print(uber_string)\n",
    "lyft_string = app_and_hist('Lyft')\n",
    "print(lyft_string)"
   ]
  },
  {
   "cell_type": "markdown",
   "id": "variable-lindsay",
   "metadata": {},
   "source": [
    "Congratulations! You are done with Homework 4."
   ]
  }
 ],
 "metadata": {
  "kernelspec": {
   "display_name": "Python 3",
   "language": "python",
   "name": "python3"
  },
  "language_info": {
   "codemirror_mode": {
    "name": "ipython",
    "version": 3
   },
   "file_extension": ".py",
   "mimetype": "text/x-python",
   "name": "python",
   "nbconvert_exporter": "python",
   "pygments_lexer": "ipython3",
   "version": "3.8.5"
  }
 },
 "nbformat": 4,
 "nbformat_minor": 5
}
