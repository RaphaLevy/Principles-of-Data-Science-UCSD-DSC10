{
 "cells": [
  {
   "cell_type": "markdown",
   "metadata": {},
   "source": [
    "# Homework 4: Simulation, Sampling, and Bootstrapping\n",
    "\n",
    "## Due Tuesday, May 14th at 11:59PM\n",
    "\n",
    "Welcome to Homework 4! This homework will cover:\n",
    "- Simulations (see [CIT 9.3-9.4](https://inferentialthinking.com/chapters/09/3/Simulation.html))\n",
    "- Sampling and Empirical Distributions (see [CIT 10-10.4](https://inferentialthinking.com/chapters/10/Sampling_and_Empirical_Distributions.html))\n",
    "- Bootstrapping and Confidence Intervals (see [CIT 13.2](https://inferentialthinking.com/chapters/13/2/Bootstrap.html) and [CIT 13.3](https://inferentialthinking.com/chapters/13/3/Confidence_Intervals.html))"
   ]
  },
  {
   "cell_type": "markdown",
   "metadata": {},
   "source": [
    "### Instructions\n",
    "\n",
    "Remember to start early and submit often. You are given six slip days throughout the quarter to extend deadlines. See the syllabus for more details. With the exception of using slip days, late work will not be accepted unless you have made special arrangements with your instructor.\n",
    "\n",
    "**Important**: For homeworks, the `otter` tests don't usually tell you that your answer is correct. More often, they help catch careless mistakes. It's up to you to ensure that your answer is correct. If you're not sure, ask someone (not for the answer, but for some guidance about your approach). These are great questions for office hours (the schedule can be found [here](https://dsc10.com/calendar)) or Ed. Directly sharing answers is not okay, but discussing problems with the course staff or with other students is encouraged. "
   ]
  },
  {
   "cell_type": "code",
   "execution_count": 1,
   "metadata": {},
   "outputs": [],
   "source": [
    "# Please don't change this cell, but do make sure to run it.\n",
    "import babypandas as bpd\n",
    "import numpy as np\n",
    "\n",
    "import matplotlib.pyplot as plt\n",
    "plt.style.use('ggplot')\n",
    "\n",
    "import otter\n",
    "grader = otter.Notebook()"
   ]
  },
  {
   "cell_type": "markdown",
   "metadata": {},
   "source": [
    "## 1. Triton Spirit Night Lotto, continued 🔱 🏀 \n",
    "\n",
    "In the last homework, we calculated the probability of winning the grand prize (free housing) on a Spirit Night Lotto lottery ticket, and found that it was quite low 😭."
   ]
  },
  {
   "cell_type": "code",
   "execution_count": 2,
   "metadata": {},
   "outputs": [
    {
     "data": {
      "text/plain": [
       "6.216404065866433e-11"
      ]
     },
     "execution_count": 2,
     "metadata": {},
     "output_type": "execute_result"
    }
   ],
   "source": [
    "# Just run this cell, do not change it!\n",
    "free_housing_chance = (1 / 66) * (1 / 65) * (1 / 64) * (1 / 63) * (1 / 62) * (1 / 15)\n",
    "free_housing_chance"
   ]
  },
  {
   "cell_type": "markdown",
   "metadata": {},
   "source": [
    "In this question, we'll approach the same question not using math, but using simulation. \n",
    "\n",
    "It's important to remember how this lottery works:\n",
    "- First, you pick five **different** numbers, one at a time, from 1 to 66, representing the winning score at the Spirit Night game.\n",
    "- Then, you separately pick a number from 1 to 15. This is because the top scoring athlete (Bryce Pope) scored 15 points during the game. Let's say you select 9.\n",
    "- The six numbers you have selected, or  **your numbers**, can be represented all together as (7, 32, 24, 65, 13, 9). This is a _sequence_ of six numbers – **order matters**!\n",
    "\n",
    "The **winning numbers** are chosen by King Triton, who draws five balls, one at a time, **without replacement**, from a pot of white balls numbered 1 to 66. Then, he draws a gold ball, the Tritonball, from a pot of gold balls numbered 1 to 15. Both pots are completely separate, hence the different ball colors. For example, maybe the winning numbers are (65, 9, 24, 23, 1, 9).\n",
    "\n",
    "We’ll assume for this problem that in order to win the grand prize (free housing), all six of your numbers need to match the winning numbers and be in the **exact same positions**. In other words, your entire sequence of numbers must be exactly the same as King Triton's sequence of winning numbers. However, if some numbers in your sequence match up with the corresponding number in the winning sequence, you will still win some Triton Cash. \n",
    "\n",
    "Suppose again that you select (7, 32, 24, 65, 13, 9) and the winning numbers are (65, 9, 24, 23, 1, 9). In this case, two of your numbers are considered to match two of the winning numbers. \n",
    "- Your numbers: (7, 32, **24**, 65, 13, **9**)\n",
    "- Winning numbers: (65, 9, **24**, 23, 1, **9**)\n",
    "\n",
    "You won't win free housing, but you will win some Triton Cash. Note that although both sequences include the number 65 within the first five numbers (representing a white ball), since they are in different positions, that's not considered a match.\n"
   ]
  },
  {
   "cell_type": "markdown",
   "metadata": {},
   "source": [
    "**Question 1.1.** Implement a function called `simulate_one_ticket`. It should take no arguments, and it should return an array with 6 random numbers, simulating how the numbers are selected for a single Spirit Night Lotto ticket. The first five numbers should all be randomly chosen without replacement, from 1 to 66. The last number should be between 1 and 15."
   ]
  },
  {
   "cell_type": "code",
   "execution_count": 3,
   "metadata": {},
   "outputs": [],
   "source": [
    "def simulate_one_ticket():\n",
    "    \"\"\"Simulate one Spirit Night Lotto ticket.\"\"\"\n",
    "    random_numbers = np.array([])\n",
    "    random_numbers = np.append(random_numbers, np.random.choice(np.arange(1, 67), 5))\n",
    "    random_numbers = np.append(random_numbers, np.random.choice(np.arange(1, 16), 1))\n",
    "    return random_numbers"
   ]
  },
  {
   "cell_type": "code",
   "execution_count": 4,
   "metadata": {},
   "outputs": [
    {
     "data": {
      "text/plain": [
       "array([12., 55., 12., 15., 45., 12.])"
      ]
     },
     "execution_count": 4,
     "metadata": {},
     "output_type": "execute_result"
    }
   ],
   "source": [
    "simulate_one_ticket()"
   ]
  },
  {
   "cell_type": "code",
   "execution_count": 5,
   "metadata": {
    "deletable": false,
    "editable": false
   },
   "outputs": [
    {
     "data": {
      "text/html": [
       "<p><strong><pre style='display: inline;'>q1_1</pre></strong> passed!</p>"
      ],
      "text/plain": [
       "q1_1 results: All test cases passed!"
      ]
     },
     "execution_count": 5,
     "metadata": {},
     "output_type": "execute_result"
    }
   ],
   "source": [
    "grader.check(\"q1_1\")"
   ]
  },
  {
   "cell_type": "markdown",
   "metadata": {},
   "source": [
    "**Question 1.2.** It's draw day. You checked the winning numbers King Triton drew, which happened to be **(26, 49, 64, 5, 12, 7)**. Below, calculate how many matches there are between the winning numbers and a randomly generated ticket, and save the result in `num_matches`. Remember, order matters when counting matches!\n",
    "\n",
    "***Hint:*** You don't need a `for`-loop for this question. There is a one-line solution using `np.count_nonzero`."
   ]
  },
  {
   "cell_type": "code",
   "execution_count": 6,
   "metadata": {},
   "outputs": [
    {
     "data": {
      "text/plain": [
       "array([13., 36., 33.,  0., -8., -1.])"
      ]
     },
     "execution_count": 6,
     "metadata": {},
     "output_type": "execute_result"
    }
   ],
   "source": [
    "winning = np.array([26, 49, 64, 5, 12, 7])\n",
    "simulated_ticket = np.array([13., 13., 31.,  5., 20.,  8.])\n",
    "winning-simulated_ticket"
   ]
  },
  {
   "cell_type": "code",
   "execution_count": 7,
   "metadata": {},
   "outputs": [
    {
     "data": {
      "text/plain": [
       "5"
      ]
     },
     "execution_count": 7,
     "metadata": {},
     "output_type": "execute_result"
    }
   ],
   "source": [
    "np.count_nonzero(winning-simulated_ticket)"
   ]
  },
  {
   "cell_type": "code",
   "execution_count": 8,
   "metadata": {},
   "outputs": [
    {
     "data": {
      "text/plain": [
       "1"
      ]
     },
     "execution_count": 8,
     "metadata": {},
     "output_type": "execute_result"
    }
   ],
   "source": [
    "len(winning-simulated_ticket) - np.count_nonzero(winning-simulated_ticket)"
   ]
  },
  {
   "cell_type": "code",
   "execution_count": 9,
   "metadata": {},
   "outputs": [
    {
     "name": "stdout",
     "output_type": "stream",
     "text": [
      "The number of matches between the winning numbers [26 49 64  5 12  7] and the simulated ticket [ 8. 25. 14. 28. 23. 15.] is 0.\n"
     ]
    }
   ],
   "source": [
    "winning = np.array([26, 49, 64, 5, 12, 7])\n",
    "simulated_ticket = simulate_one_ticket()\n",
    "num_matches = len(winning - simulated_ticket) - np.count_nonzero(winning - simulated_ticket)\n",
    "\n",
    "print(f\"The number of matches between the winning numbers {winning} and the simulated ticket {simulated_ticket} is {num_matches}.\")"
   ]
  },
  {
   "cell_type": "code",
   "execution_count": 10,
   "metadata": {
    "deletable": false,
    "editable": false
   },
   "outputs": [
    {
     "data": {
      "text/html": [
       "<p><strong><pre style='display: inline;'>q1_2</pre></strong> passed!</p>"
      ],
      "text/plain": [
       "q1_2 results: All test cases passed!"
      ]
     },
     "execution_count": 10,
     "metadata": {},
     "output_type": "execute_result"
    }
   ],
   "source": [
    "grader.check(\"q1_2\")"
   ]
  },
  {
   "cell_type": "markdown",
   "metadata": {},
   "source": [
    "**Question 1.3.** You are disappointed because you bought a lottery ticket but you did not win free housing. To make yourself feel better, you write a simulation to remind yourself how unlikely it is to win the grand prize. \n",
    "\n",
    "Implement a simulation where you call the function `simulate_one_ticket` 100,000 times. In your 100,000 tickets, **how many times did you win the grand prize (free housing)?** Assign your answer to `count_free_housing`. (It would cost a fortune if you were to buy 100,000 tickets – it's pretty nice to be able to simulate this experiment instead of doing it in real life!) \n",
    "\n",
    "***Hint:*** Start by writing a simulation where you only buy 10 tickets. Once you are sure you have that figured out, then ramp it up to 100,000 tickets. This is a good general practice for writing simulations: start small! It may take a little while (up to a minute) for Python to perform the calculations when you are buying 100,000 tickets. "
   ]
  },
  {
   "cell_type": "code",
   "execution_count": 11,
   "metadata": {},
   "outputs": [],
   "source": [
    "# def simulate_by_repetition(repetitions):\n",
    "#     # Our implementation of this function took 4 to 5 short lines of code.\n",
    "#     #samples = np.array([])\n",
    "#     for i in np.arange(repetitions):\n",
    "#         sampling = simulate_one_ticket()\n",
    "#         #samples = np.append(samples, sampling)\n",
    "#         return sampling"
   ]
  },
  {
   "cell_type": "code",
   "execution_count": 12,
   "metadata": {},
   "outputs": [],
   "source": [
    "# def repeat_fun(times, f=simulate_one_ticket):\n",
    "#     for i in range(times): \n",
    "#         simulate_one_ticket()"
   ]
  },
  {
   "cell_type": "code",
   "execution_count": 13,
   "metadata": {},
   "outputs": [],
   "source": [
    "# repeat_fun(2)"
   ]
  },
  {
   "cell_type": "code",
   "execution_count": 14,
   "metadata": {},
   "outputs": [
    {
     "data": {
      "text/plain": [
       "0"
      ]
     },
     "execution_count": 14,
     "metadata": {},
     "output_type": "execute_result"
    }
   ],
   "source": [
    "winning = np.array([26, 49, 64, 5, 12, 7])\n",
    "num_repetitions = 100000\n",
    "count_matches_array = np.array([])\n",
    "for i in np.arange(num_repetitions):\n",
    "    simulated_ticket = simulate_one_ticket()\n",
    "    # this calculates the number of matches, or 6 - no matches\n",
    "    count_matches = len(winning - simulated_ticket) - np.count_nonzero(winning - simulated_ticket)\n",
    "    # if count_matches = 6, that means that no matches = 0, so they all match\n",
    "    if count_matches == len(winning - simulated_ticket):\n",
    "        # if they all match, count_matches_array is increased by 6\n",
    "        count_matches_array = np.append(count_matches_array, count_matches)\n",
    "\n",
    "# count_free_housing will be the total number of values in that array\n",
    "count_free_housing = len(count_matches_array)    \n",
    "count_free_housing"
   ]
  },
  {
   "cell_type": "code",
   "execution_count": 15,
   "metadata": {
    "deletable": false,
    "editable": false
   },
   "outputs": [
    {
     "data": {
      "text/html": [
       "<p><strong><pre style='display: inline;'>q1_3</pre></strong> passed!</p>"
      ],
      "text/plain": [
       "q1_3 results: All test cases passed!"
      ]
     },
     "execution_count": 15,
     "metadata": {},
     "output_type": "execute_result"
    }
   ],
   "source": [
    "grader.check(\"q1_3\")"
   ]
  },
  {
   "cell_type": "markdown",
   "metadata": {},
   "source": [
    "How many times did you win free housing? Remember, the mathematical probability of winning free housing is quite low, on the order of $10^{-11}$. That's a lot lower than 1 in 100,000, which is $10^{-5}$.\n",
    "\n",
    "**Question 1.4.** As we've seen, you would need to be extremely lucky to win the grand prize. To encourage more students to buy Spirit Night Lotto tickets despite the terrible odds, there are some additional prizes. Students can win Triton Cash if *some* of their numbers match the corresponding winning numbers, as described in the introduction. Again, simulate the act of buying 100,000 tickets, but this time find **the greatest number of matches achieved by any of your tickets**, and assign this number to `most_matches`. \n",
    "\n",
    "For example, if 90,000 of your tickets matched 1 winning number and 10,000 of your tickets matched 2 winning numbers, then you would set `most_matches` to 2. If 99,999 of your tickets matched 1 winning number and one of your tickets matched 4 winning numbers, you would set `most_matches` to 4. If you happened to win the grand prize on one of your tickets, you would set `most_matches` to 6. \n",
    "\n",
    "***Hint:*** There are several ways to approach this; one way involves storing the number of matches per ticket in an array and finding the largest number in that array. "
   ]
  },
  {
   "cell_type": "code",
   "execution_count": 16,
   "metadata": {},
   "outputs": [
    {
     "data": {
      "text/plain": [
       "4.0"
      ]
     },
     "execution_count": 16,
     "metadata": {},
     "output_type": "execute_result"
    }
   ],
   "source": [
    "winning = np.array([26, 49, 64, 5, 12, 7])\n",
    "\n",
    "num_repetitions = 100000\n",
    "count_matches_array = np.array([])\n",
    "for i in np.arange(num_repetitions):\n",
    "    simulated_ticket = simulate_one_ticket()\n",
    "    count_matches = len(winning - simulated_ticket) - np.count_nonzero(winning - simulated_ticket)\n",
    "    count_matches_array = np.append(count_matches_array, count_matches)\n",
    "    \n",
    "most_matches = max(count_matches_array)\n",
    "most_matches"
   ]
  },
  {
   "cell_type": "code",
   "execution_count": 17,
   "metadata": {
    "deletable": false,
    "editable": false
   },
   "outputs": [
    {
     "data": {
      "text/html": [
       "<p><strong><pre style='display: inline;'>q1_4</pre></strong> passed!</p>"
      ],
      "text/plain": [
       "q1_4 results: All test cases passed!"
      ]
     },
     "execution_count": 17,
     "metadata": {},
     "output_type": "execute_result"
    }
   ],
   "source": [
    "grader.check(\"q1_4\")"
   ]
  },
  {
   "cell_type": "markdown",
   "metadata": {},
   "source": [
    "**Question 1.5.** Suppose one Spirit Night Lotto ticket costs $5.\n",
    "\n",
    "The Spirit Night Lotto advertisement on Instagram promises you will never lose money because of the following generous prizes:\n",
    "\n",
    "- Win $15 with a 1-number match\n",
    "\n",
    "- Win $50 with a 2-number match\n",
    "\n",
    "- Win $100 with a 3-number match\n",
    "\n",
    "- Win $1,000 with a 4-number match\n",
    "\n",
    "- Win $5,000 with a 5-number match\n",
    "\n",
    "- Win $25,000 with a 6-number match (free housing!)\n",
    "\n",
    "If you had the money to buy 100,000 tickets, what would be your net winnings from buying these tickets? Since this is net winnings, this should account for the prizes you win and the cost of buying the tickets. Assign the amount to `net_winnings`. Note that a positive value means you won money overall, and a negative value means you lost money overall. Do you believe the advertisement's claims?\n",
    "\n",
    "The winning numbers are the same from the previous part: **(26, 49, 64, 5, 12, 7)**.\n",
    "\n",
    "***Hint:*** Again, there are a few ways you could approach this problem. One way involves generating another 100,000 random tickets and counting the amount earned per ticket, adding to a running total. Alternatively, if you created an array of the number of matches per ticket in Question 1.4, you could loop through that array. For practice, you can try solving this problem multiple ways!"
   ]
  },
  {
   "cell_type": "code",
   "execution_count": 18,
   "metadata": {},
   "outputs": [
    {
     "name": "stdout",
     "output_type": "stream",
     "text": [
      "1\n"
     ]
    }
   ],
   "source": [
    "my_array = [1, 2, 3, 4, 1, 1, 5] \n",
    "count_of_ones = my_array.count(5) \n",
    "print(count_of_ones)"
   ]
  },
  {
   "cell_type": "code",
   "execution_count": 19,
   "metadata": {},
   "outputs": [
    {
     "data": {
      "text/plain": [
       "-271595"
      ]
     },
     "execution_count": 19,
     "metadata": {},
     "output_type": "execute_result"
    }
   ],
   "source": [
    "winning = np.array([26, 49, 64, 5, 12, 7])\n",
    "\n",
    "num_repetitions = 100000\n",
    "count_matches_array = np.array([])\n",
    "for i in np.arange(num_repetitions):\n",
    "    simulated_ticket = simulate_one_ticket()\n",
    "    count_matches = len(winning - simulated_ticket) - np.count_nonzero(winning - simulated_ticket)\n",
    "    count_matches_array = np.append(count_matches_array, count_matches)\n",
    "    count_matches_list = count_matches_array.tolist()\n",
    "#print(count_matches_array)\n",
    "# print(count_matches_array.tolist().count(0))\n",
    "\n",
    "net_winnings = (count_matches_list.count(0)*(-5) +\n",
    "                count_matches_list.count(1)*(10) +\n",
    "                count_matches_list.count(2)*(45) +\n",
    "                count_matches_list.count(3)*(95) +\n",
    "                count_matches_list.count(4)*(995) +\n",
    "                count_matches_list.count(5)*(4995) +\n",
    "                count_matches_list.count(6)*(24995)\n",
    "                )\n",
    "\n",
    "net_winnings"
   ]
  },
  {
   "cell_type": "code",
   "execution_count": 20,
   "metadata": {
    "deletable": false,
    "editable": false
   },
   "outputs": [
    {
     "data": {
      "text/html": [
       "<p><strong><pre style='display: inline;'>q1_5</pre></strong> passed!</p>"
      ],
      "text/plain": [
       "q1_5 results: All test cases passed!"
      ]
     },
     "execution_count": 20,
     "metadata": {},
     "output_type": "execute_result"
    }
   ],
   "source": [
    "grader.check(\"q1_5\")"
   ]
  },
  {
   "cell_type": "markdown",
   "metadata": {},
   "source": [
    "Nope, I do not believe them, as even the chances of getting a 1 are very slim ;("
   ]
  },
  {
   "cell_type": "markdown",
   "metadata": {},
   "source": [
    "## 2. Sampling with NBA Data 🏀\n",
    "\n",
    "In this question, we will use a [dataset](https://www.kaggle.com/datasets/jamiewelsh2/nba-player-salaries-2022-23-season?resource=download) consisting of information about NBA player salaries and per game statistics for the 2022-23 season. We'll use this data to get some practice with sampling. Run the cell below to load the data into a DataFrame."
   ]
  },
  {
   "cell_type": "code",
   "execution_count": 21,
   "metadata": {},
   "outputs": [
    {
     "data": {
      "text/html": [
       "<div>\n",
       "<style scoped>\n",
       "    .dataframe tbody tr th:only-of-type {\n",
       "        vertical-align: middle;\n",
       "    }\n",
       "\n",
       "    .dataframe tbody tr th {\n",
       "        vertical-align: top;\n",
       "    }\n",
       "\n",
       "    .dataframe thead th {\n",
       "        text-align: right;\n",
       "    }\n",
       "</style>\n",
       "<table border=\"1\" class=\"dataframe\">\n",
       "  <thead>\n",
       "    <tr style=\"text-align: right;\">\n",
       "      <th></th>\n",
       "      <th>Name</th>\n",
       "      <th>Salary</th>\n",
       "      <th>Age</th>\n",
       "      <th>Team</th>\n",
       "      <th>Games</th>\n",
       "      <th>Rebounds</th>\n",
       "      <th>Assists</th>\n",
       "      <th>Steals</th>\n",
       "      <th>Blocks</th>\n",
       "      <th>Turnovers</th>\n",
       "      <th>Points</th>\n",
       "    </tr>\n",
       "  </thead>\n",
       "  <tbody>\n",
       "    <tr>\n",
       "      <th>0</th>\n",
       "      <td>Stephen Curry</td>\n",
       "      <td>48070014</td>\n",
       "      <td>34</td>\n",
       "      <td>GSW</td>\n",
       "      <td>56</td>\n",
       "      <td>6.1</td>\n",
       "      <td>6.3</td>\n",
       "      <td>0.9</td>\n",
       "      <td>0.4</td>\n",
       "      <td>3.2</td>\n",
       "      <td>29.4</td>\n",
       "    </tr>\n",
       "    <tr>\n",
       "      <th>1</th>\n",
       "      <td>John Wall</td>\n",
       "      <td>47345760</td>\n",
       "      <td>32</td>\n",
       "      <td>LAC</td>\n",
       "      <td>34</td>\n",
       "      <td>2.7</td>\n",
       "      <td>5.2</td>\n",
       "      <td>0.8</td>\n",
       "      <td>0.4</td>\n",
       "      <td>2.4</td>\n",
       "      <td>11.4</td>\n",
       "    </tr>\n",
       "    <tr>\n",
       "      <th>2</th>\n",
       "      <td>Russell Westbrook</td>\n",
       "      <td>47080179</td>\n",
       "      <td>34</td>\n",
       "      <td>LAL/LAC</td>\n",
       "      <td>73</td>\n",
       "      <td>5.8</td>\n",
       "      <td>7.5</td>\n",
       "      <td>1.0</td>\n",
       "      <td>0.5</td>\n",
       "      <td>3.5</td>\n",
       "      <td>15.9</td>\n",
       "    </tr>\n",
       "    <tr>\n",
       "      <th>3</th>\n",
       "      <td>LeBron James</td>\n",
       "      <td>44474988</td>\n",
       "      <td>38</td>\n",
       "      <td>LAL</td>\n",
       "      <td>55</td>\n",
       "      <td>8.3</td>\n",
       "      <td>6.8</td>\n",
       "      <td>0.9</td>\n",
       "      <td>0.6</td>\n",
       "      <td>3.2</td>\n",
       "      <td>28.9</td>\n",
       "    </tr>\n",
       "    <tr>\n",
       "      <th>4</th>\n",
       "      <td>Kevin Durant</td>\n",
       "      <td>44119845</td>\n",
       "      <td>34</td>\n",
       "      <td>BRK/PHO</td>\n",
       "      <td>47</td>\n",
       "      <td>6.7</td>\n",
       "      <td>5.0</td>\n",
       "      <td>0.7</td>\n",
       "      <td>1.4</td>\n",
       "      <td>3.3</td>\n",
       "      <td>29.1</td>\n",
       "    </tr>\n",
       "    <tr>\n",
       "      <th>...</th>\n",
       "      <td>...</td>\n",
       "      <td>...</td>\n",
       "      <td>...</td>\n",
       "      <td>...</td>\n",
       "      <td>...</td>\n",
       "      <td>...</td>\n",
       "      <td>...</td>\n",
       "      <td>...</td>\n",
       "      <td>...</td>\n",
       "      <td>...</td>\n",
       "      <td>...</td>\n",
       "    </tr>\n",
       "    <tr>\n",
       "      <th>462</th>\n",
       "      <td>Justin Minaya</td>\n",
       "      <td>35096</td>\n",
       "      <td>23</td>\n",
       "      <td>POR</td>\n",
       "      <td>4</td>\n",
       "      <td>3.8</td>\n",
       "      <td>1.0</td>\n",
       "      <td>0.5</td>\n",
       "      <td>1.3</td>\n",
       "      <td>1.0</td>\n",
       "      <td>4.3</td>\n",
       "    </tr>\n",
       "    <tr>\n",
       "      <th>463</th>\n",
       "      <td>Kobi Simmons</td>\n",
       "      <td>32795</td>\n",
       "      <td>25</td>\n",
       "      <td>CHO</td>\n",
       "      <td>5</td>\n",
       "      <td>0.8</td>\n",
       "      <td>1.0</td>\n",
       "      <td>0.0</td>\n",
       "      <td>0.4</td>\n",
       "      <td>0.2</td>\n",
       "      <td>1.0</td>\n",
       "    </tr>\n",
       "    <tr>\n",
       "      <th>464</th>\n",
       "      <td>Gabe York</td>\n",
       "      <td>32171</td>\n",
       "      <td>29</td>\n",
       "      <td>IND</td>\n",
       "      <td>3</td>\n",
       "      <td>2.0</td>\n",
       "      <td>1.7</td>\n",
       "      <td>0.7</td>\n",
       "      <td>0.0</td>\n",
       "      <td>0.0</td>\n",
       "      <td>8.0</td>\n",
       "    </tr>\n",
       "    <tr>\n",
       "      <th>465</th>\n",
       "      <td>RaiQuan Gray</td>\n",
       "      <td>5849</td>\n",
       "      <td>23</td>\n",
       "      <td>BRK</td>\n",
       "      <td>1</td>\n",
       "      <td>9.0</td>\n",
       "      <td>7.0</td>\n",
       "      <td>0.0</td>\n",
       "      <td>1.0</td>\n",
       "      <td>4.0</td>\n",
       "      <td>16.0</td>\n",
       "    </tr>\n",
       "    <tr>\n",
       "      <th>466</th>\n",
       "      <td>Jacob Gilyard</td>\n",
       "      <td>5849</td>\n",
       "      <td>24</td>\n",
       "      <td>MEM</td>\n",
       "      <td>1</td>\n",
       "      <td>4.0</td>\n",
       "      <td>7.0</td>\n",
       "      <td>3.0</td>\n",
       "      <td>0.0</td>\n",
       "      <td>2.0</td>\n",
       "      <td>3.0</td>\n",
       "    </tr>\n",
       "  </tbody>\n",
       "</table>\n",
       "<p>467 rows × 11 columns</p>\n",
       "</div>"
      ],
      "text/plain": [
       "                  Name    Salary  Age     Team  Games  Rebounds  Assists  \\\n",
       "0        Stephen Curry  48070014   34      GSW     56       6.1      6.3   \n",
       "1            John Wall  47345760   32      LAC     34       2.7      5.2   \n",
       "2    Russell Westbrook  47080179   34  LAL/LAC     73       5.8      7.5   \n",
       "3         LeBron James  44474988   38      LAL     55       8.3      6.8   \n",
       "4         Kevin Durant  44119845   34  BRK/PHO     47       6.7      5.0   \n",
       "..                 ...       ...  ...      ...    ...       ...      ...   \n",
       "462      Justin Minaya     35096   23      POR      4       3.8      1.0   \n",
       "463       Kobi Simmons     32795   25      CHO      5       0.8      1.0   \n",
       "464          Gabe York     32171   29      IND      3       2.0      1.7   \n",
       "465       RaiQuan Gray      5849   23      BRK      1       9.0      7.0   \n",
       "466      Jacob Gilyard      5849   24      MEM      1       4.0      7.0   \n",
       "\n",
       "     Steals  Blocks  Turnovers  Points  \n",
       "0       0.9     0.4        3.2    29.4  \n",
       "1       0.8     0.4        2.4    11.4  \n",
       "2       1.0     0.5        3.5    15.9  \n",
       "3       0.9     0.6        3.2    28.9  \n",
       "4       0.7     1.4        3.3    29.1  \n",
       "..      ...     ...        ...     ...  \n",
       "462     0.5     1.3        1.0     4.3  \n",
       "463     0.0     0.4        0.2     1.0  \n",
       "464     0.7     0.0        0.0     8.0  \n",
       "465     0.0     1.0        4.0    16.0  \n",
       "466     3.0     0.0        2.0     3.0  \n",
       "\n",
       "[467 rows x 11 columns]"
      ]
     },
     "execution_count": 21,
     "metadata": {},
     "output_type": "execute_result"
    }
   ],
   "source": [
    "# Just run this cell, do not change it!\n",
    "nba_data = bpd.read_csv('data/nba_players.csv')\n",
    "nba_data"
   ]
  },
  {
   "cell_type": "markdown",
   "metadata": {},
   "source": [
    "We've provided a function called `compute_statistics` that takes as input a DataFrame with two columns, `'Points'` and `'Salary'`, and then:\n",
    "- draws a histogram of `'Points'`,\n",
    "- draws a histogram of `'Salary'`, and\n",
    "- returns a two-element array containing the mean `'Points'` and mean `'Salary'`.\n",
    "\n",
    "Run the cell below to define the `compute_statistics` function, and a helper function called `histograms`. Don't worry about how this code works, and please don't change anything."
   ]
  },
  {
   "cell_type": "code",
   "execution_count": 22,
   "metadata": {},
   "outputs": [],
   "source": [
    "# Don't change this cell, just run it.\n",
    "def histograms(df):\n",
    "    points = df.get('Points').values\n",
    "    salaries = df.get('Salary').values\n",
    "    \n",
    "    plt.subplots(1, 2, figsize=(15, 4), dpi=100)\n",
    "\n",
    "    plt.subplot(1, 2, 1)\n",
    "    plt.hist(points, density=True, alpha=0.5, color='blue', ec='w', bins=np.arange(0, 35, 1))\n",
    "    plt.title('Distribution of Points')\n",
    "\n",
    "    plt.subplot(1, 2, 2)\n",
    "    plt.hist(salaries, density=True, alpha=0.5, color='blue', ec='w', bins=np.arange(0, 50000000, 1000000))\n",
    "    plt.title('Distribution of Salaries')\n",
    "    \n",
    "def compute_statistics(points_and_salaries_data, draw=True):\n",
    "    if draw:\n",
    "        histograms(points_and_salaries_data)\n",
    "    avg_points = points_and_salaries_data.get('Points').mean()\n",
    "    avg_salary = points_and_salaries_data.get('Salary').mean()\n",
    "    avg_array = np.array([avg_points, avg_salary]) \n",
    "    return avg_array"
   ]
  },
  {
   "cell_type": "markdown",
   "metadata": {},
   "source": [
    "We can use this `compute_statistics` function to show the distribution of `'Points'` and `'Salary'` and compute their means, for any collection of players. \n",
    "\n",
    "Run the next cell to show these distributions and compute the means for all NBA players. Notice that an array containing the mean `'Points'` and mean `'Salary'` values is displayed before the histograms."
   ]
  },
  {
   "cell_type": "code",
   "execution_count": 23,
   "metadata": {},
   "outputs": [
    {
     "data": {
      "text/plain": [
       "array([9.12997859e+00, 8.41659875e+06])"
      ]
     },
     "execution_count": 23,
     "metadata": {},
     "output_type": "execute_result"
    },
    {
     "data": {
      "image/png": "[encoded data removed]",
      "text/plain": [
       "<Figure size 1500x400 with 2 Axes>"
      ]
     },
     "metadata": {},
     "output_type": "display_data"
    }
   ],
   "source": [
    "nba_stats = compute_statistics(nba_data)\n",
    "nba_stats"
   ]
  },
  {
   "cell_type": "markdown",
   "metadata": {},
   "source": [
    "Now, imagine that instead of having access to the full *population* of NBA players, we only have access to data on a smaller subset of players, or a *sample*.  For 467 players, it's not so unreasonable to expect to see all the data, but usually we aren't so lucky.  Instead, we often make *statistical inferences* about a large underlying population using a smaller sample.\n",
    "\n",
    "**Statistical inference** is the process of using data in a sample to _infer_ some characteristic about the population from which the sample was drawn. A common strategy for statistical inference is to estimate a parameter of the population by computing a corresponding statistic on a sample. This strategy sometimes works well and sometimes doesn't.  The degree to which it gives us useful answers depends on several factors.\n",
    "\n",
    "One very important factor in the utility of samples is how they were gathered. Let's look at some different sampling strategies."
   ]
  },
  {
   "cell_type": "markdown",
   "metadata": {},
   "source": [
    "### Convenience sampling\n",
    "One sampling methodology, which is **generally a bad idea**, is to choose players which are somehow convenient to sample.  For example, you might choose players from a team that's near your house, since it's easier to collect information about them.  This is called *convenience sampling*.\n",
    "\n",
    "**Question 2.1.**  Suppose you live in New Jersey and you decide to manually look up information from the three closest teams:\n",
    "- New York Knicks (`'NYK'`)\n",
    "- Brooklyn Nets (`'BRK'`)\n",
    "- Philadelphia 76ers (`'PHI'`)\n",
    "\n",
    "Assign `convenience_sample` to a subset of `nba_data` that contains only the rows for players that are in one of these three teams."
   ]
  },
  {
   "cell_type": "code",
   "execution_count": 24,
   "metadata": {},
   "outputs": [
    {
     "data": {
      "text/html": [
       "<div>\n",
       "<style scoped>\n",
       "    .dataframe tbody tr th:only-of-type {\n",
       "        vertical-align: middle;\n",
       "    }\n",
       "\n",
       "    .dataframe tbody tr th {\n",
       "        vertical-align: top;\n",
       "    }\n",
       "\n",
       "    .dataframe thead th {\n",
       "        text-align: right;\n",
       "    }\n",
       "</style>\n",
       "<table border=\"1\" class=\"dataframe\">\n",
       "  <thead>\n",
       "    <tr style=\"text-align: right;\">\n",
       "      <th></th>\n",
       "      <th>Name</th>\n",
       "      <th>Salary</th>\n",
       "      <th>Age</th>\n",
       "      <th>Team</th>\n",
       "      <th>Games</th>\n",
       "      <th>Rebounds</th>\n",
       "      <th>Assists</th>\n",
       "      <th>Steals</th>\n",
       "      <th>Blocks</th>\n",
       "      <th>Turnovers</th>\n",
       "      <th>Points</th>\n",
       "    </tr>\n",
       "  </thead>\n",
       "  <tbody>\n",
       "    <tr>\n",
       "      <th>16</th>\n",
       "      <td>Tobias Harris</td>\n",
       "      <td>37633050</td>\n",
       "      <td>30</td>\n",
       "      <td>PHI</td>\n",
       "      <td>74</td>\n",
       "      <td>5.7</td>\n",
       "      <td>2.5</td>\n",
       "      <td>0.9</td>\n",
       "      <td>0.5</td>\n",
       "      <td>1.2</td>\n",
       "      <td>14.7</td>\n",
       "    </tr>\n",
       "    <tr>\n",
       "      <th>20</th>\n",
       "      <td>Ben Simmons</td>\n",
       "      <td>35448672</td>\n",
       "      <td>26</td>\n",
       "      <td>BRK</td>\n",
       "      <td>42</td>\n",
       "      <td>6.3</td>\n",
       "      <td>6.1</td>\n",
       "      <td>1.3</td>\n",
       "      <td>0.6</td>\n",
       "      <td>2.3</td>\n",
       "      <td>6.9</td>\n",
       "    </tr>\n",
       "    <tr>\n",
       "      <th>27</th>\n",
       "      <td>Joel Embiid</td>\n",
       "      <td>33616770</td>\n",
       "      <td>28</td>\n",
       "      <td>PHI</td>\n",
       "      <td>66</td>\n",
       "      <td>10.2</td>\n",
       "      <td>4.2</td>\n",
       "      <td>1.0</td>\n",
       "      <td>1.7</td>\n",
       "      <td>3.4</td>\n",
       "      <td>33.1</td>\n",
       "    </tr>\n",
       "    <tr>\n",
       "      <th>29</th>\n",
       "      <td>James Harden</td>\n",
       "      <td>33000000</td>\n",
       "      <td>33</td>\n",
       "      <td>PHI</td>\n",
       "      <td>58</td>\n",
       "      <td>6.1</td>\n",
       "      <td>10.7</td>\n",
       "      <td>1.2</td>\n",
       "      <td>0.5</td>\n",
       "      <td>3.4</td>\n",
       "      <td>21.0</td>\n",
       "    </tr>\n",
       "    <tr>\n",
       "      <th>44</th>\n",
       "      <td>Jalen Brunson</td>\n",
       "      <td>27733332</td>\n",
       "      <td>26</td>\n",
       "      <td>NYK</td>\n",
       "      <td>68</td>\n",
       "      <td>3.5</td>\n",
       "      <td>6.2</td>\n",
       "      <td>0.9</td>\n",
       "      <td>0.2</td>\n",
       "      <td>2.1</td>\n",
       "      <td>24.0</td>\n",
       "    </tr>\n",
       "    <tr>\n",
       "      <th>...</th>\n",
       "      <td>...</td>\n",
       "      <td>...</td>\n",
       "      <td>...</td>\n",
       "      <td>...</td>\n",
       "      <td>...</td>\n",
       "      <td>...</td>\n",
       "      <td>...</td>\n",
       "      <td>...</td>\n",
       "      <td>...</td>\n",
       "      <td>...</td>\n",
       "      <td>...</td>\n",
       "    </tr>\n",
       "    <tr>\n",
       "      <th>403</th>\n",
       "      <td>Trevor Keels</td>\n",
       "      <td>520589</td>\n",
       "      <td>19</td>\n",
       "      <td>NYK</td>\n",
       "      <td>3</td>\n",
       "      <td>0.7</td>\n",
       "      <td>0.0</td>\n",
       "      <td>0.0</td>\n",
       "      <td>0.0</td>\n",
       "      <td>0.0</td>\n",
       "      <td>1.0</td>\n",
       "    </tr>\n",
       "    <tr>\n",
       "      <th>433</th>\n",
       "      <td>Louis King</td>\n",
       "      <td>307089</td>\n",
       "      <td>23</td>\n",
       "      <td>PHI</td>\n",
       "      <td>1</td>\n",
       "      <td>4.0</td>\n",
       "      <td>2.0</td>\n",
       "      <td>1.0</td>\n",
       "      <td>0.0</td>\n",
       "      <td>2.0</td>\n",
       "      <td>20.0</td>\n",
       "    </tr>\n",
       "    <tr>\n",
       "      <th>436</th>\n",
       "      <td>Alondes Williams</td>\n",
       "      <td>254446</td>\n",
       "      <td>23</td>\n",
       "      <td>BRK</td>\n",
       "      <td>1</td>\n",
       "      <td>1.0</td>\n",
       "      <td>0.0</td>\n",
       "      <td>0.0</td>\n",
       "      <td>0.0</td>\n",
       "      <td>2.0</td>\n",
       "      <td>0.0</td>\n",
       "    </tr>\n",
       "    <tr>\n",
       "      <th>445</th>\n",
       "      <td>Mac McClung</td>\n",
       "      <td>160856</td>\n",
       "      <td>24</td>\n",
       "      <td>PHI</td>\n",
       "      <td>2</td>\n",
       "      <td>5.0</td>\n",
       "      <td>4.5</td>\n",
       "      <td>0.0</td>\n",
       "      <td>0.0</td>\n",
       "      <td>1.5</td>\n",
       "      <td>12.5</td>\n",
       "    </tr>\n",
       "    <tr>\n",
       "      <th>465</th>\n",
       "      <td>RaiQuan Gray</td>\n",
       "      <td>5849</td>\n",
       "      <td>23</td>\n",
       "      <td>BRK</td>\n",
       "      <td>1</td>\n",
       "      <td>9.0</td>\n",
       "      <td>7.0</td>\n",
       "      <td>0.0</td>\n",
       "      <td>1.0</td>\n",
       "      <td>4.0</td>\n",
       "      <td>16.0</td>\n",
       "    </tr>\n",
       "  </tbody>\n",
       "</table>\n",
       "<p>36 rows × 11 columns</p>\n",
       "</div>"
      ],
      "text/plain": [
       "                 Name    Salary  Age Team  Games  Rebounds  Assists  Steals  \\\n",
       "16      Tobias Harris  37633050   30  PHI     74       5.7      2.5     0.9   \n",
       "20        Ben Simmons  35448672   26  BRK     42       6.3      6.1     1.3   \n",
       "27        Joel Embiid  33616770   28  PHI     66      10.2      4.2     1.0   \n",
       "29       James Harden  33000000   33  PHI     58       6.1     10.7     1.2   \n",
       "44      Jalen Brunson  27733332   26  NYK     68       3.5      6.2     0.9   \n",
       "..                ...       ...  ...  ...    ...       ...      ...     ...   \n",
       "403      Trevor Keels    520589   19  NYK      3       0.7      0.0     0.0   \n",
       "433        Louis King    307089   23  PHI      1       4.0      2.0     1.0   \n",
       "436  Alondes Williams    254446   23  BRK      1       1.0      0.0     0.0   \n",
       "445       Mac McClung    160856   24  PHI      2       5.0      4.5     0.0   \n",
       "465      RaiQuan Gray      5849   23  BRK      1       9.0      7.0     0.0   \n",
       "\n",
       "     Blocks  Turnovers  Points  \n",
       "16      0.5        1.2    14.7  \n",
       "20      0.6        2.3     6.9  \n",
       "27      1.7        3.4    33.1  \n",
       "29      0.5        3.4    21.0  \n",
       "44      0.2        2.1    24.0  \n",
       "..      ...        ...     ...  \n",
       "403     0.0        0.0     1.0  \n",
       "433     0.0        2.0    20.0  \n",
       "436     0.0        2.0     0.0  \n",
       "445     0.0        1.5    12.5  \n",
       "465     1.0        4.0    16.0  \n",
       "\n",
       "[36 rows x 11 columns]"
      ]
     },
     "execution_count": 24,
     "metadata": {},
     "output_type": "execute_result"
    }
   ],
   "source": [
    "convenience_sample = nba_data[(nba_data.get('Team')=='NYK') | (nba_data.get('Team')=='BRK') | (nba_data.get('Team')=='PHI')]\n",
    "convenience_sample"
   ]
  },
  {
   "cell_type": "code",
   "execution_count": 25,
   "metadata": {
    "deletable": false,
    "editable": false
   },
   "outputs": [
    {
     "data": {
      "text/html": [
       "<p><strong><pre style='display: inline;'>q2_1</pre></strong> passed!</p>"
      ],
      "text/plain": [
       "q2_1 results: All test cases passed!"
      ]
     },
     "execution_count": 25,
     "metadata": {},
     "output_type": "execute_result"
    }
   ],
   "source": [
    "grader.check(\"q2_1\")"
   ]
  },
  {
   "cell_type": "markdown",
   "metadata": {},
   "source": [
    "**Question 2.2.** Assign `convenience_stats` to an array of the mean `'Points'` and mean `'Salary'` of your convenience sample.  Since they're computed on a sample, these are called *sample means*. \n",
    "\n",
    "***Hint:*** Use the function `compute_statistics`; it's okay if histograms are displayed as well."
   ]
  },
  {
   "cell_type": "code",
   "execution_count": 26,
   "metadata": {},
   "outputs": [
    {
     "data": {
      "text/plain": [
       "array([1.04250000e+01, 9.64560108e+06])"
      ]
     },
     "execution_count": 26,
     "metadata": {},
     "output_type": "execute_result"
    },
    {
     "data": {
      "image/png": "[encoded data removed]",
      "text/plain": [
       "<Figure size 1500x400 with 2 Axes>"
      ]
     },
     "metadata": {},
     "output_type": "display_data"
    }
   ],
   "source": [
    "convenience_stats = compute_statistics(convenience_sample)\n",
    "convenience_stats"
   ]
  },
  {
   "cell_type": "code",
   "execution_count": 27,
   "metadata": {
    "deletable": false,
    "editable": false
   },
   "outputs": [
    {
     "data": {
      "text/html": [
       "<p><strong><pre style='display: inline;'>q2_2</pre></strong> passed!</p>"
      ],
      "text/plain": [
       "q2_2 results: All test cases passed!"
      ]
     },
     "execution_count": 27,
     "metadata": {},
     "output_type": "execute_result"
    }
   ],
   "source": [
    "grader.check(\"q2_2\")"
   ]
  },
  {
   "cell_type": "markdown",
   "metadata": {},
   "source": [
    "Next, we'll compare the distribution of `'Points'` in our convenience sample to the distribution of `'Points'` for all the players in our dataset."
   ]
  },
  {
   "cell_type": "code",
   "execution_count": 28,
   "metadata": {},
   "outputs": [
    {
     "data": {
      "image/png": "[encoded data removed]",
      "text/plain": [
       "<Figure size 1275x340 with 2 Axes>"
      ]
     },
     "metadata": {},
     "output_type": "display_data"
    }
   ],
   "source": [
    "# Just run this cell, do not change it!\n",
    "def compare_points(first, second, first_title, second_title):\n",
    "    \"\"\"Compare the points in two DataFrames.\"\"\"\n",
    "    bins = np.arange(0, 35, 1)\n",
    "    \n",
    "    plt.subplots(1, 2, figsize=(15, 4), dpi=85)\n",
    "\n",
    "    plt.subplot(1, 2, 1)\n",
    "    plt.hist(first.get('Points'), bins=bins, density=True, ec='w', color='blue', alpha=0.5)\n",
    "    plt.title(f'Points ({first_title})')\n",
    "    \n",
    "    plt.subplot(1, 2, 2)\n",
    "    plt.hist(second.get('Points'), bins=bins, density=True, ec='w', color='blue', alpha=0.5)\n",
    "    plt.title(f'Points ({second_title})')\n",
    "\n",
    "compare_points(nba_data, convenience_sample, 'All Players', 'Convenience Sample')"
   ]
  },
  {
   "cell_type": "markdown",
   "metadata": {},
   "source": [
    "**Question 2.3.** From what you see in the histograms above, did the convenience sample give us an accurate picture of the points for the full population of NBA players?  Why or why not?\n",
    "\n",
    "Assign either 1, 2, 3, or 4 to the variable `sampling_q3` below. \n",
    "1. Yes. The sample is large enough, so it is an accurate representation of the population.\n",
    "1. No. Convenience samples generally don't give us an accurate representation of the population.\n",
    "1. No. Normally convenience samples give us an accurate representation of the population, but we just got unlucky.\n",
    "1. No. Normally convenience samples give us an accurate representation of the population, but only if the sample size is large enough. Our convenience sample here was too small."
   ]
  },
  {
   "cell_type": "code",
   "execution_count": 29,
   "metadata": {},
   "outputs": [],
   "source": [
    "sampling_q3 = 4"
   ]
  },
  {
   "cell_type": "code",
   "execution_count": 30,
   "metadata": {
    "deletable": false,
    "editable": false
   },
   "outputs": [
    {
     "data": {
      "text/html": [
       "<p><strong><pre style='display: inline;'>q2_3</pre></strong> passed!</p>"
      ],
      "text/plain": [
       "q2_3 results: All test cases passed!"
      ]
     },
     "execution_count": 30,
     "metadata": {},
     "output_type": "execute_result"
    }
   ],
   "source": [
    "grader.check(\"q2_3\")"
   ]
  },
  {
   "cell_type": "markdown",
   "metadata": {},
   "source": [
    "### Simple random sampling\n",
    "A more principled approach is to sample uniformly at random from the players.  If we ensure that each player is selected at most once, this is a **random sample without replacement**, sometimes called a \"**simple random sample**\" or \"**SRS**\".  Imagine writing down each player's name on a card, putting the cards in a hat, and shuffling the hat.  To sample, pull out cards one by one and set them aside, stopping when the specified *sample size* is reached.\n",
    "\n",
    "We've produced two simple random samples of `nba_data`: the variable `small_srs_data` contains a SRS of size 70, and the variable `large_srs_data` contains a SRS of size 180."
   ]
  },
  {
   "cell_type": "markdown",
   "metadata": {},
   "source": [
    "Now we'll run the same analyses on the small simple random sample, the large simple random sample, and the convenience sample. The subsequent code draws the histograms and computes the means for `'Points'` and `'Salary'`."
   ]
  },
  {
   "cell_type": "code",
   "execution_count": 31,
   "metadata": {},
   "outputs": [
    {
     "name": "stdout",
     "output_type": "stream",
     "text": [
      "Full data stats:                  [9.12997859e+00 8.41659875e+06]\n",
      "Small SRS stats:                  [1.00028571e+01 1.06680421e+07]\n",
      "Large SRS stats:                  [9.19333333e+00 8.34303573e+06]\n",
      "Convenience sample stats:         [1.04250000e+01 9.64560108e+06]\n"
     ]
    },
    {
     "data": {
      "image/png": "[encoded data removed]",
      "text/plain": [
       "<Figure size 1500x1500 with 6 Axes>"
      ]
     },
     "metadata": {},
     "output_type": "display_data"
    }
   ],
   "source": [
    "# Don't change this cell, but do run it.\n",
    "small_srs_data = bpd.read_csv('data/small_srs_salary.csv')\n",
    "large_srs_data = bpd.read_csv('data/large_srs_salary.csv')\n",
    "\n",
    "small_stats = compute_statistics(small_srs_data, draw=False);\n",
    "large_stats = compute_statistics(large_srs_data, draw=False);\n",
    "convenience_stats = compute_statistics(convenience_sample, draw=False);\n",
    "\n",
    "print('Full data stats:                 ', nba_stats)\n",
    "print('Small SRS stats:                 ', small_stats)\n",
    "print('Large SRS stats:                 ', large_stats)\n",
    "print('Convenience sample stats:        ', convenience_stats)\n",
    "\n",
    "color_dict = {\n",
    "    'small SRS': 'blue',\n",
    "    'large SRS': 'green',\n",
    "    'convenience sample': 'orange'\n",
    "}\n",
    "\n",
    "plt.subplots(3, 2, figsize=(15, 15), dpi=100)\n",
    "i = 1\n",
    "\n",
    "for df, name in zip([small_srs_data, large_srs_data, convenience_sample], color_dict.keys()):\n",
    "    plt.subplot(3, 2, i)\n",
    "    i += 2\n",
    "    plt.hist(df.get('Points'), density=True, alpha=0.5, color=color_dict[name], ec='w', \n",
    "             bins=np.arange(0, 35, 1))\n",
    "    plt.title(f'Points ({name})');\n",
    "\n",
    "i = 2\n",
    "for df, name in zip([small_srs_data, large_srs_data, convenience_sample], color_dict.keys()):\n",
    "    plt.subplot(3, 2, i)\n",
    "    i += 2\n",
    "    plt.hist(df.get('Salary'), density=True, alpha=0.5, color=color_dict[name], ec='w', \n",
    "             bins=np.arange(0, 50000000, 1000000))\n",
    "    plt.title(f'Salaries ({name})');"
   ]
  },
  {
   "cell_type": "markdown",
   "metadata": {},
   "source": [
    "### Producing simple random samples\n",
    "Often it's useful to take random samples even when we have a larger dataset available.  One reason is that doing so can help us understand how inaccurate other samples are.\n",
    "\n",
    "As we saw in [Lecture 13](https://dsc10.com/resources/lectures/lec13/lec13.html#Sampling-rows-from-a-DataFrame), DataFrames have a `.sample` method for producing simple random samples.  Note that its default is to sample **without** replacement, which aligns with how simple random samples are drawn."
   ]
  },
  {
   "cell_type": "markdown",
   "metadata": {},
   "source": [
    "**Question 2.4.** Produce a simple random sample of size 70 from `nba_data`. Store an array containing the mean `'Points'` and mean `'Salary'` of your SRS in `my_small_stats`. Again, it's fine if histograms are displayed."
   ]
  },
  {
   "cell_type": "code",
   "execution_count": 32,
   "metadata": {},
   "outputs": [
    {
     "data": {
      "text/plain": [
       "array([9.88714286e+00, 9.44268359e+06])"
      ]
     },
     "execution_count": 32,
     "metadata": {},
     "output_type": "execute_result"
    },
    {
     "data": {
      "image/png": "[encoded data removed]",
      "text/plain": [
       "<Figure size 1500x400 with 2 Axes>"
      ]
     },
     "metadata": {},
     "output_type": "display_data"
    }
   ],
   "source": [
    "my_small_sample = nba_data.sample(70, replace=False)\n",
    "my_small_stats = compute_statistics(my_small_sample)\n",
    "my_small_stats"
   ]
  },
  {
   "cell_type": "markdown",
   "metadata": {},
   "source": [
    "Run the cell above many times, to collect new samples and compute their sample means.\n",
    "\n",
    "<br>\n",
    "\n",
    "Now, recall, `small_stats` is an array containing the mean `'Points'` and mean `'Salary'` for the one small SRS that we provided you with:"
   ]
  },
  {
   "cell_type": "code",
   "execution_count": 33,
   "metadata": {},
   "outputs": [
    {
     "data": {
      "text/plain": [
       "array([1.00028571e+01, 1.06680421e+07])"
      ]
     },
     "execution_count": 33,
     "metadata": {},
     "output_type": "execute_result"
    }
   ],
   "source": [
    "small_stats"
   ]
  },
  {
   "cell_type": "markdown",
   "metadata": {},
   "source": [
    "Answer the following two-fold question:\n",
    "- Are the values in `my_small_stats` (the mean `'Points'` and `'Salary'` for **your** small SRS) similar to the values in `small_stats` (the mean `'Points'` and `'Salary'` for the small SRS **we provided you with**)? \n",
    "- Each time you collect a new sample – i.e. each time you re-run the cell where `my_small_stats` is defined – do the values in `my_small_stats` change a lot?\n",
    "\n",
    "Assign either 1, 2, 3, or 4 to the variable `sampling_q4` below.\n",
    "1. The values in `my_small_stats` are identical to the values in `small_stats`, and change a bit each time a new sample is collected.\n",
    "1. The values in `my_small_stats` are identical to the values in `small_stats`, and don't change at all each time a new sample is collected.\n",
    "1. The values in `my_small_stats` are slightly different from the values in `small_stats`, and change a bit each time a new sample is collected.\n",
    "1. The values in `my_small_stats` are very different from the values in `small_stats`, and don't change at all each time a new sample is collected."
   ]
  },
  {
   "cell_type": "code",
   "execution_count": 34,
   "metadata": {},
   "outputs": [],
   "source": [
    "sampling_q4 = 3"
   ]
  },
  {
   "cell_type": "code",
   "execution_count": 35,
   "metadata": {
    "deletable": false,
    "editable": false
   },
   "outputs": [
    {
     "data": {
      "text/html": [
       "<p><strong><pre style='display: inline;'>q2_4</pre></strong> passed!</p>"
      ],
      "text/plain": [
       "q2_4 results: All test cases passed!"
      ]
     },
     "execution_count": 35,
     "metadata": {},
     "output_type": "execute_result"
    }
   ],
   "source": [
    "grader.check(\"q2_4\")"
   ]
  },
  {
   "cell_type": "markdown",
   "metadata": {},
   "source": [
    "**Question 2.5.** Similarly, create a simple random sample of size 180 from `nba_data` and store an array of the sample's mean `'Points'` and mean `'Salary'` in `my_large_stats`."
   ]
  },
  {
   "cell_type": "code",
   "execution_count": 36,
   "metadata": {},
   "outputs": [
    {
     "data": {
      "text/plain": [
       "array([9.32722222e+00, 8.65569281e+06])"
      ]
     },
     "execution_count": 36,
     "metadata": {},
     "output_type": "execute_result"
    },
    {
     "data": {
      "image/png": "[encoded data removed]",
      "text/plain": [
       "<Figure size 1500x400 with 2 Axes>"
      ]
     },
     "metadata": {},
     "output_type": "display_data"
    }
   ],
   "source": [
    "my_large_sample = nba_data.sample(180, replace=False)\n",
    "my_large_stats = compute_statistics(my_large_sample)\n",
    "my_large_stats"
   ]
  },
  {
   "cell_type": "markdown",
   "metadata": {},
   "source": [
    "Run the cell in which `my_large_stats` is defined many times. Do the histograms and  mean statistics (mean `'Points'` and mean `'Salary'`) seem to change more or less across samples of size 180 than across samples of size 70?\n",
    "\n",
    "Assign either 1, 2, or 3 to the variable `sampling_q5` below. \n",
    "\n",
    "1. The statistics change *less* across samples of size 180 than across samples of size 70.\n",
    "1. The statistics change an *equal amount* across samples of size 180 and across samples of size 70.\n",
    "1. The statistics change *more* across samples of size 180 than across samples of size 70."
   ]
  },
  {
   "cell_type": "code",
   "execution_count": 37,
   "metadata": {},
   "outputs": [],
   "source": [
    "sampling_q5 = 1"
   ]
  },
  {
   "cell_type": "code",
   "execution_count": 38,
   "metadata": {
    "deletable": false,
    "editable": false
   },
   "outputs": [
    {
     "data": {
      "text/html": [
       "<p><strong><pre style='display: inline;'>q2_5</pre></strong> passed!</p>"
      ],
      "text/plain": [
       "q2_5 results: All test cases passed!"
      ]
     },
     "execution_count": 38,
     "metadata": {},
     "output_type": "execute_result"
    }
   ],
   "source": [
    "grader.check(\"q2_5\")"
   ]
  },
  {
   "cell_type": "markdown",
   "metadata": {},
   "source": [
    "## 3. Milk Tea, Yippee! 🥛🍵"
   ]
  },
  {
   "cell_type": "markdown",
   "metadata": {},
   "source": [
    "You are planning to open a milk tea shop in La Jolla! To get a sense of the local residents' milk tea preferences, you survey 200 randomly selected La Jolla residents and ask which type of tea they prefer the most among six options – `'jasmine'`, `'oolong'`, `'black'`, `'golden'`, `'matcha'`, `'Thai'`. \n",
    "\n",
    "<center><img src=\"images/tea.png\" width=70%></center>\n",
    "\n",
    "Run the next cell to load in the results of the survey."
   ]
  },
  {
   "cell_type": "code",
   "execution_count": 39,
   "metadata": {},
   "outputs": [
    {
     "data": {
      "text/html": [
       "<div>\n",
       "<style scoped>\n",
       "    .dataframe tbody tr th:only-of-type {\n",
       "        vertical-align: middle;\n",
       "    }\n",
       "\n",
       "    .dataframe tbody tr th {\n",
       "        vertical-align: top;\n",
       "    }\n",
       "\n",
       "    .dataframe thead th {\n",
       "        text-align: right;\n",
       "    }\n",
       "</style>\n",
       "<table border=\"1\" class=\"dataframe\">\n",
       "  <thead>\n",
       "    <tr style=\"text-align: right;\">\n",
       "      <th></th>\n",
       "      <th>tea</th>\n",
       "    </tr>\n",
       "  </thead>\n",
       "  <tbody>\n",
       "    <tr>\n",
       "      <th>0</th>\n",
       "      <td>jasmine</td>\n",
       "    </tr>\n",
       "    <tr>\n",
       "      <th>1</th>\n",
       "      <td>golden</td>\n",
       "    </tr>\n",
       "    <tr>\n",
       "      <th>2</th>\n",
       "      <td>black</td>\n",
       "    </tr>\n",
       "    <tr>\n",
       "      <th>3</th>\n",
       "      <td>matcha</td>\n",
       "    </tr>\n",
       "    <tr>\n",
       "      <th>4</th>\n",
       "      <td>matcha</td>\n",
       "    </tr>\n",
       "    <tr>\n",
       "      <th>...</th>\n",
       "      <td>...</td>\n",
       "    </tr>\n",
       "    <tr>\n",
       "      <th>195</th>\n",
       "      <td>black</td>\n",
       "    </tr>\n",
       "    <tr>\n",
       "      <th>196</th>\n",
       "      <td>matcha</td>\n",
       "    </tr>\n",
       "    <tr>\n",
       "      <th>197</th>\n",
       "      <td>oolong</td>\n",
       "    </tr>\n",
       "    <tr>\n",
       "      <th>198</th>\n",
       "      <td>black</td>\n",
       "    </tr>\n",
       "    <tr>\n",
       "      <th>199</th>\n",
       "      <td>jasmine</td>\n",
       "    </tr>\n",
       "  </tbody>\n",
       "</table>\n",
       "<p>200 rows × 1 columns</p>\n",
       "</div>"
      ],
      "text/plain": [
       "         tea\n",
       "0    jasmine\n",
       "1     golden\n",
       "2      black\n",
       "3     matcha\n",
       "4     matcha\n",
       "..       ...\n",
       "195    black\n",
       "196   matcha\n",
       "197   oolong\n",
       "198    black\n",
       "199  jasmine\n",
       "\n",
       "[200 rows x 1 columns]"
      ]
     },
     "execution_count": 39,
     "metadata": {},
     "output_type": "execute_result"
    }
   ],
   "source": [
    "survey = bpd.read_csv('data/tea.csv')\n",
    "survey"
   ]
  },
  {
   "cell_type": "markdown",
   "metadata": {},
   "source": [
    "What you're truly interested in, though, is the proportion of *all La Jolla residents* that prefer each type of tea. These are *population parameters* (plural, because there are six proportions).\n",
    "\n",
    "Your friends tell you that jasmine tea is popular and that your shop should focus on jasmine tea-based creations. To make an informed decision, you decide to look at your survey data to determine the proportion of La Jolla residents that prefer `'jasmine'` tea over all other types of teas."
   ]
  },
  {
   "cell_type": "markdown",
   "metadata": {},
   "source": [
    "**Question 3.1.** Start by calculating the proportion of residents in your sample who prefer `'jasmine'` tea. Assign this value to `jasmine_proportion`.\n",
    "\n"
   ]
  },
  {
   "cell_type": "code",
   "execution_count": 40,
   "metadata": {},
   "outputs": [
    {
     "data": {
      "text/plain": [
       "0.245"
      ]
     },
     "execution_count": 40,
     "metadata": {},
     "output_type": "execute_result"
    }
   ],
   "source": [
    "jasmine_proportion = survey[survey.get('tea')=='jasmine'].shape[0]/survey.shape[0]\n",
    "jasmine_proportion"
   ]
  },
  {
   "cell_type": "code",
   "execution_count": 41,
   "metadata": {
    "deletable": false,
    "editable": false
   },
   "outputs": [
    {
     "data": {
      "text/html": [
       "<p><strong><pre style='display: inline;'>q3_1</pre></strong> passed!</p>"
      ],
      "text/plain": [
       "q3_1 results: All test cases passed!"
      ]
     },
     "execution_count": 41,
     "metadata": {},
     "output_type": "execute_result"
    }
   ],
   "source": [
    "grader.check(\"q3_1\")"
   ]
  },
  {
   "cell_type": "markdown",
   "metadata": {},
   "source": [
    "You're done... or are you? You have a single estimate for the true proportion of residents who prefer `'jasmine'` tea. However, you don't know how close that estimate is, or how much it could have varied if you'd had a different sample. In other words, you have an estimate, but no understanding of how close that estimate is to the true proportion of all local residents who prefer `'jasmine'` tea.\n",
    "\n",
    "This is where the idea of resampling via **[bootstrapping](https://inferentialthinking.com/chapters/13/2/Bootstrap.html)** comes in. Assuming that our sample resembles the population fairly well, we can resample from our original sample to produce more samples. From each of these resamples, we can produce another estimate for the true proportion of residents who prefer `'jasmine'` tea, which gives us a distribution of sample proportions that describes how the estimate might vary given different samples. We can then use this distribution to understand the **variability** in the estimated proportion of residents who prefer `'jasmine'` tea.\n"
   ]
  },
  {
   "cell_type": "markdown",
   "metadata": {},
   "source": [
    "**Question 3.2.** Now, let's use bootstrapping to get a sense of the distribution of the sample proportion. Complete the following code to produce 1,000 bootstrapped estimates for the proportion of residents who prefer `'jasmine'` tea. Store your 1,000 estimates in an array named `boot_jasmine_proportions`."
   ]
  },
  {
   "cell_type": "code",
   "execution_count": 42,
   "metadata": {},
   "outputs": [
    {
     "data": {
      "text/plain": [
       "array([0.245, 0.27 , 0.255, 0.225, 0.205, 0.285, 0.235, 0.25 , 0.305,\n",
       "       0.18 , 0.24 , 0.255, 0.28 , 0.2  , 0.205, 0.255, 0.235, 0.25 ,\n",
       "       0.24 , 0.25 , 0.305, 0.245, 0.265, 0.18 , 0.23 , 0.265, 0.26 ,\n",
       "       0.24 , 0.21 , 0.275, 0.165, 0.285, 0.295, 0.34 , 0.25 , 0.255,\n",
       "       0.265, 0.3  , 0.26 , 0.3  , 0.255, 0.26 , 0.23 , 0.215, 0.265,\n",
       "       0.215, 0.165, 0.215, 0.255, 0.25 , 0.24 , 0.275, 0.27 , 0.25 ,\n",
       "       0.21 , 0.27 , 0.295, 0.285, 0.22 , 0.23 , 0.29 , 0.235, 0.245,\n",
       "       0.225, 0.26 , 0.225, 0.265, 0.34 , 0.185, 0.22 , 0.24 , 0.27 ,\n",
       "       0.245, 0.205, 0.275, 0.265, 0.21 , 0.28 , 0.17 , 0.24 , 0.245,\n",
       "       0.28 , 0.205, 0.195, 0.295, 0.285, 0.27 , 0.25 , 0.2  , 0.25 ,\n",
       "       0.255, 0.28 , 0.24 , 0.22 , 0.27 , 0.255, 0.24 , 0.225, 0.245,\n",
       "       0.22 , 0.22 , 0.22 , 0.23 , 0.25 , 0.265, 0.21 , 0.225, 0.245,\n",
       "       0.28 , 0.22 , 0.23 , 0.265, 0.25 , 0.2  , 0.24 , 0.285, 0.235,\n",
       "       0.21 , 0.225, 0.22 , 0.27 , 0.24 , 0.2  , 0.255, 0.28 , 0.23 ,\n",
       "       0.21 , 0.235, 0.26 , 0.245, 0.3  , 0.295, 0.26 , 0.3  , 0.23 ,\n",
       "       0.28 , 0.25 , 0.295, 0.285, 0.205, 0.26 , 0.29 , 0.19 , 0.255,\n",
       "       0.225, 0.26 , 0.235, 0.3  , 0.245, 0.26 , 0.235, 0.27 , 0.3  ,\n",
       "       0.265, 0.195, 0.235, 0.24 , 0.27 , 0.24 , 0.23 , 0.23 , 0.27 ,\n",
       "       0.22 , 0.305, 0.19 , 0.23 , 0.23 , 0.225, 0.245, 0.23 , 0.2  ,\n",
       "       0.26 , 0.215, 0.315, 0.29 , 0.24 , 0.23 , 0.22 , 0.215, 0.22 ,\n",
       "       0.215, 0.245, 0.2  , 0.225, 0.24 , 0.23 , 0.285, 0.23 , 0.27 ,\n",
       "       0.26 , 0.23 , 0.235, 0.2  , 0.23 , 0.275, 0.26 , 0.205, 0.25 ,\n",
       "       0.205, 0.265, 0.23 , 0.25 , 0.255, 0.24 , 0.22 , 0.275, 0.24 ,\n",
       "       0.23 , 0.255, 0.255, 0.245, 0.27 , 0.305, 0.245, 0.19 , 0.25 ,\n",
       "       0.235, 0.22 , 0.255, 0.27 , 0.27 , 0.205, 0.22 , 0.245, 0.285,\n",
       "       0.24 , 0.25 , 0.305, 0.245, 0.275, 0.22 , 0.22 , 0.205, 0.215,\n",
       "       0.215, 0.195, 0.25 , 0.285, 0.285, 0.235, 0.285, 0.255, 0.24 ,\n",
       "       0.28 , 0.245, 0.26 , 0.215, 0.225, 0.225, 0.25 , 0.26 , 0.275,\n",
       "       0.25 , 0.255, 0.175, 0.225, 0.25 , 0.3  , 0.295, 0.245, 0.235,\n",
       "       0.225, 0.255, 0.25 , 0.22 , 0.275, 0.28 , 0.225, 0.25 , 0.25 ,\n",
       "       0.205, 0.25 , 0.225, 0.26 , 0.225, 0.215, 0.285, 0.235, 0.28 ,\n",
       "       0.225, 0.255, 0.21 , 0.25 , 0.21 , 0.22 , 0.265, 0.265, 0.275,\n",
       "       0.215, 0.245, 0.275, 0.205, 0.225, 0.225, 0.265, 0.255, 0.25 ,\n",
       "       0.21 , 0.22 , 0.26 , 0.21 , 0.2  , 0.28 , 0.21 , 0.27 , 0.24 ,\n",
       "       0.245, 0.22 , 0.255, 0.18 , 0.285, 0.215, 0.235, 0.255, 0.255,\n",
       "       0.255, 0.2  , 0.285, 0.205, 0.26 , 0.22 , 0.23 , 0.225, 0.21 ,\n",
       "       0.27 , 0.22 , 0.275, 0.285, 0.245, 0.235, 0.245, 0.24 , 0.27 ,\n",
       "       0.285, 0.285, 0.235, 0.225, 0.245, 0.305, 0.23 , 0.25 , 0.23 ,\n",
       "       0.28 , 0.2  , 0.29 , 0.28 , 0.22 , 0.235, 0.205, 0.275, 0.27 ,\n",
       "       0.29 , 0.255, 0.21 , 0.26 , 0.24 , 0.26 , 0.295, 0.32 , 0.235,\n",
       "       0.26 , 0.235, 0.275, 0.28 , 0.24 , 0.26 , 0.245, 0.195, 0.235,\n",
       "       0.28 , 0.2  , 0.195, 0.26 , 0.265, 0.18 , 0.25 , 0.295, 0.29 ,\n",
       "       0.235, 0.26 , 0.21 , 0.27 , 0.25 , 0.24 , 0.275, 0.295, 0.17 ,\n",
       "       0.27 , 0.22 , 0.3  , 0.205, 0.225, 0.2  , 0.265, 0.24 , 0.24 ,\n",
       "       0.19 , 0.245, 0.295, 0.225, 0.24 , 0.245, 0.225, 0.215, 0.26 ,\n",
       "       0.24 , 0.235, 0.16 , 0.2  , 0.305, 0.225, 0.24 , 0.28 , 0.26 ,\n",
       "       0.235, 0.24 , 0.27 , 0.295, 0.23 , 0.195, 0.245, 0.265, 0.255,\n",
       "       0.28 , 0.225, 0.275, 0.23 , 0.24 , 0.265, 0.245, 0.245, 0.29 ,\n",
       "       0.22 , 0.29 , 0.285, 0.29 , 0.29 , 0.26 , 0.185, 0.22 , 0.24 ,\n",
       "       0.245, 0.22 , 0.24 , 0.315, 0.235, 0.29 , 0.215, 0.29 , 0.23 ,\n",
       "       0.24 , 0.22 , 0.235, 0.285, 0.235, 0.27 , 0.235, 0.26 , 0.26 ,\n",
       "       0.27 , 0.265, 0.235, 0.275, 0.285, 0.225, 0.195, 0.27 , 0.25 ,\n",
       "       0.205, 0.24 , 0.265, 0.225, 0.255, 0.22 , 0.265, 0.21 , 0.185,\n",
       "       0.305, 0.23 , 0.23 , 0.19 , 0.26 , 0.31 , 0.25 , 0.195, 0.255,\n",
       "       0.225, 0.225, 0.295, 0.27 , 0.23 , 0.285, 0.225, 0.26 , 0.255,\n",
       "       0.275, 0.24 , 0.23 , 0.2  , 0.32 , 0.27 , 0.205, 0.23 , 0.195,\n",
       "       0.27 , 0.235, 0.205, 0.2  , 0.235, 0.285, 0.245, 0.205, 0.245,\n",
       "       0.235, 0.23 , 0.28 , 0.21 , 0.215, 0.22 , 0.265, 0.26 , 0.27 ,\n",
       "       0.165, 0.23 , 0.25 , 0.215, 0.24 , 0.22 , 0.225, 0.185, 0.255,\n",
       "       0.24 , 0.21 , 0.285, 0.23 , 0.275, 0.32 , 0.26 , 0.225, 0.25 ,\n",
       "       0.235, 0.245, 0.17 , 0.255, 0.295, 0.26 , 0.29 , 0.255, 0.22 ,\n",
       "       0.25 , 0.24 , 0.27 , 0.24 , 0.315, 0.255, 0.265, 0.25 , 0.23 ,\n",
       "       0.225, 0.25 , 0.215, 0.19 , 0.21 , 0.235, 0.23 , 0.225, 0.23 ,\n",
       "       0.255, 0.265, 0.215, 0.21 , 0.225, 0.21 , 0.235, 0.26 , 0.305,\n",
       "       0.23 , 0.23 , 0.26 , 0.22 , 0.255, 0.225, 0.255, 0.245, 0.265,\n",
       "       0.26 , 0.23 , 0.22 , 0.265, 0.24 , 0.215, 0.245, 0.205, 0.23 ,\n",
       "       0.18 , 0.21 , 0.26 , 0.22 , 0.285, 0.26 , 0.215, 0.28 , 0.265,\n",
       "       0.315, 0.305, 0.28 , 0.24 , 0.25 , 0.265, 0.265, 0.2  , 0.285,\n",
       "       0.25 , 0.2  , 0.24 , 0.26 , 0.18 , 0.255, 0.315, 0.255, 0.26 ,\n",
       "       0.255, 0.24 , 0.265, 0.255, 0.22 , 0.2  , 0.265, 0.255, 0.175,\n",
       "       0.265, 0.25 , 0.195, 0.24 , 0.23 , 0.23 , 0.235, 0.275, 0.255,\n",
       "       0.26 , 0.25 , 0.22 , 0.22 , 0.21 , 0.24 , 0.265, 0.26 , 0.22 ,\n",
       "       0.225, 0.28 , 0.225, 0.17 , 0.245, 0.23 , 0.305, 0.28 , 0.255,\n",
       "       0.27 , 0.27 , 0.23 , 0.25 , 0.29 , 0.21 , 0.26 , 0.205, 0.23 ,\n",
       "       0.27 , 0.235, 0.275, 0.26 , 0.225, 0.255, 0.28 , 0.305, 0.255,\n",
       "       0.24 , 0.205, 0.255, 0.22 , 0.305, 0.25 , 0.235, 0.24 , 0.275,\n",
       "       0.23 , 0.24 , 0.26 , 0.265, 0.235, 0.22 , 0.24 , 0.21 , 0.27 ,\n",
       "       0.29 , 0.31 , 0.29 , 0.24 , 0.245, 0.27 , 0.215, 0.23 , 0.28 ,\n",
       "       0.255, 0.245, 0.235, 0.245, 0.225, 0.225, 0.245, 0.24 , 0.23 ,\n",
       "       0.2  , 0.31 , 0.235, 0.215, 0.245, 0.26 , 0.245, 0.225, 0.225,\n",
       "       0.23 , 0.19 , 0.3  , 0.235, 0.24 , 0.235, 0.265, 0.21 , 0.195,\n",
       "       0.255, 0.255, 0.28 , 0.205, 0.275, 0.25 , 0.23 , 0.225, 0.23 ,\n",
       "       0.26 , 0.245, 0.27 , 0.295, 0.2  , 0.235, 0.23 , 0.28 , 0.235,\n",
       "       0.225, 0.18 , 0.26 , 0.255, 0.26 , 0.29 , 0.255, 0.255, 0.185,\n",
       "       0.26 , 0.205, 0.235, 0.235, 0.255, 0.17 , 0.255, 0.28 , 0.285,\n",
       "       0.22 , 0.235, 0.19 , 0.265, 0.23 , 0.225, 0.28 , 0.24 , 0.2  ,\n",
       "       0.265, 0.245, 0.235, 0.255, 0.26 , 0.24 , 0.235, 0.27 , 0.225,\n",
       "       0.255, 0.195, 0.215, 0.275, 0.195, 0.235, 0.305, 0.245, 0.28 ,\n",
       "       0.245, 0.245, 0.27 , 0.285, 0.235, 0.305, 0.225, 0.195, 0.225,\n",
       "       0.28 , 0.22 , 0.27 , 0.29 , 0.295, 0.245, 0.225, 0.295, 0.275,\n",
       "       0.245, 0.24 , 0.27 , 0.27 , 0.23 , 0.2  , 0.28 , 0.26 , 0.245,\n",
       "       0.25 , 0.24 , 0.235, 0.265, 0.23 , 0.295, 0.245, 0.23 , 0.235,\n",
       "       0.285, 0.275, 0.2  , 0.245, 0.25 , 0.275, 0.26 , 0.245, 0.28 ,\n",
       "       0.26 , 0.205, 0.21 , 0.205, 0.205, 0.225, 0.22 , 0.25 , 0.28 ,\n",
       "       0.255, 0.205, 0.21 , 0.26 , 0.24 , 0.29 , 0.26 , 0.205, 0.255,\n",
       "       0.255, 0.26 , 0.32 , 0.195, 0.215, 0.215, 0.265, 0.245, 0.22 ,\n",
       "       0.255, 0.205, 0.225, 0.2  , 0.255, 0.22 , 0.245, 0.255, 0.225,\n",
       "       0.26 , 0.255, 0.265, 0.265, 0.18 , 0.265, 0.225, 0.22 , 0.225,\n",
       "       0.265, 0.26 , 0.275, 0.24 , 0.31 , 0.25 , 0.26 , 0.27 , 0.215,\n",
       "       0.24 , 0.27 , 0.28 , 0.23 , 0.185, 0.255, 0.255, 0.23 , 0.21 ,\n",
       "       0.23 , 0.265, 0.265, 0.23 , 0.24 , 0.26 , 0.24 , 0.21 , 0.255,\n",
       "       0.215, 0.28 , 0.25 , 0.2  , 0.3  , 0.22 , 0.245, 0.275, 0.225,\n",
       "       0.25 , 0.205, 0.215, 0.255, 0.26 , 0.23 , 0.275, 0.26 , 0.175,\n",
       "       0.23 , 0.245, 0.275, 0.305, 0.24 , 0.21 , 0.19 , 0.26 , 0.22 ,\n",
       "       0.305, 0.25 , 0.24 , 0.24 , 0.26 , 0.235, 0.29 , 0.21 , 0.275,\n",
       "       0.26 , 0.25 , 0.27 , 0.225, 0.26 , 0.315, 0.235, 0.27 , 0.22 ,\n",
       "       0.245, 0.24 , 0.295, 0.225, 0.25 , 0.245, 0.23 , 0.2  , 0.25 ,\n",
       "       0.255, 0.235, 0.26 , 0.26 , 0.225, 0.24 , 0.27 , 0.28 , 0.28 ,\n",
       "       0.24 , 0.235, 0.26 , 0.225, 0.225, 0.25 , 0.245, 0.24 , 0.26 ,\n",
       "       0.265, 0.255, 0.24 , 0.18 , 0.195, 0.22 , 0.215, 0.225, 0.295,\n",
       "       0.335, 0.215, 0.3  , 0.275, 0.27 , 0.245, 0.22 , 0.245, 0.21 ,\n",
       "       0.26 ])"
      ]
     },
     "execution_count": 42,
     "metadata": {},
     "output_type": "execute_result"
    }
   ],
   "source": [
    "boot_jasmine_proportions = np.array([])\n",
    "for i in np.arange(1000):\n",
    "    resample = survey.sample(200, replace=True)\n",
    "    resample_proportion = resample[resample.get('tea')=='jasmine'].shape[0]/survey.shape[0]\n",
    "    boot_jasmine_proportions = np.append(boot_jasmine_proportions, resample_proportion)\n",
    "\n",
    "boot_jasmine_proportions"
   ]
  },
  {
   "cell_type": "code",
   "execution_count": 43,
   "metadata": {},
   "outputs": [
    {
     "data": {
      "text/plain": [
       "1000"
      ]
     },
     "execution_count": 43,
     "metadata": {},
     "output_type": "execute_result"
    }
   ],
   "source": [
    "len(boot_jasmine_proportions)"
   ]
  },
  {
   "cell_type": "code",
   "execution_count": 44,
   "metadata": {
    "deletable": false,
    "editable": false
   },
   "outputs": [
    {
     "data": {
      "text/html": [
       "<p><strong><pre style='display: inline;'>q3_2</pre></strong> passed!</p>"
      ],
      "text/plain": [
       "q3_2 results: All test cases passed!"
      ]
     },
     "execution_count": 44,
     "metadata": {},
     "output_type": "execute_result"
    }
   ],
   "source": [
    "grader.check(\"q3_2\")"
   ]
  },
  {
   "cell_type": "markdown",
   "metadata": {},
   "source": [
    "**Question 3.3.** Using the array `boot_jasmine_proportions`, compute an approximate **95%** confidence interval for the true proportion of residents who prefer `'jasmine'` tea.  Compute the lower and upper ends of the interval, named `jasmine_lower_bound` and `jasmine_upper_bound`, respectively."
   ]
  },
  {
   "cell_type": "code",
   "execution_count": 45,
   "metadata": {},
   "outputs": [
    {
     "name": "stdout",
     "output_type": "stream",
     "text": [
      "Bootstrapped 95% confidence interval for the true proportion of residents who prefer jasmine tea in the population:\n",
      "[0.185000, 0.305000]\n"
     ]
    }
   ],
   "source": [
    "jasmine_lower_bound = np.percentile(boot_jasmine_proportions, 2.5)\n",
    "jasmine_upper_bound = np.percentile(boot_jasmine_proportions, 97.5)\n",
    "\n",
    "# Print the confidence interval:\n",
    "print(\"Bootstrapped 95% confidence interval for the true proportion of residents who prefer jasmine tea in the population:\\n[{:f}, {:f}]\".format(jasmine_lower_bound, jasmine_upper_bound))"
   ]
  },
  {
   "cell_type": "code",
   "execution_count": 46,
   "metadata": {
    "deletable": false,
    "editable": false
   },
   "outputs": [
    {
     "data": {
      "text/html": [
       "<p><strong><pre style='display: inline;'>q3_3</pre></strong> passed!</p>"
      ],
      "text/plain": [
       "q3_3 results: All test cases passed!"
      ]
     },
     "execution_count": 46,
     "metadata": {},
     "output_type": "execute_result"
    }
   ],
   "source": [
    "grader.check(\"q3_3\")"
   ]
  },
  {
   "cell_type": "code",
   "execution_count": 47,
   "metadata": {},
   "outputs": [
    {
     "data": {
      "text/html": [
       "<div>\n",
       "<style scoped>\n",
       "    .dataframe tbody tr th:only-of-type {\n",
       "        vertical-align: middle;\n",
       "    }\n",
       "\n",
       "    .dataframe tbody tr th {\n",
       "        vertical-align: top;\n",
       "    }\n",
       "\n",
       "    .dataframe thead th {\n",
       "        text-align: right;\n",
       "    }\n",
       "</style>\n",
       "<table border=\"1\" class=\"dataframe\">\n",
       "  <thead>\n",
       "    <tr style=\"text-align: right;\">\n",
       "      <th></th>\n",
       "      <th>jasmine_proportions</th>\n",
       "    </tr>\n",
       "  </thead>\n",
       "  <tbody>\n",
       "    <tr>\n",
       "      <th>0</th>\n",
       "      <td>0.245</td>\n",
       "    </tr>\n",
       "    <tr>\n",
       "      <th>1</th>\n",
       "      <td>0.270</td>\n",
       "    </tr>\n",
       "    <tr>\n",
       "      <th>2</th>\n",
       "      <td>0.255</td>\n",
       "    </tr>\n",
       "    <tr>\n",
       "      <th>3</th>\n",
       "      <td>0.225</td>\n",
       "    </tr>\n",
       "    <tr>\n",
       "      <th>4</th>\n",
       "      <td>0.205</td>\n",
       "    </tr>\n",
       "    <tr>\n",
       "      <th>...</th>\n",
       "      <td>...</td>\n",
       "    </tr>\n",
       "    <tr>\n",
       "      <th>995</th>\n",
       "      <td>0.245</td>\n",
       "    </tr>\n",
       "    <tr>\n",
       "      <th>996</th>\n",
       "      <td>0.220</td>\n",
       "    </tr>\n",
       "    <tr>\n",
       "      <th>997</th>\n",
       "      <td>0.245</td>\n",
       "    </tr>\n",
       "    <tr>\n",
       "      <th>998</th>\n",
       "      <td>0.210</td>\n",
       "    </tr>\n",
       "    <tr>\n",
       "      <th>999</th>\n",
       "      <td>0.260</td>\n",
       "    </tr>\n",
       "  </tbody>\n",
       "</table>\n",
       "<p>1000 rows × 1 columns</p>\n",
       "</div>"
      ],
      "text/plain": [
       "     jasmine_proportions\n",
       "0                  0.245\n",
       "1                  0.270\n",
       "2                  0.255\n",
       "3                  0.225\n",
       "4                  0.205\n",
       "..                   ...\n",
       "995                0.245\n",
       "996                0.220\n",
       "997                0.245\n",
       "998                0.210\n",
       "999                0.260\n",
       "\n",
       "[1000 rows x 1 columns]"
      ]
     },
     "execution_count": 47,
     "metadata": {},
     "output_type": "execute_result"
    }
   ],
   "source": [
    "jasmine_dataframe = bpd.DataFrame().assign(jasmine_proportions=boot_jasmine_proportions)\n",
    "jasmine_dataframe"
   ]
  },
  {
   "cell_type": "code",
   "execution_count": 48,
   "metadata": {},
   "outputs": [
    {
     "data": {
      "image/png": "[encoded data removed]",
      "text/plain": [
       "<Figure size 432x288 with 1 Axes>"
      ]
     },
     "metadata": {},
     "output_type": "display_data"
    }
   ],
   "source": [
    "jasmine_dataframe.plot(kind='hist', density=True, ec='w');"
   ]
  },
  {
   "cell_type": "code",
   "execution_count": 49,
   "metadata": {},
   "outputs": [
    {
     "data": {
      "text/plain": [
       "0.18000000000000002"
      ]
     },
     "execution_count": 49,
     "metadata": {},
     "output_type": "execute_result"
    }
   ],
   "source": [
    "jasmine_dataframe.get('jasmine_proportions').max() - jasmine_dataframe.get('jasmine_proportions').min()"
   ]
  },
  {
   "cell_type": "markdown",
   "metadata": {},
   "source": [
    "**Question 3.4.**\n",
    "Is it true that 95% of the population lies in the range `jasmine_lower_bound` to `jasmine_upper_bound`? Assign the variable `q3_4` to either `True` or `False`. "
   ]
  },
  {
   "cell_type": "code",
   "execution_count": 50,
   "metadata": {},
   "outputs": [],
   "source": [
    "q3_4 = False"
   ]
  },
  {
   "cell_type": "code",
   "execution_count": 51,
   "metadata": {
    "deletable": false,
    "editable": false
   },
   "outputs": [
    {
     "data": {
      "text/html": [
       "<p><strong><pre style='display: inline;'>q3_4</pre></strong> passed!</p>"
      ],
      "text/plain": [
       "q3_4 results: All test cases passed!"
      ]
     },
     "execution_count": 51,
     "metadata": {},
     "output_type": "execute_result"
    }
   ],
   "source": [
    "grader.check(\"q3_4\")"
   ]
  },
  {
   "cell_type": "markdown",
   "metadata": {},
   "source": [
    "**Question 3.5.**\n",
    "Is it true that the proportion of La Jolla residents who prefer `'jasmine'` tea over the other teas is a random quantity with approximately a 95% chance of falling between `jasmine_lower_bound` and `jasmine_upper_bound`? Assign the variable `q3_5` to either `True` or `False`."
   ]
  },
  {
   "cell_type": "code",
   "execution_count": 80,
   "metadata": {},
   "outputs": [],
   "source": [
    "### population parameter is not random"
   ]
  },
  {
   "cell_type": "code",
   "execution_count": 52,
   "metadata": {},
   "outputs": [],
   "source": [
    "q3_5 = False"
   ]
  },
  {
   "cell_type": "code",
   "execution_count": 53,
   "metadata": {
    "deletable": false,
    "editable": false
   },
   "outputs": [
    {
     "data": {
      "text/html": [
       "<p><strong><pre style='display: inline;'>q3_5</pre></strong> passed!</p>"
      ],
      "text/plain": [
       "q3_5 results: All test cases passed!"
      ]
     },
     "execution_count": 53,
     "metadata": {},
     "output_type": "execute_result"
    }
   ],
   "source": [
    "grader.check(\"q3_5\")"
   ]
  },
  {
   "cell_type": "markdown",
   "metadata": {},
   "source": [
    "**Question 3.6.**\n",
    "Suppose we were somehow able to produce 2,000 new samples, each one a uniform random sample of 200 La Jolla residents taken directly from the population. For each of those 2,000 new samples, we create a 95% confidence interval for the proportion of residents who prefer `'jasmine'` tea. Roughly how many of those 2,000 intervals should we expect to actually contain the true proportion of the population? Assign your answer to the variable `how_many` below. It should be of type `int`, representing the *number* of intervals, not the proportion or percentage."
   ]
  },
  {
   "cell_type": "code",
   "execution_count": 54,
   "metadata": {},
   "outputs": [
    {
     "data": {
      "text/plain": [
       "1900"
      ]
     },
     "execution_count": 54,
     "metadata": {},
     "output_type": "execute_result"
    }
   ],
   "source": [
    "how_many = int(95*2000/100)\n",
    "how_many"
   ]
  },
  {
   "cell_type": "code",
   "execution_count": 55,
   "metadata": {
    "deletable": false,
    "editable": false
   },
   "outputs": [
    {
     "data": {
      "text/html": [
       "<p><strong><pre style='display: inline;'>q3_6</pre></strong> passed!</p>"
      ],
      "text/plain": [
       "q3_6 results: All test cases passed!"
      ]
     },
     "execution_count": 55,
     "metadata": {},
     "output_type": "execute_result"
    }
   ],
   "source": [
    "grader.check(\"q3_6\")"
   ]
  },
  {
   "cell_type": "markdown",
   "metadata": {},
   "source": [
    "**Question 3.7.** We also created 90%, 96%, and 99% confidence intervals from one sample (shown below), but forgot to label which confidence intervals were which! Match the interval to the percent of confidence the interval represents and assign your choices (either 1, 2, or 3) to variables `ci_90`, `ci_96`, and `ci_99`, corresponding to the 90%, 96%, and 99% confidence intervals respectively.\n",
    "\n",
    "***Hint:*** Drawing the confidence intervals out on paper might help you visualize them better.\n"
   ]
  },
  {
   "cell_type": "markdown",
   "metadata": {},
   "source": [
    "1. $[0.185, 0.31]$\n",
    "\n",
    "2. $[0.195, 0.3]$\n",
    "\n",
    "3. $[0.175,  0.325]$\n",
    "\n",
    "\n"
   ]
  },
  {
   "cell_type": "code",
   "execution_count": 56,
   "metadata": {},
   "outputs": [
    {
     "data": {
      "text/plain": [
       "(3, 1, 2)"
      ]
     },
     "execution_count": 56,
     "metadata": {},
     "output_type": "execute_result"
    }
   ],
   "source": [
    "ci_90 = 3\n",
    "ci_96 = 1\n",
    "ci_99 = 2\n",
    "ci_90, ci_96, ci_99"
   ]
  },
  {
   "cell_type": "code",
   "execution_count": 57,
   "metadata": {
    "deletable": false,
    "editable": false
   },
   "outputs": [
    {
     "data": {
      "text/html": [
       "<p><strong><pre style='display: inline;'>q3_7</pre></strong> passed!</p>"
      ],
      "text/plain": [
       "q3_7 results: All test cases passed!"
      ]
     },
     "execution_count": 57,
     "metadata": {},
     "output_type": "execute_result"
    }
   ],
   "source": [
    "grader.check(\"q3_7\")"
   ]
  },
  {
   "cell_type": "markdown",
   "metadata": {},
   "source": [
    "**Question 3.8.** Based on the results in `survey`, it seems that `'jasmine'` tea is more popular than `'black'` tea among residents. We would like to construct a range of likely values – that is, a confidence interval – for the difference in popularity, which we define as:\n",
    "\n",
    "$$\\text{(Proportion of residents who prefer jasmine tea)} - \\text{(Proportion of residents who prefer black tea)}$$\n",
    "\n",
    "Create a function, `differences_in_resamples`, that creates **1000 bootstrapped resamples of the original survey data** in the `survey` DataFrame, computes the difference in proportions for each resample, and returns an array of these differences. Store your bootstrapped estimates in an array called `boot_differences` and plot a histogram of these estimates.\n",
    "\n",
    "***Hints:*** \n",
    "- Use your code from Question 3.2 as a starting point.\n",
    "- To plot your histogram, you'll first need to create a DataFrame with one column, whose entries are the values in `boot_differences`. "
   ]
  },
  {
   "cell_type": "code",
   "execution_count": 58,
   "metadata": {
    "for_assignment_type": "student",
    "manual_problem_id": "election_2"
   },
   "outputs": [
    {
     "data": {
      "text/html": [
       "<div>\n",
       "<style scoped>\n",
       "    .dataframe tbody tr th:only-of-type {\n",
       "        vertical-align: middle;\n",
       "    }\n",
       "\n",
       "    .dataframe tbody tr th {\n",
       "        vertical-align: top;\n",
       "    }\n",
       "\n",
       "    .dataframe thead th {\n",
       "        text-align: right;\n",
       "    }\n",
       "</style>\n",
       "<table border=\"1\" class=\"dataframe\">\n",
       "  <thead>\n",
       "    <tr style=\"text-align: right;\">\n",
       "      <th></th>\n",
       "      <th>differences_in_resamples</th>\n",
       "    </tr>\n",
       "  </thead>\n",
       "  <tbody>\n",
       "    <tr>\n",
       "      <th>0</th>\n",
       "      <td>0.040</td>\n",
       "    </tr>\n",
       "    <tr>\n",
       "      <th>1</th>\n",
       "      <td>0.020</td>\n",
       "    </tr>\n",
       "    <tr>\n",
       "      <th>2</th>\n",
       "      <td>-0.055</td>\n",
       "    </tr>\n",
       "    <tr>\n",
       "      <th>3</th>\n",
       "      <td>0.070</td>\n",
       "    </tr>\n",
       "    <tr>\n",
       "      <th>4</th>\n",
       "      <td>0.060</td>\n",
       "    </tr>\n",
       "    <tr>\n",
       "      <th>...</th>\n",
       "      <td>...</td>\n",
       "    </tr>\n",
       "    <tr>\n",
       "      <th>995</th>\n",
       "      <td>0.080</td>\n",
       "    </tr>\n",
       "    <tr>\n",
       "      <th>996</th>\n",
       "      <td>0.110</td>\n",
       "    </tr>\n",
       "    <tr>\n",
       "      <th>997</th>\n",
       "      <td>0.050</td>\n",
       "    </tr>\n",
       "    <tr>\n",
       "      <th>998</th>\n",
       "      <td>0.040</td>\n",
       "    </tr>\n",
       "    <tr>\n",
       "      <th>999</th>\n",
       "      <td>0.160</td>\n",
       "    </tr>\n",
       "  </tbody>\n",
       "</table>\n",
       "<p>1000 rows × 1 columns</p>\n",
       "</div>"
      ],
      "text/plain": [
       "     differences_in_resamples\n",
       "0                       0.040\n",
       "1                       0.020\n",
       "2                      -0.055\n",
       "3                       0.070\n",
       "4                       0.060\n",
       "..                        ...\n",
       "995                     0.080\n",
       "996                     0.110\n",
       "997                     0.050\n",
       "998                     0.040\n",
       "999                     0.160\n",
       "\n",
       "[1000 rows x 1 columns]"
      ]
     },
     "execution_count": 58,
     "metadata": {},
     "output_type": "execute_result"
    }
   ],
   "source": [
    "def differences_in_resamples():\n",
    "    boot_jasmine_proportions = np.array([])\n",
    "    boot_black_proportions = np.array([])\n",
    "    for i in np.arange(1000):\n",
    "        resample = survey.sample(200, replace=True)\n",
    "        resample_proportion_jasmine = resample[resample.get('tea')=='jasmine'].shape[0]/survey.shape[0]\n",
    "        resample_proportion_black = resample[resample.get('tea')=='black'].shape[0]/survey.shape[0]\n",
    "\n",
    "        boot_jasmine_proportions = np.append(boot_jasmine_proportions, resample_proportion_jasmine)\n",
    "        boot_black_proportions = np.append(boot_black_proportions, resample_proportion_black)\n",
    "    return boot_jasmine_proportions-boot_black_proportions\n",
    "\n",
    "boot_differences = differences_in_resamples()\n",
    "#boot_differences\n",
    "# Plot a histogram of boot_differences.\n",
    "\n",
    "difference_dataframe = bpd.DataFrame().assign(differences_in_resamples=boot_differences)\n",
    "difference_dataframe"
   ]
  },
  {
   "cell_type": "code",
   "execution_count": 59,
   "metadata": {},
   "outputs": [
    {
     "data": {
      "text/plain": [
       "-0.13499999999999998"
      ]
     },
     "execution_count": 59,
     "metadata": {},
     "output_type": "execute_result"
    }
   ],
   "source": [
    "difference_dataframe.get('differences_in_resamples').min()"
   ]
  },
  {
   "cell_type": "code",
   "execution_count": 60,
   "metadata": {},
   "outputs": [
    {
     "data": {
      "text/plain": [
       "0.195"
      ]
     },
     "execution_count": 60,
     "metadata": {},
     "output_type": "execute_result"
    }
   ],
   "source": [
    "difference_dataframe.get('differences_in_resamples').max()"
   ]
  },
  {
   "cell_type": "code",
   "execution_count": 61,
   "metadata": {},
   "outputs": [
    {
     "data": {
      "text/plain": [
       "0.32999999999999996"
      ]
     },
     "execution_count": 61,
     "metadata": {},
     "output_type": "execute_result"
    }
   ],
   "source": [
    "difference_dataframe.get('differences_in_resamples').max() - difference_dataframe.get('differences_in_resamples').min()"
   ]
  },
  {
   "cell_type": "code",
   "execution_count": 62,
   "metadata": {},
   "outputs": [
    {
     "data": {
      "image/png": "[encoded data removed]",
      "text/plain": [
       "<Figure size 432x288 with 1 Axes>"
      ]
     },
     "metadata": {},
     "output_type": "display_data"
    }
   ],
   "source": [
    "difference_dataframe.plot(kind='hist', density=True, ec='w');"
   ]
  },
  {
   "cell_type": "code",
   "execution_count": 63,
   "metadata": {
    "deletable": false,
    "editable": false
   },
   "outputs": [
    {
     "data": {
      "text/html": [
       "<p><strong><pre style='display: inline;'>q3_8</pre></strong> passed!</p>"
      ],
      "text/plain": [
       "q3_8 results: All test cases passed!"
      ]
     },
     "execution_count": 63,
     "metadata": {},
     "output_type": "execute_result"
    }
   ],
   "source": [
    "grader.check(\"q3_8\")"
   ]
  },
  {
   "cell_type": "markdown",
   "metadata": {},
   "source": [
    "**Question 3.9.** Compute an approximate 95% confidence interval for the difference in proportions. Assign the lower and upper bounds of the interval to `diff_lower_bound` and `diff_upper_bound`, respectively."
   ]
  },
  {
   "cell_type": "code",
   "execution_count": 64,
   "metadata": {},
   "outputs": [
    {
     "name": "stdout",
     "output_type": "stream",
     "text": [
      "Bootstrapped 95% confidence interval for the difference in popularity between jasmine tea and black tea:\n",
      "[-0.055125, 0.135000]\n"
     ]
    }
   ],
   "source": [
    "diff_lower_bound = np.percentile(boot_differences, 2.5)\n",
    "diff_upper_bound = np.percentile(boot_differences, 97.5)\n",
    "\n",
    "# Print the confidence interval:\n",
    "print(\"Bootstrapped 95% confidence interval for the difference in popularity between jasmine tea and black tea:\\n[{:f}, {:f}]\".format(diff_lower_bound, diff_upper_bound))"
   ]
  },
  {
   "cell_type": "code",
   "execution_count": 65,
   "metadata": {
    "deletable": false,
    "editable": false
   },
   "outputs": [
    {
     "data": {
      "text/html": [
       "<p><strong><pre style='display: inline;'>q3_9</pre></strong> passed!</p>"
      ],
      "text/plain": [
       "q3_9 results: All test cases passed!"
      ]
     },
     "execution_count": 65,
     "metadata": {},
     "output_type": "execute_result"
    }
   ],
   "source": [
    "grader.check(\"q3_9\")"
   ]
  },
  {
   "cell_type": "markdown",
   "metadata": {},
   "source": [
    "**Question 3.10.** In this question, you computed two 95% confidence intervals:\n",
    "- In Question 3.3, you found a 95% confidence interval for the proportion of residents who prefer `'jasmine'` tea among the six tea options. Let's call this the \"jasmine CI.\"\n",
    "- In Question 3.9, you found a 95% confidence interval for the difference between the proportion of residents who prefer `'jasmine'` tea and the proportion of residents who prefer `'black'` tea. Let's call this the \"difference CI.\" \n",
    "\n",
    "Choose how to best fill in the blanks to describe the widths of these two confidence intervals. Set `q3_10` to either 1, 2, 3, or 4.\n",
    "\n",
    ">The jasmine CI is ________________________ than the difference CI because we have a ________________________ for a single unknown parameter than the difference between two unknown parameters.\n",
    "\n",
    "1. wider; more accurate guess\n",
    "1. narrower; more accurate guess\n",
    "1. wider; less accurate guess\n",
    "1. narrower; less accurate guess"
   ]
  },
  {
   "cell_type": "code",
   "execution_count": 66,
   "metadata": {},
   "outputs": [],
   "source": [
    "#### The jasmine dataframe is narrower, so 2 or 4"
   ]
  },
  {
   "cell_type": "code",
   "execution_count": 67,
   "metadata": {},
   "outputs": [],
   "source": [
    "q3_10 = 2"
   ]
  },
  {
   "cell_type": "code",
   "execution_count": 68,
   "metadata": {
    "deletable": false,
    "editable": false
   },
   "outputs": [
    {
     "data": {
      "text/html": [
       "<p><strong><pre style='display: inline;'>q3_10</pre></strong> passed!</p>"
      ],
      "text/plain": [
       "q3_10 results: All test cases passed!"
      ]
     },
     "execution_count": 68,
     "metadata": {},
     "output_type": "execute_result"
    }
   ],
   "source": [
    "grader.check(\"q3_10\")"
   ]
  },
  {
   "cell_type": "markdown",
   "metadata": {},
   "source": [
    "## 4. Need a Lyft? 🚗\n",
    "Sofia is planning on traveling to Boston this summer. Since she won't have a car there, she's planning on using Uber or Lyft, two popular ride-sharing apps. Let's compare the cost of these ride-sharing apps to help Sofia save some money!\n",
    "\n",
    "Our [dataset](https://www.kaggle.com/datasets/ravi72munde/uber-lyft-cab-prices/data) contains a **sample** of all Uber and Lyft rides in Boston. We have information on the `'app'` (Lyft or Uber), the `'mode'` (level of service), the `'destination'` and `'source'` neighborhoods, the `'price'` in dollars, and the `'distance'` in miles. Run the cell below to load this data into the DataFrame `rideshare`."
   ]
  },
  {
   "cell_type": "code",
   "execution_count": 69,
   "metadata": {},
   "outputs": [
    {
     "data": {
      "text/html": [
       "<div>\n",
       "<style scoped>\n",
       "    .dataframe tbody tr th:only-of-type {\n",
       "        vertical-align: middle;\n",
       "    }\n",
       "\n",
       "    .dataframe tbody tr th {\n",
       "        vertical-align: top;\n",
       "    }\n",
       "\n",
       "    .dataframe thead th {\n",
       "        text-align: right;\n",
       "    }\n",
       "</style>\n",
       "<table border=\"1\" class=\"dataframe\">\n",
       "  <thead>\n",
       "    <tr style=\"text-align: right;\">\n",
       "      <th></th>\n",
       "      <th>app</th>\n",
       "      <th>mode</th>\n",
       "      <th>destination</th>\n",
       "      <th>source</th>\n",
       "      <th>price</th>\n",
       "      <th>distance</th>\n",
       "    </tr>\n",
       "  </thead>\n",
       "  <tbody>\n",
       "    <tr>\n",
       "      <th>0</th>\n",
       "      <td>Uber</td>\n",
       "      <td>Black SUV</td>\n",
       "      <td>Beacon Hill</td>\n",
       "      <td>Northeastern University</td>\n",
       "      <td>31.5</td>\n",
       "      <td>2.61</td>\n",
       "    </tr>\n",
       "    <tr>\n",
       "      <th>1</th>\n",
       "      <td>Uber</td>\n",
       "      <td>Black</td>\n",
       "      <td>North Station</td>\n",
       "      <td>Haymarket Square</td>\n",
       "      <td>15.0</td>\n",
       "      <td>0.49</td>\n",
       "    </tr>\n",
       "    <tr>\n",
       "      <th>2</th>\n",
       "      <td>Uber</td>\n",
       "      <td>Black</td>\n",
       "      <td>Northeastern University</td>\n",
       "      <td>Back Bay</td>\n",
       "      <td>16.0</td>\n",
       "      <td>1.22</td>\n",
       "    </tr>\n",
       "    <tr>\n",
       "      <th>3</th>\n",
       "      <td>Lyft</td>\n",
       "      <td>Lux Black XL</td>\n",
       "      <td>Boston University</td>\n",
       "      <td>Beacon Hill</td>\n",
       "      <td>32.5</td>\n",
       "      <td>2.26</td>\n",
       "    </tr>\n",
       "    <tr>\n",
       "      <th>4</th>\n",
       "      <td>Uber</td>\n",
       "      <td>UberXL</td>\n",
       "      <td>Theatre District</td>\n",
       "      <td>Northeastern University</td>\n",
       "      <td>14.0</td>\n",
       "      <td>1.91</td>\n",
       "    </tr>\n",
       "    <tr>\n",
       "      <th>...</th>\n",
       "      <td>...</td>\n",
       "      <td>...</td>\n",
       "      <td>...</td>\n",
       "      <td>...</td>\n",
       "      <td>...</td>\n",
       "      <td>...</td>\n",
       "    </tr>\n",
       "    <tr>\n",
       "      <th>70509</th>\n",
       "      <td>Uber</td>\n",
       "      <td>Black</td>\n",
       "      <td>Financial District</td>\n",
       "      <td>Boston University</td>\n",
       "      <td>33.0</td>\n",
       "      <td>4.72</td>\n",
       "    </tr>\n",
       "    <tr>\n",
       "      <th>70510</th>\n",
       "      <td>Lyft</td>\n",
       "      <td>Shared</td>\n",
       "      <td>South Station</td>\n",
       "      <td>Theatre District</td>\n",
       "      <td>3.5</td>\n",
       "      <td>0.59</td>\n",
       "    </tr>\n",
       "    <tr>\n",
       "      <th>70511</th>\n",
       "      <td>Lyft</td>\n",
       "      <td>Lux Black</td>\n",
       "      <td>Northeastern University</td>\n",
       "      <td>West End</td>\n",
       "      <td>30.0</td>\n",
       "      <td>3.11</td>\n",
       "    </tr>\n",
       "    <tr>\n",
       "      <th>70512</th>\n",
       "      <td>Uber</td>\n",
       "      <td>Black</td>\n",
       "      <td>North End</td>\n",
       "      <td>Financial District</td>\n",
       "      <td>16.0</td>\n",
       "      <td>1.21</td>\n",
       "    </tr>\n",
       "    <tr>\n",
       "      <th>70513</th>\n",
       "      <td>Lyft</td>\n",
       "      <td>Lux Black</td>\n",
       "      <td>North Station</td>\n",
       "      <td>South Station</td>\n",
       "      <td>19.5</td>\n",
       "      <td>1.69</td>\n",
       "    </tr>\n",
       "  </tbody>\n",
       "</table>\n",
       "<p>70514 rows × 6 columns</p>\n",
       "</div>"
      ],
      "text/plain": [
       "        app          mode              destination                   source  \\\n",
       "0      Uber     Black SUV              Beacon Hill  Northeastern University   \n",
       "1      Uber         Black            North Station         Haymarket Square   \n",
       "2      Uber         Black  Northeastern University                 Back Bay   \n",
       "3      Lyft  Lux Black XL        Boston University              Beacon Hill   \n",
       "4      Uber        UberXL         Theatre District  Northeastern University   \n",
       "...     ...           ...                      ...                      ...   \n",
       "70509  Uber         Black       Financial District        Boston University   \n",
       "70510  Lyft        Shared            South Station         Theatre District   \n",
       "70511  Lyft     Lux Black  Northeastern University                 West End   \n",
       "70512  Uber         Black                North End       Financial District   \n",
       "70513  Lyft     Lux Black            North Station            South Station   \n",
       "\n",
       "       price  distance  \n",
       "0       31.5      2.61  \n",
       "1       15.0      0.49  \n",
       "2       16.0      1.22  \n",
       "3       32.5      2.26  \n",
       "4       14.0      1.91  \n",
       "...      ...       ...  \n",
       "70509   33.0      4.72  \n",
       "70510    3.5      0.59  \n",
       "70511   30.0      3.11  \n",
       "70512   16.0      1.21  \n",
       "70513   19.5      1.69  \n",
       "\n",
       "[70514 rows x 6 columns]"
      ]
     },
     "execution_count": 69,
     "metadata": {},
     "output_type": "execute_result"
    }
   ],
   "source": [
    "rideshare = bpd.read_csv('data/rideshare.csv')\n",
    "rideshare"
   ]
  },
  {
   "cell_type": "markdown",
   "metadata": {},
   "source": [
    "**Question 4.1.** Let's start by determining the mean price for each of the two ridesharing apps. Create a DataFrame called `uber_lyft_means`, indexed by `'app'`, with one column called `'price'` that contains the mean price for each ridesharing app. Sort `uber_lyft_means` in ascending order of `'price'`.\n",
    "\n",
    "***Hint:*** This takes just one line of code."
   ]
  },
  {
   "cell_type": "code",
   "execution_count": 70,
   "metadata": {
    "scrolled": true
   },
   "outputs": [
    {
     "data": {
      "text/html": [
       "<div>\n",
       "<style scoped>\n",
       "    .dataframe tbody tr th:only-of-type {\n",
       "        vertical-align: middle;\n",
       "    }\n",
       "\n",
       "    .dataframe tbody tr th {\n",
       "        vertical-align: top;\n",
       "    }\n",
       "\n",
       "    .dataframe thead th {\n",
       "        text-align: right;\n",
       "    }\n",
       "</style>\n",
       "<table border=\"1\" class=\"dataframe\">\n",
       "  <thead>\n",
       "    <tr style=\"text-align: right;\">\n",
       "      <th></th>\n",
       "      <th>price</th>\n",
       "    </tr>\n",
       "    <tr>\n",
       "      <th>app</th>\n",
       "      <th></th>\n",
       "    </tr>\n",
       "  </thead>\n",
       "  <tbody>\n",
       "    <tr>\n",
       "      <th>Uber</th>\n",
       "      <td>15.817583</td>\n",
       "    </tr>\n",
       "    <tr>\n",
       "      <th>Lyft</th>\n",
       "      <td>17.415107</td>\n",
       "    </tr>\n",
       "  </tbody>\n",
       "</table>\n",
       "</div>"
      ],
      "text/plain": [
       "          price\n",
       "app            \n",
       "Uber  15.817583\n",
       "Lyft  17.415107"
      ]
     },
     "execution_count": 70,
     "metadata": {},
     "output_type": "execute_result"
    }
   ],
   "source": [
    "uber_lyft_means = rideshare.groupby('app').mean().drop(columns='distance').sort_values(by='price', ascending=True)\n",
    "uber_lyft_means"
   ]
  },
  {
   "cell_type": "code",
   "execution_count": 71,
   "metadata": {
    "deletable": false,
    "editable": false
   },
   "outputs": [
    {
     "data": {
      "text/html": [
       "<p><strong><pre style='display: inline;'>q4_1</pre></strong> passed!</p>"
      ],
      "text/plain": [
       "q4_1 results: All test cases passed!"
      ]
     },
     "execution_count": 71,
     "metadata": {},
     "output_type": "execute_result"
    }
   ],
   "source": [
    "grader.check(\"q4_1\")"
   ]
  },
  {
   "cell_type": "markdown",
   "metadata": {},
   "source": [
    "**Question 4.2.** Based on the data we have, one rideshare app appears to be cheaper than the other. But the data we have access to is only a sample of all rides, and thus the mean prices we computed above are only sample statistics, not  population parameters. Let's now extend each of our estimates to create a confidence interval for the mean price of **all** rides on each app. We'll start with Uber.\n",
    "\n",
    "Produce 1,000 bootstrapped estimates for the mean price of **all** Uber rides. Store the estimates in the `uber_means` array. Then, use the `uber_means` array to calculate an approximate **99% confidence interval** for the true mean price of all Uber rides. Assign the endpoints of your interval to `lower_bound` and `upper_bound`.\n",
    "\n",
    "***Hint:*** Make sure to query **before** resampling!"
   ]
  },
  {
   "cell_type": "code",
   "execution_count": 72,
   "metadata": {},
   "outputs": [
    {
     "data": {
      "text/html": [
       "<div>\n",
       "<style scoped>\n",
       "    .dataframe tbody tr th:only-of-type {\n",
       "        vertical-align: middle;\n",
       "    }\n",
       "\n",
       "    .dataframe tbody tr th {\n",
       "        vertical-align: top;\n",
       "    }\n",
       "\n",
       "    .dataframe thead th {\n",
       "        text-align: right;\n",
       "    }\n",
       "</style>\n",
       "<table border=\"1\" class=\"dataframe\">\n",
       "  <thead>\n",
       "    <tr style=\"text-align: right;\">\n",
       "      <th></th>\n",
       "      <th>app</th>\n",
       "      <th>mode</th>\n",
       "      <th>destination</th>\n",
       "      <th>source</th>\n",
       "      <th>price</th>\n",
       "      <th>distance</th>\n",
       "    </tr>\n",
       "  </thead>\n",
       "  <tbody>\n",
       "    <tr>\n",
       "      <th>0</th>\n",
       "      <td>Uber</td>\n",
       "      <td>Black SUV</td>\n",
       "      <td>Beacon Hill</td>\n",
       "      <td>Northeastern University</td>\n",
       "      <td>31.5</td>\n",
       "      <td>2.61</td>\n",
       "    </tr>\n",
       "    <tr>\n",
       "      <th>1</th>\n",
       "      <td>Uber</td>\n",
       "      <td>Black</td>\n",
       "      <td>North Station</td>\n",
       "      <td>Haymarket Square</td>\n",
       "      <td>15.0</td>\n",
       "      <td>0.49</td>\n",
       "    </tr>\n",
       "    <tr>\n",
       "      <th>2</th>\n",
       "      <td>Uber</td>\n",
       "      <td>Black</td>\n",
       "      <td>Northeastern University</td>\n",
       "      <td>Back Bay</td>\n",
       "      <td>16.0</td>\n",
       "      <td>1.22</td>\n",
       "    </tr>\n",
       "    <tr>\n",
       "      <th>4</th>\n",
       "      <td>Uber</td>\n",
       "      <td>UberXL</td>\n",
       "      <td>Theatre District</td>\n",
       "      <td>Northeastern University</td>\n",
       "      <td>14.0</td>\n",
       "      <td>1.91</td>\n",
       "    </tr>\n",
       "    <tr>\n",
       "      <th>6</th>\n",
       "      <td>Uber</td>\n",
       "      <td>WAV</td>\n",
       "      <td>Haymarket Square</td>\n",
       "      <td>Beacon Hill</td>\n",
       "      <td>9.5</td>\n",
       "      <td>1.35</td>\n",
       "    </tr>\n",
       "    <tr>\n",
       "      <th>...</th>\n",
       "      <td>...</td>\n",
       "      <td>...</td>\n",
       "      <td>...</td>\n",
       "      <td>...</td>\n",
       "      <td>...</td>\n",
       "      <td>...</td>\n",
       "    </tr>\n",
       "    <tr>\n",
       "      <th>70502</th>\n",
       "      <td>Uber</td>\n",
       "      <td>UberPool</td>\n",
       "      <td>South Station</td>\n",
       "      <td>Beacon Hill</td>\n",
       "      <td>7.0</td>\n",
       "      <td>1.39</td>\n",
       "    </tr>\n",
       "    <tr>\n",
       "      <th>70503</th>\n",
       "      <td>Uber</td>\n",
       "      <td>Black</td>\n",
       "      <td>Financial District</td>\n",
       "      <td>North End</td>\n",
       "      <td>17.5</td>\n",
       "      <td>1.22</td>\n",
       "    </tr>\n",
       "    <tr>\n",
       "      <th>70508</th>\n",
       "      <td>Uber</td>\n",
       "      <td>UberXL</td>\n",
       "      <td>Beacon Hill</td>\n",
       "      <td>Fenway</td>\n",
       "      <td>15.0</td>\n",
       "      <td>2.48</td>\n",
       "    </tr>\n",
       "    <tr>\n",
       "      <th>70509</th>\n",
       "      <td>Uber</td>\n",
       "      <td>Black</td>\n",
       "      <td>Financial District</td>\n",
       "      <td>Boston University</td>\n",
       "      <td>33.0</td>\n",
       "      <td>4.72</td>\n",
       "    </tr>\n",
       "    <tr>\n",
       "      <th>70512</th>\n",
       "      <td>Uber</td>\n",
       "      <td>Black</td>\n",
       "      <td>North End</td>\n",
       "      <td>Financial District</td>\n",
       "      <td>16.0</td>\n",
       "      <td>1.21</td>\n",
       "    </tr>\n",
       "  </tbody>\n",
       "</table>\n",
       "<p>36540 rows × 6 columns</p>\n",
       "</div>"
      ],
      "text/plain": [
       "        app       mode              destination                   source  \\\n",
       "0      Uber  Black SUV              Beacon Hill  Northeastern University   \n",
       "1      Uber      Black            North Station         Haymarket Square   \n",
       "2      Uber      Black  Northeastern University                 Back Bay   \n",
       "4      Uber     UberXL         Theatre District  Northeastern University   \n",
       "6      Uber        WAV         Haymarket Square              Beacon Hill   \n",
       "...     ...        ...                      ...                      ...   \n",
       "70502  Uber   UberPool            South Station              Beacon Hill   \n",
       "70503  Uber      Black       Financial District                North End   \n",
       "70508  Uber     UberXL              Beacon Hill                   Fenway   \n",
       "70509  Uber      Black       Financial District        Boston University   \n",
       "70512  Uber      Black                North End       Financial District   \n",
       "\n",
       "       price  distance  \n",
       "0       31.5      2.61  \n",
       "1       15.0      0.49  \n",
       "2       16.0      1.22  \n",
       "4       14.0      1.91  \n",
       "6        9.5      1.35  \n",
       "...      ...       ...  \n",
       "70502    7.0      1.39  \n",
       "70503   17.5      1.22  \n",
       "70508   15.0      2.48  \n",
       "70509   33.0      4.72  \n",
       "70512   16.0      1.21  \n",
       "\n",
       "[36540 rows x 6 columns]"
      ]
     },
     "execution_count": 72,
     "metadata": {},
     "output_type": "execute_result"
    }
   ],
   "source": [
    "uber_df = rideshare[rideshare.get('app')=='Uber']\n",
    "uber_df"
   ]
  },
  {
   "cell_type": "code",
   "execution_count": 73,
   "metadata": {},
   "outputs": [
    {
     "data": {
      "text/html": [
       "<div>\n",
       "<style scoped>\n",
       "    .dataframe tbody tr th:only-of-type {\n",
       "        vertical-align: middle;\n",
       "    }\n",
       "\n",
       "    .dataframe tbody tr th {\n",
       "        vertical-align: top;\n",
       "    }\n",
       "\n",
       "    .dataframe thead th {\n",
       "        text-align: right;\n",
       "    }\n",
       "</style>\n",
       "<table border=\"1\" class=\"dataframe\">\n",
       "  <thead>\n",
       "    <tr style=\"text-align: right;\">\n",
       "      <th></th>\n",
       "      <th>app</th>\n",
       "      <th>mode</th>\n",
       "      <th>destination</th>\n",
       "      <th>source</th>\n",
       "      <th>price</th>\n",
       "      <th>distance</th>\n",
       "    </tr>\n",
       "  </thead>\n",
       "  <tbody>\n",
       "    <tr>\n",
       "      <th>3</th>\n",
       "      <td>Lyft</td>\n",
       "      <td>Lux Black XL</td>\n",
       "      <td>Boston University</td>\n",
       "      <td>Beacon Hill</td>\n",
       "      <td>32.5</td>\n",
       "      <td>2.26</td>\n",
       "    </tr>\n",
       "    <tr>\n",
       "      <th>5</th>\n",
       "      <td>Lyft</td>\n",
       "      <td>Lyft XL</td>\n",
       "      <td>Fenway</td>\n",
       "      <td>West End</td>\n",
       "      <td>16.5</td>\n",
       "      <td>2.90</td>\n",
       "    </tr>\n",
       "    <tr>\n",
       "      <th>7</th>\n",
       "      <td>Lyft</td>\n",
       "      <td>Lux Black</td>\n",
       "      <td>North Station</td>\n",
       "      <td>Boston University</td>\n",
       "      <td>27.5</td>\n",
       "      <td>3.48</td>\n",
       "    </tr>\n",
       "    <tr>\n",
       "      <th>19</th>\n",
       "      <td>Lyft</td>\n",
       "      <td>Lux</td>\n",
       "      <td>Beacon Hill</td>\n",
       "      <td>Boston University</td>\n",
       "      <td>19.5</td>\n",
       "      <td>2.65</td>\n",
       "    </tr>\n",
       "    <tr>\n",
       "      <th>24</th>\n",
       "      <td>Lyft</td>\n",
       "      <td>Lux Black XL</td>\n",
       "      <td>West End</td>\n",
       "      <td>North End</td>\n",
       "      <td>27.5</td>\n",
       "      <td>1.26</td>\n",
       "    </tr>\n",
       "    <tr>\n",
       "      <th>...</th>\n",
       "      <td>...</td>\n",
       "      <td>...</td>\n",
       "      <td>...</td>\n",
       "      <td>...</td>\n",
       "      <td>...</td>\n",
       "      <td>...</td>\n",
       "    </tr>\n",
       "    <tr>\n",
       "      <th>70506</th>\n",
       "      <td>Lyft</td>\n",
       "      <td>Lux</td>\n",
       "      <td>North End</td>\n",
       "      <td>Back Bay</td>\n",
       "      <td>19.5</td>\n",
       "      <td>2.66</td>\n",
       "    </tr>\n",
       "    <tr>\n",
       "      <th>70507</th>\n",
       "      <td>Lyft</td>\n",
       "      <td>Lyft</td>\n",
       "      <td>Haymarket Square</td>\n",
       "      <td>Financial District</td>\n",
       "      <td>7.0</td>\n",
       "      <td>1.00</td>\n",
       "    </tr>\n",
       "    <tr>\n",
       "      <th>70510</th>\n",
       "      <td>Lyft</td>\n",
       "      <td>Shared</td>\n",
       "      <td>South Station</td>\n",
       "      <td>Theatre District</td>\n",
       "      <td>3.5</td>\n",
       "      <td>0.59</td>\n",
       "    </tr>\n",
       "    <tr>\n",
       "      <th>70511</th>\n",
       "      <td>Lyft</td>\n",
       "      <td>Lux Black</td>\n",
       "      <td>Northeastern University</td>\n",
       "      <td>West End</td>\n",
       "      <td>30.0</td>\n",
       "      <td>3.11</td>\n",
       "    </tr>\n",
       "    <tr>\n",
       "      <th>70513</th>\n",
       "      <td>Lyft</td>\n",
       "      <td>Lux Black</td>\n",
       "      <td>North Station</td>\n",
       "      <td>South Station</td>\n",
       "      <td>19.5</td>\n",
       "      <td>1.69</td>\n",
       "    </tr>\n",
       "  </tbody>\n",
       "</table>\n",
       "<p>33974 rows × 6 columns</p>\n",
       "</div>"
      ],
      "text/plain": [
       "        app          mode              destination              source  price  \\\n",
       "3      Lyft  Lux Black XL        Boston University         Beacon Hill   32.5   \n",
       "5      Lyft       Lyft XL                   Fenway            West End   16.5   \n",
       "7      Lyft     Lux Black            North Station   Boston University   27.5   \n",
       "19     Lyft           Lux              Beacon Hill   Boston University   19.5   \n",
       "24     Lyft  Lux Black XL                 West End           North End   27.5   \n",
       "...     ...           ...                      ...                 ...    ...   \n",
       "70506  Lyft           Lux                North End            Back Bay   19.5   \n",
       "70507  Lyft          Lyft         Haymarket Square  Financial District    7.0   \n",
       "70510  Lyft        Shared            South Station    Theatre District    3.5   \n",
       "70511  Lyft     Lux Black  Northeastern University            West End   30.0   \n",
       "70513  Lyft     Lux Black            North Station       South Station   19.5   \n",
       "\n",
       "       distance  \n",
       "3          2.26  \n",
       "5          2.90  \n",
       "7          3.48  \n",
       "19         2.65  \n",
       "24         1.26  \n",
       "...         ...  \n",
       "70506      2.66  \n",
       "70507      1.00  \n",
       "70510      0.59  \n",
       "70511      3.11  \n",
       "70513      1.69  \n",
       "\n",
       "[33974 rows x 6 columns]"
      ]
     },
     "execution_count": 73,
     "metadata": {},
     "output_type": "execute_result"
    }
   ],
   "source": [
    "lyft_df = rideshare[rideshare.get('app')=='Lyft']\n",
    "lyft_df"
   ]
  },
  {
   "cell_type": "code",
   "execution_count": 74,
   "metadata": {},
   "outputs": [
    {
     "data": {
      "text/plain": [
       "array([15.89689381, 15.89678435, 15.83691845, 15.7372879 , 15.79974001,\n",
       "       15.80385878, 15.9081965 , 15.82870826, 15.83360701, 15.82275588,\n",
       "       15.79813903, 15.79764641, 15.74544335, 15.78050082, 15.84099617,\n",
       "       15.85856596, 15.81657088, 15.78289546, 15.85500821, 15.80784072,\n",
       "       15.87422003, 15.89225506, 15.83799945, 15.74746853, 15.81209633,\n",
       "       15.79356869, 15.76944444, 15.81993706, 15.79284346, 15.80833333,\n",
       "       15.84646962, 15.76718664, 15.79912425, 15.83259442, 15.83810892,\n",
       "       15.85305145, 15.84235085, 15.84708539, 15.75857964, 15.7765873 ,\n",
       "       15.81143952, 15.82718938, 15.75348933, 15.83925835, 15.868815  ,\n",
       "       15.80834702, 15.88773946, 15.84637384, 15.88568692, 15.92465791,\n",
       "       15.87026546, 15.85881226, 15.69668856, 15.87052545, 15.825     ,\n",
       "       15.87936508, 15.81267105, 15.8757526 , 15.76264368, 15.76952655,\n",
       "       15.92739464, 15.83659004, 15.73552271, 15.72972085, 15.78275862,\n",
       "       15.86013957, 15.78876574, 15.865052  , 15.81254789, 15.82957033,\n",
       "       15.77525999, 15.78635742, 15.74120142, 15.78441434, 15.74485495,\n",
       "       15.79733169, 15.80715654, 15.84251505, 15.83041872, 15.7702381 ,\n",
       "       15.86863711, 15.79553914, 15.80290093, 15.81527094, 15.75671866,\n",
       "       15.84512863, 15.84835796, 15.80718391, 15.78217022, 15.80659551,\n",
       "       15.68607006, 15.79237822, 15.80645868, 15.78598796, 15.7295977 ,\n",
       "       15.82327586, 15.81606459, 15.80322934, 15.81970443, 15.81869184,\n",
       "       15.77337165, 15.88149973, 15.81312261, 15.88089765, 15.82177066,\n",
       "       15.75236727, 15.79488232, 15.81553093, 15.84341817, 15.8371237 ,\n",
       "       15.85509031, 15.91574986, 15.84808429, 15.90114943, 15.7959907 ,\n",
       "       15.85121784, 15.85012315, 15.84692118, 15.80982485, 15.7046798 ,\n",
       "       15.87572523, 15.82008758, 15.87924193, 15.8221538 , 15.833867  ,\n",
       "       15.82427477, 15.77509579, 15.77885878, 15.87348112, 15.80838807,\n",
       "       15.89859059, 15.79696223, 15.84507389, 15.82012863, 15.85718391,\n",
       "       15.8122058 , 15.7039272 , 15.79319923, 15.83481117, 15.82973454,\n",
       "       15.73858785, 15.68295019, 15.80904488, 15.77430213, 15.93158183,\n",
       "       15.8794335 , 15.85775862, 15.8802682 , 15.81844554, 15.72625889,\n",
       "       15.83534483, 15.7809387 , 15.803763  , 15.83422277, 15.91018062,\n",
       "       15.75946907, 15.84050356, 15.78711002, 15.81631089, 15.81291735,\n",
       "       15.85098522, 15.88986043, 15.8288451 , 15.81569513, 15.84501916,\n",
       "       15.79434866, 15.80396825, 15.83063766, 15.84711275, 15.84839901,\n",
       "       15.81495621, 15.83292282, 15.82887247, 15.84875479, 15.86436782,\n",
       "       15.81758347, 15.84839901, 15.84567597, 15.82393268, 15.8211549 ,\n",
       "       15.80592501, 15.85246305, 15.78983306, 15.79391078, 15.78522167,\n",
       "       15.84246032, 15.88215654, 15.79458128, 15.79960317, 15.82070334,\n",
       "       15.87145594, 15.87854406, 15.81837712, 15.79560755, 15.74176245,\n",
       "       15.8377121 , 15.86631089, 15.80581554, 15.76009852, 15.80027367,\n",
       "       15.76621511, 15.7357006 , 15.87746305, 15.82309797, 15.75503558,\n",
       "       15.84382868, 15.80177887, 15.81039956, 15.77560208, 15.77457581,\n",
       "       15.84649699, 15.77874932, 15.87677887, 15.83388068, 15.8331965 ,\n",
       "       15.77759989, 15.8714012 , 15.76562671, 15.7766694 , 15.85897646,\n",
       "       15.80829228, 15.80229885, 15.82183908, 15.77528736, 15.85621237,\n",
       "       15.80224412, 15.90377668, 15.81848659, 15.82275588, 15.72805145,\n",
       "       15.81262999, 15.78539956, 15.7786809 , 15.85491242, 15.74158456,\n",
       "       15.77439792, 15.87528736, 15.79300766, 15.78672687, 15.76211002,\n",
       "       15.78108922, 15.83113027, 15.85552819, 15.79051724, 15.80046524,\n",
       "       15.79630542, 15.79704433, 15.91038588, 15.85803229, 15.86211002,\n",
       "       15.74229611, 15.87178435, 15.7627942 , 15.79920635, 15.86609195,\n",
       "       15.80005473, 15.90454297, 15.84428024, 15.85275041, 15.83994253,\n",
       "       15.78708265, 15.78245758, 15.7758347 , 15.80696497, 15.84274767,\n",
       "       15.79031199, 15.88767105, 15.85097154, 15.81720033, 15.81778872,\n",
       "       15.81373837, 15.80857964, 15.8714012 , 15.79185824, 15.78994253,\n",
       "       15.83255337, 15.79703065, 15.78054187, 15.86711823, 15.81056377,\n",
       "       15.84288451, 15.76599617, 15.71276683, 15.73509852, 15.86127531,\n",
       "       15.76154899, 15.83305966, 15.79276136, 15.80095785, 15.76573618,\n",
       "       15.98210181, 15.78619321, 15.77504105, 15.82985769, 15.80433771,\n",
       "       15.81766557, 15.82775041, 15.86825397, 15.8203202 , 15.8558566 ,\n",
       "       15.85604817, 15.82888615, 15.76234264, 15.85344828, 15.80387247,\n",
       "       15.9264231 , 15.85641762, 15.78479748, 15.78671319, 15.80343459,\n",
       "       15.79336344, 15.81380679, 15.83096606, 15.82034756, 15.78940887,\n",
       "       15.79226875, 15.86276683, 15.80249042, 15.84651067, 15.85498084,\n",
       "       15.78602901, 15.79740011, 15.84280241, 15.80257252, 15.77060755,\n",
       "       15.7786809 , 15.8030925 , 15.82141489, 15.76186371, 15.8339491 ,\n",
       "       15.87609469, 15.75859332, 15.76399836, 15.77264641, 15.72472633,\n",
       "       15.79032567, 15.85738916, 15.91111111, 15.83044609, 15.75857964,\n",
       "       15.81353311, 15.83222496, 15.7719896 , 15.7801861 , 15.83048714,\n",
       "       15.82315271, 15.78191024, 15.85331144, 15.76947181, 15.75165572,\n",
       "       15.81761084, 15.88030925, 15.80974275, 15.89469075, 15.82590312,\n",
       "       15.83028188, 15.81293103, 15.84304871, 15.89537493, 15.87924193,\n",
       "       15.87695676, 15.81282157, 15.75521346, 15.77398741, 15.84215928,\n",
       "       15.84178982, 15.88493432, 15.81219212, 15.80322934, 15.76178161,\n",
       "       15.81366995, 15.84950739, 15.79198139, 15.82193487, 15.80068418,\n",
       "       15.78865627, 15.80845649, 15.8872058 , 15.7948139 , 15.75922277,\n",
       "       15.86555829, 15.80925014, 15.71427203, 15.84057198, 15.9052682 ,\n",
       "       15.79154351, 15.7664751 , 15.87983032, 15.77339901, 15.81945813,\n",
       "       15.77787356, 15.9152162 , 15.75656814, 15.8456486 , 15.77747674,\n",
       "       15.88990148, 15.84024357, 15.77272852, 15.82818829, 15.83092501,\n",
       "       15.84879584, 15.79614122, 15.75079365, 15.85530925, 15.83869732,\n",
       "       15.9158867 , 15.75581554, 15.8326902 , 15.83145868, 15.82490421,\n",
       "       15.80951013, 15.85914067, 15.80206623, 15.80385878, 15.80354406,\n",
       "       15.82877668, 15.84885057, 15.830104  , 15.84302135, 15.90815545,\n",
       "       15.90831965, 15.82738095, 15.82779146, 15.85581554, 15.87510947,\n",
       "       15.91574986, 15.81886973, 15.73497537, 15.89469075, 15.83847838,\n",
       "       15.7782567 , 15.74637384, 15.84452655, 15.87775041, 15.82594417,\n",
       "       15.79663383, 15.86420361, 15.78903941, 15.86951286, 15.76995074,\n",
       "       15.8121237 , 15.8704023 , 15.82458949, 15.80688287, 15.81562671,\n",
       "       15.77870826, 15.66955391, 15.92939245, 15.86752874, 15.75472085,\n",
       "       15.90841544, 15.87720307, 15.73383963, 15.81724138, 15.79589491,\n",
       "       15.7741653 , 15.83856048, 15.8317734 , 15.84967159, 15.84560755,\n",
       "       15.76425835, 15.80893541, 15.797578  , 15.87122332, 15.8173098 ,\n",
       "       15.76598248, 15.84618227, 15.75663656, 15.81724138, 15.80822386,\n",
       "       15.7697318 , 15.80818281, 15.82183908, 15.77879037, 15.79534756,\n",
       "       15.81997811, 15.83942255, 15.90272304, 15.81784346, 15.79802956,\n",
       "       15.81943076, 15.82348112, 15.77204433, 15.76395731, 15.7441434 ,\n",
       "       15.85770389, 15.79198139, 15.77145594, 15.83735632, 15.80781336,\n",
       "       15.80062945, 15.87850301, 15.86765189, 15.77576628, 15.91553093,\n",
       "       15.8591133 , 15.77141489, 15.79864532, 15.79415709, 15.84830323,\n",
       "       15.8234948 , 15.7317734 , 15.82974822, 15.81372469, 15.88665846,\n",
       "       15.84792009, 15.76718664, 15.86891078, 15.77729885, 15.89652436,\n",
       "       15.87350848, 15.69574439, 15.80202518, 15.78420909, 15.83683634,\n",
       "       15.73732895, 15.81321839, 15.75849754, 15.85577449, 15.86743295,\n",
       "       15.81470991, 15.79964423, 15.78061029, 15.74589491, 15.75179256,\n",
       "       15.75959223, 15.82469896, 15.82037493, 15.77226327, 15.87807882,\n",
       "       15.79044882, 15.85814176, 15.75517241, 15.82400109, 15.8280925 ,\n",
       "       15.80151888, 15.87114122, 15.77846196, 15.82807882, 15.84460865,\n",
       "       15.83674056, 15.83832786, 15.87894089, 15.79281609, 15.77862616,\n",
       "       15.9145457 , 15.85363985, 15.73348385, 15.74423919, 15.84896004,\n",
       "       15.80993432, 15.84169403, 15.7764231 , 15.81807608, 15.90971538,\n",
       "       15.86384784, 15.85600712, 15.8780104 , 15.79103722, 15.76097427,\n",
       "       15.82640941, 15.78256705, 15.81018062, 15.82382321, 15.74220033,\n",
       "       15.79232348, 15.86226054, 15.84366448, 15.77759989, 15.8270936 ,\n",
       "       15.79064039, 15.80436508, 15.90097154, 15.72532841, 15.79651067,\n",
       "       15.83058292, 15.86912972, 15.82855774, 15.89559387, 15.83515326,\n",
       "       15.84744116, 15.79304871, 15.90243569, 15.85569239, 15.86986864,\n",
       "       15.85885331, 15.7544335 , 15.76023536, 15.83975096, 15.86570881,\n",
       "       15.77430213, 15.80998905, 15.86744663, 15.86257526, 15.76885605,\n",
       "       15.86676245, 15.81818555, 15.81189108, 15.80805966, 15.85253147,\n",
       "       15.7630405 , 15.77646415, 15.76268473, 15.84678435, 15.97353585,\n",
       "       15.85893541, 15.77315271, 15.80324302, 15.80039683, 15.75239464,\n",
       "       15.8074439 , 15.8280925 , 15.836289  , 15.82278325, 15.77569787,\n",
       "       15.86903394, 15.83024083, 15.7561029 , 15.89137931, 15.7691434 ,\n",
       "       15.79284346, 15.77233169, 15.71943076, 15.85276409, 15.832526  ,\n",
       "       15.82067597, 15.86276683, 15.76309524, 15.79311713, 15.65370826,\n",
       "       15.82914614, 15.75992063, 15.84667488, 15.84378763, 15.79324028,\n",
       "       15.74022989, 15.80240832, 15.86376574, 15.74837165, 15.77706623,\n",
       "       15.88356596, 15.8879584 , 15.86815818, 15.83928571, 15.80500821,\n",
       "       15.78180077, 15.8751642 , 15.8309387 , 15.86115216, 15.81272578,\n",
       "       15.78994253, 15.85759442, 15.77684729, 15.74800219, 15.84659278,\n",
       "       15.80276409, 15.79447181, 15.797578  , 15.81488779, 15.77973454,\n",
       "       15.81960865, 15.85700602, 15.82438424, 15.77220854, 15.84380131,\n",
       "       15.77870826, 15.87963875, 15.78886152, 15.83794472, 15.75269568,\n",
       "       15.89178982, 15.84488232, 15.88649425, 15.89158456, 15.79103722,\n",
       "       15.78407225, 15.82761357, 15.85415982, 15.8515052 , 15.78918993,\n",
       "       15.93104817, 15.79091407, 15.78988779, 15.80982485, 15.79901478,\n",
       "       15.79545703, 15.82638205, 15.89574439, 15.82442529, 15.82961138,\n",
       "       15.88200602, 15.83401752, 15.86093322, 15.84679803, 15.81376574,\n",
       "       15.83951834, 15.83481117, 15.86424466, 15.79350027, 15.84496442,\n",
       "       15.78191024, 15.80674603, 15.85080733, 15.78509852, 15.81141215,\n",
       "       15.80804598, 15.81425835, 15.84549808, 15.80663656, 15.87643678,\n",
       "       15.7944855 , 15.77489053, 15.87027915, 15.80673235, 15.78515326,\n",
       "       15.78869732, 15.82406951, 15.79752326, 15.78189655, 15.8015873 ,\n",
       "       15.83538588, 15.81150794, 15.7665572 , 15.82427477, 15.81013957,\n",
       "       15.79976738, 15.77047072, 15.78282704, 15.76543514, 15.85784072,\n",
       "       15.76380679, 15.80885331, 15.85132731, 15.77075807, 15.89574439,\n",
       "       15.84948002, 15.74625068, 15.78613848, 15.93544061, 15.83564587,\n",
       "       15.72587575, 15.81091954, 15.80719759, 15.81694034, 15.89911056,\n",
       "       15.8152162 , 15.84901478, 15.78824576, 15.84248768, 15.76666667,\n",
       "       15.88604269, 15.81748768, 15.81211002, 15.81182266, 15.86480569,\n",
       "       15.82037493, 15.8228243 , 15.89131089, 15.86495621, 15.79206349,\n",
       "       15.86778872, 15.78760263, 15.76834975, 15.80343459, 15.81937603,\n",
       "       15.77736727, 15.79961686, 15.85545977, 15.75135468, 15.8418856 ,\n",
       "       15.89545703, 15.85881226, 15.83096606, 15.79399288, 15.73455118,\n",
       "       15.84007937, 15.85948276, 15.85582923, 15.77326218, 15.83708265,\n",
       "       15.8645457 , 15.86538041, 15.81152162, 15.76583196, 15.747578  ,\n",
       "       15.76670772, 15.77386426, 15.89259715, 15.8369595 , 15.8164751 ,\n",
       "       15.83633005, 15.75587028, 15.92487685, 15.82710728, 15.81186371,\n",
       "       15.77186645, 15.81899288, 15.81299945, 15.81324576, 15.79508758,\n",
       "       15.81780241, 15.88087028, 15.83292282, 15.78197865, 15.81198686,\n",
       "       15.75689655, 15.86046798, 15.82972085, 15.81992337, 15.78092501,\n",
       "       15.81833607, 15.81290367, 15.8706486 , 15.794896  , 15.71484674,\n",
       "       15.73136289, 15.73895731, 15.69657909, 15.74761905, 15.767474  ,\n",
       "       15.81327313, 15.85041051, 15.8414751 , 15.77515052, 15.75414614,\n",
       "       15.84094143, 15.88091133, 15.82461686, 15.80414614, 15.84839901,\n",
       "       15.85495348, 15.79077723, 15.77601259, 15.88741106, 15.70002737,\n",
       "       15.8326081 , 15.89995895, 15.80306513, 15.83654899, 15.8045156 ,\n",
       "       15.81479201, 15.84696223, 15.81525725, 15.77519157, 15.76772031,\n",
       "       15.78145868, 15.86186371, 15.82089491, 15.72478106, 15.89091407,\n",
       "       15.81772031, 15.82798303, 15.85363985, 15.88299124, 15.69997263,\n",
       "       15.74952107, 15.86198686, 15.83379858, 15.77573892, 15.79700328,\n",
       "       15.82484948, 15.85097154, 15.81546251, 15.88582375, 15.7923919 ,\n",
       "       15.73918993, 15.87553366, 15.7895457 , 15.88675424, 15.76958128,\n",
       "       15.81674877, 15.79818008, 15.92624521, 15.79006568, 15.76759715,\n",
       "       15.86030378, 15.82996716, 15.75789546, 15.78069239, 15.82984401,\n",
       "       15.79048987, 15.90179256, 15.89276136, 15.84482759, 15.77300219,\n",
       "       15.81245211, 15.75849754, 15.7894636 , 15.80429666, 15.77330323,\n",
       "       15.83806787, 15.82261905, 15.86468254, 15.84772852, 15.81345101,\n",
       "       15.78582375, 15.73152709, 15.82705255, 15.73987411, 15.82356322,\n",
       "       15.83029557, 15.78273125, 15.82571155, 15.93678161, 15.86383415,\n",
       "       15.84122879, 15.80010947, 15.90461138, 15.79126984, 15.74967159,\n",
       "       15.7926382 , 15.83716475, 15.86135742, 15.86402573, 15.7649699 ,\n",
       "       15.84162562, 15.74443076, 15.7558566 , 15.74114669, 15.86929392,\n",
       "       15.88154078, 15.72609469, 15.81778872, 15.80461138, 15.73983306,\n",
       "       15.89040777, 15.77691571, 15.87082649, 15.80343459, 15.88979201,\n",
       "       15.72055282, 15.81581828, 15.81444992, 15.81273946, 15.74209086,\n",
       "       15.86172687, 15.82577997, 15.83891626, 15.79796114, 15.78515326,\n",
       "       15.81011221, 15.77999453, 15.84748221, 15.78364806, 15.82973454,\n",
       "       15.87785988, 15.74408867, 15.7952381 , 15.8377942 , 15.80539135,\n",
       "       15.80127258, 15.81710454, 15.80732074, 15.77806513, 15.80176519,\n",
       "       15.79522441, 15.70719759, 15.81966338, 15.76694034, 15.87879037,\n",
       "       15.77665572, 15.70700602, 15.91190476, 15.81528462, 15.8289272 ,\n",
       "       15.75294198, 15.828763  , 15.80354406, 15.8028462 , 15.77853038,\n",
       "       15.83825944, 15.79874111, 15.80507663, 15.81824028, 15.79893268,\n",
       "       15.84688013, 15.87318008, 15.85714286, 15.74943897, 15.77645047,\n",
       "       15.71551724, 15.79266557, 15.82149699, 15.80432403, 15.78895731,\n",
       "       15.77739464, 15.80955118, 15.80448823, 15.75266831, 15.78585112,\n",
       "       15.68342912, 15.80483032, 15.86548987, 15.83593322, 15.87458949,\n",
       "       15.87573892, 15.82475369, 15.816133  , 15.8430624 , 15.84904215])"
      ]
     },
     "execution_count": 74,
     "metadata": {},
     "output_type": "execute_result"
    }
   ],
   "source": [
    "uber_means = np.array([])\n",
    "for i in np.arange(1000):\n",
    "    resample = uber_df.sample(uber_df.shape[0], replace=True)\n",
    "    resample_proportion = resample.get('price').mean()\n",
    "    uber_means = np.append(uber_means, resample_proportion)\n",
    "\n",
    "uber_means"
   ]
  },
  {
   "cell_type": "code",
   "execution_count": 75,
   "metadata": {},
   "outputs": [
    {
     "data": {
      "text/plain": [
       "'A 99% confidence interval for the average Uber ride price is [15.695696018062398, 15.931050834701697].'"
      ]
     },
     "execution_count": 75,
     "metadata": {},
     "output_type": "execute_result"
    },
    {
     "data": {
      "image/png": "[encoded data removed]",
      "text/plain": [
       "<Figure size 720x360 with 1 Axes>"
      ]
     },
     "metadata": {},
     "output_type": "display_data"
    }
   ],
   "source": [
    "#uber_means = ...\n",
    "\n",
    "\n",
    "lower_bound = np.percentile(uber_means, 0.5)\n",
    "upper_bound = np.percentile(uber_means, 99.5)\n",
    "\n",
    "# Display the estimates in a histogram.\n",
    "bpd.DataFrame().assign(Estimated_Mean_Price=uber_means).plot(kind='hist', density=True, ec='w', figsize=(10, 5), title='Uber');\n",
    "plt.plot([lower_bound, upper_bound], [0, 0], color='gold', linewidth=10, label='99% confidence interval');\n",
    "\n",
    "# Don't change what's below (though you will need to copy and change it in 4.3).\n",
    "app_name = 'Uber'\n",
    "f'A 99% confidence interval for the average {app_name} ride price is [{lower_bound}, {upper_bound}].'"
   ]
  },
  {
   "cell_type": "code",
   "execution_count": 76,
   "metadata": {
    "deletable": false,
    "editable": false
   },
   "outputs": [
    {
     "data": {
      "text/html": [
       "<p><strong><pre style='display: inline;'>q4_2</pre></strong> passed!</p>"
      ],
      "text/plain": [
       "q4_2 results: All test cases passed!"
      ]
     },
     "execution_count": 76,
     "metadata": {},
     "output_type": "execute_result"
    }
   ],
   "source": [
    "grader.check(\"q4_2\")"
   ]
  },
  {
   "cell_type": "markdown",
   "metadata": {},
   "source": [
    "**Question 4.3.** Now we want to calculate the corresponding confidence interval for Lyft. Instead of copying our code from Question 4.2 and changing it to work for Lyft, let's write a more general function that works for _both_ Uber and Lyft. \n",
    "\n",
    "Create a function called `app_and_hist`, which takes in the name of a ridesharing app as a string, and:\n",
    "1. **Plots the histogram** of 1,000 bootstrapped estimates for that app's mean price.\n",
    "2. **Returns** a string describing the approximate 99% confidence interval for that app's mean price, formatted in the same way as the string displayed for Uber in Question 4.2. \n",
    "\n",
    "***Notes:*** \n",
    "- Make sure your function both plots a histogram and **returns** a string. For example, `mode_and_hist('Uber')` should return a string that starts with `'A 99% confidence interval for the average Uber ride price is'`. It's ok if you see the return string displayed before the plot.\n",
    "- The string displayed at the end of Question 4.2 was created using a feature of Python called f-strings. You'll need to copy and change that f-string expression. Read [this article](https://realpython.com/python-f-strings/#simple-syntax) for more details about f-strings if you're interested."
   ]
  },
  {
   "cell_type": "code",
   "execution_count": 77,
   "metadata": {
    "scrolled": true
   },
   "outputs": [
    {
     "name": "stdout",
     "output_type": "stream",
     "text": [
      "A 99% confidence interval for the average Uber ride price is [15.70238088396278, 15.920887588943623].\n",
      "A 99% confidence interval for the average Lyft ride price is [17.27950847265556, 17.574063963619235].\n"
     ]
    },
    {
     "data": {
      "image/png": "[encoded data removed]",
      "text/plain": [
       "<Figure size 720x360 with 1 Axes>"
      ]
     },
     "metadata": {},
     "output_type": "display_data"
    },
    {
     "data": {
      "image/png": "[encoded data removed]",
      "text/plain": [
       "<Figure size 720x360 with 1 Axes>"
      ]
     },
     "metadata": {},
     "output_type": "display_data"
    }
   ],
   "source": [
    "def app_and_hist(app_name):\n",
    "    app_df = rideshare[rideshare.get('app')==app_name]\n",
    "    app_means = np.array([])\n",
    "    for i in np.arange(1000):\n",
    "        resample = app_df.sample(app_df.shape[0], replace=True)\n",
    "        resample_proportion = resample.get('price').mean()\n",
    "        app_means = np.append(app_means, resample_proportion)\n",
    "        \n",
    "    lower_bound = np.percentile(app_means, 0.5)\n",
    "    upper_bound = np.percentile(app_means, 99.5)\n",
    "\n",
    "    # Display the estimates in a histogram.\n",
    "    bpd.DataFrame().assign(Estimated_Mean_Price=app_means).plot(kind='hist', density=True, ec='w', figsize=(10, 5), title=app_name);\n",
    "    plt.plot([lower_bound, upper_bound], [0, 0], color='gold', linewidth=10, label='99% confidence interval');\n",
    "\n",
    "    # Don't change what's below (though you will need to copy and change it in 4.3).\n",
    "    app_name = app_name\n",
    "    \n",
    "    return f'A 99% confidence interval for the average {app_name} ride price is [{lower_bound}, {upper_bound}].'   \n",
    "    \n",
    "    \n",
    "# Example calls to the function. Don't change the lines below.\n",
    "uber_string = app_and_hist('Uber')\n",
    "print(uber_string)\n",
    "lyft_string = app_and_hist('Lyft')\n",
    "print(lyft_string)"
   ]
  },
  {
   "cell_type": "code",
   "execution_count": 78,
   "metadata": {
    "deletable": false,
    "editable": false
   },
   "outputs": [
    {
     "data": {
      "text/html": [
       "<p><strong><pre style='display: inline;'>q4_3</pre></strong> passed!</p>"
      ],
      "text/plain": [
       "q4_3 results: All test cases passed!"
      ]
     },
     "execution_count": 78,
     "metadata": {},
     "output_type": "execute_result"
    }
   ],
   "source": [
    "grader.check(\"q4_3\")"
   ]
  },
  {
   "cell_type": "markdown",
   "metadata": {},
   "source": [
    "## Finish Line: Almost there, but make sure to follow the steps below to submit! 🏁\n",
    "\n",
    "**_Citations:_** Did you use any generative artificial intelligence tools to assist you on this assignment? If so, please state, for each tool you used, the name of the tool (ex. ChatGPT) and the problem(s) in this assignment where you used the tool for help."
   ]
  },
  {
   "cell_type": "markdown",
   "metadata": {},
   "source": [
    "<hr style=\"color:Maroon;background-color:Maroon;border:0 none; height: 3px;\">\n",
    "\n",
    "Please cite tools here.\n",
    "\n",
    "<hr style=\"color:Maroon;background-color:Maroon;border:0 none; height: 3px;\">"
   ]
  },
  {
   "cell_type": "markdown",
   "metadata": {},
   "source": [
    "To submit your assignment:\n",
    "\n",
    "1. Select `Kernel -> Restart & Run All` to ensure that you have executed all cells, including the test cells.\n",
    "2. Read through the notebook to make sure everything is fine and all tests passed.\n",
    "3. Run the cell below to run all tests, and make sure that they all pass.\n",
    "4. Download your notebook using `File -> Download as -> Notebook (.ipynb)`, then upload your notebook to Gradescope.\n",
    "5. Stick around while the Gradescope autograder grades your work. Make sure you see that all tests have passed on Gradescope.\n",
    "6. Check that you have a confirmation email from Gradescope and save it as proof of your submission. "
   ]
  },
  {
   "cell_type": "code",
   "execution_count": 79,
   "metadata": {},
   "outputs": [
    {
     "data": {
      "text/plain": [
       "q1_1 results: All test cases passed!\n",
       "\n",
       "q1_2 results: All test cases passed!\n",
       "\n",
       "q1_3 results: All test cases passed!\n",
       "\n",
       "q1_4 results: All test cases passed!\n",
       "\n",
       "q1_5 results: All test cases passed!\n",
       "\n",
       "q2_1 results: All test cases passed!\n",
       "\n",
       "q2_2 results: All test cases passed!\n",
       "\n",
       "q2_3 results: All test cases passed!\n",
       "\n",
       "q2_4 results: All test cases passed!\n",
       "\n",
       "q2_5 results: All test cases passed!\n",
       "\n",
       "q3_1 results: All test cases passed!\n",
       "\n",
       "q3_10 results: All test cases passed!\n",
       "\n",
       "q3_2 results: All test cases passed!\n",
       "\n",
       "q3_3 results: All test cases passed!\n",
       "\n",
       "q3_4 results: All test cases passed!\n",
       "\n",
       "q3_5 results: All test cases passed!\n",
       "\n",
       "q3_6 results: All test cases passed!\n",
       "\n",
       "q3_7 results: All test cases passed!\n",
       "\n",
       "q3_8 results: All test cases passed!\n",
       "\n",
       "q3_9 results: All test cases passed!\n",
       "\n",
       "q4_1 results: All test cases passed!\n",
       "\n",
       "q4_2 results: All test cases passed!\n",
       "\n",
       "q4_3 results: All test cases passed!"
      ]
     },
     "execution_count": 79,
     "metadata": {},
     "output_type": "execute_result"
    }
   ],
   "source": [
    "grader.check_all()"
   ]
  },
  {
   "cell_type": "code",
   "execution_count": null,
   "metadata": {},
   "outputs": [],
   "source": []
  }
 ],
 "metadata": {
  "kernelspec": {
   "display_name": "Python 3",
   "language": "python",
   "name": "python3"
  },
  "language_info": {
   "codemirror_mode": {
    "name": "ipython",
    "version": 3
   },
   "file_extension": ".py",
   "mimetype": "text/x-python",
   "name": "python",
   "nbconvert_exporter": "python",
   "pygments_lexer": "ipython3",
   "version": "3.8.5"
  }
 },
 "nbformat": 4,
 "nbformat_minor": 4
}
