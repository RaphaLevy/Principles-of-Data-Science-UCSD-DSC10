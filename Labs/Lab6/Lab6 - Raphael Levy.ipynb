{
 "cells": [
  {
   "cell_type": "markdown",
   "id": "structured-empire",
   "metadata": {},
   "source": [
    "# Lab 6: Hypothesis Testing\n",
    "\n",
    "## Due Thursday, May 23rd at 11:59PM\n",
    "\n",
    "Welcome to Lab 6! In this assignment, we'll develop a further understanding of hypothesis testing, which you can learn more about in [CIT 11](https://inferentialthinking.com/chapters/11/Testing_Hypotheses.html). The relevant lectures are Lectures 19, 20, and 21.\n",
    "\n",
    "You should complete this entire lab so that all tests pass and submit it to Gradescope by 11:59PM on the due date."
   ]
  },
  {
   "cell_type": "code",
   "execution_count": 1,
   "id": "moving-music",
   "metadata": {},
   "outputs": [],
   "source": [
    "import numpy as np\n",
    "import babypandas as bpd\n",
    "import math\n",
    "\n",
    "import matplotlib.pyplot as plt\n",
    "plt.style.use('ggplot')\n",
    "plt.rcParams['figure.figsize'] = (10, 5)\n",
    "\n",
    "# import otter\n",
    "# grader = otter.Notebook()"
   ]
  },
  {
   "cell_type": "markdown",
   "id": "secondary-healthcare",
   "metadata": {},
   "source": [
    "## 1. Therapeutic Touch 👆"
   ]
  },
  {
   "cell_type": "markdown",
   "id": "black-harassment",
   "metadata": {},
   "source": [
    "Therapeutic Touch (TT) is an energy therapy that practitioners claim can promote health and relaxation. Practitioners place their hands near a patient and say they are able to detect and manipulate the patient's so-called Human Energy Field (HEF). \n",
    "TT was popular throughout the 20th century and was touted as a great way to bring balance to a person's health. You can [read more about TT here](https://www.mountsinai.org/health-library/treatment/therapeutic-touch).\n",
    "\n",
    "### Emily Rosa's Experiment\n",
    "\n",
    "In 1996, Emily Rosa was a 9 year old who had wide exposure to the world of TT due to her parents, who were both medical practitioners and skeptics of the idea of TT. For her 4th grade science fair project, Emily decided to test whether or not TT practitioners could truly interact with a person's HEF. \n",
    "\n",
    "Emily's experiment was clean, simple, and effective. Due to her parents' occupations in the medical field, she had easy access to TT practitioners. With each practitioner, she performed the following experiment several times over several days.\n",
    "\n",
    "1. First, she would separate herself from the practitioner with a board, so they couldn't see each other.\n",
    "1. Then she'd ask them to place both of their hands through an opening in the board. \n",
    "1. Emily would flip a fair coin to randomly determine whether to place her hands near the practitioner's left hand or right hand. \n",
    "1. Finally, Emily would ask the TT practitioner to specify whether they could detect Emily's Human Energy Field (HEF) near their left hand or their right hand. \n",
    "\n",
    "Overall, Emily performed 280 experiments, and the practitioner picked the correct hand 123 times.\n",
    "\n",
    "Emily's main goal here was to test whether or not the TT practitioners' guesses were random, like the flip of a coin. In most medical experiments, this is the norm. We want to test whether or not some treatment has an effect. This is *not* the same as testing whether the treatment actually works as intended. \n",
    "\n",
    "We will now begin to formulate Emily's experiment in terms of the hypothesis terminology we've learned recently."
   ]
  },
  {
   "cell_type": "markdown",
   "id": "traditional-bride",
   "metadata": {},
   "source": [
    "<!-- BEGIN QUESTION -->\n",
    "\n",
    "**Question 1.1.** What are the null and alternative hypotheses for Emily's experiment? Write both of your answers in the cell below.\n",
    "\n",
    "<!--\n",
    "BEGIN QUESTION\n",
    "name: q1_1\n",
    "manual: true\n",
    "-->"
   ]
  },
  {
   "cell_type": "markdown",
   "id": "silent-dialogue",
   "metadata": {},
   "source": [
    "The null hypothesis for Emily's experiment is that their guess is random, while the alternative hypothesis is that it is not random, and instead they truly detect the HEF."
   ]
  },
  {
   "cell_type": "markdown",
   "id": "fabulous-ladder",
   "metadata": {},
   "source": [
    "<!-- END QUESTION -->\n",
    "\n",
    "\n",
    "\n",
    "**Question 1.2.** Remember that in 280 experiments, the practitioner guessed the correct hand 123 times. According to the null hypothesis, on average, what proportion of times do we expect the practitioner to guess the correct hand? Make sure your answer is between 0 and 1. "
   ]
  },
  {
   "cell_type": "code",
   "execution_count": 2,
   "id": "instructional-hammer",
   "metadata": {},
   "outputs": [
    {
     "data": {
      "text/plain": [
       "0.5"
      ]
     },
     "execution_count": 2,
     "metadata": {},
     "output_type": "execute_result"
    }
   ],
   "source": [
    "expected_correct = 280*0.5/280\n",
    "expected_correct"
   ]
  },
  {
   "cell_type": "code",
   "execution_count": 3,
   "id": "embedded-doctrine",
   "metadata": {},
   "outputs": [
    {
     "data": {
      "text/plain": [
       "0.4392857142857143"
      ]
     },
     "execution_count": 3,
     "metadata": {},
     "output_type": "execute_result"
    }
   ],
   "source": [
    "actual_correct = 123/280\n",
    "actual_correct"
   ]
  },
  {
   "cell_type": "markdown",
   "id": "black-appeal",
   "metadata": {},
   "source": [
    "The goal now is to see if our deviation from this expected proportion of correct answers is due to something other than chance. \n",
    "\n",
    "**Question 1.3.** Which of the following is the best statistic for testing this model? Assign `best_stat` to 1, 2, or 3.\n",
    "\n",
    "1. The difference between the expected proportion of correct answers and the actual proportion of correct answers.\n",
    "2. The absolute difference between the expected proportion of correct answers and the actual proportion of correct answers.\n",
    "3. The sum of the expected proportion of correct answers and the actual proportion of  correct answers."
   ]
  },
  {
   "cell_type": "code",
   "execution_count": 4,
   "id": "prompt-lancaster",
   "metadata": {},
   "outputs": [],
   "source": [
    "best_stat = 2"
   ]
  },
  {
   "cell_type": "markdown",
   "id": "designing-shopping",
   "metadata": {},
   "source": [
    "***Note:*** If you initially answered 1.3 incorrectly, take some time to review the [coin flipping example in Lecture 20](https://dsc10.com/resources/lectures/lec20/lec20.html#Example:-Is-our-coin-fair?) before proceeding."
   ]
  },
  {
   "cell_type": "markdown",
   "id": "protecting-manufacturer",
   "metadata": {},
   "source": [
    "**Question 1.4.** Complete the implementation of the function `calculate_test_stat`, which takes in an expected proportion and an actual proportion and returns the value of the test statistic you chose (as a proportion between 0 and 1). Assume that both inputs are proportions between 0 and 1."
   ]
  },
  {
   "cell_type": "code",
   "execution_count": 5,
   "id": "saving-deposit",
   "metadata": {},
   "outputs": [],
   "source": [
    "def calculate_test_stat(expected_prop, actual_prop):\n",
    "    return abs(expected_prop - actual_prop)"
   ]
  },
  {
   "cell_type": "code",
   "execution_count": 6,
   "id": "ruled-positive",
   "metadata": {},
   "outputs": [
    {
     "data": {
      "text/plain": [
       "0.09999999999999998"
      ]
     },
     "execution_count": 6,
     "metadata": {},
     "output_type": "execute_result"
    }
   ],
   "source": [
    "calculate_test_stat(0.6, 0.5)"
   ]
  },
  {
   "cell_type": "code",
   "execution_count": 7,
   "id": "attached-guinea",
   "metadata": {},
   "outputs": [
    {
     "data": {
      "text/plain": [
       "0.30000000000000004"
      ]
     },
     "execution_count": 7,
     "metadata": {},
     "output_type": "execute_result"
    }
   ],
   "source": [
    "calculate_test_stat(0.1, 0.4)"
   ]
  },
  {
   "cell_type": "markdown",
   "id": "liquid-reduction",
   "metadata": {},
   "source": [
    "**Question 1.5.** Use your newly defined function to calculate the observed test statistic for Emily's experiment. "
   ]
  },
  {
   "cell_type": "code",
   "execution_count": 8,
   "id": "specified-sampling",
   "metadata": {},
   "outputs": [
    {
     "data": {
      "text/plain": [
       "0.06071428571428572"
      ]
     },
     "execution_count": 8,
     "metadata": {},
     "output_type": "execute_result"
    }
   ],
   "source": [
    "observed_test_stat = calculate_test_stat(expected_correct, actual_correct)\n",
    "observed_test_stat"
   ]
  },
  {
   "cell_type": "markdown",
   "id": "cardiovascular-taste",
   "metadata": {},
   "source": [
    "**Is this test statistic likely if the null hypothesis is true? Or is the deviation from the expected proportion due to something other than chance?**\n",
    "\n",
    "In order to answer this question, we need to see how our test statistic would come out if the null hypothesis were true, to see if our observed test statistic is similar. Therefore, we will simulate Emily's experiment assuming that the null hypothesis is true, and calculate the test statistic for each simulation. \n",
    "\n",
    "**Question 1.6.** To begin simulating, start by creating an array which has two items in it. The first item should be the proportion of times, assuming the null hypothesis is true, a TT practitioner detects Emily's HEF correctly. The second item should be the proportion of times, under the same assumption, that the TT practitioner makes an incorrect guess. Assign `model_proportions` to this array. \n",
    "\n",
    "After this, use the `np.random.multinomial` function to simulate Emily repeating her experiment 280 times (the same number of experiments she did in real life), and assign the proportion of correct guesses to `simulation_proportion`. Lastly, define `one_simulated_test_stat` to be the test statistic of this one simulation. \n",
    "\n",
    "***Hint:*** See Lecture 19 or [the documentation for `np.random.multinomial`](https://numpy.org/doc/stable/reference/random/generated/numpy.random.multinomial.html) for guidance."
   ]
  },
  {
   "cell_type": "code",
   "execution_count": 9,
   "id": "inclusive-profit",
   "metadata": {},
   "outputs": [
    {
     "data": {
      "text/plain": [
       "0.5"
      ]
     },
     "execution_count": 9,
     "metadata": {},
     "output_type": "execute_result"
    }
   ],
   "source": [
    "expected_correct"
   ]
  },
  {
   "cell_type": "code",
   "execution_count": 10,
   "id": "removable-submission",
   "metadata": {},
   "outputs": [
    {
     "data": {
      "text/plain": [
       "0.0035714285714285587"
      ]
     },
     "execution_count": 10,
     "metadata": {},
     "output_type": "execute_result"
    }
   ],
   "source": [
    "model_proportions = np.array([expected_correct, 1-expected_correct])\n",
    "simulation_proportion = np.random.multinomial(280, [expected_correct]+[1-expected_correct], size=280)\n",
    "simulation_proportion = simulation_proportion[0][0]/280\n",
    "#simulation_proportion\n",
    "one_simulated_test_stat = np.abs(simulation_proportion - expected_correct)\n",
    "one_simulated_test_stat"
   ]
  },
  {
   "cell_type": "code",
   "execution_count": 11,
   "id": "removable-joyce",
   "metadata": {},
   "outputs": [
    {
     "data": {
      "text/plain": [
       "True"
      ]
     },
     "execution_count": 11,
     "metadata": {},
     "output_type": "execute_result"
    }
   ],
   "source": [
    "sum(model_proportions) == 1"
   ]
  },
  {
   "cell_type": "code",
   "execution_count": 12,
   "id": "located-wagon",
   "metadata": {},
   "outputs": [
    {
     "data": {
      "text/plain": [
       "array([0.5])"
      ]
     },
     "execution_count": 12,
     "metadata": {},
     "output_type": "execute_result"
    }
   ],
   "source": [
    "np.unique(model_proportions)"
   ]
  },
  {
   "cell_type": "code",
   "execution_count": 13,
   "id": "fallen-philosophy",
   "metadata": {},
   "outputs": [
    {
     "data": {
      "text/plain": [
       "0.5035714285714286"
      ]
     },
     "execution_count": 13,
     "metadata": {},
     "output_type": "execute_result"
    }
   ],
   "source": [
    "simulation_proportion"
   ]
  },
  {
   "cell_type": "code",
   "execution_count": 14,
   "id": "wanted-needle",
   "metadata": {},
   "outputs": [
    {
     "data": {
      "text/plain": [
       "0.0035714285714285587"
      ]
     },
     "execution_count": 14,
     "metadata": {},
     "output_type": "execute_result"
    }
   ],
   "source": [
    "np.abs(0.5 - simulation_proportion)"
   ]
  },
  {
   "cell_type": "markdown",
   "id": "successful-organization",
   "metadata": {},
   "source": [
    "**Question 1.7.** Let's now see what the distribution of test statistics is actually like under our null hypothesis. Assign `simulated_test_stats` to an array of 10,000 test statistics that you simulate, under the assumption that the null hypothesis is true.\n",
    "\n",
    "***Hint:*** You'll need to re-use most of the code you wrote in 1.6."
   ]
  },
  {
   "cell_type": "code",
   "execution_count": 15,
   "id": "molecular-western",
   "metadata": {},
   "outputs": [],
   "source": [
    "num_repetitions = 10000\n",
    "simulated_test_stats = np.array([])\n",
    "for i in range(num_repetitions):\n",
    "    simulation_proportion_q1_7 = np.random.multinomial(280, [expected_correct]+[1-expected_correct], size=num_repetitions)\n",
    "    simulation_proportion_q1_7 = simulation_proportion_q1_7[0][0]/280\n",
    "    one_simulated_test_stat_q1_7 = np.abs(simulation_proportion_q1_7 - expected_correct)\n",
    "    simulated_test_stats = np.append(simulated_test_stats, one_simulated_test_stat_q1_7)"
   ]
  },
  {
   "cell_type": "code",
   "execution_count": 16,
   "id": "tropical-department",
   "metadata": {},
   "outputs": [
    {
     "data": {
      "text/plain": [
       "array([0.03214286, 0.01785714, 0.00357143, ..., 0.        , 0.025     ,\n",
       "       0.        ])"
      ]
     },
     "execution_count": 16,
     "metadata": {},
     "output_type": "execute_result"
    }
   ],
   "source": [
    "simulated_test_stats"
   ]
  },
  {
   "cell_type": "markdown",
   "id": "bored-gothic",
   "metadata": {},
   "source": [
    "Let's view the distribution of the simulated test statistics under the null, to see how the observed test statistic compares to the simulated ones. "
   ]
  },
  {
   "cell_type": "code",
   "execution_count": 17,
   "id": "essential-techno",
   "metadata": {},
   "outputs": [
    {
     "data": {
      "text/plain": [
       "0.06071428571428572"
      ]
     },
     "execution_count": 17,
     "metadata": {},
     "output_type": "execute_result"
    }
   ],
   "source": [
    "observed_test_stat"
   ]
  },
  {
   "cell_type": "code",
   "execution_count": 18,
   "id": "moral-veteran",
   "metadata": {},
   "outputs": [
    {
     "data": {
      "image/png": "[encoded data removed]",
      "text/plain": [
       "<Figure size 1000x500 with 1 Axes>"
      ]
     },
     "metadata": {},
     "output_type": "display_data"
    }
   ],
   "source": [
    "t = bpd.DataFrame().assign(Simulated_Test_Statistics=simulated_test_stats)\n",
    "t.plot(kind='hist', density=True, ec='w', bins=np.arange(0, 0.15, 0.005), figsize=(10, 5))\n",
    "plt.axvline(x=observed_test_stat, color='black', label='observed statistic', linewidth=4)\n",
    "plt.legend();\n",
    "plt.show()"
   ]
  },
  {
   "cell_type": "markdown",
   "id": "representative-ottawa",
   "metadata": {},
   "source": [
    "We can make a visual argument as to whether or not we believe the observed test statistic is likely to occur under the null, or we can use the definition of p-values to help us make a more formal argument. \n",
    "\n",
    "**Question 1.8.** First, let's remember what a p-value is. Assign `p_def` to the integer corresponding to the correct definition of a p-value. \n",
    "\n",
    "1. The chance, under the null hypothesis, that the test statistic is equal to the value that was observed.\n",
    "2. The chance, under the null hypothesis, that the test statistic is equal to the value that was observed or is even further in the direction of the alternative.\n",
    "3. The chance, under the alternative hypothesis, that the test statistic is equal to the value that was observed or is even further in the direction of the null.\n",
    "4. The number of times, under the null hypothesis, that the test statistic is equal to the value that was observed or is even further in the direction of the alternative."
   ]
  },
  {
   "cell_type": "code",
   "execution_count": 19,
   "id": "demographic-triangle",
   "metadata": {},
   "outputs": [],
   "source": [
    "p_def = 2"
   ]
  },
  {
   "cell_type": "markdown",
   "id": "assured-garden",
   "metadata": {},
   "source": [
    "**Question 1.9.** Using the definition above, calculate the p-value for Emily's experiment and assign it to `emily_p_val`. \n",
    "\n",
    "***Hint:*** Do large values of our test statistic make you lean towards the null or alternative? Refer to Lecture 21 or [CIT 11.1](https://inferentialthinking.com/chapters/11/1/Assessing_a_Model.html) for examples."
   ]
  },
  {
   "cell_type": "code",
   "execution_count": 20,
   "id": "seasonal-algorithm",
   "metadata": {},
   "outputs": [
    {
     "data": {
      "text/plain": [
       "array([0.03214286, 0.01785714, 0.00357143, ..., 0.        , 0.025     ,\n",
       "       0.        ])"
      ]
     },
     "execution_count": 20,
     "metadata": {},
     "output_type": "execute_result"
    }
   ],
   "source": [
    "simulated_test_stats"
   ]
  },
  {
   "cell_type": "code",
   "execution_count": 21,
   "id": "increasing-courtesy",
   "metadata": {},
   "outputs": [
    {
     "data": {
      "text/plain": [
       "0.06071428571428572"
      ]
     },
     "execution_count": 21,
     "metadata": {},
     "output_type": "execute_result"
    }
   ],
   "source": [
    "observed_test_stat"
   ]
  },
  {
   "cell_type": "code",
   "execution_count": 22,
   "id": "combined-trading",
   "metadata": {},
   "outputs": [
    {
     "data": {
      "text/plain": [
       "0.125"
      ]
     },
     "execution_count": 22,
     "metadata": {},
     "output_type": "execute_result"
    }
   ],
   "source": [
    "max(simulated_test_stats)"
   ]
  },
  {
   "cell_type": "code",
   "execution_count": 23,
   "id": "modern-electron",
   "metadata": {},
   "outputs": [
    {
     "data": {
      "text/html": [
       "<div>\n",
       "<style scoped>\n",
       "    .dataframe tbody tr th:only-of-type {\n",
       "        vertical-align: middle;\n",
       "    }\n",
       "\n",
       "    .dataframe tbody tr th {\n",
       "        vertical-align: top;\n",
       "    }\n",
       "\n",
       "    .dataframe thead th {\n",
       "        text-align: right;\n",
       "    }\n",
       "</style>\n",
       "<table border=\"1\" class=\"dataframe\">\n",
       "  <thead>\n",
       "    <tr style=\"text-align: right;\">\n",
       "      <th></th>\n",
       "      <th>simulated_test_stat</th>\n",
       "      <th>larger_than_observed_stat</th>\n",
       "    </tr>\n",
       "  </thead>\n",
       "  <tbody>\n",
       "    <tr>\n",
       "      <th>0</th>\n",
       "      <td>0.032143</td>\n",
       "      <td>False</td>\n",
       "    </tr>\n",
       "    <tr>\n",
       "      <th>1</th>\n",
       "      <td>0.017857</td>\n",
       "      <td>False</td>\n",
       "    </tr>\n",
       "    <tr>\n",
       "      <th>2</th>\n",
       "      <td>0.003571</td>\n",
       "      <td>False</td>\n",
       "    </tr>\n",
       "    <tr>\n",
       "      <th>3</th>\n",
       "      <td>0.017857</td>\n",
       "      <td>False</td>\n",
       "    </tr>\n",
       "    <tr>\n",
       "      <th>4</th>\n",
       "      <td>0.028571</td>\n",
       "      <td>False</td>\n",
       "    </tr>\n",
       "    <tr>\n",
       "      <th>...</th>\n",
       "      <td>...</td>\n",
       "      <td>...</td>\n",
       "    </tr>\n",
       "    <tr>\n",
       "      <th>9995</th>\n",
       "      <td>0.046429</td>\n",
       "      <td>False</td>\n",
       "    </tr>\n",
       "    <tr>\n",
       "      <th>9996</th>\n",
       "      <td>0.003571</td>\n",
       "      <td>False</td>\n",
       "    </tr>\n",
       "    <tr>\n",
       "      <th>9997</th>\n",
       "      <td>0.000000</td>\n",
       "      <td>False</td>\n",
       "    </tr>\n",
       "    <tr>\n",
       "      <th>9998</th>\n",
       "      <td>0.025000</td>\n",
       "      <td>False</td>\n",
       "    </tr>\n",
       "    <tr>\n",
       "      <th>9999</th>\n",
       "      <td>0.000000</td>\n",
       "      <td>False</td>\n",
       "    </tr>\n",
       "  </tbody>\n",
       "</table>\n",
       "<p>10000 rows × 2 columns</p>\n",
       "</div>"
      ],
      "text/plain": [
       "      simulated_test_stat  larger_than_observed_stat\n",
       "0                0.032143                      False\n",
       "1                0.017857                      False\n",
       "2                0.003571                      False\n",
       "3                0.017857                      False\n",
       "4                0.028571                      False\n",
       "...                   ...                        ...\n",
       "9995             0.046429                      False\n",
       "9996             0.003571                      False\n",
       "9997             0.000000                      False\n",
       "9998             0.025000                      False\n",
       "9999             0.000000                      False\n",
       "\n",
       "[10000 rows x 2 columns]"
      ]
     },
     "execution_count": 23,
     "metadata": {},
     "output_type": "execute_result"
    }
   ],
   "source": [
    "get_p_value_df = bpd.DataFrame()\n",
    "get_p_value_df = get_p_value_df.assign(simulated_test_stat = simulated_test_stats)\n",
    "greater_than_observed = get_p_value_df.get('simulated_test_stat') >= observed_test_stat\n",
    "get_p_value_df = get_p_value_df.assign(larger_than_observed_stat = greater_than_observed)\n",
    "#greater_than_observed\n",
    "get_p_value_df"
   ]
  },
  {
   "cell_type": "code",
   "execution_count": 24,
   "id": "willing-manner",
   "metadata": {},
   "outputs": [
    {
     "data": {
      "text/plain": [
       "0.0482"
      ]
     },
     "execution_count": 24,
     "metadata": {},
     "output_type": "execute_result"
    }
   ],
   "source": [
    "emily_p_val = get_p_value_df[get_p_value_df.get('simulated_test_stat')>=observed_test_stat].shape[0] / get_p_value_df.shape[0]  #actual_correct #1-observed_test_stat\n",
    "emily_p_val"
   ]
  },
  {
   "cell_type": "code",
   "execution_count": 25,
   "id": "committed-pound",
   "metadata": {},
   "outputs": [
    {
     "data": {
      "text/plain": [
       "482.0"
      ]
     },
     "execution_count": 25,
     "metadata": {},
     "output_type": "execute_result"
    }
   ],
   "source": [
    "emily_p_val * 10000"
   ]
  },
  {
   "cell_type": "code",
   "execution_count": 26,
   "id": "national-movie",
   "metadata": {},
   "outputs": [
    {
     "data": {
      "text/plain": [
       "0.0442"
      ]
     },
     "execution_count": 26,
     "metadata": {},
     "output_type": "execute_result"
    }
   ],
   "source": [
    "442/10000"
   ]
  },
  {
   "cell_type": "code",
   "execution_count": 27,
   "id": "clean-renewal",
   "metadata": {},
   "outputs": [
    {
     "data": {
      "text/plain": [
       "482"
      ]
     },
     "execution_count": 27,
     "metadata": {},
     "output_type": "execute_result"
    }
   ],
   "source": [
    "np.count_nonzero(simulated_test_stats >= observed_test_stat)"
   ]
  },
  {
   "cell_type": "markdown",
   "id": "classical-router",
   "metadata": {},
   "source": [
    "Since we want to be very sure about the effectiveness of medical treatments, let's use a significance level of 0.01, the standard convention for being \"highly statistically significant.\" This means that if our p-value is less than or equal to 0.01, then we reject the null hypothesis in favor of the alternative. Otherwise, we fail to reject the null hypothesis. **Note that this does not mean we accept the null hypothesis as correct, but rather, that we don't have enough evidence to reject it.**\n",
    "\n",
    "Your p-value and this convention should help you make your own conclusions about Emily Rosa's experiment. \n",
    "\n",
    "Therapeutic Touch fell out of use after this experiment, which was eventually [accepted into a premier medical journal](https://pubmed.ncbi.nlm.nih.gov/9533499/). TT practitioners hit back and accused Emily and her family of tampering with the results, while some claimed that Emily's bad spiritual mood towards Therapeutic Touch made it difficult to read her HEF. Whatever it may be, Emily's experiment is a classic example about how anyone, with the right resources, can test anything they want!"
   ]
  },
  {
   "cell_type": "markdown",
   "id": "severe-client",
   "metadata": {},
   "source": [
    "## 2. YouTube Advertisements ▶️"
   ]
  },
  {
   "cell_type": "markdown",
   "id": "productive-platinum",
   "metadata": {},
   "source": [
    "YouTube, the world's largest video sharing platform, generates revenue from advertisements that appear before and during videos.\n",
    "\n",
    "Suppose that YouTube publicly released a statement revealing that 94% of their advertisements are skippable (meaning that, supposedly, only 6% of their advertisements cannot be skipped). \n",
    "\n",
    "King Triton, UCSD's trusty mascot, wanted to test if this claim was accurate. He clicked on several videos, and recorded whether or not the advertisements on each video were skippable. He watched videos until he reached 100 advertisements, and found that 16 of them were unskippable, or only 84% were skippable. King Triton is irritated and believes that YouTube's claim of 94% is too high. Let's investigate!"
   ]
  },
  {
   "cell_type": "markdown",
   "id": "governmental-airplane",
   "metadata": {},
   "source": [
    "<!-- BEGIN QUESTION -->\n",
    "\n",
    "**Question 2.1.** You decide to run a hypothesis test. What are the null and alternative hypotheses for your test? Write both answers in the cell below.\n",
    "\n",
    "<!--\n",
    "BEGIN QUESTION\n",
    "name: q2_1\n",
    "manual: true\n",
    "-->"
   ]
  },
  {
   "cell_type": "markdown",
   "id": "dirty-spread",
   "metadata": {},
   "source": [
    "The null hypothesis is that YouTube is telling the truth, and 94% of adds are skippable. The alternative hypothesis is that only 84% of them are skippable."
   ]
  },
  {
   "cell_type": "markdown",
   "id": "broad-bearing",
   "metadata": {},
   "source": [
    "<!-- END QUESTION -->\n",
    "\n",
    "\n",
    "\n",
    "**Question 2.2.** Assign `null_probabilities` to a two-item *array* such that the **first** element is the chance that a YouTube advertisement is **skippable**, and the **second** element is the chance that a YouTube advertisement is **unskippable**, under the assumptions of the **null hypothesis**."
   ]
  },
  {
   "cell_type": "code",
   "execution_count": 28,
   "id": "interesting-jerusalem",
   "metadata": {},
   "outputs": [
    {
     "data": {
      "text/plain": [
       "array([0.94, 0.06])"
      ]
     },
     "execution_count": 28,
     "metadata": {},
     "output_type": "execute_result"
    }
   ],
   "source": [
    "null_probabilities = np.array([0.94, 0.06])\n",
    "null_probabilities"
   ]
  },
  {
   "cell_type": "markdown",
   "id": "utility-repair",
   "metadata": {},
   "source": [
    "**Question 2.3.** Using the array you defined above, simulate the act of watching 100 YouTube advertisements, 10,000 times. Create an array called `unskippable_counts` containing the **number of unskippable advertisements** in each simulation."
   ]
  },
  {
   "cell_type": "code",
   "execution_count": 29,
   "id": "informed-runner",
   "metadata": {},
   "outputs": [
    {
     "data": {
      "text/plain": [
       "10000"
      ]
     },
     "execution_count": 29,
     "metadata": {},
     "output_type": "execute_result"
    }
   ],
   "source": [
    "num_repetitions"
   ]
  },
  {
   "cell_type": "code",
   "execution_count": 30,
   "id": "beautiful-despite",
   "metadata": {},
   "outputs": [
    {
     "data": {
      "text/plain": [
       "array([6., 6., 7., ..., 6., 6., 3.])"
      ]
     },
     "execution_count": 30,
     "metadata": {},
     "output_type": "execute_result"
    }
   ],
   "source": [
    "unskippable_counts = np.array([])\n",
    "for i in range(num_repetitions):\n",
    "    gets_prob_skip_unskip = np.random.multinomial(100, null_probabilities)\n",
    "    unskippable_counts = np.append(unskippable_counts, gets_prob_skip_unskip[1])\n",
    "unskippable_counts    "
   ]
  },
  {
   "cell_type": "code",
   "execution_count": 31,
   "id": "lesbian-biology",
   "metadata": {},
   "outputs": [
    {
     "data": {
      "text/plain": [
       "5.9576"
      ]
     },
     "execution_count": 31,
     "metadata": {},
     "output_type": "execute_result"
    }
   ],
   "source": [
    "np.mean(unskippable_counts)"
   ]
  },
  {
   "cell_type": "markdown",
   "id": "artistic-distribution",
   "metadata": {},
   "source": [
    "Run the cell below to visualize the results of the simulation."
   ]
  },
  {
   "cell_type": "code",
   "execution_count": 32,
   "id": "compact-davis",
   "metadata": {},
   "outputs": [
    {
     "data": {
      "image/png": "[encoded data removed]",
      "text/plain": [
       "<Figure size 1000x500 with 1 Axes>"
      ]
     },
     "metadata": {},
     "output_type": "display_data"
    }
   ],
   "source": [
    "bpd.DataFrame().assign(unskippable_counts = unskippable_counts) \\\n",
    "               .plot(kind='hist', density=True, bins=np.arange(20), ec='w', figsize=(10, 5))\n",
    "plt.axvline(x=16, color='black', label='observed statistic', linewidth=4)\n",
    "plt.legend();\n",
    "plt.show()"
   ]
  },
  {
   "cell_type": "markdown",
   "id": "every-ideal",
   "metadata": {},
   "source": [
    "**Question 2.4.** Use the results of the simulation to calculate the p-value for this hypothesis test and assign your answer to `unskippable_p_val`."
   ]
  },
  {
   "cell_type": "code",
   "execution_count": 33,
   "id": "exclusive-arbor",
   "metadata": {},
   "outputs": [
    {
     "data": {
      "text/html": [
       "<div>\n",
       "<style scoped>\n",
       "    .dataframe tbody tr th:only-of-type {\n",
       "        vertical-align: middle;\n",
       "    }\n",
       "\n",
       "    .dataframe tbody tr th {\n",
       "        vertical-align: top;\n",
       "    }\n",
       "\n",
       "    .dataframe thead th {\n",
       "        text-align: right;\n",
       "    }\n",
       "</style>\n",
       "<table border=\"1\" class=\"dataframe\">\n",
       "  <thead>\n",
       "    <tr style=\"text-align: right;\">\n",
       "      <th></th>\n",
       "      <th>unskippable_count</th>\n",
       "      <th>larger_than_observed_stat</th>\n",
       "    </tr>\n",
       "  </thead>\n",
       "  <tbody>\n",
       "    <tr>\n",
       "      <th>0</th>\n",
       "      <td>6.0</td>\n",
       "      <td>False</td>\n",
       "    </tr>\n",
       "    <tr>\n",
       "      <th>1</th>\n",
       "      <td>6.0</td>\n",
       "      <td>False</td>\n",
       "    </tr>\n",
       "    <tr>\n",
       "      <th>2</th>\n",
       "      <td>7.0</td>\n",
       "      <td>False</td>\n",
       "    </tr>\n",
       "    <tr>\n",
       "      <th>3</th>\n",
       "      <td>4.0</td>\n",
       "      <td>False</td>\n",
       "    </tr>\n",
       "    <tr>\n",
       "      <th>4</th>\n",
       "      <td>5.0</td>\n",
       "      <td>False</td>\n",
       "    </tr>\n",
       "    <tr>\n",
       "      <th>...</th>\n",
       "      <td>...</td>\n",
       "      <td>...</td>\n",
       "    </tr>\n",
       "    <tr>\n",
       "      <th>9995</th>\n",
       "      <td>5.0</td>\n",
       "      <td>False</td>\n",
       "    </tr>\n",
       "    <tr>\n",
       "      <th>9996</th>\n",
       "      <td>2.0</td>\n",
       "      <td>False</td>\n",
       "    </tr>\n",
       "    <tr>\n",
       "      <th>9997</th>\n",
       "      <td>6.0</td>\n",
       "      <td>False</td>\n",
       "    </tr>\n",
       "    <tr>\n",
       "      <th>9998</th>\n",
       "      <td>6.0</td>\n",
       "      <td>False</td>\n",
       "    </tr>\n",
       "    <tr>\n",
       "      <th>9999</th>\n",
       "      <td>3.0</td>\n",
       "      <td>False</td>\n",
       "    </tr>\n",
       "  </tbody>\n",
       "</table>\n",
       "<p>10000 rows × 2 columns</p>\n",
       "</div>"
      ],
      "text/plain": [
       "      unskippable_count  larger_than_observed_stat\n",
       "0                   6.0                      False\n",
       "1                   6.0                      False\n",
       "2                   7.0                      False\n",
       "3                   4.0                      False\n",
       "4                   5.0                      False\n",
       "...                 ...                        ...\n",
       "9995                5.0                      False\n",
       "9996                2.0                      False\n",
       "9997                6.0                      False\n",
       "9998                6.0                      False\n",
       "9999                3.0                      False\n",
       "\n",
       "[10000 rows x 2 columns]"
      ]
     },
     "execution_count": 33,
     "metadata": {},
     "output_type": "execute_result"
    }
   ],
   "source": [
    "get_p_value_yt = bpd.DataFrame()\n",
    "get_p_value_yt = get_p_value_yt.assign(unskippable_count = unskippable_counts)\n",
    "greater_than_observed_yt = get_p_value_yt.get('unskippable_count') >= 16\n",
    "get_p_value_yt = get_p_value_yt.assign(larger_than_observed_stat = greater_than_observed_yt)\n",
    "#greater_than_observed\n",
    "get_p_value_yt"
   ]
  },
  {
   "cell_type": "code",
   "execution_count": 34,
   "id": "proof-language",
   "metadata": {},
   "outputs": [
    {
     "data": {
      "text/plain": [
       "0.0001"
      ]
     },
     "execution_count": 34,
     "metadata": {},
     "output_type": "execute_result"
    }
   ],
   "source": [
    "unskippable_p_val = get_p_value_yt[get_p_value_yt.get('unskippable_count')>=16].shape[0] / get_p_value_yt.shape[0]\n",
    "unskippable_p_val"
   ]
  },
  {
   "cell_type": "markdown",
   "id": "therapeutic-rocket",
   "metadata": {},
   "source": [
    "You should be able to tell, both from the histogram and from the p-value you calculated, that YouTube seems to have more unskippable advertisements than they claim! Perhaps they had a typo in their announcement and meant to say 84% instead of 94%?"
   ]
  },
  {
   "cell_type": "markdown",
   "id": "national-shield",
   "metadata": {},
   "source": [
    "Congratulations! You are done with Lab 6.\n"
   ]
  },
  {
   "cell_type": "code",
   "execution_count": null,
   "id": "false-manhattan",
   "metadata": {},
   "outputs": [],
   "source": []
  }
 ],
 "metadata": {
  "kernelspec": {
   "display_name": "Python 3",
   "language": "python",
   "name": "python3"
  },
  "language_info": {
   "codemirror_mode": {
    "name": "ipython",
    "version": 3
   },
   "file_extension": ".py",
   "mimetype": "text/x-python",
   "name": "python",
   "nbconvert_exporter": "python",
   "pygments_lexer": "ipython3",
   "version": "3.8.5"
  }
 },
 "nbformat": 4,
 "nbformat_minor": 5
}
