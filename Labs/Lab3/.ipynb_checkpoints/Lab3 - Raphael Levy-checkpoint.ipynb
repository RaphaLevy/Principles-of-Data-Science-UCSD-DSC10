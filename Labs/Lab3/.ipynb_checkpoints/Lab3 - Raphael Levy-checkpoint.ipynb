{
 "cells": [
  {
   "cell_type": "markdown",
   "id": "senior-missile",
   "metadata": {},
   "source": [
    "# Lab 3: DataFrames, Control Flow, and Probability\n",
    "\n",
    "## Due Thursday, April 25th at 11:59PM\n",
    "\n",
    "Welcome to Lab 3! This week, we will go over more DataFrame manipulation techniques, conditionals and iteration, and introduce the concept of randomness. You should complete this entire lab so that all tests pass and submit it to Gradescope by 11:59PM on the due date.\n",
    "\n",
    "Refer to the following readings:\n",
    "- Grouping with subgroups (see [BPD 11.4](https://notes.dsc10.com/02-data_sets/groupby.html#subgroups))\n",
    "- Merging DataFrames (see [BPD 13](https://notes.dsc10.com/02-data_sets/merging.html))\n",
    "- Conditional statements (see [CIT 9.1](https://inferentialthinking.com/chapters/09/1/Conditional_Statements.html))\n",
    "- Iteration (see [CIT 9.2](https://inferentialthinking.com/chapters/09/2/Iteration.html))\n",
    "- Probability (see [CIT 9.5](https://inferentialthinking.com/chapters/09/5/Finding_Probabilities.html))\n",
    "\n",
    "First, set up the tests and imports by running the cell below."
   ]
  },
  {
   "cell_type": "code",
   "execution_count": 1,
   "id": "color-recycling",
   "metadata": {},
   "outputs": [],
   "source": [
    "import numpy as np\n",
    "import babypandas as bpd\n",
    "\n",
    "import matplotlib\n",
    "import matplotlib.pyplot as plt\n",
    "plt.style.use('ggplot')\n",
    "\n",
    "# import otter\n",
    "# grader = otter.Notebook()"
   ]
  },
  {
   "cell_type": "markdown",
   "id": "static-boulder",
   "metadata": {},
   "source": [
    "## 1. California National Parks 🏞️ 🐻\n",
    "\n",
    "In this question, we'll take a closer look at the `.merge` and `.groupby` DataFrame methods.\n",
    "\n",
    "We will be working with two DataFrames, `parks` and `species`, which provide information on California National Parks and the species of plants and animals found there, respectively. These are a subset of a [larger dataset provided by the National Park Service](https://www.kaggle.com/nationalparkservice/park-biodiversity).\n",
    "\n",
    "Run the cells below to load in our data. "
   ]
  },
  {
   "cell_type": "code",
   "execution_count": 2,
   "id": "classical-uncertainty",
   "metadata": {},
   "outputs": [
    {
     "data": {
      "text/html": [
       "<div>\n",
       "<style scoped>\n",
       "    .dataframe tbody tr th:only-of-type {\n",
       "        vertical-align: middle;\n",
       "    }\n",
       "\n",
       "    .dataframe tbody tr th {\n",
       "        vertical-align: top;\n",
       "    }\n",
       "\n",
       "    .dataframe thead th {\n",
       "        text-align: right;\n",
       "    }\n",
       "</style>\n",
       "<table border=\"1\" class=\"dataframe\">\n",
       "  <thead>\n",
       "    <tr style=\"text-align: right;\">\n",
       "      <th></th>\n",
       "      <th>Park Code</th>\n",
       "      <th>Park Name</th>\n",
       "      <th>State</th>\n",
       "      <th>Acres</th>\n",
       "      <th>Latitude</th>\n",
       "      <th>Longitude</th>\n",
       "    </tr>\n",
       "  </thead>\n",
       "  <tbody>\n",
       "    <tr>\n",
       "      <th>0</th>\n",
       "      <td>CHIS</td>\n",
       "      <td>Channel Islands National Park</td>\n",
       "      <td>CA</td>\n",
       "      <td>249561</td>\n",
       "      <td>34.01</td>\n",
       "      <td>-119.42</td>\n",
       "    </tr>\n",
       "    <tr>\n",
       "      <th>1</th>\n",
       "      <td>JOTR</td>\n",
       "      <td>Joshua Tree National Park</td>\n",
       "      <td>CA</td>\n",
       "      <td>789745</td>\n",
       "      <td>33.79</td>\n",
       "      <td>-115.90</td>\n",
       "    </tr>\n",
       "    <tr>\n",
       "      <th>2</th>\n",
       "      <td>LAVO</td>\n",
       "      <td>Lassen Volcanic National Park</td>\n",
       "      <td>CA</td>\n",
       "      <td>106372</td>\n",
       "      <td>40.49</td>\n",
       "      <td>-121.51</td>\n",
       "    </tr>\n",
       "    <tr>\n",
       "      <th>3</th>\n",
       "      <td>PINN</td>\n",
       "      <td>Pinnacles National Park</td>\n",
       "      <td>CA</td>\n",
       "      <td>26606</td>\n",
       "      <td>36.48</td>\n",
       "      <td>-121.16</td>\n",
       "    </tr>\n",
       "    <tr>\n",
       "      <th>4</th>\n",
       "      <td>REDW</td>\n",
       "      <td>Redwood National Park</td>\n",
       "      <td>CA</td>\n",
       "      <td>112512</td>\n",
       "      <td>41.30</td>\n",
       "      <td>-124.00</td>\n",
       "    </tr>\n",
       "    <tr>\n",
       "      <th>5</th>\n",
       "      <td>SEKI</td>\n",
       "      <td>Sequoia and Kings Canyon National Parks</td>\n",
       "      <td>CA</td>\n",
       "      <td>865952</td>\n",
       "      <td>36.43</td>\n",
       "      <td>-118.68</td>\n",
       "    </tr>\n",
       "    <tr>\n",
       "      <th>6</th>\n",
       "      <td>YOSE</td>\n",
       "      <td>Yosemite National Park</td>\n",
       "      <td>CA</td>\n",
       "      <td>761266</td>\n",
       "      <td>37.83</td>\n",
       "      <td>-119.50</td>\n",
       "    </tr>\n",
       "  </tbody>\n",
       "</table>\n",
       "</div>"
      ],
      "text/plain": [
       "  Park Code                                Park Name State   Acres  Latitude  \\\n",
       "0      CHIS            Channel Islands National Park    CA  249561     34.01   \n",
       "1      JOTR                Joshua Tree National Park    CA  789745     33.79   \n",
       "2      LAVO            Lassen Volcanic National Park    CA  106372     40.49   \n",
       "3      PINN                  Pinnacles National Park    CA   26606     36.48   \n",
       "4      REDW                    Redwood National Park    CA  112512     41.30   \n",
       "5      SEKI  Sequoia and Kings Canyon National Parks    CA  865952     36.43   \n",
       "6      YOSE                   Yosemite National Park    CA  761266     37.83   \n",
       "\n",
       "   Longitude  \n",
       "0    -119.42  \n",
       "1    -115.90  \n",
       "2    -121.51  \n",
       "3    -121.16  \n",
       "4    -124.00  \n",
       "5    -118.68  \n",
       "6    -119.50  "
      ]
     },
     "execution_count": 2,
     "metadata": {},
     "output_type": "execute_result"
    }
   ],
   "source": [
    "parks = bpd.read_csv('california_parks.csv')\n",
    "parks"
   ]
  },
  {
   "cell_type": "code",
   "execution_count": 3,
   "id": "athletic-blink",
   "metadata": {},
   "outputs": [
    {
     "data": {
      "text/html": [
       "<div>\n",
       "<style scoped>\n",
       "    .dataframe tbody tr th:only-of-type {\n",
       "        vertical-align: middle;\n",
       "    }\n",
       "\n",
       "    .dataframe tbody tr th {\n",
       "        vertical-align: top;\n",
       "    }\n",
       "\n",
       "    .dataframe thead th {\n",
       "        text-align: right;\n",
       "    }\n",
       "</style>\n",
       "<table border=\"1\" class=\"dataframe\">\n",
       "  <thead>\n",
       "    <tr style=\"text-align: right;\">\n",
       "      <th></th>\n",
       "      <th>Park Name</th>\n",
       "      <th>Category</th>\n",
       "      <th>Order</th>\n",
       "      <th>Family</th>\n",
       "      <th>Common Names</th>\n",
       "      <th>Abundance</th>\n",
       "    </tr>\n",
       "  </thead>\n",
       "  <tbody>\n",
       "    <tr>\n",
       "      <th>0</th>\n",
       "      <td>Channel Islands National Park</td>\n",
       "      <td>Mammal</td>\n",
       "      <td>Carnivora</td>\n",
       "      <td>Canidae</td>\n",
       "      <td>Channel Islands Gray Fox</td>\n",
       "      <td>Rare</td>\n",
       "    </tr>\n",
       "    <tr>\n",
       "      <th>1</th>\n",
       "      <td>Channel Islands National Park</td>\n",
       "      <td>Mammal</td>\n",
       "      <td>Carnivora</td>\n",
       "      <td>Mephitidae</td>\n",
       "      <td>Spotted Skunk</td>\n",
       "      <td>Uncommon</td>\n",
       "    </tr>\n",
       "    <tr>\n",
       "      <th>2</th>\n",
       "      <td>Channel Islands National Park</td>\n",
       "      <td>Mammal</td>\n",
       "      <td>Carnivora</td>\n",
       "      <td>Mustelidae</td>\n",
       "      <td>Sea Otter</td>\n",
       "      <td>Unknown</td>\n",
       "    </tr>\n",
       "    <tr>\n",
       "      <th>3</th>\n",
       "      <td>Channel Islands National Park</td>\n",
       "      <td>Mammal</td>\n",
       "      <td>Carnivora</td>\n",
       "      <td>Otariidae</td>\n",
       "      <td>Guadalupe Fur Seal</td>\n",
       "      <td>Occasional</td>\n",
       "    </tr>\n",
       "    <tr>\n",
       "      <th>4</th>\n",
       "      <td>Channel Islands National Park</td>\n",
       "      <td>Mammal</td>\n",
       "      <td>Carnivora</td>\n",
       "      <td>Otariidae</td>\n",
       "      <td>Northern Fur Seal</td>\n",
       "      <td>Uncommon</td>\n",
       "    </tr>\n",
       "    <tr>\n",
       "      <th>...</th>\n",
       "      <td>...</td>\n",
       "      <td>...</td>\n",
       "      <td>...</td>\n",
       "      <td>...</td>\n",
       "      <td>...</td>\n",
       "      <td>...</td>\n",
       "    </tr>\n",
       "    <tr>\n",
       "      <th>17780</th>\n",
       "      <td>Yosemite National Park</td>\n",
       "      <td>Vascular Plant</td>\n",
       "      <td>Solanales</td>\n",
       "      <td>Solanaceae</td>\n",
       "      <td>Parish's Nightshade</td>\n",
       "      <td>Rare</td>\n",
       "    </tr>\n",
       "    <tr>\n",
       "      <th>17781</th>\n",
       "      <td>Yosemite National Park</td>\n",
       "      <td>Vascular Plant</td>\n",
       "      <td>Solanales</td>\n",
       "      <td>Solanaceae</td>\n",
       "      <td>Chaparral Nightshade, Purple Nightshade</td>\n",
       "      <td>Uncommon</td>\n",
       "    </tr>\n",
       "    <tr>\n",
       "      <th>17782</th>\n",
       "      <td>Yosemite National Park</td>\n",
       "      <td>Vascular Plant</td>\n",
       "      <td>Vitales</td>\n",
       "      <td>Vitaceae</td>\n",
       "      <td>Thicket Creeper, Virginia Creeper, Woodbine</td>\n",
       "      <td>Rare</td>\n",
       "    </tr>\n",
       "    <tr>\n",
       "      <th>17783</th>\n",
       "      <td>Yosemite National Park</td>\n",
       "      <td>Vascular Plant</td>\n",
       "      <td>Vitales</td>\n",
       "      <td>Vitaceae</td>\n",
       "      <td>California Grape, California Wild Grape</td>\n",
       "      <td>Uncommon</td>\n",
       "    </tr>\n",
       "    <tr>\n",
       "      <th>17784</th>\n",
       "      <td>Yosemite National Park</td>\n",
       "      <td>Vascular Plant</td>\n",
       "      <td>Zygophyllales</td>\n",
       "      <td>Zygophyllaceae</td>\n",
       "      <td>Bullhead, Caltrop, Goathead, Mexican Sandbur, ...</td>\n",
       "      <td>Rare</td>\n",
       "    </tr>\n",
       "  </tbody>\n",
       "</table>\n",
       "<p>17785 rows × 6 columns</p>\n",
       "</div>"
      ],
      "text/plain": [
       "                           Park Name        Category          Order  \\\n",
       "0      Channel Islands National Park          Mammal      Carnivora   \n",
       "1      Channel Islands National Park          Mammal      Carnivora   \n",
       "2      Channel Islands National Park          Mammal      Carnivora   \n",
       "3      Channel Islands National Park          Mammal      Carnivora   \n",
       "4      Channel Islands National Park          Mammal      Carnivora   \n",
       "...                              ...             ...            ...   \n",
       "17780         Yosemite National Park  Vascular Plant      Solanales   \n",
       "17781         Yosemite National Park  Vascular Plant      Solanales   \n",
       "17782         Yosemite National Park  Vascular Plant        Vitales   \n",
       "17783         Yosemite National Park  Vascular Plant        Vitales   \n",
       "17784         Yosemite National Park  Vascular Plant  Zygophyllales   \n",
       "\n",
       "               Family                                       Common Names  \\\n",
       "0             Canidae                           Channel Islands Gray Fox   \n",
       "1          Mephitidae                                      Spotted Skunk   \n",
       "2          Mustelidae                                          Sea Otter   \n",
       "3           Otariidae                                 Guadalupe Fur Seal   \n",
       "4           Otariidae                                  Northern Fur Seal   \n",
       "...               ...                                                ...   \n",
       "17780      Solanaceae                                Parish's Nightshade   \n",
       "17781      Solanaceae            Chaparral Nightshade, Purple Nightshade   \n",
       "17782        Vitaceae        Thicket Creeper, Virginia Creeper, Woodbine   \n",
       "17783        Vitaceae            California Grape, California Wild Grape   \n",
       "17784  Zygophyllaceae  Bullhead, Caltrop, Goathead, Mexican Sandbur, ...   \n",
       "\n",
       "        Abundance  \n",
       "0            Rare  \n",
       "1        Uncommon  \n",
       "2         Unknown  \n",
       "3      Occasional  \n",
       "4        Uncommon  \n",
       "...           ...  \n",
       "17780        Rare  \n",
       "17781    Uncommon  \n",
       "17782        Rare  \n",
       "17783    Uncommon  \n",
       "17784        Rare  \n",
       "\n",
       "[17785 rows x 6 columns]"
      ]
     },
     "execution_count": 3,
     "metadata": {},
     "output_type": "execute_result"
    }
   ],
   "source": [
    "species = bpd.read_csv('california_parks_species.csv')\n",
    "species"
   ]
  },
  {
   "cell_type": "markdown",
   "id": "separate-arthritis",
   "metadata": {},
   "source": [
    "**Question 1.1.** Below, create a DataFrame named `species_counts` to show how many species there are in each park. This DataFrame should:\n",
    "- Have one row for each park.\n",
    "- Be indexed by `'Park Name'`.\n",
    "- Have one column named `'Count'` that contains the number of species per park."
   ]
  },
  {
   "cell_type": "code",
   "execution_count": 4,
   "id": "varying-trick",
   "metadata": {},
   "outputs": [
    {
     "data": {
      "text/html": [
       "<div>\n",
       "<style scoped>\n",
       "    .dataframe tbody tr th:only-of-type {\n",
       "        vertical-align: middle;\n",
       "    }\n",
       "\n",
       "    .dataframe tbody tr th {\n",
       "        vertical-align: top;\n",
       "    }\n",
       "\n",
       "    .dataframe thead th {\n",
       "        text-align: right;\n",
       "    }\n",
       "</style>\n",
       "<table border=\"1\" class=\"dataframe\">\n",
       "  <thead>\n",
       "    <tr style=\"text-align: right;\">\n",
       "      <th></th>\n",
       "      <th>Count</th>\n",
       "    </tr>\n",
       "    <tr>\n",
       "      <th>Park Name</th>\n",
       "      <th></th>\n",
       "    </tr>\n",
       "  </thead>\n",
       "  <tbody>\n",
       "    <tr>\n",
       "      <th>Channel Islands National Park</th>\n",
       "      <td>1885</td>\n",
       "    </tr>\n",
       "    <tr>\n",
       "      <th>Joshua Tree National Park</th>\n",
       "      <td>2294</td>\n",
       "    </tr>\n",
       "    <tr>\n",
       "      <th>Lassen Volcanic National Park</th>\n",
       "      <td>1797</td>\n",
       "    </tr>\n",
       "    <tr>\n",
       "      <th>Pinnacles National Park</th>\n",
       "      <td>1416</td>\n",
       "    </tr>\n",
       "    <tr>\n",
       "      <th>Redwood National Park</th>\n",
       "      <td>6310</td>\n",
       "    </tr>\n",
       "    <tr>\n",
       "      <th>Sequoia and Kings Canyon National Parks</th>\n",
       "      <td>1995</td>\n",
       "    </tr>\n",
       "    <tr>\n",
       "      <th>Yosemite National Park</th>\n",
       "      <td>2088</td>\n",
       "    </tr>\n",
       "  </tbody>\n",
       "</table>\n",
       "</div>"
      ],
      "text/plain": [
       "                                         Count\n",
       "Park Name                                     \n",
       "Channel Islands National Park             1885\n",
       "Joshua Tree National Park                 2294\n",
       "Lassen Volcanic National Park             1797\n",
       "Pinnacles National Park                   1416\n",
       "Redwood National Park                     6310\n",
       "Sequoia and Kings Canyon National Parks   1995\n",
       "Yosemite National Park                    2088"
      ]
     },
     "execution_count": 4,
     "metadata": {},
     "output_type": "execute_result"
    }
   ],
   "source": [
    "species_counts = species.groupby('Park Name').count() \n",
    "species_counts = species_counts.assign(Count=species_counts.get('Category')).get(['Count'])\n",
    "species_counts"
   ]
  },
  {
   "cell_type": "markdown",
   "id": "religious-relations",
   "metadata": {},
   "source": [
    "**Question 1.2.** Below, use the `.merge` method to create a new DataFrame named `parks_with_species`, which should have one row for each park. `parks_with_species` should have all the columns in `parks` plus and additional column called `'Count'` with the number of species in each park. Your DataFrame should look like this:\n",
    "\n",
    "|    | Park Code   | Park Name                               | State   |   Acres |   Latitude |   Longitude |   Count |\n",
    "|---:|------------|----------------------------------------|--------|--------|-----------|------------|--------|\n",
    "|  0 | CHIS        | Channel Islands National Park           | CA      |  249561 |      34.01 |     -119.42 |    1885 |\n",
    "|  1 | JOTR        | Joshua Tree National Park               | CA      |  789745 |      33.79 |     -115.9  |    2294 |\n",
    "|  2 | LAVO        | Lassen Volcanic National Park           | CA      |  106372 |      40.49 |     -121.51 |    1797 |\n",
    "|  3 | PINN        | Pinnacles National Park                 | CA      |   26606 |      36.48 |     -121.16 |    1416 |\n",
    "|  4 | REDW        | Redwood National Park                   | CA      |  112512 |      41.3  |     -124    |    6310 |\n",
    "|  5 | SEKI        | Sequoia and Kings Canyon National Parks | CA      |  865952 |      36.43 |     -118.68 |    1995 |\n",
    "|  6 | YOSE        | Yosemite National Park                  | CA      |  761266 |      37.83 |     -119.5  |    2088 |"
   ]
  },
  {
   "cell_type": "code",
   "execution_count": 5,
   "id": "instrumental-label",
   "metadata": {},
   "outputs": [
    {
     "data": {
      "text/html": [
       "<div>\n",
       "<style scoped>\n",
       "    .dataframe tbody tr th:only-of-type {\n",
       "        vertical-align: middle;\n",
       "    }\n",
       "\n",
       "    .dataframe tbody tr th {\n",
       "        vertical-align: top;\n",
       "    }\n",
       "\n",
       "    .dataframe thead th {\n",
       "        text-align: right;\n",
       "    }\n",
       "</style>\n",
       "<table border=\"1\" class=\"dataframe\">\n",
       "  <thead>\n",
       "    <tr style=\"text-align: right;\">\n",
       "      <th></th>\n",
       "      <th>Park Name</th>\n",
       "      <th>Count</th>\n",
       "    </tr>\n",
       "  </thead>\n",
       "  <tbody>\n",
       "    <tr>\n",
       "      <th>0</th>\n",
       "      <td>Channel Islands National Park</td>\n",
       "      <td>1885</td>\n",
       "    </tr>\n",
       "    <tr>\n",
       "      <th>1</th>\n",
       "      <td>Joshua Tree National Park</td>\n",
       "      <td>2294</td>\n",
       "    </tr>\n",
       "    <tr>\n",
       "      <th>2</th>\n",
       "      <td>Lassen Volcanic National Park</td>\n",
       "      <td>1797</td>\n",
       "    </tr>\n",
       "    <tr>\n",
       "      <th>3</th>\n",
       "      <td>Pinnacles National Park</td>\n",
       "      <td>1416</td>\n",
       "    </tr>\n",
       "    <tr>\n",
       "      <th>4</th>\n",
       "      <td>Redwood National Park</td>\n",
       "      <td>6310</td>\n",
       "    </tr>\n",
       "    <tr>\n",
       "      <th>5</th>\n",
       "      <td>Sequoia and Kings Canyon National Parks</td>\n",
       "      <td>1995</td>\n",
       "    </tr>\n",
       "    <tr>\n",
       "      <th>6</th>\n",
       "      <td>Yosemite National Park</td>\n",
       "      <td>2088</td>\n",
       "    </tr>\n",
       "  </tbody>\n",
       "</table>\n",
       "</div>"
      ],
      "text/plain": [
       "                                 Park Name  Count\n",
       "0            Channel Islands National Park   1885\n",
       "1                Joshua Tree National Park   2294\n",
       "2            Lassen Volcanic National Park   1797\n",
       "3                  Pinnacles National Park   1416\n",
       "4                    Redwood National Park   6310\n",
       "5  Sequoia and Kings Canyon National Parks   1995\n",
       "6                   Yosemite National Park   2088"
      ]
     },
     "execution_count": 5,
     "metadata": {},
     "output_type": "execute_result"
    }
   ],
   "source": [
    "reset_species_counts = species_counts.reset_index()\n",
    "reset_species_counts"
   ]
  },
  {
   "cell_type": "code",
   "execution_count": 6,
   "id": "valuable-organic",
   "metadata": {},
   "outputs": [
    {
     "data": {
      "text/html": [
       "<div>\n",
       "<style scoped>\n",
       "    .dataframe tbody tr th:only-of-type {\n",
       "        vertical-align: middle;\n",
       "    }\n",
       "\n",
       "    .dataframe tbody tr th {\n",
       "        vertical-align: top;\n",
       "    }\n",
       "\n",
       "    .dataframe thead th {\n",
       "        text-align: right;\n",
       "    }\n",
       "</style>\n",
       "<table border=\"1\" class=\"dataframe\">\n",
       "  <thead>\n",
       "    <tr style=\"text-align: right;\">\n",
       "      <th></th>\n",
       "      <th>Park Code</th>\n",
       "      <th>Park Name</th>\n",
       "      <th>State</th>\n",
       "      <th>Acres</th>\n",
       "      <th>Latitude</th>\n",
       "      <th>Longitude</th>\n",
       "      <th>Count</th>\n",
       "    </tr>\n",
       "  </thead>\n",
       "  <tbody>\n",
       "    <tr>\n",
       "      <th>0</th>\n",
       "      <td>CHIS</td>\n",
       "      <td>Channel Islands National Park</td>\n",
       "      <td>CA</td>\n",
       "      <td>249561</td>\n",
       "      <td>34.01</td>\n",
       "      <td>-119.42</td>\n",
       "      <td>1885</td>\n",
       "    </tr>\n",
       "    <tr>\n",
       "      <th>1</th>\n",
       "      <td>JOTR</td>\n",
       "      <td>Joshua Tree National Park</td>\n",
       "      <td>CA</td>\n",
       "      <td>789745</td>\n",
       "      <td>33.79</td>\n",
       "      <td>-115.90</td>\n",
       "      <td>2294</td>\n",
       "    </tr>\n",
       "    <tr>\n",
       "      <th>2</th>\n",
       "      <td>LAVO</td>\n",
       "      <td>Lassen Volcanic National Park</td>\n",
       "      <td>CA</td>\n",
       "      <td>106372</td>\n",
       "      <td>40.49</td>\n",
       "      <td>-121.51</td>\n",
       "      <td>1797</td>\n",
       "    </tr>\n",
       "    <tr>\n",
       "      <th>3</th>\n",
       "      <td>PINN</td>\n",
       "      <td>Pinnacles National Park</td>\n",
       "      <td>CA</td>\n",
       "      <td>26606</td>\n",
       "      <td>36.48</td>\n",
       "      <td>-121.16</td>\n",
       "      <td>1416</td>\n",
       "    </tr>\n",
       "    <tr>\n",
       "      <th>4</th>\n",
       "      <td>REDW</td>\n",
       "      <td>Redwood National Park</td>\n",
       "      <td>CA</td>\n",
       "      <td>112512</td>\n",
       "      <td>41.30</td>\n",
       "      <td>-124.00</td>\n",
       "      <td>6310</td>\n",
       "    </tr>\n",
       "    <tr>\n",
       "      <th>5</th>\n",
       "      <td>SEKI</td>\n",
       "      <td>Sequoia and Kings Canyon National Parks</td>\n",
       "      <td>CA</td>\n",
       "      <td>865952</td>\n",
       "      <td>36.43</td>\n",
       "      <td>-118.68</td>\n",
       "      <td>1995</td>\n",
       "    </tr>\n",
       "    <tr>\n",
       "      <th>6</th>\n",
       "      <td>YOSE</td>\n",
       "      <td>Yosemite National Park</td>\n",
       "      <td>CA</td>\n",
       "      <td>761266</td>\n",
       "      <td>37.83</td>\n",
       "      <td>-119.50</td>\n",
       "      <td>2088</td>\n",
       "    </tr>\n",
       "  </tbody>\n",
       "</table>\n",
       "</div>"
      ],
      "text/plain": [
       "  Park Code                                Park Name State   Acres  Latitude  \\\n",
       "0      CHIS            Channel Islands National Park    CA  249561     34.01   \n",
       "1      JOTR                Joshua Tree National Park    CA  789745     33.79   \n",
       "2      LAVO            Lassen Volcanic National Park    CA  106372     40.49   \n",
       "3      PINN                  Pinnacles National Park    CA   26606     36.48   \n",
       "4      REDW                    Redwood National Park    CA  112512     41.30   \n",
       "5      SEKI  Sequoia and Kings Canyon National Parks    CA  865952     36.43   \n",
       "6      YOSE                   Yosemite National Park    CA  761266     37.83   \n",
       "\n",
       "   Longitude  Count  \n",
       "0    -119.42   1885  \n",
       "1    -115.90   2294  \n",
       "2    -121.51   1797  \n",
       "3    -121.16   1416  \n",
       "4    -124.00   6310  \n",
       "5    -118.68   1995  \n",
       "6    -119.50   2088  "
      ]
     },
     "execution_count": 6,
     "metadata": {},
     "output_type": "execute_result"
    }
   ],
   "source": [
    "parks_with_species = parks.merge(reset_species_counts, on='Park Name')\n",
    "parks_with_species"
   ]
  },
  {
   "cell_type": "markdown",
   "id": "municipal-amateur",
   "metadata": {},
   "source": [
    "**Question 1.3.** Using the `.groupby` method, assign the variable `species_category` to a DataFrame that has one row for each `'Category'` of species at each park.\n",
    "\n",
    "Reset the index and assign columns so that you have three columns: `'Park Name'`, `'Category'`, and `'Count'`. Your DataFrame should look like this:\n",
    "\n",
    "|     | Park Name                     | Category            | Count |\n",
    "|-----|-------------------------------|---------------------|-------|\n",
    "| 0   | Channel Islands National Park | Algae               | 61    |\n",
    "| 1   | Channel Islands National Park | Amphibian           | 4     |\n",
    "| 2   | Channel Islands National Park | Bird                | 357   |\n",
    "| 3   | Channel Islands National Park | Crab/Lobster/Shrimp | 11    |\n",
    "| 4   | Channel Islands National Park | Fish                | 273   |\n",
    "| ... | ...                           | ...                 | ...   |\n",
    "| 71  | Yosemite National Park        | Bird                | 270   |\n",
    "| 72  | Yosemite National Park        | Fish                | 10    |\n",
    "| 73  | Yosemite National Park        | Mammal              | 88    |\n",
    "| 74  | Yosemite National Park        | Reptile             | 22    |\n",
    "| 75  | Yosemite National Park        | Vascular Plant      | 1683  |"
   ]
  },
  {
   "cell_type": "code",
   "execution_count": 7,
   "id": "pharmaceutical-boring",
   "metadata": {},
   "outputs": [
    {
     "data": {
      "text/html": [
       "<div>\n",
       "<style scoped>\n",
       "    .dataframe tbody tr th:only-of-type {\n",
       "        vertical-align: middle;\n",
       "    }\n",
       "\n",
       "    .dataframe tbody tr th {\n",
       "        vertical-align: top;\n",
       "    }\n",
       "\n",
       "    .dataframe thead th {\n",
       "        text-align: right;\n",
       "    }\n",
       "</style>\n",
       "<table border=\"1\" class=\"dataframe\">\n",
       "  <thead>\n",
       "    <tr style=\"text-align: right;\">\n",
       "      <th></th>\n",
       "      <th>Park Name</th>\n",
       "      <th>Category</th>\n",
       "      <th>Order</th>\n",
       "      <th>Family</th>\n",
       "      <th>Common Names</th>\n",
       "      <th>Abundance</th>\n",
       "      <th>Count</th>\n",
       "    </tr>\n",
       "  </thead>\n",
       "  <tbody>\n",
       "    <tr>\n",
       "      <th>0</th>\n",
       "      <td>Channel Islands National Park</td>\n",
       "      <td>Mammal</td>\n",
       "      <td>Carnivora</td>\n",
       "      <td>Canidae</td>\n",
       "      <td>Channel Islands Gray Fox</td>\n",
       "      <td>Rare</td>\n",
       "      <td>1885</td>\n",
       "    </tr>\n",
       "    <tr>\n",
       "      <th>1</th>\n",
       "      <td>Channel Islands National Park</td>\n",
       "      <td>Mammal</td>\n",
       "      <td>Carnivora</td>\n",
       "      <td>Mephitidae</td>\n",
       "      <td>Spotted Skunk</td>\n",
       "      <td>Uncommon</td>\n",
       "      <td>1885</td>\n",
       "    </tr>\n",
       "    <tr>\n",
       "      <th>2</th>\n",
       "      <td>Channel Islands National Park</td>\n",
       "      <td>Mammal</td>\n",
       "      <td>Carnivora</td>\n",
       "      <td>Mustelidae</td>\n",
       "      <td>Sea Otter</td>\n",
       "      <td>Unknown</td>\n",
       "      <td>1885</td>\n",
       "    </tr>\n",
       "    <tr>\n",
       "      <th>3</th>\n",
       "      <td>Channel Islands National Park</td>\n",
       "      <td>Mammal</td>\n",
       "      <td>Carnivora</td>\n",
       "      <td>Otariidae</td>\n",
       "      <td>Guadalupe Fur Seal</td>\n",
       "      <td>Occasional</td>\n",
       "      <td>1885</td>\n",
       "    </tr>\n",
       "    <tr>\n",
       "      <th>4</th>\n",
       "      <td>Channel Islands National Park</td>\n",
       "      <td>Mammal</td>\n",
       "      <td>Carnivora</td>\n",
       "      <td>Otariidae</td>\n",
       "      <td>Northern Fur Seal</td>\n",
       "      <td>Uncommon</td>\n",
       "      <td>1885</td>\n",
       "    </tr>\n",
       "    <tr>\n",
       "      <th>...</th>\n",
       "      <td>...</td>\n",
       "      <td>...</td>\n",
       "      <td>...</td>\n",
       "      <td>...</td>\n",
       "      <td>...</td>\n",
       "      <td>...</td>\n",
       "      <td>...</td>\n",
       "    </tr>\n",
       "    <tr>\n",
       "      <th>17780</th>\n",
       "      <td>Yosemite National Park</td>\n",
       "      <td>Vascular Plant</td>\n",
       "      <td>Solanales</td>\n",
       "      <td>Solanaceae</td>\n",
       "      <td>Parish's Nightshade</td>\n",
       "      <td>Rare</td>\n",
       "      <td>2088</td>\n",
       "    </tr>\n",
       "    <tr>\n",
       "      <th>17781</th>\n",
       "      <td>Yosemite National Park</td>\n",
       "      <td>Vascular Plant</td>\n",
       "      <td>Solanales</td>\n",
       "      <td>Solanaceae</td>\n",
       "      <td>Chaparral Nightshade, Purple Nightshade</td>\n",
       "      <td>Uncommon</td>\n",
       "      <td>2088</td>\n",
       "    </tr>\n",
       "    <tr>\n",
       "      <th>17782</th>\n",
       "      <td>Yosemite National Park</td>\n",
       "      <td>Vascular Plant</td>\n",
       "      <td>Vitales</td>\n",
       "      <td>Vitaceae</td>\n",
       "      <td>Thicket Creeper, Virginia Creeper, Woodbine</td>\n",
       "      <td>Rare</td>\n",
       "      <td>2088</td>\n",
       "    </tr>\n",
       "    <tr>\n",
       "      <th>17783</th>\n",
       "      <td>Yosemite National Park</td>\n",
       "      <td>Vascular Plant</td>\n",
       "      <td>Vitales</td>\n",
       "      <td>Vitaceae</td>\n",
       "      <td>California Grape, California Wild Grape</td>\n",
       "      <td>Uncommon</td>\n",
       "      <td>2088</td>\n",
       "    </tr>\n",
       "    <tr>\n",
       "      <th>17784</th>\n",
       "      <td>Yosemite National Park</td>\n",
       "      <td>Vascular Plant</td>\n",
       "      <td>Zygophyllales</td>\n",
       "      <td>Zygophyllaceae</td>\n",
       "      <td>Bullhead, Caltrop, Goathead, Mexican Sandbur, ...</td>\n",
       "      <td>Rare</td>\n",
       "      <td>2088</td>\n",
       "    </tr>\n",
       "  </tbody>\n",
       "</table>\n",
       "<p>17785 rows × 7 columns</p>\n",
       "</div>"
      ],
      "text/plain": [
       "                           Park Name        Category          Order  \\\n",
       "0      Channel Islands National Park          Mammal      Carnivora   \n",
       "1      Channel Islands National Park          Mammal      Carnivora   \n",
       "2      Channel Islands National Park          Mammal      Carnivora   \n",
       "3      Channel Islands National Park          Mammal      Carnivora   \n",
       "4      Channel Islands National Park          Mammal      Carnivora   \n",
       "...                              ...             ...            ...   \n",
       "17780         Yosemite National Park  Vascular Plant      Solanales   \n",
       "17781         Yosemite National Park  Vascular Plant      Solanales   \n",
       "17782         Yosemite National Park  Vascular Plant        Vitales   \n",
       "17783         Yosemite National Park  Vascular Plant        Vitales   \n",
       "17784         Yosemite National Park  Vascular Plant  Zygophyllales   \n",
       "\n",
       "               Family                                       Common Names  \\\n",
       "0             Canidae                           Channel Islands Gray Fox   \n",
       "1          Mephitidae                                      Spotted Skunk   \n",
       "2          Mustelidae                                          Sea Otter   \n",
       "3           Otariidae                                 Guadalupe Fur Seal   \n",
       "4           Otariidae                                  Northern Fur Seal   \n",
       "...               ...                                                ...   \n",
       "17780      Solanaceae                                Parish's Nightshade   \n",
       "17781      Solanaceae            Chaparral Nightshade, Purple Nightshade   \n",
       "17782        Vitaceae        Thicket Creeper, Virginia Creeper, Woodbine   \n",
       "17783        Vitaceae            California Grape, California Wild Grape   \n",
       "17784  Zygophyllaceae  Bullhead, Caltrop, Goathead, Mexican Sandbur, ...   \n",
       "\n",
       "        Abundance  Count  \n",
       "0            Rare   1885  \n",
       "1        Uncommon   1885  \n",
       "2         Unknown   1885  \n",
       "3      Occasional   1885  \n",
       "4        Uncommon   1885  \n",
       "...           ...    ...  \n",
       "17780        Rare   2088  \n",
       "17781    Uncommon   2088  \n",
       "17782        Rare   2088  \n",
       "17783    Uncommon   2088  \n",
       "17784        Rare   2088  \n",
       "\n",
       "[17785 rows x 7 columns]"
      ]
     },
     "execution_count": 7,
     "metadata": {},
     "output_type": "execute_result"
    }
   ],
   "source": [
    "park_with_cat = species.merge(reset_species_counts, on = 'Park Name')\n",
    "park_with_cat"
   ]
  },
  {
   "cell_type": "code",
   "execution_count": 8,
   "id": "anonymous-credits",
   "metadata": {},
   "outputs": [
    {
     "data": {
      "text/html": [
       "<div>\n",
       "<style scoped>\n",
       "    .dataframe tbody tr th:only-of-type {\n",
       "        vertical-align: middle;\n",
       "    }\n",
       "\n",
       "    .dataframe tbody tr th {\n",
       "        vertical-align: top;\n",
       "    }\n",
       "\n",
       "    .dataframe thead th {\n",
       "        text-align: right;\n",
       "    }\n",
       "</style>\n",
       "<table border=\"1\" class=\"dataframe\">\n",
       "  <thead>\n",
       "    <tr style=\"text-align: right;\">\n",
       "      <th></th>\n",
       "      <th>Park Name</th>\n",
       "      <th>Category</th>\n",
       "      <th>Count</th>\n",
       "    </tr>\n",
       "  </thead>\n",
       "  <tbody>\n",
       "    <tr>\n",
       "      <th>0</th>\n",
       "      <td>Channel Islands National Park</td>\n",
       "      <td>Algae</td>\n",
       "      <td>61</td>\n",
       "    </tr>\n",
       "    <tr>\n",
       "      <th>1</th>\n",
       "      <td>Channel Islands National Park</td>\n",
       "      <td>Amphibian</td>\n",
       "      <td>4</td>\n",
       "    </tr>\n",
       "    <tr>\n",
       "      <th>2</th>\n",
       "      <td>Channel Islands National Park</td>\n",
       "      <td>Bird</td>\n",
       "      <td>357</td>\n",
       "    </tr>\n",
       "    <tr>\n",
       "      <th>3</th>\n",
       "      <td>Channel Islands National Park</td>\n",
       "      <td>Crab/Lobster/Shrimp</td>\n",
       "      <td>11</td>\n",
       "    </tr>\n",
       "    <tr>\n",
       "      <th>4</th>\n",
       "      <td>Channel Islands National Park</td>\n",
       "      <td>Fish</td>\n",
       "      <td>273</td>\n",
       "    </tr>\n",
       "    <tr>\n",
       "      <th>...</th>\n",
       "      <td>...</td>\n",
       "      <td>...</td>\n",
       "      <td>...</td>\n",
       "    </tr>\n",
       "    <tr>\n",
       "      <th>71</th>\n",
       "      <td>Yosemite National Park</td>\n",
       "      <td>Bird</td>\n",
       "      <td>270</td>\n",
       "    </tr>\n",
       "    <tr>\n",
       "      <th>72</th>\n",
       "      <td>Yosemite National Park</td>\n",
       "      <td>Fish</td>\n",
       "      <td>10</td>\n",
       "    </tr>\n",
       "    <tr>\n",
       "      <th>73</th>\n",
       "      <td>Yosemite National Park</td>\n",
       "      <td>Mammal</td>\n",
       "      <td>88</td>\n",
       "    </tr>\n",
       "    <tr>\n",
       "      <th>74</th>\n",
       "      <td>Yosemite National Park</td>\n",
       "      <td>Reptile</td>\n",
       "      <td>22</td>\n",
       "    </tr>\n",
       "    <tr>\n",
       "      <th>75</th>\n",
       "      <td>Yosemite National Park</td>\n",
       "      <td>Vascular Plant</td>\n",
       "      <td>1683</td>\n",
       "    </tr>\n",
       "  </tbody>\n",
       "</table>\n",
       "<p>76 rows × 3 columns</p>\n",
       "</div>"
      ],
      "text/plain": [
       "                        Park Name             Category  Count\n",
       "0   Channel Islands National Park                Algae     61\n",
       "1   Channel Islands National Park            Amphibian      4\n",
       "2   Channel Islands National Park                 Bird    357\n",
       "3   Channel Islands National Park  Crab/Lobster/Shrimp     11\n",
       "4   Channel Islands National Park                 Fish    273\n",
       "..                            ...                  ...    ...\n",
       "71         Yosemite National Park                 Bird    270\n",
       "72         Yosemite National Park                 Fish     10\n",
       "73         Yosemite National Park               Mammal     88\n",
       "74         Yosemite National Park              Reptile     22\n",
       "75         Yosemite National Park       Vascular Plant   1683\n",
       "\n",
       "[76 rows x 3 columns]"
      ]
     },
     "execution_count": 8,
     "metadata": {},
     "output_type": "execute_result"
    }
   ],
   "source": [
    "species_category = park_with_cat.groupby(['Park Name', 'Category']).count().get(['Count'])\n",
    "species_category = species_category.reset_index()\n",
    "species_category"
   ]
  },
  {
   "cell_type": "markdown",
   "id": "deadly-seven",
   "metadata": {},
   "source": [
    "## 2. Coffee Shop ☕"
   ]
  },
  {
   "cell_type": "markdown",
   "id": "minus-cutting",
   "metadata": {},
   "source": [
    "In Python, Boolean values can either be `True` or `False`. We get Boolean values when using comparison operators, among which are `<` (less than), `>` (greater than), and `==` (equal to). A more complete list can be found below.\n",
    "\n",
    "|symbol|meaning|\n",
    "|--------|--------|\n",
    "|`==` |equal to |\n",
    "|`!=` |not equal to |\n",
    "|`<`|less than|\n",
    "|`<=`|less than or equal to|\n",
    "|`>`|greater than|\n",
    "|`>=`|greater than or equal to|\n",
    "\n",
    "\n",
    "Run the cell below to see an example of a comparison operator in action."
   ]
  },
  {
   "cell_type": "code",
   "execution_count": 9,
   "id": "meaningful-sarah",
   "metadata": {},
   "outputs": [
    {
     "data": {
      "text/plain": [
       "True"
      ]
     },
     "execution_count": 9,
     "metadata": {},
     "output_type": "execute_result"
    }
   ],
   "source": [
    "3 > 1 + 1"
   ]
  },
  {
   "cell_type": "markdown",
   "id": "fantastic-produce",
   "metadata": {},
   "source": [
    "We can even assign the result of a comparison operation to a variable."
   ]
  },
  {
   "cell_type": "code",
   "execution_count": 10,
   "id": "british-sewing",
   "metadata": {},
   "outputs": [
    {
     "data": {
      "text/plain": [
       "True"
      ]
     },
     "execution_count": 10,
     "metadata": {},
     "output_type": "execute_result"
    }
   ],
   "source": [
    "result = 10 / 2 == 5\n",
    "result"
   ]
  },
  {
   "cell_type": "markdown",
   "id": "coastal-advice",
   "metadata": {},
   "source": [
    "Arrays are compatible with comparison operators, and comparisons happen one element at a time. The output is an array of Boolean values."
   ]
  },
  {
   "cell_type": "code",
   "execution_count": 11,
   "id": "competitive-healing",
   "metadata": {},
   "outputs": [
    {
     "data": {
      "text/plain": [
       "array([False,  True,  True,  True,  True])"
      ]
     },
     "execution_count": 11,
     "metadata": {},
     "output_type": "execute_result"
    }
   ],
   "source": [
    "odd_numbers = np.array([1, 3, 5, 7, 9]) \n",
    "odd_numbers > 2"
   ]
  },
  {
   "cell_type": "markdown",
   "id": "annual-entertainment",
   "metadata": {},
   "source": [
    "After making a comparison, we can count how many `True` value are in the resulting array using the function `np.count_nonzero`. When called on an array of Boolean values, `np.count_nonzero` returns the **number of `True` values** in the array. \n",
    "\n",
    "For example, let's see what happens when we give the above array of Boolean values as the argument to `np.count_nonzero`."
   ]
  },
  {
   "cell_type": "code",
   "execution_count": 12,
   "id": "organized-malaysia",
   "metadata": {},
   "outputs": [
    {
     "data": {
      "text/plain": [
       "4"
      ]
     },
     "execution_count": 12,
     "metadata": {},
     "output_type": "execute_result"
    }
   ],
   "source": [
    "np.count_nonzero(odd_numbers > 2)"
   ]
  },
  {
   "cell_type": "markdown",
   "id": "future-resident",
   "metadata": {},
   "source": [
    "This tells us that there are 4 values in `odd_numbers` that are larger than 2. That's correct; those numbers are 3, 5, 7, and 9.\n",
    "\n",
    "The name `np.count_nonzero` can be a little misleading, since we're not using it to tell us how many nonzero numbers are in `odd_numbers`. Rather, we're using it to tell us how many values in a Boolean array are `True`.\n",
    "\n",
    "The name comes from the way Python treats Boolean values under the hood. In Python, `True` values are treated like the number 1, and `False` values like the number 0. So when use `np.count_nonzero` on an array of Booleans, it is effectively counting the number of nonzero values, due to the fact that `True` is 1 and `False` is 0."
   ]
  },
  {
   "cell_type": "markdown",
   "id": "given-tourist",
   "metadata": {},
   "source": [
    "Let's say you own a small coffee shop, and you have to keep track of what your customers order. Whenever someone orders coffee at your shop, they will order one of the following sizes: Small, Medium, Large, or Extra Large.\n",
    "\n",
    "<img src='coffee_sizes.png' width=300>\n",
    "\n",
    "Using the function call `np.random.choice(array_name)`, let's simulate customers ordering sizes of coffee at random. Start by running the cell below several times, each time representing a new customer's order."
   ]
  },
  {
   "cell_type": "code",
   "execution_count": 13,
   "id": "persistent-meter",
   "metadata": {},
   "outputs": [
    {
     "data": {
      "text/plain": [
       "'Large'"
      ]
     },
     "execution_count": 13,
     "metadata": {},
     "output_type": "execute_result"
    }
   ],
   "source": [
    "coffee_sizes = np.array(['Small', 'Medium', 'Large', 'Extra Large'])\n",
    "np.random.choice(coffee_sizes)"
   ]
  },
  {
   "cell_type": "markdown",
   "id": "combined-drama",
   "metadata": {},
   "source": [
    "We can add a second argument to our call to `np.random.choice` to simulate several coffee orders at the same time. The second argument represents how many coffees are being ordered. The result will be an *array* of coffee orders instead of just one order.\n",
    "\n",
    "Let's suppose you get ten customers one morning. Run the cell below to see what sizes of coffee they get."
   ]
  },
  {
   "cell_type": "code",
   "execution_count": 14,
   "id": "appropriate-following",
   "metadata": {},
   "outputs": [
    {
     "data": {
      "text/plain": [
       "array(['Large', 'Large', 'Large', 'Extra Large', 'Small', 'Large',\n",
       "       'Medium', 'Extra Large', 'Small', 'Medium'], dtype='<U11')"
      ]
     },
     "execution_count": 14,
     "metadata": {},
     "output_type": "execute_result"
    }
   ],
   "source": [
    "ten_coffees = np.random.choice(coffee_sizes, 10)\n",
    "ten_coffees"
   ]
  },
  {
   "cell_type": "markdown",
   "id": "successful-system",
   "metadata": {},
   "source": [
    "Note that the cell above uses randomness, meaning if you run it again, you might get a different result. In the questions that follow, we'll ask you to work with the variable `ten_coffees`. But since `ten_coffees` might be a different set of ten coffees the next time you run the notebook, you'll want to avoid answering questions about this specific set of ten coffees. So don't type in (or *hardcode*) any answers based on the current contents of `ten_coffees` you see above. Instead, write code that will work generally, regardless of what exact values are stored in `ten_coffees`. "
   ]
  },
  {
   "cell_type": "markdown",
   "id": "bright-bathroom",
   "metadata": {},
   "source": [
    "**Question 2.1.** Find the number of Small coffees in `ten_coffees` using code (do not hardcode the answer).  \n",
    "\n",
    "_**Hint:**_ Our solution involves a comparison operator and the `np.count_nonzero` function."
   ]
  },
  {
   "cell_type": "code",
   "execution_count": 15,
   "id": "prompt-thomas",
   "metadata": {},
   "outputs": [
    {
     "data": {
      "text/plain": [
       "2"
      ]
     },
     "execution_count": 15,
     "metadata": {},
     "output_type": "execute_result"
    }
   ],
   "source": [
    "number_small = np.count_nonzero(ten_coffees == 'Small')\n",
    "number_small"
   ]
  },
  {
   "cell_type": "markdown",
   "id": "temporal-chaos",
   "metadata": {},
   "source": [
    "**Conditional Statements**\n",
    "\n",
    "A conditional statement is made up of multiple lines of code that allow Python to choose from different alternatives based on whether some condition is true.\n",
    "\n",
    "Here is a basic example.\n",
    "\n",
    "```py\n",
    "def sign(x):\n",
    "    if x > 0:\n",
    "        return 'Positive'\n",
    "```\n",
    "\n",
    "The function determines whether the input `x` is greater than `0`, and if so, gives us the string `'Positive'` back. If not, the function gives no output.\n",
    "\n",
    "If we want to test multiple conditions at once, we use the following general format.\n",
    "\n",
    "```py\n",
    "if <condition 1>:\n",
    "    <body 1>\n",
    "elif <condition 2>:\n",
    "    <body 2>\n",
    "elif <condition 3>:\n",
    "    <body 3>\n",
    "...\n",
    "else:\n",
    "    <body 4>\n",
    "```\n",
    "\n",
    "Only one of the bodies will ever be executed. Each `if` and `elif` (else-if) condition is evaluated and considered in order, starting at the top. As soon as a `True` value is found (i.e. once a condition is met), the corresponding body is executed, and the rest of the conditions are skipped. If none of the `if` or `elif` conditions are true, then the code indented under `else` (`<body 4>` in this example) is executed. For more examples and explanation, refer to [CIT 9.1](https://inferentialthinking.com/chapters/09/1/Conditional_Statements.html?highlight=else)."
   ]
  },
  {
   "cell_type": "markdown",
   "id": "fifty-market",
   "metadata": {},
   "source": [
    "**Question 2.2.** Complete the implementation of the function `coffee_price`, which takes in the `size` of a coffee as a string and returns a float representing the price of that coffee in dollars, based on the relationship in the table below.\n",
    "\n",
    "| Coffee Size    | Price ($) |\n",
    "| ----------- | ----------- |\n",
    "| Small      | 2.99      |\n",
    "| Medium  | 3.99        |\n",
    "| Large      | 4.79      |\n",
    "| Extra Large  | 4.99        |"
   ]
  },
  {
   "cell_type": "code",
   "execution_count": 16,
   "id": "moderate-manner",
   "metadata": {},
   "outputs": [
    {
     "data": {
      "text/plain": [
       "3.99"
      ]
     },
     "execution_count": 16,
     "metadata": {},
     "output_type": "execute_result"
    }
   ],
   "source": [
    "def coffee_price(size):\n",
    "    if size == 'Small':\n",
    "        return 2.99\n",
    "    elif size == 'Medium':\n",
    "        return 3.99\n",
    "    elif size == 'Large':\n",
    "        return 4.79\n",
    "    elif size == 'Extra Large':\n",
    "        return 4.99\n",
    "\n",
    "# This is an example call to your function.\n",
    "medium_price = coffee_price('Medium')\n",
    "medium_price"
   ]
  },
  {
   "cell_type": "markdown",
   "id": "alpine-condition",
   "metadata": {},
   "source": [
    "Now consider the DataFrame `ten_coffees_df` defined below."
   ]
  },
  {
   "cell_type": "code",
   "execution_count": 17,
   "id": "duplicate-forge",
   "metadata": {},
   "outputs": [
    {
     "data": {
      "text/html": [
       "<div>\n",
       "<style scoped>\n",
       "    .dataframe tbody tr th:only-of-type {\n",
       "        vertical-align: middle;\n",
       "    }\n",
       "\n",
       "    .dataframe tbody tr th {\n",
       "        vertical-align: top;\n",
       "    }\n",
       "\n",
       "    .dataframe thead th {\n",
       "        text-align: right;\n",
       "    }\n",
       "</style>\n",
       "<table border=\"1\" class=\"dataframe\">\n",
       "  <thead>\n",
       "    <tr style=\"text-align: right;\">\n",
       "      <th></th>\n",
       "      <th>Size</th>\n",
       "    </tr>\n",
       "  </thead>\n",
       "  <tbody>\n",
       "    <tr>\n",
       "      <th>0</th>\n",
       "      <td>Large</td>\n",
       "    </tr>\n",
       "    <tr>\n",
       "      <th>1</th>\n",
       "      <td>Large</td>\n",
       "    </tr>\n",
       "    <tr>\n",
       "      <th>2</th>\n",
       "      <td>Large</td>\n",
       "    </tr>\n",
       "    <tr>\n",
       "      <th>3</th>\n",
       "      <td>Extra Large</td>\n",
       "    </tr>\n",
       "    <tr>\n",
       "      <th>4</th>\n",
       "      <td>Small</td>\n",
       "    </tr>\n",
       "    <tr>\n",
       "      <th>5</th>\n",
       "      <td>Large</td>\n",
       "    </tr>\n",
       "    <tr>\n",
       "      <th>6</th>\n",
       "      <td>Medium</td>\n",
       "    </tr>\n",
       "    <tr>\n",
       "      <th>7</th>\n",
       "      <td>Extra Large</td>\n",
       "    </tr>\n",
       "    <tr>\n",
       "      <th>8</th>\n",
       "      <td>Small</td>\n",
       "    </tr>\n",
       "    <tr>\n",
       "      <th>9</th>\n",
       "      <td>Medium</td>\n",
       "    </tr>\n",
       "  </tbody>\n",
       "</table>\n",
       "</div>"
      ],
      "text/plain": [
       "          Size\n",
       "0        Large\n",
       "1        Large\n",
       "2        Large\n",
       "3  Extra Large\n",
       "4        Small\n",
       "5        Large\n",
       "6       Medium\n",
       "7  Extra Large\n",
       "8        Small\n",
       "9       Medium"
      ]
     },
     "execution_count": 17,
     "metadata": {},
     "output_type": "execute_result"
    }
   ],
   "source": [
    "ten_coffees_df = bpd.DataFrame().assign(Size=ten_coffees)\n",
    "ten_coffees_df"
   ]
  },
  {
   "cell_type": "markdown",
   "id": "violent-program",
   "metadata": {},
   "source": [
    "**Question 2.3.** Add a column named `'Price'` to the DataFrame `ten_coffees_df` that includes the price of each drink.\n",
    "\n",
    "_**Hint:**_ Use the `.apply` method."
   ]
  },
  {
   "cell_type": "code",
   "execution_count": 18,
   "id": "frequent-masters",
   "metadata": {},
   "outputs": [
    {
     "data": {
      "text/html": [
       "<div>\n",
       "<style scoped>\n",
       "    .dataframe tbody tr th:only-of-type {\n",
       "        vertical-align: middle;\n",
       "    }\n",
       "\n",
       "    .dataframe tbody tr th {\n",
       "        vertical-align: top;\n",
       "    }\n",
       "\n",
       "    .dataframe thead th {\n",
       "        text-align: right;\n",
       "    }\n",
       "</style>\n",
       "<table border=\"1\" class=\"dataframe\">\n",
       "  <thead>\n",
       "    <tr style=\"text-align: right;\">\n",
       "      <th></th>\n",
       "      <th>Size</th>\n",
       "      <th>Price</th>\n",
       "    </tr>\n",
       "  </thead>\n",
       "  <tbody>\n",
       "    <tr>\n",
       "      <th>0</th>\n",
       "      <td>Large</td>\n",
       "      <td>4.79</td>\n",
       "    </tr>\n",
       "    <tr>\n",
       "      <th>1</th>\n",
       "      <td>Large</td>\n",
       "      <td>4.79</td>\n",
       "    </tr>\n",
       "    <tr>\n",
       "      <th>2</th>\n",
       "      <td>Large</td>\n",
       "      <td>4.79</td>\n",
       "    </tr>\n",
       "    <tr>\n",
       "      <th>3</th>\n",
       "      <td>Extra Large</td>\n",
       "      <td>4.99</td>\n",
       "    </tr>\n",
       "    <tr>\n",
       "      <th>4</th>\n",
       "      <td>Small</td>\n",
       "      <td>2.99</td>\n",
       "    </tr>\n",
       "    <tr>\n",
       "      <th>5</th>\n",
       "      <td>Large</td>\n",
       "      <td>4.79</td>\n",
       "    </tr>\n",
       "    <tr>\n",
       "      <th>6</th>\n",
       "      <td>Medium</td>\n",
       "      <td>3.99</td>\n",
       "    </tr>\n",
       "    <tr>\n",
       "      <th>7</th>\n",
       "      <td>Extra Large</td>\n",
       "      <td>4.99</td>\n",
       "    </tr>\n",
       "    <tr>\n",
       "      <th>8</th>\n",
       "      <td>Small</td>\n",
       "      <td>2.99</td>\n",
       "    </tr>\n",
       "    <tr>\n",
       "      <th>9</th>\n",
       "      <td>Medium</td>\n",
       "      <td>3.99</td>\n",
       "    </tr>\n",
       "  </tbody>\n",
       "</table>\n",
       "</div>"
      ],
      "text/plain": [
       "          Size  Price\n",
       "0        Large   4.79\n",
       "1        Large   4.79\n",
       "2        Large   4.79\n",
       "3  Extra Large   4.99\n",
       "4        Small   2.99\n",
       "5        Large   4.79\n",
       "6       Medium   3.99\n",
       "7  Extra Large   4.99\n",
       "8        Small   2.99\n",
       "9       Medium   3.99"
      ]
     },
     "execution_count": 18,
     "metadata": {},
     "output_type": "execute_result"
    }
   ],
   "source": [
    "ten_coffees_df = ten_coffees_df.assign(Price=ten_coffees_df.get('Size').apply(coffee_price))\n",
    "ten_coffees_df"
   ]
  },
  {
   "cell_type": "markdown",
   "id": "great-angola",
   "metadata": {},
   "source": [
    "**Question 2.4.** Using code, find the number of coffees in `ten_coffees_df` that cost more than $4.  Think about how you could find this both by using DataFrame methods or by using `np.count_nonzero`."
   ]
  },
  {
   "cell_type": "code",
   "execution_count": 19,
   "id": "supreme-shanghai",
   "metadata": {},
   "outputs": [
    {
     "data": {
      "text/plain": [
       "6"
      ]
     },
     "execution_count": 19,
     "metadata": {},
     "output_type": "execute_result"
    }
   ],
   "source": [
    "over_4_dollars = np.count_nonzero(ten_coffees_df.get('Price') > 4)\n",
    "over_4_dollars"
   ]
  },
  {
   "cell_type": "markdown",
   "id": "creative-torture",
   "metadata": {},
   "source": [
    "**Question 2.5.** Complete the function `large_or_xl` below. The function takes as input any DataFrame of coffee sizes and prices, with column names `'Size'` and `'Price'`. The function compares the number of Large and Extra Large coffees. If there are more Large coffees, the function returns `'More Large coffees'` and if there are more Extra Large coffees, the function returns `'More Extra Large coffees'`. If there are an equal number of each, the function returns `'Same amount'`."
   ]
  },
  {
   "cell_type": "code",
   "execution_count": 20,
   "id": "harmful-lawsuit",
   "metadata": {},
   "outputs": [
    {
     "data": {
      "text/plain": [
       "'More Extra Large coffees'"
      ]
     },
     "execution_count": 20,
     "metadata": {},
     "output_type": "execute_result"
    }
   ],
   "source": [
    "def large_or_xl(coffee_df):\n",
    "    coffees = coffee_df.get('Size') \n",
    "    number_large = np.count_nonzero(coffees == 'Large')\n",
    "    number_extra_large = np.count_nonzero(coffees == 'Extra Large')\n",
    "    # Now return the appropriate string comparing the number of Large and Extra Large coffees.\n",
    "    if number_large > number_extra_large:\n",
    "        return 'More Large coffees'\n",
    "    elif number_large < number_extra_large:\n",
    "        return 'More Extra Large coffees'\n",
    "    elif number_large == number_extra_large:\n",
    "        return 'Same amount'\n",
    "\n",
    "# Below, we create a DataFrame with randomly-generated data and test your function on it.\n",
    "# Do NOT change anything below this line.\n",
    "# However, you may want to add a new cell and evaluate large_or_xl(ten_coffees_df)\n",
    "# to see if your function behaves as expected.\n",
    "np.random.seed(24)\n",
    "many_coffees = bpd.DataFrame().assign(Size=np.random.choice(coffee_sizes, 250))\n",
    "many_coffees = many_coffees.assign(Price=many_coffees.get('Size').apply(coffee_price))\n",
    "result = large_or_xl(many_coffees)\n",
    "result"
   ]
  },
  {
   "cell_type": "markdown",
   "id": "optical-eleven",
   "metadata": {},
   "source": [
    "## 3. Iteration 🔂\n",
    "\n",
    "`for`-loops allow us to iterate – that is, to run a piece of code multiple times. Here, we'll simulate the act of drawing different suits from a deck of cards. This is like drawing a card, putting it back in the deck, and drawing a card again (with replacement) because on each draw, you have an equal chance of getting any of the four suits. 🃏"
   ]
  },
  {
   "cell_type": "code",
   "execution_count": 21,
   "id": "lesbian-biotechnology",
   "metadata": {},
   "outputs": [
    {
     "data": {
      "text/plain": [
       "array(['♥️', '♦️', '♠️', '♥️', '♣️', '♦️'], dtype='<U32')"
      ]
     },
     "execution_count": 21,
     "metadata": {},
     "output_type": "execute_result"
    }
   ],
   "source": [
    "suits = np.array(['♣️', '♥️', '♠️', '♦️'])\n",
    "\n",
    "draws = np.array([])\n",
    "\n",
    "repetitions = 6\n",
    "\n",
    "for i in np.arange(repetitions):\n",
    "    chosen_suit = np.random.choice(suits)\n",
    "    draws = np.append(draws, chosen_suit)\n",
    "\n",
    "draws"
   ]
  },
  {
   "cell_type": "markdown",
   "id": "optimum-record",
   "metadata": {},
   "source": [
    "Another use of iteration is to loop through a set of values. For instance, we can print out all of the colors of the rainbow. 🌈"
   ]
  },
  {
   "cell_type": "code",
   "execution_count": 22,
   "id": "blond-shame",
   "metadata": {},
   "outputs": [
    {
     "name": "stdout",
     "output_type": "stream",
     "text": [
      "red\n",
      "orange\n",
      "yellow\n",
      "green\n",
      "blue\n",
      "indigo\n",
      "violet\n"
     ]
    }
   ],
   "source": [
    "rainbow = np.array([\"red\", \"orange\", \"yellow\", \"green\", \"blue\", \"indigo\", \"violet\"])\n",
    "\n",
    "for color in rainbow:\n",
    "    print(color)"
   ]
  },
  {
   "cell_type": "markdown",
   "id": "medium-projector",
   "metadata": {},
   "source": [
    "We can see that the indented part of the `for`-loop, known as the body, is executed once for each item in `rainbow`. Note that the name `color` is arbitrary; we could replace both instances of `color` in the cell above with any valid variable name and the code would work the same."
   ]
  },
  {
   "cell_type": "markdown",
   "id": "sudden-edgar",
   "metadata": {},
   "source": [
    "We can also use a `for`-loop to add to a variable in an iterative fashion. If we want to keep track of how many times some event occurs, for example, we can set a variable to 0, then add 1 to it every time the event happens. This is kind of like keeping a tally. In the end, the variable (or the tally) represents the total number of times our event happened. Gradually adding on to a variable in this way is called the **accumulator pattern** as discussed in [Lecture 10](https://dsc10.com/resources/lectures/lec10/lec10.html#The-accumulator-pattern). We'll use this a lot!\n",
    "\n",
    "Below, we use the accumulator pattern to count the number of even numbers in an array of numbers. Each time we encounter an even number in `num_array`, we increase `even_count` by 1. To check if an individual number is even, we compute its remainder when divided by 2 using the `%` ([modulus](https://www.freecodecamp.org/news/the-python-modulo-operator-what-does-the-symbol-mean-in-python-solved/#:~:text=The%20%25%20symbol%20in%20Python%20is,basic%20syntax%20is%3A%20a%20%25%20b)) operator."
   ]
  },
  {
   "cell_type": "code",
   "execution_count": 23,
   "id": "genuine-express",
   "metadata": {},
   "outputs": [
    {
     "data": {
      "text/plain": [
       "4"
      ]
     },
     "execution_count": 23,
     "metadata": {},
     "output_type": "execute_result"
    }
   ],
   "source": [
    "num_array = np.array([1, 3, 4, 7, 21, 23, 28, 28, 30])\n",
    "\n",
    "even_count = 0\n",
    "\n",
    "for i in num_array:\n",
    "    if i % 2 == 0:\n",
    "        even_count = even_count + 1\n",
    "        \n",
    "even_count"
   ]
  },
  {
   "cell_type": "markdown",
   "id": "original-career",
   "metadata": {},
   "source": [
    "**Question 3.1.** Gina is playing darts. 🎯 Her dartboard contains ten equal-sized zones with point values from 1 to 10. Write code using `np.random.choice` that simulates her total score after 1000 dart tosses."
   ]
  },
  {
   "cell_type": "code",
   "execution_count": 24,
   "id": "spatial-jonathan",
   "metadata": {},
   "outputs": [
    {
     "data": {
      "text/plain": [
       "4925"
      ]
     },
     "execution_count": 24,
     "metadata": {},
     "output_type": "execute_result"
    }
   ],
   "source": [
    "possible_point_values = np.arange(1, 10)\n",
    "tosses = 1000\n",
    "\n",
    "total_score  = 0\n",
    "for i in range(tosses):\n",
    "    points = np.random.choice(possible_point_values)\n",
    "    total_score = np.append(total_score, points).sum()\n",
    "\n",
    "total_score"
   ]
  },
  {
   "cell_type": "markdown",
   "id": "german-mixture",
   "metadata": {},
   "source": [
    "**Question 3.2.** What is the average point value of a dart thrown by Gina?"
   ]
  },
  {
   "cell_type": "code",
   "execution_count": 25,
   "id": "bored-connecticut",
   "metadata": {},
   "outputs": [
    {
     "data": {
      "text/plain": [
       "4.925"
      ]
     },
     "execution_count": 25,
     "metadata": {},
     "output_type": "execute_result"
    }
   ],
   "source": [
    "average_score = total_score/tosses\n",
    "average_score"
   ]
  },
  {
   "cell_type": "markdown",
   "id": "finished-double",
   "metadata": {},
   "source": [
    "**Question 3.3.** In the following cell, we've loaded in the text of _Peter Pan_ (1911) by J. M. Barrie. We've split the text into individual words, and stored these words in an array. Using a `for`-loop, assign `longer_than_8` to the number of words in the novel that are more than 8 letters long.  Look at [CIT 9.2](https://inferentialthinking.com/chapters/09/2/Iteration.html) if you get stuck.\n",
    "\n",
    "_**Hint:**_ You can find the number of letters in a word with the `len` function."
   ]
  },
  {
   "cell_type": "code",
   "execution_count": 26,
   "id": "indian-calgary",
   "metadata": {},
   "outputs": [
    {
     "name": "stdout",
     "output_type": "stream",
     "text": [
      "['Chapter' 'I.' 'PETER' 'BREAKS' 'THROUGH' 'All' 'children,' 'except'\n",
      " 'one,' 'grow']\n"
     ]
    }
   ],
   "source": [
    "peter_string = open('peter_pan.txt', encoding='utf-8').read()\n",
    "peter_words = np.array(peter_string.split())\n",
    "\n",
    "array_more_than_8 = np.array([])\n",
    "\n",
    "#for string in peter_words:\n",
    "#     if len(string) > 8:\n",
    "#         np.append(array_more_than_8, string)\n",
    "        \n",
    "print(peter_words[0:10])  "
   ]
  },
  {
   "cell_type": "code",
   "execution_count": 27,
   "id": "endangered-finland",
   "metadata": {},
   "outputs": [
    {
     "name": "stdout",
     "output_type": "stream",
     "text": [
      "7\n"
     ]
    }
   ],
   "source": [
    "print(len(peter_words[0]))    "
   ]
  },
  {
   "cell_type": "code",
   "execution_count": 28,
   "id": "future-wilderness",
   "metadata": {},
   "outputs": [
    {
     "name": "stdout",
     "output_type": "stream",
     "text": [
      "children,\n",
      "['children,']\n"
     ]
    }
   ],
   "source": [
    "for string in peter_words[0:10]:\n",
    "    if len(string) > 8:\n",
    "        print(string)\n",
    "        array_more_than_8 = np.append(array_more_than_8, string)\n",
    "        print(array_more_than_8)\n",
    "    array_more_than_8    "
   ]
  },
  {
   "cell_type": "code",
   "execution_count": 29,
   "id": "proved-project",
   "metadata": {},
   "outputs": [
    {
     "data": {
      "text/plain": [
       "2452"
      ]
     },
     "execution_count": 29,
     "metadata": {},
     "output_type": "execute_result"
    }
   ],
   "source": [
    "peter_string = open('peter_pan.txt', encoding='utf-8').read()\n",
    "peter_words = np.array(peter_string.split())\n",
    "\n",
    "array_more_than_8 = np.array([])\n",
    "\n",
    "for string in peter_words:\n",
    "    if len(string) > 8:\n",
    "        array_more_than_8 = np.append(array_more_than_8, string)\n",
    "\n",
    "longer_than_8 = len(array_more_than_8)\n",
    "longer_than_8"
   ]
  },
  {
   "cell_type": "markdown",
   "id": "acting-mitchell",
   "metadata": {},
   "source": [
    "Another use of the accumulator pattern is to create an array of results. We can start with an empty array, which we initialize once at the beginning, before iterating. Then inside a loop, we generate some result and append this result onto the end of the array. At the end of the loop, the array will contain **all** of the results we generated.  This is kind of like writing down all the results on a piece of paper, one at a time, as you generate them. We used this strategy in the [coin-flipping example in Lecture 10](https://dsc10.com/resources/lectures/lec10/lec10.html#Example:-Coin-flipping).\n",
    "\n",
    "The function we use to actually append values onto an existing array is `np.append`. This function takes as input the name of an array and some value to append. It returns an array with all the existing values in the input array, plus one more. It does not modify the input array directly, so you have to remember to save it. When we use `np.append` with the accumulator pattern, our code typically looks something like this: \n",
    "\n",
    "```py\n",
    "results_array = np.append(results_array, result)\n",
    "```"
   ]
  },
  {
   "cell_type": "markdown",
   "id": "japanese-lafayette",
   "metadata": {},
   "source": [
    "**Question 3.4.** Use the strategy outlined above to assign `long_words` to an array of all the words in  _Peter Pan_ that are more than 8 characters long.  "
   ]
  },
  {
   "cell_type": "code",
   "execution_count": 30,
   "id": "sixth-extreme",
   "metadata": {},
   "outputs": [
    {
     "data": {
      "text/plain": [
       "array(['children,', 'delightful,', 'henceforth', ..., 'Neverland,',\n",
       "       'daughter,', 'heartless.'], dtype='<U57')"
      ]
     },
     "execution_count": 30,
     "metadata": {},
     "output_type": "execute_result"
    }
   ],
   "source": [
    "long_words = array_more_than_8\n",
    "long_words"
   ]
  },
  {
   "cell_type": "markdown",
   "id": "undefined-spencer",
   "metadata": {},
   "source": [
    "## 4. Hungry Billy 🍗 🍕🍟\n",
    "After a long day of class, Billy decides to go to Dirty Birds for dinner. Today's menu has Billy's four favorite foods: wings, pizza, fries, and mozzarella sticks. However, each dish has a 25% chance of running out before Billy can get to Dirty Birds.\n",
    "\n",
    "***Note:*** Use Python as your calculator. Your answers should be expressions (like `0.5 ** 2`); don't simplify your answers using an outside calculator. Also, all of your answers should be given as decimals between 0 and 1, not percentages."
   ]
  },
  {
   "cell_type": "markdown",
   "id": "tight-newport",
   "metadata": {},
   "source": [
    "**Question 4.1.** What is the probability that Billy will be able to eat wings at Dirty Birds?"
   ]
  },
  {
   "cell_type": "code",
   "execution_count": 31,
   "id": "unexpected-minnesota",
   "metadata": {},
   "outputs": [
    {
     "data": {
      "text/plain": [
       "0.75"
      ]
     },
     "execution_count": 31,
     "metadata": {},
     "output_type": "execute_result"
    }
   ],
   "source": [
    "wings_prob = (1-0.25) ### 100% - the prob of not having wings\n",
    "wings_prob"
   ]
  },
  {
   "cell_type": "markdown",
   "id": "residential-tenant",
   "metadata": {},
   "source": [
    "**Question 4.2.** What is the probability that Billy will be able to eat all four of these foods at Dirty Birds?"
   ]
  },
  {
   "cell_type": "code",
   "execution_count": 32,
   "id": "controlled-fifteen",
   "metadata": {},
   "outputs": [
    {
     "data": {
      "text/plain": [
       "0.31640625"
      ]
     },
     "execution_count": 32,
     "metadata": {},
     "output_type": "execute_result"
    }
   ],
   "source": [
    "all_prob = (0.75**4) ### the prob of having everything\n",
    "all_prob"
   ]
  },
  {
   "cell_type": "markdown",
   "id": "associate-helen",
   "metadata": {},
   "source": [
    "**Question 4.3.** What is the probability that Dirty Birds will have run out of at least one of the four foods before Billy can get there?"
   ]
  },
  {
   "cell_type": "code",
   "execution_count": 33,
   "id": "noted-treasure",
   "metadata": {},
   "outputs": [
    {
     "data": {
      "text/plain": [
       "0.68359375"
      ]
     },
     "execution_count": 33,
     "metadata": {},
     "output_type": "execute_result"
    }
   ],
   "source": [
    "something_is_out = (1-0.75**4) ### 100% - the prob of having everything\n",
    "something_is_out"
   ]
  },
  {
   "cell_type": "markdown",
   "id": "above-blink",
   "metadata": {},
   "source": [
    "To make up for their unpredictable food supply, Dirty Birds decides to hold a contest for some free HDH Dining swag. There is a bag with three red marbles, three green marbles, and three blue marbles. Billy has to draw three marbles **without replacement**. In order to win, all three marbles Billy draws must be of different colors."
   ]
  },
  {
   "cell_type": "markdown",
   "id": "competitive-meter",
   "metadata": {},
   "source": [
    "**Question 4.4.** What is the probability that Billy wins the contest?\n",
    "\n",
    "_**Hint:**_ If you're stuck, start by determining the probability that the second marble Billy draws is different from the first marble Billy draws."
   ]
  },
  {
   "cell_type": "code",
   "execution_count": 34,
   "id": "protective-relation",
   "metadata": {},
   "outputs": [
    {
     "data": {
      "text/plain": [
       "0.3214285714285714"
      ]
     },
     "execution_count": 34,
     "metadata": {},
     "output_type": "execute_result"
    }
   ],
   "source": [
    "### 9/9 of getting any balls. Then 6/8 of getting  a ball of another color. Then 3/7 of getting the third color\n",
    "\n",
    "winning_prob = (6/8)*(3/7)\n",
    "winning_prob"
   ]
  },
  {
   "cell_type": "markdown",
   "id": "referenced-southwest",
   "metadata": {},
   "source": [
    "Congratulations! You are done with Lab 3.\n"
   ]
  }
 ],
 "metadata": {
  "kernelspec": {
   "display_name": "Python 3",
   "language": "python",
   "name": "python3"
  },
  "language_info": {
   "codemirror_mode": {
    "name": "ipython",
    "version": 3
   },
   "file_extension": ".py",
   "mimetype": "text/x-python",
   "name": "python",
   "nbconvert_exporter": "python",
   "pygments_lexer": "ipython3",
   "version": "3.8.5"
  }
 },
 "nbformat": 4,
 "nbformat_minor": 5
}
